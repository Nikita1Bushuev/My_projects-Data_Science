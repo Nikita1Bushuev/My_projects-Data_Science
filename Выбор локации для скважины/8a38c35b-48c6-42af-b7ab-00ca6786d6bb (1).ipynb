{
 "cells": [
  {
   "cell_type": "markdown",
   "metadata": {},
   "source": [
    "# Выбор локации для скважины"
   ]
  },
  {
   "cell_type": "markdown",
   "metadata": {},
   "source": [
    "**Описание проекта**\n",
    "\n",
    "Допустим, вы работаете в добывающей компании «ГлавРосГосНефть». Нужно решить, где бурить новую скважину.\n",
    "\n",
    "Вам предоставлены пробы нефти в трёх регионах: в каждом 10 000 месторождений, где измерили качество нефти и объём её запасов. Постройте модель машинного обучения, которая поможет определить регион, где добыча принесёт наибольшую прибыль. Проанализируйте возможную прибыль и риски техникой *Bootstrap.*\n",
    "\n",
    "**Шаги для выбора локации:**\n",
    "\n",
    "- В избранном регионе ищут месторождения, для каждого определяют значения признаков;\n",
    "- Строят модель и оценивают объём запасов;\n",
    "- Выбирают месторождения с самым высокими оценками значений. Количество месторождений зависит от бюджета компании и стоимости разработки одной скважины;\n",
    "- Прибыль равна суммарной прибыли отобранных месторождений.\n",
    "\n",
    "\n",
    "**Основные этапы  выполнения задачи:**\n",
    "\n",
    "- Загрузить и подготовьте данные;\n",
    "- Обучить и проверьте модель для каждого региона;\n",
    "- Подготовится к расчёту прибыли;\n",
    "- Написать функцию для расчёта прибыли по выбранным скважинам и предсказаниям модели;\n",
    "- Посчитать риски и прибыль для каждого региона;\n",
    "- Написать общий вывод.\n",
    "\n",
    "\n",
    "**Описание данных**\n",
    "\n",
    "Данные геологоразведки трёх регионов находятся в файлах: \n",
    "- /datasets/geo_data_0.csv. \n",
    "- /datasets/geo_data_1.csv. \n",
    "- /datasets/geo_data_2.csv.\n",
    "\n",
    "\n",
    "- id — уникальный идентификатор скважины;\n",
    "- f0, f1, f2 — три признака точек (неважно, что они означают, но сами признаки значимы);\n",
    "- product — объём запасов в скважине (тыс. баррелей).\n",
    "\n",
    "\n",
    "**Условия задачи:**\n",
    "\n",
    "\n",
    "- Для обучения модели подходит только линейная регрессия;\n",
    "- При разведке региона исследуют 500 точек, из которых с помощью машинного обучения выбирают 200 лучших для разработки;\n",
    "- Бюджет на разработку скважин в регионе — 10 млрд рублей;\n",
    "- При нынешних ценах один баррель сырья приносит 450 рублей дохода. Доход с каждой единицы продукта составляет 450 тыс. рублей, поскольку объём указан в тысячах баррелей;\n",
    "- После оценки рисков нужно оставить лишь те регионы, в которых вероятность убытков меньше 2.5%. Среди них выбирают регион с наибольшей средней прибылью."
   ]
  },
  {
   "cell_type": "code",
   "execution_count": 1,
   "metadata": {},
   "outputs": [],
   "source": [
    "!pip install phik -q\n",
    "\n",
    "import pandas as pd\n",
    "import numpy as np\n",
    "import matplotlib.pyplot as plt \n",
    "import seaborn as sns\n",
    "import phik\n",
    "\n",
    "from sklearn.model_selection import train_test_split\n",
    "from sklearn.linear_model import LinearRegression\n",
    "from sklearn.metrics import mean_squared_error\n",
    "\n",
    "RANDOM = 42"
   ]
  },
  {
   "cell_type": "markdown",
   "metadata": {},
   "source": [
    "## Загрузка и подготовка данных"
   ]
  },
  {
   "cell_type": "markdown",
   "metadata": {},
   "source": [
    "### Считаем CSV-файлы с данными с помощью библиотеки pandas и сохраним его в датафрейм"
   ]
  },
  {
   "cell_type": "code",
   "execution_count": 2,
   "metadata": {},
   "outputs": [],
   "source": [
    "geo_data_0 = pd.read_csv('/datasets/geo_data_0.csv')\n",
    "geo_data_1 = pd.read_csv('/datasets/geo_data_1.csv')\n",
    "geo_data_2 = pd.read_csv('/datasets/geo_data_2.csv')"
   ]
  },
  {
   "cell_type": "markdown",
   "metadata": {},
   "source": [
    "### Изучим информацию о датафреймах"
   ]
  },
  {
   "cell_type": "code",
   "execution_count": 3,
   "metadata": {},
   "outputs": [
    {
     "data": {
      "text/html": [
       "<div>\n",
       "<style scoped>\n",
       "    .dataframe tbody tr th:only-of-type {\n",
       "        vertical-align: middle;\n",
       "    }\n",
       "\n",
       "    .dataframe tbody tr th {\n",
       "        vertical-align: top;\n",
       "    }\n",
       "\n",
       "    .dataframe thead th {\n",
       "        text-align: right;\n",
       "    }\n",
       "</style>\n",
       "<table border=\"1\" class=\"dataframe\">\n",
       "  <thead>\n",
       "    <tr style=\"text-align: right;\">\n",
       "      <th></th>\n",
       "      <th>id</th>\n",
       "      <th>f0</th>\n",
       "      <th>f1</th>\n",
       "      <th>f2</th>\n",
       "      <th>product</th>\n",
       "    </tr>\n",
       "  </thead>\n",
       "  <tbody>\n",
       "    <tr>\n",
       "      <th>0</th>\n",
       "      <td>txEyH</td>\n",
       "      <td>0.705745</td>\n",
       "      <td>-0.497823</td>\n",
       "      <td>1.221170</td>\n",
       "      <td>105.280062</td>\n",
       "    </tr>\n",
       "    <tr>\n",
       "      <th>1</th>\n",
       "      <td>2acmU</td>\n",
       "      <td>1.334711</td>\n",
       "      <td>-0.340164</td>\n",
       "      <td>4.365080</td>\n",
       "      <td>73.037750</td>\n",
       "    </tr>\n",
       "    <tr>\n",
       "      <th>2</th>\n",
       "      <td>409Wp</td>\n",
       "      <td>1.022732</td>\n",
       "      <td>0.151990</td>\n",
       "      <td>1.419926</td>\n",
       "      <td>85.265647</td>\n",
       "    </tr>\n",
       "    <tr>\n",
       "      <th>3</th>\n",
       "      <td>iJLyR</td>\n",
       "      <td>-0.032172</td>\n",
       "      <td>0.139033</td>\n",
       "      <td>2.978566</td>\n",
       "      <td>168.620776</td>\n",
       "    </tr>\n",
       "    <tr>\n",
       "      <th>4</th>\n",
       "      <td>Xdl7t</td>\n",
       "      <td>1.988431</td>\n",
       "      <td>0.155413</td>\n",
       "      <td>4.751769</td>\n",
       "      <td>154.036647</td>\n",
       "    </tr>\n",
       "  </tbody>\n",
       "</table>\n",
       "</div>"
      ],
      "text/plain": [
       "      id        f0        f1        f2     product\n",
       "0  txEyH  0.705745 -0.497823  1.221170  105.280062\n",
       "1  2acmU  1.334711 -0.340164  4.365080   73.037750\n",
       "2  409Wp  1.022732  0.151990  1.419926   85.265647\n",
       "3  iJLyR -0.032172  0.139033  2.978566  168.620776\n",
       "4  Xdl7t  1.988431  0.155413  4.751769  154.036647"
      ]
     },
     "execution_count": 3,
     "metadata": {},
     "output_type": "execute_result"
    }
   ],
   "source": [
    "geo_data_0.head()"
   ]
  },
  {
   "cell_type": "code",
   "execution_count": 4,
   "metadata": {},
   "outputs": [
    {
     "name": "stdout",
     "output_type": "stream",
     "text": [
      "<class 'pandas.core.frame.DataFrame'>\n",
      "RangeIndex: 100000 entries, 0 to 99999\n",
      "Data columns (total 5 columns):\n",
      " #   Column   Non-Null Count   Dtype  \n",
      "---  ------   --------------   -----  \n",
      " 0   id       100000 non-null  object \n",
      " 1   f0       100000 non-null  float64\n",
      " 2   f1       100000 non-null  float64\n",
      " 3   f2       100000 non-null  float64\n",
      " 4   product  100000 non-null  float64\n",
      "dtypes: float64(4), object(1)\n",
      "memory usage: 3.8+ MB\n"
     ]
    }
   ],
   "source": [
    "geo_data_0.info()"
   ]
  },
  {
   "cell_type": "code",
   "execution_count": 5,
   "metadata": {},
   "outputs": [
    {
     "data": {
      "text/html": [
       "<div>\n",
       "<style scoped>\n",
       "    .dataframe tbody tr th:only-of-type {\n",
       "        vertical-align: middle;\n",
       "    }\n",
       "\n",
       "    .dataframe tbody tr th {\n",
       "        vertical-align: top;\n",
       "    }\n",
       "\n",
       "    .dataframe thead th {\n",
       "        text-align: right;\n",
       "    }\n",
       "</style>\n",
       "<table border=\"1\" class=\"dataframe\">\n",
       "  <thead>\n",
       "    <tr style=\"text-align: right;\">\n",
       "      <th></th>\n",
       "      <th>id</th>\n",
       "      <th>f0</th>\n",
       "      <th>f1</th>\n",
       "      <th>f2</th>\n",
       "      <th>product</th>\n",
       "    </tr>\n",
       "  </thead>\n",
       "  <tbody>\n",
       "    <tr>\n",
       "      <th>0</th>\n",
       "      <td>kBEdx</td>\n",
       "      <td>-15.001348</td>\n",
       "      <td>-8.276000</td>\n",
       "      <td>-0.005876</td>\n",
       "      <td>3.179103</td>\n",
       "    </tr>\n",
       "    <tr>\n",
       "      <th>1</th>\n",
       "      <td>62mP7</td>\n",
       "      <td>14.272088</td>\n",
       "      <td>-3.475083</td>\n",
       "      <td>0.999183</td>\n",
       "      <td>26.953261</td>\n",
       "    </tr>\n",
       "    <tr>\n",
       "      <th>2</th>\n",
       "      <td>vyE1P</td>\n",
       "      <td>6.263187</td>\n",
       "      <td>-5.948386</td>\n",
       "      <td>5.001160</td>\n",
       "      <td>134.766305</td>\n",
       "    </tr>\n",
       "    <tr>\n",
       "      <th>3</th>\n",
       "      <td>KcrkZ</td>\n",
       "      <td>-13.081196</td>\n",
       "      <td>-11.506057</td>\n",
       "      <td>4.999415</td>\n",
       "      <td>137.945408</td>\n",
       "    </tr>\n",
       "    <tr>\n",
       "      <th>4</th>\n",
       "      <td>AHL4O</td>\n",
       "      <td>12.702195</td>\n",
       "      <td>-8.147433</td>\n",
       "      <td>5.004363</td>\n",
       "      <td>134.766305</td>\n",
       "    </tr>\n",
       "  </tbody>\n",
       "</table>\n",
       "</div>"
      ],
      "text/plain": [
       "      id         f0         f1        f2     product\n",
       "0  kBEdx -15.001348  -8.276000 -0.005876    3.179103\n",
       "1  62mP7  14.272088  -3.475083  0.999183   26.953261\n",
       "2  vyE1P   6.263187  -5.948386  5.001160  134.766305\n",
       "3  KcrkZ -13.081196 -11.506057  4.999415  137.945408\n",
       "4  AHL4O  12.702195  -8.147433  5.004363  134.766305"
      ]
     },
     "execution_count": 5,
     "metadata": {},
     "output_type": "execute_result"
    }
   ],
   "source": [
    "geo_data_1.head()"
   ]
  },
  {
   "cell_type": "code",
   "execution_count": 6,
   "metadata": {},
   "outputs": [
    {
     "name": "stdout",
     "output_type": "stream",
     "text": [
      "<class 'pandas.core.frame.DataFrame'>\n",
      "RangeIndex: 100000 entries, 0 to 99999\n",
      "Data columns (total 5 columns):\n",
      " #   Column   Non-Null Count   Dtype  \n",
      "---  ------   --------------   -----  \n",
      " 0   id       100000 non-null  object \n",
      " 1   f0       100000 non-null  float64\n",
      " 2   f1       100000 non-null  float64\n",
      " 3   f2       100000 non-null  float64\n",
      " 4   product  100000 non-null  float64\n",
      "dtypes: float64(4), object(1)\n",
      "memory usage: 3.8+ MB\n"
     ]
    }
   ],
   "source": [
    "geo_data_1.info()"
   ]
  },
  {
   "cell_type": "code",
   "execution_count": 7,
   "metadata": {},
   "outputs": [
    {
     "data": {
      "text/html": [
       "<div>\n",
       "<style scoped>\n",
       "    .dataframe tbody tr th:only-of-type {\n",
       "        vertical-align: middle;\n",
       "    }\n",
       "\n",
       "    .dataframe tbody tr th {\n",
       "        vertical-align: top;\n",
       "    }\n",
       "\n",
       "    .dataframe thead th {\n",
       "        text-align: right;\n",
       "    }\n",
       "</style>\n",
       "<table border=\"1\" class=\"dataframe\">\n",
       "  <thead>\n",
       "    <tr style=\"text-align: right;\">\n",
       "      <th></th>\n",
       "      <th>id</th>\n",
       "      <th>f0</th>\n",
       "      <th>f1</th>\n",
       "      <th>f2</th>\n",
       "      <th>product</th>\n",
       "    </tr>\n",
       "  </thead>\n",
       "  <tbody>\n",
       "    <tr>\n",
       "      <th>0</th>\n",
       "      <td>fwXo0</td>\n",
       "      <td>-1.146987</td>\n",
       "      <td>0.963328</td>\n",
       "      <td>-0.828965</td>\n",
       "      <td>27.758673</td>\n",
       "    </tr>\n",
       "    <tr>\n",
       "      <th>1</th>\n",
       "      <td>WJtFt</td>\n",
       "      <td>0.262778</td>\n",
       "      <td>0.269839</td>\n",
       "      <td>-2.530187</td>\n",
       "      <td>56.069697</td>\n",
       "    </tr>\n",
       "    <tr>\n",
       "      <th>2</th>\n",
       "      <td>ovLUW</td>\n",
       "      <td>0.194587</td>\n",
       "      <td>0.289035</td>\n",
       "      <td>-5.586433</td>\n",
       "      <td>62.871910</td>\n",
       "    </tr>\n",
       "    <tr>\n",
       "      <th>3</th>\n",
       "      <td>q6cA6</td>\n",
       "      <td>2.236060</td>\n",
       "      <td>-0.553760</td>\n",
       "      <td>0.930038</td>\n",
       "      <td>114.572842</td>\n",
       "    </tr>\n",
       "    <tr>\n",
       "      <th>4</th>\n",
       "      <td>WPMUX</td>\n",
       "      <td>-0.515993</td>\n",
       "      <td>1.716266</td>\n",
       "      <td>5.899011</td>\n",
       "      <td>149.600746</td>\n",
       "    </tr>\n",
       "  </tbody>\n",
       "</table>\n",
       "</div>"
      ],
      "text/plain": [
       "      id        f0        f1        f2     product\n",
       "0  fwXo0 -1.146987  0.963328 -0.828965   27.758673\n",
       "1  WJtFt  0.262778  0.269839 -2.530187   56.069697\n",
       "2  ovLUW  0.194587  0.289035 -5.586433   62.871910\n",
       "3  q6cA6  2.236060 -0.553760  0.930038  114.572842\n",
       "4  WPMUX -0.515993  1.716266  5.899011  149.600746"
      ]
     },
     "execution_count": 7,
     "metadata": {},
     "output_type": "execute_result"
    }
   ],
   "source": [
    "geo_data_2.head()"
   ]
  },
  {
   "cell_type": "code",
   "execution_count": 8,
   "metadata": {},
   "outputs": [
    {
     "name": "stdout",
     "output_type": "stream",
     "text": [
      "<class 'pandas.core.frame.DataFrame'>\n",
      "RangeIndex: 100000 entries, 0 to 99999\n",
      "Data columns (total 5 columns):\n",
      " #   Column   Non-Null Count   Dtype  \n",
      "---  ------   --------------   -----  \n",
      " 0   id       100000 non-null  object \n",
      " 1   f0       100000 non-null  float64\n",
      " 2   f1       100000 non-null  float64\n",
      " 3   f2       100000 non-null  float64\n",
      " 4   product  100000 non-null  float64\n",
      "dtypes: float64(4), object(1)\n",
      "memory usage: 3.8+ MB\n"
     ]
    }
   ],
   "source": [
    "geo_data_2.info()"
   ]
  },
  {
   "cell_type": "code",
   "execution_count": 9,
   "metadata": {},
   "outputs": [
    {
     "data": {
      "text/plain": [
       "((100000, 5), (100000, 5), (100000, 5))"
      ]
     },
     "execution_count": 9,
     "metadata": {},
     "output_type": "execute_result"
    }
   ],
   "source": [
    "geo_data_0.shape, geo_data_1.shape, geo_data_2.shape"
   ]
  },
  {
   "cell_type": "markdown",
   "metadata": {},
   "source": [
    "Типы данных соответсвуют действительности."
   ]
  },
  {
   "cell_type": "markdown",
   "metadata": {},
   "source": [
    "### Проверим на наличие пропусков и дубликатов"
   ]
  },
  {
   "cell_type": "code",
   "execution_count": 10,
   "metadata": {},
   "outputs": [],
   "source": [
    "def skips_dulicates(data):\n",
    "    total_missing = data.isna().sum().sum()\n",
    "    if total_missing > 0:\n",
    "        print(f\"Пропуски найдены, общее количество пропусков: {total_missing}\")\n",
    "        print(\"Пропуски по столбцам:\")\n",
    "        print(data.isna().sum())\n",
    "    else:\n",
    "        print(\"Пропусков нет.\")\n",
    "    duplicate_count = data.duplicated().sum()\n",
    "    if duplicate_count > 0:\n",
    "        print(f\"Количество явных дубликатов: {duplicate_count}\")\n",
    "    else:\n",
    "        print(\"Дубликатов нет.\")\n",
    "    return data"
   ]
  },
  {
   "cell_type": "code",
   "execution_count": 11,
   "metadata": {},
   "outputs": [
    {
     "name": "stdout",
     "output_type": "stream",
     "text": [
      "Пропусков нет.\n",
      "Дубликатов нет.\n"
     ]
    }
   ],
   "source": [
    "skips_dulicates(geo_data_0);"
   ]
  },
  {
   "cell_type": "code",
   "execution_count": 12,
   "metadata": {},
   "outputs": [
    {
     "name": "stdout",
     "output_type": "stream",
     "text": [
      "Пропусков нет.\n",
      "Дубликатов нет.\n"
     ]
    }
   ],
   "source": [
    "skips_dulicates(geo_data_1);"
   ]
  },
  {
   "cell_type": "code",
   "execution_count": 13,
   "metadata": {},
   "outputs": [
    {
     "name": "stdout",
     "output_type": "stream",
     "text": [
      "Пропусков нет.\n",
      "Дубликатов нет.\n"
     ]
    }
   ],
   "source": [
    "skips_dulicates(geo_data_2);"
   ]
  },
  {
   "cell_type": "markdown",
   "metadata": {},
   "source": [
    "Пропусков и явных дубликатов не обнаружено. Неявных дубликатов в данных нет, т.к. смысловые столбцы имеют тип float."
   ]
  },
  {
   "cell_type": "markdown",
   "metadata": {},
   "source": [
    "### Проведем исследовательский анализ данных"
   ]
  },
  {
   "cell_type": "code",
   "execution_count": 14,
   "metadata": {},
   "outputs": [
    {
     "data": {
      "text/plain": [
       "(                  f0             f1             f2        product\n",
       " count  100000.000000  100000.000000  100000.000000  100000.000000\n",
       " mean        0.500419       0.250143       2.502647      92.500000\n",
       " std         0.871832       0.504433       3.248248      44.288691\n",
       " min        -1.408605      -0.848218     -12.088328       0.000000\n",
       " 25%        -0.072580      -0.200881       0.287748      56.497507\n",
       " 50%         0.502360       0.250252       2.515969      91.849972\n",
       " 75%         1.073581       0.700646       4.715088     128.564089\n",
       " max         2.362331       1.343769      16.003790     185.364347,\n",
       "                   f0             f1             f2        product\n",
       " count  100000.000000  100000.000000  100000.000000  100000.000000\n",
       " mean        1.141296      -4.796579       2.494541      68.825000\n",
       " std         8.965932       5.119872       1.703572      45.944423\n",
       " min       -31.609576     -26.358598      -0.018144       0.000000\n",
       " 25%        -6.298551      -8.267985       1.000021      26.953261\n",
       " 50%         1.153055      -4.813172       2.011479      57.085625\n",
       " 75%         8.621015      -1.332816       3.999904     107.813044\n",
       " max        29.421755      18.734063       5.019721     137.945408,\n",
       "                   f0             f1             f2        product\n",
       " count  100000.000000  100000.000000  100000.000000  100000.000000\n",
       " mean        0.002023      -0.002081       2.495128      95.000000\n",
       " std         1.732045       1.730417       3.473445      44.749921\n",
       " min        -8.760004      -7.084020     -11.970335       0.000000\n",
       " 25%        -1.162288      -1.174820       0.130359      59.450441\n",
       " 50%         0.009424      -0.009482       2.484236      94.925613\n",
       " 75%         1.158535       1.163678       4.858794     130.595027\n",
       " max         7.238262       7.844801      16.739402     190.029838)"
      ]
     },
     "execution_count": 14,
     "metadata": {},
     "output_type": "execute_result"
    }
   ],
   "source": [
    "geo_data_0.describe(), geo_data_1.describe(), geo_data_2.describe()"
   ]
  },
  {
   "cell_type": "code",
   "execution_count": 15,
   "metadata": {},
   "outputs": [
    {
     "data": {
      "image/png": "[encoded data removed]",
      "text/plain": [
       "<Figure size 864x648 with 12 Axes>"
      ]
     },
     "metadata": {
      "needs_background": "light"
     },
     "output_type": "display_data"
    }
   ],
   "source": [
    "geo_data_list = [geo_data_0, geo_data_1, geo_data_2]\n",
    "titles = ['geo_data_0', 'geo_data_1', 'geo_data_2']\n",
    "\n",
    "fig, axes = plt.subplots(3, 4, figsize=(12, 9))\n",
    "\n",
    "columns_to_plot = ['f0', 'f1', 'f2', 'product']\n",
    "\n",
    "\n",
    "for i, (data, title) in enumerate(zip(geo_data_list, titles)):\n",
    "    for j, col in enumerate(columns_to_plot):\n",
    "        sns.boxplot(y=data[col], ax=axes[i, j])\n",
    "        axes[i, j].set_title(col)\n",
    "        axes[i, j].set_xlabel(\"\")\n",
    "        if j == 0:\n",
    "            axes[i, j].set_ylabel(title)  \n",
    "plt.tight_layout()\n",
    "plt.show()"
   ]
  },
  {
   "cell_type": "code",
   "execution_count": 16,
   "metadata": {},
   "outputs": [
    {
     "data": {
      "image/png": "[encoded data removed]",
      "text/plain": [
       "<Figure size 864x576 with 12 Axes>"
      ]
     },
     "metadata": {
      "needs_background": "light"
     },
     "output_type": "display_data"
    }
   ],
   "source": [
    "fig, axes = plt.subplots(len(geo_data_list), len(columns_to_plot), figsize=(12, 8))\n",
    "\n",
    "for i, (data, title) in enumerate(zip(geo_data_list, titles)):\n",
    "    for j, col in enumerate(columns_to_plot):\n",
    "        sns.histplot(data[col], bins=25, kde=True, ax=axes[i, j], color=\"skyblue\", edgecolor=\"black\")\n",
    "        axes[i, j].set_title(col)\n",
    "        axes[i, j].set_xlabel(\"\")\n",
    "        if j == 0:\n",
    "            axes[i, j].set_ylabel(title)\n",
    "\n",
    "plt.tight_layout()\n",
    "plt.show()"
   ]
  },
  {
   "cell_type": "markdown",
   "metadata": {},
   "source": [
    "В таблицах присутствуют аномальные значения. Распределения в geo_data_1 для `f2` и `product` похожи на изолированные столбцы, что означает, что все значения разбиты на группы с очень близко стоящими друг к другу значениями."
   ]
  },
  {
   "cell_type": "code",
   "execution_count": 17,
   "metadata": {},
   "outputs": [],
   "source": [
    "def anomaly_count(data, column, remove_anomalies=True):\n",
    "    data[column] = pd.to_numeric(data[column], errors='coerce')\n",
    "    data_cleaned = data.dropna(subset=[column])\n",
    "    \n",
    "    q1 = np.percentile(data_cleaned[column], 25)\n",
    "    q3 = np.percentile(data_cleaned[column], 75)  \n",
    "    \n",
    "    IQR = q3 - q1\n",
    "    \n",
    "    lower_bound = q1 - 1.5 * IQR\n",
    "    upper_bound = q3 + 1.5 * IQR\n",
    "    \n",
    "    outliers = data_cleaned[(data_cleaned[column] < lower_bound) | (data_cleaned[column] > upper_bound)]\n",
    "    outlier_percent = len(outliers) / len(data_cleaned) * 100  \n",
    "    \n",
    "    if remove_anomalies:\n",
    "        filtered_data = data_cleaned[(data_cleaned[column] >= lower_bound) & (data_cleaned[column] <= upper_bound)]\n",
    "        return len(outliers), outlier_percent, filtered_data\n",
    "    else:\n",
    "        return len(outliers), outlier_percent"
   ]
  },
  {
   "cell_type": "code",
   "execution_count": 18,
   "metadata": {},
   "outputs": [
    {
     "name": "stdout",
     "output_type": "stream",
     "text": [
      "0.506\n"
     ]
    }
   ],
   "source": [
    "outliers_count_0, outliers_percent_0, geo_data_0 = anomaly_count(geo_data_0, 'f2')\n",
    "print(outliers_percent_0)"
   ]
  },
  {
   "cell_type": "markdown",
   "metadata": {},
   "source": [
    "0.5% значений являются аномальными."
   ]
  },
  {
   "cell_type": "code",
   "execution_count": 19,
   "metadata": {},
   "outputs": [
    {
     "name": "stdout",
     "output_type": "stream",
     "text": [
      "0.001\n"
     ]
    }
   ],
   "source": [
    "outliers_count_1, outliers_percent_1, geo_data_1 = anomaly_count(geo_data_1, 'f0')\n",
    "print(outliers_percent_1)"
   ]
  },
  {
   "cell_type": "code",
   "execution_count": 20,
   "metadata": {},
   "outputs": [
    {
     "name": "stdout",
     "output_type": "stream",
     "text": [
      "0.6360063600636007\n"
     ]
    }
   ],
   "source": [
    "outliers_count_2, outliers_percent_2, geo_data_1 = anomaly_count(geo_data_1, 'f1')\n",
    "print(outliers_percent_2)"
   ]
  },
  {
   "cell_type": "markdown",
   "metadata": {},
   "source": [
    "Около 0.6% являются аномальными."
   ]
  },
  {
   "cell_type": "code",
   "execution_count": 21,
   "metadata": {},
   "outputs": [
    {
     "name": "stdout",
     "output_type": "stream",
     "text": [
      "0.733\n"
     ]
    }
   ],
   "source": [
    "outliers_count_3, outliers_percent_3, geo_data_2 = anomaly_count(geo_data_2, 'f0')\n",
    "print(outliers_percent_3)"
   ]
  },
  {
   "cell_type": "code",
   "execution_count": 22,
   "metadata": {},
   "outputs": [
    {
     "name": "stdout",
     "output_type": "stream",
     "text": [
      "0.6870359736871267\n"
     ]
    }
   ],
   "source": [
    "outliers_count_4, outliers_percent_4, geo_data_2 = anomaly_count(geo_data_2, 'f1')\n",
    "print(outliers_percent_4)"
   ]
  },
  {
   "cell_type": "code",
   "execution_count": 23,
   "metadata": {},
   "outputs": [
    {
     "name": "stdout",
     "output_type": "stream",
     "text": [
      "0.590353502054065\n"
     ]
    }
   ],
   "source": [
    "outliers_count_5, outliers_percent_5, geo_data_2 =  anomaly_count(geo_data_2, 'f2')\n",
    "print(outliers_percent_5)"
   ]
  },
  {
   "cell_type": "markdown",
   "metadata": {},
   "source": [
    "Около 2% являются аномальными."
   ]
  },
  {
   "cell_type": "markdown",
   "metadata": {},
   "source": [
    "Количество аномальных значений очень мало, их можно удалить."
   ]
  },
  {
   "cell_type": "code",
   "execution_count": 24,
   "metadata": {},
   "outputs": [
    {
     "data": {
      "image/png": "[encoded data removed]",
      "text/plain": [
       "<Figure size 864x576 with 2 Axes>"
      ]
     },
     "metadata": {
      "needs_background": "light"
     },
     "output_type": "display_data"
    }
   ],
   "source": [
    "interval_cols = [\n",
    "    'f0', 'f1', 'f2', 'product'\n",
    "]\n",
    "\n",
    "phik_matrix = geo_data_0.drop('id', axis=1).phik_matrix(interval_cols=interval_cols)\n",
    "\n",
    "\n",
    "plt.figure(figsize=(12, 8))\n",
    "sns.heatmap(\n",
    "    phik_matrix,\n",
    "    annot=True,          \n",
    "    fmt=\".2f\",           \n",
    "    cmap=\"coolwarm\",            \n",
    "    linewidths=0.5,     \n",
    "    cbar_kws={\"shrink\": 0.75},  \n",
    "    vmin=-1, vmax=1,     \n",
    "    annot_kws={\"size\": 10, \"weight\": \"bold\", \"color\": \"black\"}  \n",
    ")\n",
    "\n",
    "plt.title(\"Матрица корреляции признаков\", fontsize=16)\n",
    "plt.show()"
   ]
  },
  {
   "cell_type": "code",
   "execution_count": 25,
   "metadata": {},
   "outputs": [
    {
     "data": {
      "image/png": "[encoded data removed]",
      "text/plain": [
       "<Figure size 864x576 with 2 Axes>"
      ]
     },
     "metadata": {
      "needs_background": "light"
     },
     "output_type": "display_data"
    }
   ],
   "source": [
    "phik_matrix = geo_data_1.drop('id', axis=1).phik_matrix(interval_cols=interval_cols)\n",
    "\n",
    "\n",
    "plt.figure(figsize=(12, 8))\n",
    "sns.heatmap(\n",
    "    phik_matrix,\n",
    "    annot=True,          \n",
    "    fmt=\".2f\",           \n",
    "    cmap=\"coolwarm\",           \n",
    "    linewidths=0.5,     \n",
    "    cbar_kws={\"shrink\": 0.75},  \n",
    "    vmin=-1, vmax=1,     \n",
    "    annot_kws={\"size\": 10, \"weight\": \"bold\", \"color\": \"black\"}  \n",
    ")\n",
    "\n",
    "plt.title(\"Матрица корреляции признаков\", fontsize=16)\n",
    "plt.show()"
   ]
  },
  {
   "cell_type": "code",
   "execution_count": 26,
   "metadata": {},
   "outputs": [
    {
     "data": {
      "image/png": "[encoded data removed]",
      "text/plain": [
       "<Figure size 864x576 with 2 Axes>"
      ]
     },
     "metadata": {
      "needs_background": "light"
     },
     "output_type": "display_data"
    }
   ],
   "source": [
    "phik_matrix = geo_data_2.drop('id', axis=1).phik_matrix(interval_cols=interval_cols)\n",
    "\n",
    "plt.figure(figsize=(12, 8))\n",
    "sns.heatmap(\n",
    "    phik_matrix,\n",
    "    annot=True,          \n",
    "    fmt=\".2f\",           \n",
    "    cmap=\"coolwarm\",           \n",
    "    linewidths=0.5,     \n",
    "    cbar_kws={\"shrink\": 0.75},  \n",
    "    vmin=-1, vmax=1,     \n",
    "    annot_kws={\"size\": 10, \"weight\": \"bold\", \"color\": \"black\"}  \n",
    ")\n",
    "\n",
    "plt.title(\"Матрица корреляции признаков\", fontsize=16)\n",
    "plt.show()"
   ]
  },
  {
   "cell_type": "markdown",
   "metadata": {},
   "source": [
    "В geo_data_0 присутствует достаточно сильная корреляция между f0 и f1. f2 коррелирует только с product.\n",
    "\n",
    "В geo_data_1 присутствует очень сильная корреляция между f2 и product. Скорее всего в данном случае признак обладает потенциально высокой предиктивной способностью в рамках наших данных.\n",
    "\n",
    "В geo_data_2 с целевым лучше всего коррелирует f2."
   ]
  },
  {
   "cell_type": "markdown",
   "metadata": {},
   "source": [
    "**Типы данных соответсвуют действительности. Пропусков и дубликатов не обнаружено. Были обнаружены и удалены аномальные значения, проведен корреляционный анализ.**"
   ]
  },
  {
   "cell_type": "markdown",
   "metadata": {},
   "source": [
    "## Обучение и проверка модели"
   ]
  },
  {
   "cell_type": "code",
   "execution_count": 27,
   "metadata": {},
   "outputs": [],
   "source": [
    "def model(data):\n",
    "    features = data.drop(['id', 'product'], axis=1)\n",
    "    target = data['product']\n",
    "    \n",
    "    \n",
    "    X_train, X_valid, y_train, y_valid = train_test_split(features, target, test_size=0.25, random_state=RANDOM)\n",
    "    \n",
    "    model = LinearRegression()\n",
    "    model.fit(X_train, y_train)\n",
    "    y_pred = model.predict(X_valid)\n",
    "    \n",
    "    rmse = mean_squared_error(y_valid, y_pred)**0.5\n",
    "    stock = y_pred.mean()\n",
    "    \n",
    "    print(f'Средний запас предполагаемого сырья:{stock:.4f}')\n",
    "    print(f'Метрика RMSE:{rmse:.4f}')\n",
    "       \n",
    "    return y_valid, y_pred, stock, rmse"
   ]
  },
  {
   "cell_type": "code",
   "execution_count": 28,
   "metadata": {},
   "outputs": [
    {
     "name": "stdout",
     "output_type": "stream",
     "text": [
      "Средний запас предполагаемого сырья:92.3505\n",
      "Метрика RMSE:37.8151\n"
     ]
    }
   ],
   "source": [
    "y_valid_0, y_pred_0, stock_0, rmse_0 = model(geo_data_0);"
   ]
  },
  {
   "cell_type": "code",
   "execution_count": 29,
   "metadata": {},
   "outputs": [
    {
     "name": "stdout",
     "output_type": "stream",
     "text": [
      "Средний запас предполагаемого сырья:68.9619\n",
      "Метрика RMSE:0.8880\n"
     ]
    }
   ],
   "source": [
    "y_valid_1, y_pred_1, stock_1, rmse_1 = model(geo_data_1);"
   ]
  },
  {
   "cell_type": "code",
   "execution_count": 30,
   "metadata": {},
   "outputs": [
    {
     "name": "stdout",
     "output_type": "stream",
     "text": [
      "Средний запас предполагаемого сырья:94.9518\n",
      "Метрика RMSE:40.1296\n"
     ]
    }
   ],
   "source": [
    "y_valid_2, y_pred_2, stock_2, rmse_2 = model(geo_data_2);"
   ]
  },
  {
   "cell_type": "markdown",
   "metadata": {},
   "source": [
    "Первый регион имеет второй по величине запас. Второй проигрывает другим по параметру среднего запаса, но выигрывает по метрике. Третий регион выигрывает по величине сырья, но уступает по метрике певрому. "
   ]
  },
  {
   "cell_type": "markdown",
   "metadata": {},
   "source": [
    "## Подготовка к расчёту прибыли"
   ]
  },
  {
   "cell_type": "code",
   "execution_count": 31,
   "metadata": {},
   "outputs": [],
   "source": [
    "max_points = 500\n",
    "selected_points = 200\n",
    "budget_per_region = 10*10**9\n",
    "price_per_barrel = 450000\n",
    "threshold = 2.5"
   ]
  },
  {
   "cell_type": "code",
   "execution_count": 32,
   "metadata": {},
   "outputs": [
    {
     "name": "stdout",
     "output_type": "stream",
     "text": [
      "Достаточный объём сырья для безубыточной разработки новой скважины: 111.11111111111111\n"
     ]
    }
   ],
   "source": [
    "min_volume_per_well = (budget_per_region / selected_points) / price_per_barrel \n",
    "print(f'Достаточный объём сырья для безубыточной разработки новой скважины: {min_volume_per_well}')"
   ]
  },
  {
   "cell_type": "code",
   "execution_count": 33,
   "metadata": {},
   "outputs": [
    {
     "data": {
      "text/plain": [
       "-18.760564146440316"
      ]
     },
     "execution_count": 33,
     "metadata": {},
     "output_type": "execute_result"
    }
   ],
   "source": [
    "# отклонение от среднего в регионе_0\n",
    "stock_0 - min_volume_per_well"
   ]
  },
  {
   "cell_type": "code",
   "execution_count": 34,
   "metadata": {},
   "outputs": [
    {
     "data": {
      "text/plain": [
       "-42.14921213194644"
      ]
     },
     "execution_count": 34,
     "metadata": {},
     "output_type": "execute_result"
    }
   ],
   "source": [
    "# отклонение от среднего в регионе_1\n",
    "stock_1 - min_volume_per_well"
   ]
  },
  {
   "cell_type": "code",
   "execution_count": 35,
   "metadata": {},
   "outputs": [
    {
     "data": {
      "text/plain": [
       "-16.159330003492812"
      ]
     },
     "execution_count": 35,
     "metadata": {},
     "output_type": "execute_result"
    }
   ],
   "source": [
    "# отклонение от среднего в регионе_2\n",
    "stock_2 - min_volume_per_well"
   ]
  },
  {
   "cell_type": "markdown",
   "metadata": {},
   "source": [
    "Достаточный объём сырья для безубыточной разработки новой скважины: 111.(1).\n",
    "\n",
    "В каждом из трёх регионов средний запас сырья скважины меньше полученного значения достаточного объёма сырья."
   ]
  },
  {
   "cell_type": "markdown",
   "metadata": {},
   "source": [
    "## Расчёт прибыли и рисков "
   ]
  },
  {
   "cell_type": "markdown",
   "metadata": {},
   "source": [
    "### Расчёт прибыли по выбранным скважинам и предсказаниям модели"
   ]
  },
  {
   "cell_type": "code",
   "execution_count": 36,
   "metadata": {},
   "outputs": [],
   "source": [
    "def calculate_profit(target, predictions, selected_points=200, budget_per_region=10*10**9, price_per_barrel=450000):\n",
    "    target = target.reset_index(drop=True)\n",
    "    predictions = pd.Series(predictions).reset_index(drop=True)\n",
    "    \n",
    "    selected_indices = predictions.nlargest(selected_points).index\n",
    "    selected_target = target.iloc[selected_indices]\n",
    "\n",
    "    total_profit = (selected_target.sum() * price_per_barrel) - budget_per_region\n",
    "    \n",
    "    return total_profit"
   ]
  },
  {
   "cell_type": "code",
   "execution_count": 37,
   "metadata": {},
   "outputs": [
    {
     "name": "stdout",
     "output_type": "stream",
     "text": [
      "Прибыль в 0 регионе: 3252359903.11 руб.\n"
     ]
    }
   ],
   "source": [
    "profit_0 = calculate_profit(y_valid_0, y_pred_0)\n",
    "print(f\"Прибыль в 0 регионе: {profit_0:.2f} руб.\")"
   ]
  },
  {
   "cell_type": "code",
   "execution_count": 38,
   "metadata": {},
   "outputs": [
    {
     "name": "stdout",
     "output_type": "stream",
     "text": [
      "Прибыль в 1 регионе: 2415086696.68 руб.\n"
     ]
    }
   ],
   "source": [
    "profit_1 = calculate_profit(y_valid_1, y_pred_1)\n",
    "print(f\"Прибыль в 1 регионе: {profit_1:.2f} руб.\")"
   ]
  },
  {
   "cell_type": "code",
   "execution_count": 39,
   "metadata": {},
   "outputs": [
    {
     "name": "stdout",
     "output_type": "stream",
     "text": [
      "Прибыль в 2 регионе: 2385314465.93 руб.\n"
     ]
    }
   ],
   "source": [
    "profit_2 = calculate_profit(y_valid_2, y_pred_2)\n",
    "print(f\"Прибыль в 2 регионе: {profit_2:.2f} руб.\")"
   ]
  },
  {
   "cell_type": "markdown",
   "metadata": {},
   "source": [
    "### Расчет рисков и прибыли"
   ]
  },
  {
   "cell_type": "code",
   "execution_count": 40,
   "metadata": {},
   "outputs": [],
   "source": [
    "def bootstrap_profit(target, predictions, max_points=500, budget_per_region=10e9, price_per_barrel=450000, n_iterations=1000):\n",
    "    state = np.random.RandomState(12345)\n",
    "    values = []\n",
    "    \n",
    "    target = target.reset_index(drop=True)  \n",
    "    predictions = pd.Series(predictions).reset_index(drop=True) \n",
    "    \n",
    "    for _ in range(n_iterations):\n",
    "       \n",
    "        target_subsample = target.sample(n=max_points, replace=True, random_state=state)\n",
    "        predictions_subsample = predictions.loc[target_subsample.index] \n",
    "        \n",
    "        profit = calculate_profit(target_subsample, predictions_subsample)\n",
    "        values.append(profit)\n",
    "    \n",
    "    values = pd.Series(values)\n",
    "    \n",
    "\n",
    "    print(f'Средняя прибыль: {values.mean():,.2f}')\n",
    "    lower = values.quantile(0.025)\n",
    "    upper = values.quantile(0.975)\n",
    "    print(f'95%-й доверительный интервал: [{lower:,.2f}, {upper:,.2f}]')\n",
    "    \n",
    "    loss_risk = (values < 0).mean() * 100 \n",
    "    print(f'Риск убытков: {loss_risk:.2f}%')\n",
    "    \n",
    "    return round(lower, 2), round(upper, 2), loss_risk\n"
   ]
  },
  {
   "cell_type": "code",
   "execution_count": 41,
   "metadata": {},
   "outputs": [
    {
     "name": "stdout",
     "output_type": "stream",
     "text": [
      "Средняя прибыль: 393,086,331.86\n",
      "95%-й доверительный интервал: [-146,392,843.70, 898,526,291.75]\n",
      "Риск убытков: 6.60%\n"
     ]
    },
    {
     "data": {
      "text/plain": [
       "(-146392843.7, 898526291.75, 6.6000000000000005)"
      ]
     },
     "execution_count": 41,
     "metadata": {},
     "output_type": "execute_result"
    }
   ],
   "source": [
    "bootstrap_profit(y_valid_0, y_pred_0)"
   ]
  },
  {
   "cell_type": "code",
   "execution_count": 42,
   "metadata": {},
   "outputs": [
    {
     "name": "stdout",
     "output_type": "stream",
     "text": [
      "Средняя прибыль: 455,772,670.52\n",
      "95%-й доверительный интервал: [55,766,165.53, 851,765,420.27]\n",
      "Риск убытков: 1.50%\n"
     ]
    },
    {
     "data": {
      "text/plain": [
       "(55766165.53, 851765420.27, 1.5)"
      ]
     },
     "execution_count": 42,
     "metadata": {},
     "output_type": "execute_result"
    }
   ],
   "source": [
    "bootstrap_profit(y_valid_1, y_pred_1)"
   ]
  },
  {
   "cell_type": "code",
   "execution_count": 43,
   "metadata": {},
   "outputs": [
    {
     "name": "stdout",
     "output_type": "stream",
     "text": [
      "Средняя прибыль: 375,536,745.74\n",
      "95%-й доверительный интервал: [-136,944,412.12, 857,034,891.82]\n",
      "Риск убытков: 7.70%\n"
     ]
    },
    {
     "data": {
      "text/plain": [
       "(-136944412.12, 857034891.82, 7.7)"
      ]
     },
     "execution_count": 43,
     "metadata": {},
     "output_type": "execute_result"
    }
   ],
   "source": [
    "bootstrap_profit(y_valid_2, y_pred_2)"
   ]
  },
  {
   "cell_type": "markdown",
   "metadata": {},
   "source": [
    "В регионе 0 средняя прибыль составляет 393,09 млн. 95%-й доверительный интервал: от -146,39 млн до 898,53 млн. Риск убытков: 6,6%. Для этого региона  есть вероятность убытков, с возможными  колебаниями в пределах доверительного интервала. \n",
    "\n",
    "\n",
    "В регионе 1 средняя прибыль составляет 455,77 млн. 95%-й доверительный интервал: от 55,77 млн до 851,77 млн. Риск убытков: 1,5%. Регион 1 показывает наибольшую среднюю прибыль и самый низкий риск убытков среди всех рассмотренных регионов. Более того, доверительный интервал не включает отрицательные значения, что свидетельствует о стабильности и относительно низком уровне неопределённости.\n",
    "\n",
    "В регионе 2 средняя прибыль составляет 375,54 млн. 95%-й доверительный интервал: от -136,94 млн до 857,03 млн. Риск убытков: 7,7%. В регионе 2 наблюдается риск убытков и колебания прибыли.\n",
    "\n",
    "\n",
    "С учетом анализа выше, Регион 1 выглядит наиболее перспективным для разработки скважин, так как он демонстрирует наибольшую среднюю прибыль, низкий риск убытков и более стабильный результат по сравнению с другими регионами."
   ]
  },
  {
   "cell_type": "markdown",
   "metadata": {},
   "source": [
    "## Общий вывод"
   ]
  },
  {
   "cell_type": "markdown",
   "metadata": {},
   "source": [
    "**Описание проекта**\n",
    "\n",
    "Необходимо решить, где бурить новую скважину.\n",
    "\n",
    "Предоставлены пробы нефти в трёх регионах: в каждом 10 000 месторождений, где измерили качество нефти и объём её запасов. Нужно построить модель машинного обучения, которая поможет определить регион, где добыча принесёт наибольшую прибыль. Проанализировать возможную прибыль и риски техникой.\n",
    "\n",
    "**Описание данных**\n",
    "\n",
    "Данные геологоразведки трёх регионов находятся в файлах:\n",
    "\n",
    "- /datasets/geo_data_0.csv.\n",
    "- /datasets/geo_data_1.csv.\n",
    "- /datasets/geo_data_2.csv.\n",
    "\n",
    "\n",
    "id — уникальный идентификатор скважины;\n",
    "f0, f1, f2 — три признака точек (неважно, что они означают, но сами признаки значимы);\n",
    "product — объём запасов в скважине (тыс. баррелей).\n",
    "\n",
    "\n",
    "В ходе изучения данных было обнаружено, что в таблицах присутствуют аномальные значения. Распределения в geo_data_1 для f2 и product похожи на изолированные столбцы, что означает, что все значения разбиты на группы с очень близко стоящими друг к другу значениями. Количество аномальных значений оказалось очень мало, они были удалены.\n",
    "\n",
    "В результате корреляционного анализа было найдено, что в geo_data_0 присутствует достаточно сильная корреляция между f0 и f1. f2 коррелирует только с product. В geo_data_1 присутствует очень сильная корреляция между f2 и product. Скорее всего в данном случае признак обладает потенциально высокой предиктивной способностью в рамках наших данных. В geo_data_2 с целевым лучше всего коррелирует f2.\n",
    "\n",
    "Была разработана модель линейной регрессии. Таким образом, первый регион имеет второй по величине запас, второй проигрывает другим по параметру среднего запаса, но выигрывает по метрике, третий регион выигрывает по величине сырья, но уступает по метрике певрому.\n",
    "\n",
    "Достаточный объём сырья для безубыточной разработки новой скважины составил: 111.(1). В каждом из трёх регионов средний запас сырья скважины меньше полученного значения достаточного объёма сырья.\n",
    "\n",
    "Были расчитана прибыли и риски. В регионе 0 средняя прибыль составляет 393,09 млн. 95%-й доверительный интервал: от -146,39 млн до 898,53 млн. Риск убытков: 6,6%. Для этого региона есть вероятность убытков, с возможными колебаниями в пределах доверительного интервала.\n",
    "\n",
    "В регионе 1 средняя прибыль составляет 455,77 млн. 95%-й доверительный интервал: от 55,77 млн до 851,77 млн. Риск убытков: 1,5%. Регион 1 показывает наибольшую среднюю прибыль и самый низкий риск убытков среди всех рассмотренных регионов. Более того, доверительный интервал не включает отрицательные значения, что свидетельствует о стабильности и относительно низком уровне неопределённости.\n",
    "\n",
    "В регионе 2 средняя прибыль составляет 375,54 млн. 95%-й доверительный интервал: от -136,94 млн до 857,03 млн. Риск убытков: 7,7%. В регионе 2 наблюдается риск убытков и колебания прибыли.\n",
    "\n",
    "С учетом анализа выше, Регион 1 выглядит наиболее перспективным для разработки скважин, так как он демонстрирует наибольшую среднюю прибыль, низкий риск убытков и более стабильный результат по сравнению с другими регионами."
   ]
  },
  {
   "cell_type": "code",
   "execution_count": null,
   "metadata": {},
   "outputs": [],
   "source": []
  }
 ],
 "metadata": {
  "ExecuteTimeLog": [
   {
    "duration": 1585,
    "start_time": "2025-02-23T00:07:46.231Z"
   },
   {
    "duration": 176,
    "start_time": "2025-02-23T00:10:08.887Z"
   },
   {
    "duration": 406,
    "start_time": "2025-02-23T00:10:24.139Z"
   },
   {
    "duration": 13,
    "start_time": "2025-02-23T00:10:47.850Z"
   },
   {
    "duration": 20,
    "start_time": "2025-02-23T00:10:56.163Z"
   },
   {
    "duration": 7,
    "start_time": "2025-02-23T00:11:31.911Z"
   },
   {
    "duration": 9,
    "start_time": "2025-02-23T00:11:33.943Z"
   },
   {
    "duration": 14,
    "start_time": "2025-02-23T00:11:41.783Z"
   },
   {
    "duration": 9,
    "start_time": "2025-02-23T00:11:50.495Z"
   },
   {
    "duration": 13,
    "start_time": "2025-02-23T00:11:57.307Z"
   },
   {
    "duration": 4,
    "start_time": "2025-02-23T00:13:20.408Z"
   },
   {
    "duration": 4,
    "start_time": "2025-02-23T00:15:40.860Z"
   },
   {
    "duration": 3,
    "start_time": "2025-02-23T00:15:41.305Z"
   },
   {
    "duration": 55,
    "start_time": "2025-02-23T00:15:57.497Z"
   },
   {
    "duration": 48,
    "start_time": "2025-02-23T00:16:01.650Z"
   },
   {
    "duration": 43,
    "start_time": "2025-02-23T00:16:06.561Z"
   },
   {
    "duration": 55,
    "start_time": "2025-02-23T00:16:09.209Z"
   },
   {
    "duration": 48,
    "start_time": "2025-02-23T00:16:11.393Z"
   },
   {
    "duration": 5,
    "start_time": "2025-02-23T00:21:08.203Z"
   },
   {
    "duration": 5,
    "start_time": "2025-02-23T00:21:10.067Z"
   },
   {
    "duration": 53,
    "start_time": "2025-02-23T00:22:14.715Z"
   },
   {
    "duration": 1262,
    "start_time": "2025-02-23T00:31:26.081Z"
   },
   {
    "duration": 16,
    "start_time": "2025-02-23T00:34:22.193Z"
   },
   {
    "duration": 206,
    "start_time": "2025-02-23T00:34:47.362Z"
   },
   {
    "duration": 206,
    "start_time": "2025-02-23T00:35:07.534Z"
   },
   {
    "duration": 7786,
    "start_time": "2025-02-23T00:36:13.394Z"
   },
   {
    "duration": 90,
    "start_time": "2025-02-23T00:38:11.247Z"
   },
   {
    "duration": 4,
    "start_time": "2025-02-23T00:48:34.790Z"
   },
   {
    "duration": 193,
    "start_time": "2025-02-23T00:48:55.955Z"
   },
   {
    "duration": 12,
    "start_time": "2025-02-23T00:49:45.492Z"
   },
   {
    "duration": 12,
    "start_time": "2025-02-23T00:49:55.924Z"
   },
   {
    "duration": 1376,
    "start_time": "2025-02-23T00:51:59.602Z"
   },
   {
    "duration": 396,
    "start_time": "2025-02-23T00:52:00.980Z"
   },
   {
    "duration": 12,
    "start_time": "2025-02-23T00:52:01.378Z"
   },
   {
    "duration": 26,
    "start_time": "2025-02-23T00:52:01.392Z"
   },
   {
    "duration": 9,
    "start_time": "2025-02-23T00:52:01.420Z"
   },
   {
    "duration": 36,
    "start_time": "2025-02-23T00:52:01.430Z"
   },
   {
    "duration": 11,
    "start_time": "2025-02-23T00:52:01.468Z"
   },
   {
    "duration": 34,
    "start_time": "2025-02-23T00:52:01.481Z"
   },
   {
    "duration": 4,
    "start_time": "2025-02-23T00:52:01.517Z"
   },
   {
    "duration": 5,
    "start_time": "2025-02-23T00:52:01.524Z"
   },
   {
    "duration": 73,
    "start_time": "2025-02-23T00:52:01.530Z"
   },
   {
    "duration": 53,
    "start_time": "2025-02-23T00:52:01.605Z"
   },
   {
    "duration": 47,
    "start_time": "2025-02-23T00:52:01.660Z"
   },
   {
    "duration": 102,
    "start_time": "2025-02-23T00:52:01.709Z"
   },
   {
    "duration": 1194,
    "start_time": "2025-02-23T00:52:01.813Z"
   },
   {
    "duration": 7584,
    "start_time": "2025-02-23T00:52:03.009Z"
   },
   {
    "duration": 5,
    "start_time": "2025-02-23T00:52:10.594Z"
   },
   {
    "duration": 310,
    "start_time": "2025-02-23T00:52:10.600Z"
   },
   {
    "duration": 0,
    "start_time": "2025-02-23T00:52:10.912Z"
   },
   {
    "duration": 10,
    "start_time": "2025-02-23T00:52:29.436Z"
   },
   {
    "duration": 182,
    "start_time": "2025-02-23T00:52:34.745Z"
   },
   {
    "duration": 5,
    "start_time": "2025-02-23T00:52:59.296Z"
   },
   {
    "duration": 252,
    "start_time": "2025-02-23T00:53:00.381Z"
   },
   {
    "duration": 24,
    "start_time": "2025-02-23T00:53:15.736Z"
   },
   {
    "duration": 5,
    "start_time": "2025-02-23T00:54:42.378Z"
   },
   {
    "duration": 192,
    "start_time": "2025-02-23T00:54:43.758Z"
   },
   {
    "duration": 19,
    "start_time": "2025-02-23T00:55:07.542Z"
   },
   {
    "duration": 4,
    "start_time": "2025-02-23T00:55:40.259Z"
   },
   {
    "duration": 23,
    "start_time": "2025-02-23T00:55:40.669Z"
   },
   {
    "duration": 5,
    "start_time": "2025-02-23T00:55:49.082Z"
   },
   {
    "duration": 19,
    "start_time": "2025-02-23T00:55:50.626Z"
   },
   {
    "duration": 15,
    "start_time": "2025-02-23T00:56:15.495Z"
   },
   {
    "duration": 15,
    "start_time": "2025-02-23T00:56:23.351Z"
   },
   {
    "duration": 14,
    "start_time": "2025-02-23T00:56:51.604Z"
   },
   {
    "duration": 15,
    "start_time": "2025-02-23T00:56:52.183Z"
   },
   {
    "duration": 14,
    "start_time": "2025-02-23T00:56:52.712Z"
   },
   {
    "duration": 4,
    "start_time": "2025-02-23T00:58:02.328Z"
   },
   {
    "duration": 4,
    "start_time": "2025-02-23T01:03:10.359Z"
   },
   {
    "duration": 23,
    "start_time": "2025-02-23T01:03:11.023Z"
   },
   {
    "duration": 22,
    "start_time": "2025-02-23T01:03:15.155Z"
   },
   {
    "duration": 24,
    "start_time": "2025-02-23T01:03:19.655Z"
   },
   {
    "duration": 42,
    "start_time": "2025-02-23T01:03:50.983Z"
   },
   {
    "duration": 22,
    "start_time": "2025-02-23T01:03:51.683Z"
   },
   {
    "duration": 17,
    "start_time": "2025-02-23T01:06:01.488Z"
   },
   {
    "duration": 22,
    "start_time": "2025-02-23T01:07:05.372Z"
   },
   {
    "duration": 21,
    "start_time": "2025-02-23T01:07:11.453Z"
   },
   {
    "duration": 20,
    "start_time": "2025-02-23T01:07:28.041Z"
   },
   {
    "duration": 20,
    "start_time": "2025-02-23T01:07:30.517Z"
   },
   {
    "duration": 18,
    "start_time": "2025-02-23T01:07:34.001Z"
   },
   {
    "duration": 19,
    "start_time": "2025-02-23T01:07:35.941Z"
   },
   {
    "duration": 24,
    "start_time": "2025-02-23T01:07:38.210Z"
   },
   {
    "duration": 1486,
    "start_time": "2025-02-23T01:07:55.732Z"
   },
   {
    "duration": 403,
    "start_time": "2025-02-23T01:07:57.220Z"
   },
   {
    "duration": 13,
    "start_time": "2025-02-23T01:07:57.624Z"
   },
   {
    "duration": 105,
    "start_time": "2025-02-23T01:07:57.647Z"
   },
   {
    "duration": 9,
    "start_time": "2025-02-23T01:07:57.753Z"
   },
   {
    "duration": 31,
    "start_time": "2025-02-23T01:07:57.764Z"
   },
   {
    "duration": 9,
    "start_time": "2025-02-23T01:07:57.797Z"
   },
   {
    "duration": 15,
    "start_time": "2025-02-23T01:07:57.807Z"
   },
   {
    "duration": 4,
    "start_time": "2025-02-23T01:07:57.824Z"
   },
   {
    "duration": 19,
    "start_time": "2025-02-23T01:07:57.830Z"
   },
   {
    "duration": 54,
    "start_time": "2025-02-23T01:07:57.850Z"
   },
   {
    "duration": 67,
    "start_time": "2025-02-23T01:07:57.906Z"
   },
   {
    "duration": 50,
    "start_time": "2025-02-23T01:07:57.975Z"
   },
   {
    "duration": 147,
    "start_time": "2025-02-23T01:07:58.026Z"
   },
   {
    "duration": 1276,
    "start_time": "2025-02-23T01:07:58.174Z"
   },
   {
    "duration": 7729,
    "start_time": "2025-02-23T01:07:59.452Z"
   },
   {
    "duration": 6,
    "start_time": "2025-02-23T01:08:07.182Z"
   },
   {
    "duration": 66,
    "start_time": "2025-02-23T01:08:07.190Z"
   },
   {
    "duration": 29,
    "start_time": "2025-02-23T01:08:07.258Z"
   },
   {
    "duration": 22,
    "start_time": "2025-02-23T01:08:07.289Z"
   },
   {
    "duration": 20,
    "start_time": "2025-02-23T01:08:07.314Z"
   },
   {
    "duration": 22,
    "start_time": "2025-02-23T01:08:07.348Z"
   },
   {
    "duration": 24,
    "start_time": "2025-02-23T01:08:07.372Z"
   },
   {
    "duration": 125,
    "start_time": "2025-02-23T01:08:07.397Z"
   },
   {
    "duration": 203,
    "start_time": "2025-02-23T01:08:31.312Z"
   },
   {
    "duration": 178,
    "start_time": "2025-02-23T01:08:40.716Z"
   },
   {
    "duration": 324,
    "start_time": "2025-02-23T01:08:45.935Z"
   },
   {
    "duration": 1494,
    "start_time": "2025-02-23T01:10:21.452Z"
   },
   {
    "duration": 8,
    "start_time": "2025-02-23T01:10:25.552Z"
   },
   {
    "duration": 8,
    "start_time": "2025-02-23T01:10:32.124Z"
   },
   {
    "duration": 13,
    "start_time": "2025-02-23T01:10:35.496Z"
   },
   {
    "duration": 14,
    "start_time": "2025-02-23T01:10:37.953Z"
   },
   {
    "duration": 180,
    "start_time": "2025-02-23T01:11:39.509Z"
   },
   {
    "duration": 223,
    "start_time": "2025-02-23T01:13:18.201Z"
   },
   {
    "duration": 135,
    "start_time": "2025-02-23T01:13:23.970Z"
   },
   {
    "duration": 178,
    "start_time": "2025-02-23T01:13:26.809Z"
   },
   {
    "duration": 181,
    "start_time": "2025-02-23T01:13:31.102Z"
   },
   {
    "duration": 14,
    "start_time": "2025-02-23T01:37:17.088Z"
   },
   {
    "duration": 3925,
    "start_time": "2025-02-23T01:39:28.441Z"
   },
   {
    "duration": 633,
    "start_time": "2025-02-23T01:40:27.280Z"
   },
   {
    "duration": 585,
    "start_time": "2025-02-23T01:40:40.840Z"
   },
   {
    "duration": 571,
    "start_time": "2025-02-23T01:40:49.328Z"
   },
   {
    "duration": 600,
    "start_time": "2025-02-23T01:43:10.317Z"
   },
   {
    "duration": 754,
    "start_time": "2025-02-23T01:43:21.341Z"
   },
   {
    "duration": 614,
    "start_time": "2025-02-23T01:43:35.073Z"
   },
   {
    "duration": 2307,
    "start_time": "2025-02-23T02:01:51.221Z"
   },
   {
    "duration": 4,
    "start_time": "2025-02-23T02:09:53.381Z"
   },
   {
    "duration": 142,
    "start_time": "2025-02-23T02:10:07.809Z"
   },
   {
    "duration": 122,
    "start_time": "2025-02-23T02:12:14.149Z"
   },
   {
    "duration": 108,
    "start_time": "2025-02-23T02:12:20.801Z"
   },
   {
    "duration": 78,
    "start_time": "2025-02-23T02:13:03.613Z"
   },
   {
    "duration": 5,
    "start_time": "2025-02-23T02:13:30.209Z"
   },
   {
    "duration": 24,
    "start_time": "2025-02-23T02:13:31.133Z"
   },
   {
    "duration": 22,
    "start_time": "2025-02-23T02:13:34.149Z"
   },
   {
    "duration": 21,
    "start_time": "2025-02-23T02:14:23.413Z"
   },
   {
    "duration": 21,
    "start_time": "2025-02-23T02:14:28.601Z"
   },
   {
    "duration": 102,
    "start_time": "2025-02-23T02:19:12.454Z"
   },
   {
    "duration": 4,
    "start_time": "2025-02-23T02:19:18.422Z"
   },
   {
    "duration": 22,
    "start_time": "2025-02-23T02:19:19.154Z"
   },
   {
    "duration": 22,
    "start_time": "2025-02-23T02:19:20.818Z"
   },
   {
    "duration": 22,
    "start_time": "2025-02-23T02:19:21.786Z"
   },
   {
    "duration": 4871,
    "start_time": "2025-02-23T15:30:44.549Z"
   },
   {
    "duration": 379,
    "start_time": "2025-02-23T15:30:49.422Z"
   },
   {
    "duration": 12,
    "start_time": "2025-02-23T15:30:49.803Z"
   },
   {
    "duration": 42,
    "start_time": "2025-02-23T15:30:49.817Z"
   },
   {
    "duration": 16,
    "start_time": "2025-02-23T15:30:49.861Z"
   },
   {
    "duration": 37,
    "start_time": "2025-02-23T15:30:49.879Z"
   },
   {
    "duration": 24,
    "start_time": "2025-02-23T15:30:49.918Z"
   },
   {
    "duration": 32,
    "start_time": "2025-02-23T15:30:49.944Z"
   },
   {
    "duration": 4,
    "start_time": "2025-02-23T15:30:49.977Z"
   },
   {
    "duration": 5,
    "start_time": "2025-02-23T15:30:49.982Z"
   },
   {
    "duration": 57,
    "start_time": "2025-02-23T15:30:49.988Z"
   },
   {
    "duration": 46,
    "start_time": "2025-02-23T15:30:50.046Z"
   },
   {
    "duration": 45,
    "start_time": "2025-02-23T15:30:50.093Z"
   },
   {
    "duration": 96,
    "start_time": "2025-02-23T15:30:50.141Z"
   },
   {
    "duration": 1182,
    "start_time": "2025-02-23T15:30:50.239Z"
   },
   {
    "duration": 7080,
    "start_time": "2025-02-23T15:30:51.423Z"
   },
   {
    "duration": 5,
    "start_time": "2025-02-23T15:30:58.505Z"
   },
   {
    "duration": 25,
    "start_time": "2025-02-23T15:30:58.511Z"
   },
   {
    "duration": 19,
    "start_time": "2025-02-23T15:30:58.538Z"
   },
   {
    "duration": 20,
    "start_time": "2025-02-23T15:30:58.558Z"
   },
   {
    "duration": 38,
    "start_time": "2025-02-23T15:30:58.579Z"
   },
   {
    "duration": 20,
    "start_time": "2025-02-23T15:30:58.619Z"
   },
   {
    "duration": 17,
    "start_time": "2025-02-23T15:30:58.641Z"
   },
   {
    "duration": 610,
    "start_time": "2025-02-23T15:30:58.660Z"
   },
   {
    "duration": 572,
    "start_time": "2025-02-23T15:30:59.272Z"
   },
   {
    "duration": 672,
    "start_time": "2025-02-23T15:30:59.845Z"
   },
   {
    "duration": 4,
    "start_time": "2025-02-23T15:31:00.519Z"
   },
   {
    "duration": 54,
    "start_time": "2025-02-23T15:31:00.524Z"
   },
   {
    "duration": 196,
    "start_time": "2025-02-23T15:31:00.581Z"
   },
   {
    "duration": 200,
    "start_time": "2025-02-23T15:31:00.779Z"
   },
   {
    "duration": 3,
    "start_time": "2025-02-23T15:43:59.960Z"
   },
   {
    "duration": 3,
    "start_time": "2025-02-23T15:48:19.328Z"
   },
   {
    "duration": 2,
    "start_time": "2025-02-23T15:49:34.170Z"
   },
   {
    "duration": 4,
    "start_time": "2025-02-23T15:49:53.613Z"
   },
   {
    "duration": 4,
    "start_time": "2025-02-23T15:50:07.059Z"
   },
   {
    "duration": 5,
    "start_time": "2025-02-23T15:50:46.338Z"
   },
   {
    "duration": 74,
    "start_time": "2025-02-23T15:51:28.534Z"
   },
   {
    "duration": 3,
    "start_time": "2025-02-23T15:51:32.391Z"
   },
   {
    "duration": 3,
    "start_time": "2025-02-23T15:51:36.165Z"
   },
   {
    "duration": 4,
    "start_time": "2025-02-23T15:55:36.890Z"
   },
   {
    "duration": 3,
    "start_time": "2025-02-23T15:55:39.307Z"
   },
   {
    "duration": 4,
    "start_time": "2025-02-23T15:55:41.462Z"
   },
   {
    "duration": 33,
    "start_time": "2025-02-23T15:58:03.512Z"
   },
   {
    "duration": 3,
    "start_time": "2025-02-23T16:05:06.848Z"
   },
   {
    "duration": 3,
    "start_time": "2025-02-23T16:05:07.172Z"
   },
   {
    "duration": 3,
    "start_time": "2025-02-23T16:05:08.093Z"
   },
   {
    "duration": 4,
    "start_time": "2025-02-23T16:05:08.504Z"
   },
   {
    "duration": 3,
    "start_time": "2025-02-23T16:05:08.938Z"
   },
   {
    "duration": 4,
    "start_time": "2025-02-23T16:11:40.933Z"
   },
   {
    "duration": 111,
    "start_time": "2025-02-23T16:12:33.525Z"
   },
   {
    "duration": 5,
    "start_time": "2025-02-23T16:16:16.132Z"
   },
   {
    "duration": 28,
    "start_time": "2025-02-23T16:16:16.448Z"
   },
   {
    "duration": 20,
    "start_time": "2025-02-23T16:16:16.897Z"
   },
   {
    "duration": 22,
    "start_time": "2025-02-23T16:16:17.313Z"
   },
   {
    "duration": 3,
    "start_time": "2025-02-23T16:16:18.292Z"
   },
   {
    "duration": 3,
    "start_time": "2025-02-23T16:16:18.559Z"
   },
   {
    "duration": 4,
    "start_time": "2025-02-23T16:16:18.829Z"
   },
   {
    "duration": 4,
    "start_time": "2025-02-23T16:16:19.301Z"
   },
   {
    "duration": 3,
    "start_time": "2025-02-23T16:16:19.626Z"
   },
   {
    "duration": 3,
    "start_time": "2025-02-23T16:16:22.291Z"
   },
   {
    "duration": 20,
    "start_time": "2025-02-23T16:16:27.933Z"
   },
   {
    "duration": 4,
    "start_time": "2025-02-23T16:18:18.993Z"
   },
   {
    "duration": 11,
    "start_time": "2025-02-23T16:18:19.665Z"
   },
   {
    "duration": 5,
    "start_time": "2025-02-23T16:18:26.294Z"
   },
   {
    "duration": 6,
    "start_time": "2025-02-23T16:18:46.614Z"
   },
   {
    "duration": 6,
    "start_time": "2025-02-23T16:18:55.001Z"
   },
   {
    "duration": 6,
    "start_time": "2025-02-23T16:19:00.633Z"
   },
   {
    "duration": 5,
    "start_time": "2025-02-23T16:19:10.658Z"
   },
   {
    "duration": 4,
    "start_time": "2025-02-23T18:53:36.364Z"
   },
   {
    "duration": 5,
    "start_time": "2025-02-23T18:54:49.247Z"
   },
   {
    "duration": 8,
    "start_time": "2025-02-23T18:54:49.796Z"
   },
   {
    "duration": 79,
    "start_time": "2025-02-23T18:55:01.460Z"
   },
   {
    "duration": 28,
    "start_time": "2025-02-23T18:55:04.200Z"
   },
   {
    "duration": 5,
    "start_time": "2025-02-23T18:59:18.025Z"
   },
   {
    "duration": 26,
    "start_time": "2025-02-23T18:59:18.540Z"
   },
   {
    "duration": 8,
    "start_time": "2025-02-23T19:00:36.740Z"
   },
   {
    "duration": 12,
    "start_time": "2025-02-23T19:00:48.048Z"
   },
   {
    "duration": 9,
    "start_time": "2025-02-23T19:01:17.827Z"
   },
   {
    "duration": 3,
    "start_time": "2025-02-23T19:01:40.352Z"
   },
   {
    "duration": 5,
    "start_time": "2025-02-23T19:01:40.807Z"
   },
   {
    "duration": 3654,
    "start_time": "2025-02-23T19:01:51.662Z"
   },
   {
    "duration": 376,
    "start_time": "2025-02-23T19:01:55.318Z"
   },
   {
    "duration": 12,
    "start_time": "2025-02-23T19:01:55.695Z"
   },
   {
    "duration": 18,
    "start_time": "2025-02-23T19:01:55.709Z"
   },
   {
    "duration": 9,
    "start_time": "2025-02-23T19:01:55.728Z"
   },
   {
    "duration": 15,
    "start_time": "2025-02-23T19:01:55.738Z"
   },
   {
    "duration": 8,
    "start_time": "2025-02-23T19:01:55.769Z"
   },
   {
    "duration": 24,
    "start_time": "2025-02-23T19:01:55.779Z"
   },
   {
    "duration": 3,
    "start_time": "2025-02-23T19:01:55.806Z"
   },
   {
    "duration": 12,
    "start_time": "2025-02-23T19:01:55.811Z"
   },
   {
    "duration": 54,
    "start_time": "2025-02-23T19:01:55.824Z"
   },
   {
    "duration": 42,
    "start_time": "2025-02-23T19:01:55.880Z"
   },
   {
    "duration": 61,
    "start_time": "2025-02-23T19:01:55.924Z"
   },
   {
    "duration": 89,
    "start_time": "2025-02-23T19:01:55.987Z"
   },
   {
    "duration": 1160,
    "start_time": "2025-02-23T19:01:56.077Z"
   },
   {
    "duration": 7277,
    "start_time": "2025-02-23T19:01:57.238Z"
   },
   {
    "duration": 5,
    "start_time": "2025-02-23T19:02:04.516Z"
   },
   {
    "duration": 62,
    "start_time": "2025-02-23T19:02:04.522Z"
   },
   {
    "duration": 25,
    "start_time": "2025-02-23T19:02:04.586Z"
   },
   {
    "duration": 52,
    "start_time": "2025-02-23T19:02:04.612Z"
   },
   {
    "duration": 20,
    "start_time": "2025-02-23T19:02:04.666Z"
   },
   {
    "duration": 19,
    "start_time": "2025-02-23T19:02:04.687Z"
   },
   {
    "duration": 27,
    "start_time": "2025-02-23T19:02:04.708Z"
   },
   {
    "duration": 577,
    "start_time": "2025-02-23T19:02:04.737Z"
   },
   {
    "duration": 584,
    "start_time": "2025-02-23T19:02:05.315Z"
   },
   {
    "duration": 698,
    "start_time": "2025-02-23T19:02:05.901Z"
   },
   {
    "duration": 5,
    "start_time": "2025-02-23T19:02:06.601Z"
   },
   {
    "duration": 68,
    "start_time": "2025-02-23T19:02:06.610Z"
   },
   {
    "duration": 113,
    "start_time": "2025-02-23T19:02:06.680Z"
   },
   {
    "duration": 106,
    "start_time": "2025-02-23T19:02:06.871Z"
   },
   {
    "duration": 3,
    "start_time": "2025-02-23T19:02:06.979Z"
   },
   {
    "duration": 92,
    "start_time": "2025-02-23T19:02:06.984Z"
   },
   {
    "duration": 95,
    "start_time": "2025-02-23T19:02:07.078Z"
   },
   {
    "duration": 25,
    "start_time": "2025-02-23T19:02:07.174Z"
   },
   {
    "duration": 27,
    "start_time": "2025-02-23T19:02:07.201Z"
   },
   {
    "duration": 17,
    "start_time": "2025-02-23T19:02:07.230Z"
   },
   {
    "duration": 27,
    "start_time": "2025-02-23T19:02:07.249Z"
   },
   {
    "duration": 6,
    "start_time": "2025-02-23T19:02:07.278Z"
   },
   {
    "duration": 10,
    "start_time": "2025-02-23T19:02:07.286Z"
   },
   {
    "duration": 31,
    "start_time": "2025-02-23T19:02:07.297Z"
   },
   {
    "duration": 161,
    "start_time": "2025-02-23T19:02:07.330Z"
   },
   {
    "duration": 5,
    "start_time": "2025-02-23T19:02:37.029Z"
   },
   {
    "duration": 3588,
    "start_time": "2025-02-23T19:02:46.226Z"
   },
   {
    "duration": 378,
    "start_time": "2025-02-23T19:02:49.816Z"
   },
   {
    "duration": 12,
    "start_time": "2025-02-23T19:02:50.196Z"
   },
   {
    "duration": 32,
    "start_time": "2025-02-23T19:02:50.210Z"
   },
   {
    "duration": 10,
    "start_time": "2025-02-23T19:02:50.243Z"
   },
   {
    "duration": 18,
    "start_time": "2025-02-23T19:02:50.254Z"
   },
   {
    "duration": 8,
    "start_time": "2025-02-23T19:02:50.274Z"
   },
   {
    "duration": 15,
    "start_time": "2025-02-23T19:02:50.284Z"
   },
   {
    "duration": 6,
    "start_time": "2025-02-23T19:02:50.301Z"
   },
   {
    "duration": 42,
    "start_time": "2025-02-23T19:02:50.310Z"
   },
   {
    "duration": 51,
    "start_time": "2025-02-23T19:02:50.354Z"
   },
   {
    "duration": 45,
    "start_time": "2025-02-23T19:02:50.407Z"
   },
   {
    "duration": 62,
    "start_time": "2025-02-23T19:02:50.454Z"
   },
   {
    "duration": 97,
    "start_time": "2025-02-23T19:02:50.518Z"
   },
   {
    "duration": 1158,
    "start_time": "2025-02-23T19:02:50.616Z"
   },
   {
    "duration": 7011,
    "start_time": "2025-02-23T19:02:51.776Z"
   },
   {
    "duration": 5,
    "start_time": "2025-02-23T19:02:58.788Z"
   },
   {
    "duration": 31,
    "start_time": "2025-02-23T19:02:58.795Z"
   },
   {
    "duration": 19,
    "start_time": "2025-02-23T19:02:58.828Z"
   },
   {
    "duration": 18,
    "start_time": "2025-02-23T19:02:58.848Z"
   },
   {
    "duration": 20,
    "start_time": "2025-02-23T19:02:58.867Z"
   },
   {
    "duration": 18,
    "start_time": "2025-02-23T19:02:58.888Z"
   },
   {
    "duration": 17,
    "start_time": "2025-02-23T19:02:58.908Z"
   },
   {
    "duration": 575,
    "start_time": "2025-02-23T19:02:58.926Z"
   },
   {
    "duration": 581,
    "start_time": "2025-02-23T19:02:59.502Z"
   },
   {
    "duration": 1216,
    "start_time": "2025-02-23T19:03:00.085Z"
   },
   {
    "duration": 4,
    "start_time": "2025-02-23T19:03:01.303Z"
   },
   {
    "duration": 162,
    "start_time": "2025-02-23T19:03:01.310Z"
   },
   {
    "duration": 203,
    "start_time": "2025-02-23T19:03:01.474Z"
   },
   {
    "duration": 111,
    "start_time": "2025-02-23T19:03:01.679Z"
   },
   {
    "duration": 80,
    "start_time": "2025-02-23T19:03:01.792Z"
   },
   {
    "duration": 112,
    "start_time": "2025-02-23T19:03:01.873Z"
   },
   {
    "duration": 68,
    "start_time": "2025-02-23T19:03:01.987Z"
   },
   {
    "duration": 26,
    "start_time": "2025-02-23T19:03:02.057Z"
   },
   {
    "duration": 5,
    "start_time": "2025-02-23T19:03:02.085Z"
   },
   {
    "duration": 19,
    "start_time": "2025-02-23T19:03:02.091Z"
   },
   {
    "duration": 29,
    "start_time": "2025-02-23T19:03:02.112Z"
   },
   {
    "duration": 11,
    "start_time": "2025-02-23T19:03:02.143Z"
   },
   {
    "duration": 26,
    "start_time": "2025-02-23T19:03:02.155Z"
   },
   {
    "duration": 16,
    "start_time": "2025-02-23T19:03:02.182Z"
   },
   {
    "duration": 166,
    "start_time": "2025-02-23T19:03:02.199Z"
   },
   {
    "duration": 3678,
    "start_time": "2025-02-23T19:03:29.554Z"
   },
   {
    "duration": 392,
    "start_time": "2025-02-23T19:03:33.234Z"
   },
   {
    "duration": 12,
    "start_time": "2025-02-23T19:03:33.628Z"
   },
   {
    "duration": 57,
    "start_time": "2025-02-23T19:03:33.642Z"
   },
   {
    "duration": 36,
    "start_time": "2025-02-23T19:03:33.701Z"
   },
   {
    "duration": 40,
    "start_time": "2025-02-23T19:03:33.739Z"
   },
   {
    "duration": 9,
    "start_time": "2025-02-23T19:03:33.780Z"
   },
   {
    "duration": 47,
    "start_time": "2025-02-23T19:03:33.790Z"
   },
   {
    "duration": 13,
    "start_time": "2025-02-23T19:03:33.839Z"
   },
   {
    "duration": 32,
    "start_time": "2025-02-23T19:03:33.855Z"
   },
   {
    "duration": 75,
    "start_time": "2025-02-23T19:03:33.888Z"
   },
   {
    "duration": 48,
    "start_time": "2025-02-23T19:03:33.964Z"
   },
   {
    "duration": 65,
    "start_time": "2025-02-23T19:03:34.013Z"
   },
   {
    "duration": 91,
    "start_time": "2025-02-23T19:03:34.080Z"
   },
   {
    "duration": 1147,
    "start_time": "2025-02-23T19:03:34.173Z"
   },
   {
    "duration": 7145,
    "start_time": "2025-02-23T19:03:35.322Z"
   },
   {
    "duration": 5,
    "start_time": "2025-02-23T19:03:42.469Z"
   },
   {
    "duration": 26,
    "start_time": "2025-02-23T19:03:42.476Z"
   },
   {
    "duration": 21,
    "start_time": "2025-02-23T19:03:42.504Z"
   },
   {
    "duration": 19,
    "start_time": "2025-02-23T19:03:42.527Z"
   },
   {
    "duration": 37,
    "start_time": "2025-02-23T19:03:42.548Z"
   },
   {
    "duration": 20,
    "start_time": "2025-02-23T19:03:42.586Z"
   },
   {
    "duration": 32,
    "start_time": "2025-02-23T19:03:42.608Z"
   },
   {
    "duration": 599,
    "start_time": "2025-02-23T19:03:42.641Z"
   },
   {
    "duration": 658,
    "start_time": "2025-02-23T19:03:43.241Z"
   },
   {
    "duration": 704,
    "start_time": "2025-02-23T19:03:43.900Z"
   },
   {
    "duration": 4,
    "start_time": "2025-02-23T19:03:44.606Z"
   },
   {
    "duration": 61,
    "start_time": "2025-02-23T19:03:44.613Z"
   },
   {
    "duration": 115,
    "start_time": "2025-02-23T19:03:44.675Z"
   },
   {
    "duration": 184,
    "start_time": "2025-02-23T19:03:44.793Z"
   },
   {
    "duration": 3,
    "start_time": "2025-02-23T19:03:44.979Z"
   },
   {
    "duration": 188,
    "start_time": "2025-02-23T19:03:44.984Z"
   },
   {
    "duration": 26,
    "start_time": "2025-02-23T19:03:45.174Z"
   },
   {
    "duration": 43,
    "start_time": "2025-02-23T19:03:45.201Z"
   },
   {
    "duration": 36,
    "start_time": "2025-02-23T19:03:45.246Z"
   },
   {
    "duration": 19,
    "start_time": "2025-02-23T19:03:45.284Z"
   },
   {
    "duration": 37,
    "start_time": "2025-02-23T19:03:45.304Z"
   },
   {
    "duration": 33,
    "start_time": "2025-02-23T19:03:45.343Z"
   },
   {
    "duration": 30,
    "start_time": "2025-02-23T19:03:45.378Z"
   },
   {
    "duration": 81,
    "start_time": "2025-02-23T19:03:45.410Z"
   },
   {
    "duration": 177,
    "start_time": "2025-02-23T19:03:45.493Z"
   },
   {
    "duration": 5,
    "start_time": "2025-02-23T19:06:55.466Z"
   },
   {
    "duration": 2092,
    "start_time": "2025-02-23T19:06:58.562Z"
   },
   {
    "duration": 2119,
    "start_time": "2025-02-23T19:07:36.701Z"
   },
   {
    "duration": 2103,
    "start_time": "2025-02-23T19:07:45.178Z"
   },
   {
    "duration": 5,
    "start_time": "2025-02-23T19:09:04.029Z"
   },
   {
    "duration": 26,
    "start_time": "2025-02-23T19:09:04.459Z"
   },
   {
    "duration": 5,
    "start_time": "2025-02-23T19:09:50.230Z"
   },
   {
    "duration": 27,
    "start_time": "2025-02-23T19:09:50.343Z"
   },
   {
    "duration": 4,
    "start_time": "2025-02-23T19:09:55.570Z"
   },
   {
    "duration": 6,
    "start_time": "2025-02-23T19:11:12.554Z"
   },
   {
    "duration": 29,
    "start_time": "2025-02-23T19:11:12.933Z"
   },
   {
    "duration": 5,
    "start_time": "2025-02-23T19:11:18.497Z"
   },
   {
    "duration": 4,
    "start_time": "2025-02-23T19:12:33.074Z"
   },
   {
    "duration": 16,
    "start_time": "2025-02-23T19:12:33.667Z"
   },
   {
    "duration": 5,
    "start_time": "2025-02-23T19:13:16.866Z"
   },
   {
    "duration": 8,
    "start_time": "2025-02-23T19:13:17.223Z"
   },
   {
    "duration": 5,
    "start_time": "2025-02-23T19:13:31.662Z"
   },
   {
    "duration": 17,
    "start_time": "2025-02-23T19:13:32.054Z"
   },
   {
    "duration": 5,
    "start_time": "2025-02-23T19:14:07.862Z"
   },
   {
    "duration": 8,
    "start_time": "2025-02-23T19:14:08.645Z"
   },
   {
    "duration": 20,
    "start_time": "2025-02-23T19:14:14.350Z"
   },
   {
    "duration": 5,
    "start_time": "2025-02-23T19:14:32.694Z"
   },
   {
    "duration": 10,
    "start_time": "2025-02-23T19:14:33.598Z"
   },
   {
    "duration": 26,
    "start_time": "2025-02-23T19:14:38.902Z"
   },
   {
    "duration": 6,
    "start_time": "2025-02-23T19:16:08.125Z"
   },
   {
    "duration": 2097,
    "start_time": "2025-02-23T19:16:08.466Z"
   },
   {
    "duration": 4,
    "start_time": "2025-02-23T19:17:17.618Z"
   },
   {
    "duration": 13,
    "start_time": "2025-02-23T19:19:10.574Z"
   },
   {
    "duration": 5,
    "start_time": "2025-02-23T19:19:31.126Z"
   },
   {
    "duration": 15,
    "start_time": "2025-02-23T19:19:31.319Z"
   },
   {
    "duration": 5,
    "start_time": "2025-02-23T19:19:55.382Z"
   },
   {
    "duration": 14,
    "start_time": "2025-02-23T19:19:55.474Z"
   },
   {
    "duration": 4,
    "start_time": "2025-02-23T19:21:46.259Z"
   },
   {
    "duration": 24,
    "start_time": "2025-02-23T19:21:46.726Z"
   },
   {
    "duration": 5,
    "start_time": "2025-02-23T19:21:52.691Z"
   },
   {
    "duration": 26,
    "start_time": "2025-02-23T19:21:55.194Z"
   },
   {
    "duration": 4,
    "start_time": "2025-02-23T19:22:56.998Z"
   },
   {
    "duration": 6,
    "start_time": "2025-02-23T19:22:57.455Z"
   },
   {
    "duration": 7,
    "start_time": "2025-02-23T19:22:59.950Z"
   },
   {
    "duration": 6,
    "start_time": "2025-02-23T19:23:00.538Z"
   },
   {
    "duration": 4,
    "start_time": "2025-02-23T19:23:07.174Z"
   },
   {
    "duration": 5,
    "start_time": "2025-02-23T19:23:07.730Z"
   },
   {
    "duration": 5,
    "start_time": "2025-02-23T19:23:08.286Z"
   },
   {
    "duration": 5,
    "start_time": "2025-02-23T19:23:09.195Z"
   },
   {
    "duration": 26,
    "start_time": "2025-02-23T19:23:40.722Z"
   },
   {
    "duration": 4,
    "start_time": "2025-02-23T19:25:35.674Z"
   },
   {
    "duration": 5,
    "start_time": "2025-02-23T19:25:36.211Z"
   },
   {
    "duration": 11,
    "start_time": "2025-02-23T19:25:37.239Z"
   },
   {
    "duration": 12,
    "start_time": "2025-02-23T19:25:39.928Z"
   },
   {
    "duration": 3,
    "start_time": "2025-02-23T19:25:57.495Z"
   },
   {
    "duration": 5,
    "start_time": "2025-02-23T19:25:57.918Z"
   },
   {
    "duration": 5,
    "start_time": "2025-02-23T19:25:58.567Z"
   },
   {
    "duration": 5,
    "start_time": "2025-02-23T19:25:59.331Z"
   },
   {
    "duration": 3598,
    "start_time": "2025-02-23T19:26:08.206Z"
   },
   {
    "duration": 382,
    "start_time": "2025-02-23T19:26:11.807Z"
   },
   {
    "duration": 13,
    "start_time": "2025-02-23T19:26:12.192Z"
   },
   {
    "duration": 25,
    "start_time": "2025-02-23T19:26:12.208Z"
   },
   {
    "duration": 23,
    "start_time": "2025-02-23T19:26:12.235Z"
   },
   {
    "duration": 18,
    "start_time": "2025-02-23T19:26:12.259Z"
   },
   {
    "duration": 8,
    "start_time": "2025-02-23T19:26:12.279Z"
   },
   {
    "duration": 15,
    "start_time": "2025-02-23T19:26:12.288Z"
   },
   {
    "duration": 4,
    "start_time": "2025-02-23T19:26:12.304Z"
   },
   {
    "duration": 6,
    "start_time": "2025-02-23T19:26:12.311Z"
   },
   {
    "duration": 69,
    "start_time": "2025-02-23T19:26:12.318Z"
   },
   {
    "duration": 44,
    "start_time": "2025-02-23T19:26:12.389Z"
   },
   {
    "duration": 64,
    "start_time": "2025-02-23T19:26:12.435Z"
   },
   {
    "duration": 97,
    "start_time": "2025-02-23T19:26:12.501Z"
   },
   {
    "duration": 1196,
    "start_time": "2025-02-23T19:26:12.600Z"
   },
   {
    "duration": 7229,
    "start_time": "2025-02-23T19:26:13.798Z"
   },
   {
    "duration": 4,
    "start_time": "2025-02-23T19:26:21.029Z"
   },
   {
    "duration": 90,
    "start_time": "2025-02-23T19:26:21.035Z"
   },
   {
    "duration": 21,
    "start_time": "2025-02-23T19:26:21.127Z"
   },
   {
    "duration": 66,
    "start_time": "2025-02-23T19:26:21.150Z"
   },
   {
    "duration": 66,
    "start_time": "2025-02-23T19:26:21.217Z"
   },
   {
    "duration": 42,
    "start_time": "2025-02-23T19:26:21.285Z"
   },
   {
    "duration": 49,
    "start_time": "2025-02-23T19:26:21.329Z"
   },
   {
    "duration": 615,
    "start_time": "2025-02-23T19:26:21.380Z"
   },
   {
    "duration": 594,
    "start_time": "2025-02-23T19:26:21.997Z"
   },
   {
    "duration": 700,
    "start_time": "2025-02-23T19:26:22.593Z"
   },
   {
    "duration": 3,
    "start_time": "2025-02-23T19:26:23.295Z"
   },
   {
    "duration": 69,
    "start_time": "2025-02-23T19:26:23.301Z"
   },
   {
    "duration": 111,
    "start_time": "2025-02-23T19:26:23.373Z"
   },
   {
    "duration": 196,
    "start_time": "2025-02-23T19:26:23.486Z"
   },
   {
    "duration": 3,
    "start_time": "2025-02-23T19:26:23.684Z"
   },
   {
    "duration": 4,
    "start_time": "2025-02-23T19:26:23.772Z"
   },
   {
    "duration": 107,
    "start_time": "2025-02-23T19:26:23.778Z"
   },
   {
    "duration": 22,
    "start_time": "2025-02-23T19:26:23.887Z"
   },
   {
    "duration": 19,
    "start_time": "2025-02-23T19:26:23.911Z"
   },
   {
    "duration": 15,
    "start_time": "2025-02-23T19:26:23.932Z"
   },
   {
    "duration": 50,
    "start_time": "2025-02-23T19:26:23.949Z"
   },
   {
    "duration": 21,
    "start_time": "2025-02-23T19:26:24.001Z"
   },
   {
    "duration": 44,
    "start_time": "2025-02-23T19:26:24.024Z"
   },
   {
    "duration": 19,
    "start_time": "2025-02-23T19:26:24.071Z"
   },
   {
    "duration": 151,
    "start_time": "2025-02-23T19:26:24.092Z"
   },
   {
    "duration": 5,
    "start_time": "2025-02-23T19:26:32.782Z"
   },
   {
    "duration": 25,
    "start_time": "2025-02-23T19:26:33.306Z"
   },
   {
    "duration": 719,
    "start_time": "2025-02-23T19:27:55.746Z"
   },
   {
    "duration": 668,
    "start_time": "2025-02-23T19:28:06.426Z"
   },
   {
    "duration": 646,
    "start_time": "2025-02-23T19:28:11.566Z"
   },
   {
    "duration": 5,
    "start_time": "2025-02-23T19:31:10.826Z"
   },
   {
    "duration": 26,
    "start_time": "2025-02-23T19:31:11.170Z"
   },
   {
    "duration": 5,
    "start_time": "2025-02-23T19:31:59.697Z"
   },
   {
    "duration": 22,
    "start_time": "2025-02-23T19:31:59.842Z"
   },
   {
    "duration": 3,
    "start_time": "2025-02-23T19:33:01.151Z"
   },
   {
    "duration": 1150,
    "start_time": "2025-02-23T19:33:01.467Z"
   },
   {
    "duration": 3580,
    "start_time": "2025-02-23T19:34:27.044Z"
   },
   {
    "duration": 386,
    "start_time": "2025-02-23T19:34:30.626Z"
   },
   {
    "duration": 13,
    "start_time": "2025-02-23T19:34:31.014Z"
   },
   {
    "duration": 24,
    "start_time": "2025-02-23T19:34:31.029Z"
   },
   {
    "duration": 14,
    "start_time": "2025-02-23T19:34:31.054Z"
   },
   {
    "duration": 13,
    "start_time": "2025-02-23T19:34:31.070Z"
   },
   {
    "duration": 8,
    "start_time": "2025-02-23T19:34:31.085Z"
   },
   {
    "duration": 44,
    "start_time": "2025-02-23T19:34:31.094Z"
   },
   {
    "duration": 16,
    "start_time": "2025-02-23T19:34:31.140Z"
   },
   {
    "duration": 4,
    "start_time": "2025-02-23T19:34:31.158Z"
   },
   {
    "duration": 51,
    "start_time": "2025-02-23T19:34:31.164Z"
   },
   {
    "duration": 53,
    "start_time": "2025-02-23T19:34:31.217Z"
   },
   {
    "duration": 45,
    "start_time": "2025-02-23T19:34:31.272Z"
   },
   {
    "duration": 104,
    "start_time": "2025-02-23T19:34:31.318Z"
   },
   {
    "duration": 1163,
    "start_time": "2025-02-23T19:34:31.424Z"
   },
   {
    "duration": 7302,
    "start_time": "2025-02-23T19:34:32.589Z"
   },
   {
    "duration": 5,
    "start_time": "2025-02-23T19:34:39.893Z"
   },
   {
    "duration": 20,
    "start_time": "2025-02-23T19:34:39.901Z"
   },
   {
    "duration": 19,
    "start_time": "2025-02-23T19:34:39.923Z"
   },
   {
    "duration": 35,
    "start_time": "2025-02-23T19:34:39.943Z"
   },
   {
    "duration": 17,
    "start_time": "2025-02-23T19:34:39.979Z"
   },
   {
    "duration": 17,
    "start_time": "2025-02-23T19:34:39.998Z"
   },
   {
    "duration": 18,
    "start_time": "2025-02-23T19:34:40.016Z"
   },
   {
    "duration": 579,
    "start_time": "2025-02-23T19:34:40.036Z"
   },
   {
    "duration": 571,
    "start_time": "2025-02-23T19:34:40.617Z"
   },
   {
    "duration": 693,
    "start_time": "2025-02-23T19:34:41.189Z"
   },
   {
    "duration": 4,
    "start_time": "2025-02-23T19:34:41.884Z"
   },
   {
    "duration": 24,
    "start_time": "2025-02-23T19:34:41.891Z"
   },
   {
    "duration": 161,
    "start_time": "2025-02-23T19:34:41.916Z"
   },
   {
    "duration": 201,
    "start_time": "2025-02-23T19:34:42.080Z"
   },
   {
    "duration": 3,
    "start_time": "2025-02-23T19:34:42.283Z"
   },
   {
    "duration": 90,
    "start_time": "2025-02-23T19:34:42.288Z"
   },
   {
    "duration": 3,
    "start_time": "2025-02-23T19:34:42.471Z"
   },
   {
    "duration": 10,
    "start_time": "2025-02-23T19:34:42.475Z"
   },
   {
    "duration": 10,
    "start_time": "2025-02-23T19:34:42.486Z"
   },
   {
    "duration": 28,
    "start_time": "2025-02-23T19:34:42.497Z"
   },
   {
    "duration": 14,
    "start_time": "2025-02-23T19:34:42.527Z"
   },
   {
    "duration": 4,
    "start_time": "2025-02-23T19:34:42.543Z"
   },
   {
    "duration": 5,
    "start_time": "2025-02-23T19:34:42.548Z"
   },
   {
    "duration": 11,
    "start_time": "2025-02-23T19:34:42.554Z"
   },
   {
    "duration": 121,
    "start_time": "2025-02-23T19:34:42.566Z"
   },
   {
    "duration": 0,
    "start_time": "2025-02-23T19:34:42.688Z"
   },
   {
    "duration": 0,
    "start_time": "2025-02-23T19:34:42.689Z"
   },
   {
    "duration": 4,
    "start_time": "2025-02-23T19:34:52.828Z"
   },
   {
    "duration": 12,
    "start_time": "2025-02-23T19:34:53.436Z"
   },
   {
    "duration": 3,
    "start_time": "2025-02-23T19:35:56.469Z"
   },
   {
    "duration": 12,
    "start_time": "2025-02-23T19:35:56.969Z"
   },
   {
    "duration": 4,
    "start_time": "2025-02-23T19:36:11.248Z"
   },
   {
    "duration": 6,
    "start_time": "2025-02-23T19:36:11.800Z"
   },
   {
    "duration": 5,
    "start_time": "2025-02-23T19:36:13.505Z"
   },
   {
    "duration": 6,
    "start_time": "2025-02-23T19:36:14.548Z"
   },
   {
    "duration": 3,
    "start_time": "2025-02-23T19:36:48.549Z"
   },
   {
    "duration": 4,
    "start_time": "2025-02-23T19:36:49.225Z"
   },
   {
    "duration": 5,
    "start_time": "2025-02-23T19:36:50.144Z"
   },
   {
    "duration": 6,
    "start_time": "2025-02-23T19:36:50.724Z"
   },
   {
    "duration": 6,
    "start_time": "2025-02-23T19:38:02.337Z"
   },
   {
    "duration": 22,
    "start_time": "2025-02-23T19:38:03.085Z"
   },
   {
    "duration": 5,
    "start_time": "2025-02-23T19:39:06.037Z"
   },
   {
    "duration": 13,
    "start_time": "2025-02-23T19:39:06.501Z"
   },
   {
    "duration": 5,
    "start_time": "2025-02-23T19:40:18.152Z"
   },
   {
    "duration": 12,
    "start_time": "2025-02-23T19:40:19.785Z"
   },
   {
    "duration": 10,
    "start_time": "2025-02-23T19:40:35.621Z"
   },
   {
    "duration": 30,
    "start_time": "2025-02-23T19:40:36.974Z"
   },
   {
    "duration": 5,
    "start_time": "2025-02-23T19:40:44.173Z"
   },
   {
    "duration": 32,
    "start_time": "2025-02-23T19:40:45.429Z"
   },
   {
    "duration": 6,
    "start_time": "2025-02-23T19:40:56.006Z"
   },
   {
    "duration": 4,
    "start_time": "2025-02-23T19:44:18.493Z"
   },
   {
    "duration": 25,
    "start_time": "2025-02-23T19:44:21.074Z"
   },
   {
    "duration": 4,
    "start_time": "2025-02-23T19:44:33.814Z"
   },
   {
    "duration": 5,
    "start_time": "2025-02-23T19:44:35.262Z"
   },
   {
    "duration": 6,
    "start_time": "2025-02-23T19:44:36.633Z"
   },
   {
    "duration": 6,
    "start_time": "2025-02-23T19:44:37.566Z"
   },
   {
    "duration": 5,
    "start_time": "2025-02-23T19:44:39.773Z"
   },
   {
    "duration": 26,
    "start_time": "2025-02-23T19:44:40.949Z"
   },
   {
    "duration": 3,
    "start_time": "2025-02-23T19:45:16.458Z"
   },
   {
    "duration": 6,
    "start_time": "2025-02-23T19:45:16.818Z"
   },
   {
    "duration": 5,
    "start_time": "2025-02-23T19:45:17.729Z"
   },
   {
    "duration": 6,
    "start_time": "2025-02-23T19:45:18.294Z"
   },
   {
    "duration": 3,
    "start_time": "2025-02-23T19:46:29.930Z"
   },
   {
    "duration": 5,
    "start_time": "2025-02-23T19:46:30.770Z"
   },
   {
    "duration": 5,
    "start_time": "2025-02-23T19:46:32.142Z"
   },
   {
    "duration": 5,
    "start_time": "2025-02-23T19:46:33.018Z"
   },
   {
    "duration": 4,
    "start_time": "2025-02-23T19:46:45.666Z"
   },
   {
    "duration": 864,
    "start_time": "2025-02-23T19:46:46.334Z"
   },
   {
    "duration": 904,
    "start_time": "2025-02-23T19:46:59.206Z"
   },
   {
    "duration": 906,
    "start_time": "2025-02-23T19:47:08.054Z"
   },
   {
    "duration": 5,
    "start_time": "2025-02-23T19:49:41.754Z"
   },
   {
    "duration": 874,
    "start_time": "2025-02-23T19:49:42.098Z"
   },
   {
    "duration": 927,
    "start_time": "2025-02-23T19:49:45.002Z"
   },
   {
    "duration": 956,
    "start_time": "2025-02-23T19:49:46.922Z"
   },
   {
    "duration": 8,
    "start_time": "2025-02-23T19:49:54.034Z"
   },
   {
    "duration": 1014,
    "start_time": "2025-02-23T19:49:55.378Z"
   },
   {
    "duration": 1018,
    "start_time": "2025-02-23T19:49:56.394Z"
   },
   {
    "duration": 1099,
    "start_time": "2025-02-23T19:49:57.414Z"
   },
   {
    "duration": 5,
    "start_time": "2025-02-23T19:50:02.611Z"
   },
   {
    "duration": 3,
    "start_time": "2025-02-23T19:54:07.375Z"
   },
   {
    "duration": 8,
    "start_time": "2025-02-23T19:54:08.087Z"
   },
   {
    "duration": 12,
    "start_time": "2025-02-23T19:54:09.191Z"
   },
   {
    "duration": 12,
    "start_time": "2025-02-23T19:54:16.583Z"
   },
   {
    "duration": 8,
    "start_time": "2025-02-23T19:54:19.431Z"
   },
   {
    "duration": 3737,
    "start_time": "2025-02-23T19:54:23.974Z"
   },
   {
    "duration": 384,
    "start_time": "2025-02-23T19:54:27.713Z"
   },
   {
    "duration": 15,
    "start_time": "2025-02-23T19:54:28.098Z"
   },
   {
    "duration": 41,
    "start_time": "2025-02-23T19:54:28.115Z"
   },
   {
    "duration": 19,
    "start_time": "2025-02-23T19:54:28.158Z"
   },
   {
    "duration": 26,
    "start_time": "2025-02-23T19:54:28.178Z"
   },
   {
    "duration": 21,
    "start_time": "2025-02-23T19:54:28.205Z"
   },
   {
    "duration": 23,
    "start_time": "2025-02-23T19:54:28.227Z"
   },
   {
    "duration": 4,
    "start_time": "2025-02-23T19:54:28.251Z"
   },
   {
    "duration": 9,
    "start_time": "2025-02-23T19:54:28.257Z"
   },
   {
    "duration": 50,
    "start_time": "2025-02-23T19:54:28.268Z"
   },
   {
    "duration": 41,
    "start_time": "2025-02-23T19:54:28.320Z"
   },
   {
    "duration": 53,
    "start_time": "2025-02-23T19:54:28.363Z"
   },
   {
    "duration": 100,
    "start_time": "2025-02-23T19:54:28.417Z"
   },
   {
    "duration": 1171,
    "start_time": "2025-02-23T19:54:28.518Z"
   },
   {
    "duration": 7092,
    "start_time": "2025-02-23T19:54:29.691Z"
   },
   {
    "duration": 5,
    "start_time": "2025-02-23T19:54:36.784Z"
   },
   {
    "duration": 33,
    "start_time": "2025-02-23T19:54:36.790Z"
   },
   {
    "duration": 21,
    "start_time": "2025-02-23T19:54:36.825Z"
   },
   {
    "duration": 22,
    "start_time": "2025-02-23T19:54:36.847Z"
   },
   {
    "duration": 19,
    "start_time": "2025-02-23T19:54:36.871Z"
   },
   {
    "duration": 18,
    "start_time": "2025-02-23T19:54:36.892Z"
   },
   {
    "duration": 17,
    "start_time": "2025-02-23T19:54:36.912Z"
   },
   {
    "duration": 591,
    "start_time": "2025-02-23T19:54:36.931Z"
   },
   {
    "duration": 575,
    "start_time": "2025-02-23T19:54:37.524Z"
   },
   {
    "duration": 694,
    "start_time": "2025-02-23T19:54:38.101Z"
   },
   {
    "duration": 4,
    "start_time": "2025-02-23T19:54:38.796Z"
   },
   {
    "duration": 71,
    "start_time": "2025-02-23T19:54:38.803Z"
   },
   {
    "duration": 195,
    "start_time": "2025-02-23T19:54:38.878Z"
   },
   {
    "duration": 110,
    "start_time": "2025-02-23T19:54:39.076Z"
   },
   {
    "duration": 3,
    "start_time": "2025-02-23T19:54:39.189Z"
   },
   {
    "duration": 178,
    "start_time": "2025-02-23T19:54:39.194Z"
   },
   {
    "duration": 11,
    "start_time": "2025-02-23T19:54:39.373Z"
   },
   {
    "duration": 12,
    "start_time": "2025-02-23T19:54:39.386Z"
   },
   {
    "duration": 21,
    "start_time": "2025-02-23T19:54:39.400Z"
   },
   {
    "duration": 12,
    "start_time": "2025-02-23T19:54:39.423Z"
   },
   {
    "duration": 107,
    "start_time": "2025-02-23T19:54:39.437Z"
   },
   {
    "duration": 0,
    "start_time": "2025-02-23T19:54:39.545Z"
   },
   {
    "duration": 0,
    "start_time": "2025-02-23T19:54:39.546Z"
   },
   {
    "duration": 0,
    "start_time": "2025-02-23T19:54:39.548Z"
   },
   {
    "duration": 0,
    "start_time": "2025-02-23T19:54:39.548Z"
   },
   {
    "duration": 0,
    "start_time": "2025-02-23T19:54:39.549Z"
   },
   {
    "duration": 0,
    "start_time": "2025-02-23T19:54:39.550Z"
   },
   {
    "duration": 4,
    "start_time": "2025-02-23T19:54:57.486Z"
   },
   {
    "duration": 4,
    "start_time": "2025-02-23T19:55:22.722Z"
   },
   {
    "duration": 6,
    "start_time": "2025-02-23T19:55:23.110Z"
   },
   {
    "duration": 6,
    "start_time": "2025-02-23T19:55:23.642Z"
   },
   {
    "duration": 6,
    "start_time": "2025-02-23T19:55:24.310Z"
   },
   {
    "duration": 5,
    "start_time": "2025-02-23T19:55:30.132Z"
   },
   {
    "duration": 13,
    "start_time": "2025-02-23T19:55:30.666Z"
   },
   {
    "duration": 12,
    "start_time": "2025-02-23T19:55:33.994Z"
   },
   {
    "duration": 4,
    "start_time": "2025-02-23T19:56:22.490Z"
   },
   {
    "duration": 23,
    "start_time": "2025-02-23T19:56:23.916Z"
   },
   {
    "duration": 4,
    "start_time": "2025-02-23T19:56:29.587Z"
   },
   {
    "duration": 16,
    "start_time": "2025-02-23T19:56:49.559Z"
   },
   {
    "duration": 23,
    "start_time": "2025-02-23T19:57:46.279Z"
   },
   {
    "duration": 4782,
    "start_time": "2025-02-23T22:23:20.659Z"
   },
   {
    "duration": 374,
    "start_time": "2025-02-23T22:23:25.443Z"
   },
   {
    "duration": 12,
    "start_time": "2025-02-23T22:23:25.818Z"
   },
   {
    "duration": 13,
    "start_time": "2025-02-23T22:23:25.832Z"
   },
   {
    "duration": 13,
    "start_time": "2025-02-23T22:23:25.846Z"
   },
   {
    "duration": 13,
    "start_time": "2025-02-23T22:23:25.870Z"
   },
   {
    "duration": 8,
    "start_time": "2025-02-23T22:23:25.884Z"
   },
   {
    "duration": 16,
    "start_time": "2025-02-23T22:23:25.893Z"
   },
   {
    "duration": 3,
    "start_time": "2025-02-23T22:23:25.911Z"
   },
   {
    "duration": 6,
    "start_time": "2025-02-23T22:23:25.916Z"
   },
   {
    "duration": 71,
    "start_time": "2025-02-23T22:23:25.923Z"
   },
   {
    "duration": 48,
    "start_time": "2025-02-23T22:23:25.995Z"
   },
   {
    "duration": 64,
    "start_time": "2025-02-23T22:23:26.045Z"
   },
   {
    "duration": 91,
    "start_time": "2025-02-23T22:23:26.111Z"
   },
   {
    "duration": 1220,
    "start_time": "2025-02-23T22:23:26.204Z"
   },
   {
    "duration": 7177,
    "start_time": "2025-02-23T22:23:27.426Z"
   },
   {
    "duration": 5,
    "start_time": "2025-02-23T22:23:34.604Z"
   },
   {
    "duration": 35,
    "start_time": "2025-02-23T22:23:34.611Z"
   },
   {
    "duration": 26,
    "start_time": "2025-02-23T22:23:34.648Z"
   },
   {
    "duration": 24,
    "start_time": "2025-02-23T22:23:34.676Z"
   },
   {
    "duration": 17,
    "start_time": "2025-02-23T22:23:34.701Z"
   },
   {
    "duration": 19,
    "start_time": "2025-02-23T22:23:34.719Z"
   },
   {
    "duration": 36,
    "start_time": "2025-02-23T22:23:34.739Z"
   },
   {
    "duration": 610,
    "start_time": "2025-02-23T22:23:34.777Z"
   },
   {
    "duration": 598,
    "start_time": "2025-02-23T22:23:35.389Z"
   },
   {
    "duration": 706,
    "start_time": "2025-02-23T22:23:35.990Z"
   },
   {
    "duration": 4,
    "start_time": "2025-02-23T22:23:36.698Z"
   },
   {
    "duration": 64,
    "start_time": "2025-02-23T22:23:36.705Z"
   },
   {
    "duration": 113,
    "start_time": "2025-02-23T22:23:36.772Z"
   },
   {
    "duration": 191,
    "start_time": "2025-02-23T22:23:36.889Z"
   },
   {
    "duration": 4,
    "start_time": "2025-02-23T22:23:37.082Z"
   },
   {
    "duration": 88,
    "start_time": "2025-02-23T22:23:37.088Z"
   },
   {
    "duration": 100,
    "start_time": "2025-02-23T22:23:37.178Z"
   },
   {
    "duration": 16,
    "start_time": "2025-02-23T22:23:37.279Z"
   },
   {
    "duration": 7,
    "start_time": "2025-02-23T22:23:37.297Z"
   },
   {
    "duration": 8,
    "start_time": "2025-02-23T22:23:37.305Z"
   },
   {
    "duration": 16,
    "start_time": "2025-02-23T22:23:37.314Z"
   },
   {
    "duration": 5,
    "start_time": "2025-02-23T22:23:37.331Z"
   },
   {
    "duration": 9,
    "start_time": "2025-02-23T22:23:37.338Z"
   },
   {
    "duration": 6,
    "start_time": "2025-02-23T22:23:37.349Z"
   },
   {
    "duration": 32,
    "start_time": "2025-02-23T22:23:37.357Z"
   },
   {
    "duration": 122,
    "start_time": "2025-02-23T22:23:37.390Z"
   },
   {
    "duration": 0,
    "start_time": "2025-02-23T22:23:37.514Z"
   },
   {
    "duration": 0,
    "start_time": "2025-02-23T22:23:37.515Z"
   },
   {
    "duration": 0,
    "start_time": "2025-02-23T22:23:37.516Z"
   },
   {
    "duration": 5,
    "start_time": "2025-02-23T22:26:16.879Z"
   },
   {
    "duration": 984,
    "start_time": "2025-02-23T22:26:18.551Z"
   },
   {
    "duration": 5,
    "start_time": "2025-02-23T22:29:43.252Z"
   },
   {
    "duration": 21,
    "start_time": "2025-02-23T22:29:44.216Z"
   },
   {
    "duration": 3,
    "start_time": "2025-02-23T22:30:05.615Z"
   },
   {
    "duration": 11,
    "start_time": "2025-02-23T22:30:19.736Z"
   },
   {
    "duration": 3,
    "start_time": "2025-02-23T22:30:56.344Z"
   },
   {
    "duration": 5,
    "start_time": "2025-02-23T22:30:56.696Z"
   },
   {
    "duration": 5,
    "start_time": "2025-02-23T22:33:13.423Z"
   },
   {
    "duration": 13,
    "start_time": "2025-02-23T22:33:14.844Z"
   },
   {
    "duration": 5,
    "start_time": "2025-02-23T22:33:50.828Z"
   },
   {
    "duration": 23,
    "start_time": "2025-02-23T22:33:51.292Z"
   },
   {
    "duration": 3,
    "start_time": "2025-02-23T22:35:26.592Z"
   },
   {
    "duration": 5,
    "start_time": "2025-02-23T22:35:27.048Z"
   },
   {
    "duration": 6,
    "start_time": "2025-02-23T22:35:28.080Z"
   },
   {
    "duration": 6,
    "start_time": "2025-02-23T22:35:28.860Z"
   },
   {
    "duration": 4,
    "start_time": "2025-02-23T22:36:37.628Z"
   },
   {
    "duration": 5,
    "start_time": "2025-02-23T22:36:38.492Z"
   },
   {
    "duration": 5,
    "start_time": "2025-02-23T22:36:39.320Z"
   },
   {
    "duration": 5,
    "start_time": "2025-02-23T22:36:40.016Z"
   },
   {
    "duration": 4,
    "start_time": "2025-02-23T22:39:13.509Z"
   },
   {
    "duration": 4,
    "start_time": "2025-02-23T22:39:17.617Z"
   },
   {
    "duration": 3529,
    "start_time": "2025-02-23T22:39:22.408Z"
   },
   {
    "duration": 397,
    "start_time": "2025-02-23T22:39:25.939Z"
   },
   {
    "duration": 13,
    "start_time": "2025-02-23T22:39:26.337Z"
   },
   {
    "duration": 34,
    "start_time": "2025-02-23T22:39:26.352Z"
   },
   {
    "duration": 9,
    "start_time": "2025-02-23T22:39:26.388Z"
   },
   {
    "duration": 15,
    "start_time": "2025-02-23T22:39:26.399Z"
   },
   {
    "duration": 9,
    "start_time": "2025-02-23T22:39:26.416Z"
   },
   {
    "duration": 14,
    "start_time": "2025-02-23T22:39:26.427Z"
   },
   {
    "duration": 29,
    "start_time": "2025-02-23T22:39:26.443Z"
   },
   {
    "duration": 3,
    "start_time": "2025-02-23T22:39:26.476Z"
   },
   {
    "duration": 57,
    "start_time": "2025-02-23T22:39:26.481Z"
   },
   {
    "duration": 69,
    "start_time": "2025-02-23T22:39:26.540Z"
   },
   {
    "duration": 70,
    "start_time": "2025-02-23T22:39:26.611Z"
   },
   {
    "duration": 90,
    "start_time": "2025-02-23T22:39:26.682Z"
   },
   {
    "duration": 1199,
    "start_time": "2025-02-23T22:39:26.774Z"
   },
   {
    "duration": 7149,
    "start_time": "2025-02-23T22:39:27.974Z"
   },
   {
    "duration": 6,
    "start_time": "2025-02-23T22:39:35.124Z"
   },
   {
    "duration": 39,
    "start_time": "2025-02-23T22:39:35.131Z"
   },
   {
    "duration": 21,
    "start_time": "2025-02-23T22:39:35.172Z"
   },
   {
    "duration": 21,
    "start_time": "2025-02-23T22:39:35.194Z"
   },
   {
    "duration": 21,
    "start_time": "2025-02-23T22:39:35.217Z"
   },
   {
    "duration": 39,
    "start_time": "2025-02-23T22:39:35.239Z"
   },
   {
    "duration": 17,
    "start_time": "2025-02-23T22:39:35.280Z"
   },
   {
    "duration": 601,
    "start_time": "2025-02-23T22:39:35.299Z"
   },
   {
    "duration": 596,
    "start_time": "2025-02-23T22:39:35.901Z"
   },
   {
    "duration": 695,
    "start_time": "2025-02-23T22:39:36.499Z"
   },
   {
    "duration": 4,
    "start_time": "2025-02-23T22:39:37.196Z"
   },
   {
    "duration": 21,
    "start_time": "2025-02-23T22:39:37.203Z"
   },
   {
    "duration": 158,
    "start_time": "2025-02-23T22:39:37.226Z"
   },
   {
    "duration": 187,
    "start_time": "2025-02-23T22:39:37.386Z"
   },
   {
    "duration": 2,
    "start_time": "2025-02-23T22:39:37.577Z"
   },
   {
    "duration": 15,
    "start_time": "2025-02-23T22:39:37.671Z"
   },
   {
    "duration": 82,
    "start_time": "2025-02-23T22:39:37.688Z"
   },
   {
    "duration": 4,
    "start_time": "2025-02-23T22:39:37.772Z"
   },
   {
    "duration": 13,
    "start_time": "2025-02-23T22:39:37.778Z"
   },
   {
    "duration": 5,
    "start_time": "2025-02-23T22:39:37.793Z"
   },
   {
    "duration": 7,
    "start_time": "2025-02-23T22:39:37.799Z"
   },
   {
    "duration": 7,
    "start_time": "2025-02-23T22:39:37.808Z"
   },
   {
    "duration": 16,
    "start_time": "2025-02-23T22:39:37.816Z"
   },
   {
    "duration": 6,
    "start_time": "2025-02-23T22:39:37.834Z"
   },
   {
    "duration": 12,
    "start_time": "2025-02-23T22:39:37.841Z"
   },
   {
    "duration": 788,
    "start_time": "2025-02-23T22:39:37.855Z"
   },
   {
    "duration": 769,
    "start_time": "2025-02-23T22:39:38.645Z"
   },
   {
    "duration": 740,
    "start_time": "2025-02-23T22:39:39.416Z"
   },
   {
    "duration": 5,
    "start_time": "2025-02-23T22:39:56.995Z"
   },
   {
    "duration": 1379,
    "start_time": "2025-02-23T22:39:58.972Z"
   },
   {
    "duration": 1386,
    "start_time": "2025-02-23T22:40:06.816Z"
   },
   {
    "duration": 1354,
    "start_time": "2025-02-23T22:40:08.508Z"
   },
   {
    "duration": 8,
    "start_time": "2025-02-23T22:45:36.164Z"
   },
   {
    "duration": 111,
    "start_time": "2025-02-23T22:45:36.992Z"
   },
   {
    "duration": 3,
    "start_time": "2025-02-23T22:46:31.996Z"
   },
   {
    "duration": 3,
    "start_time": "2025-02-23T22:46:32.466Z"
   },
   {
    "duration": 4,
    "start_time": "2025-02-23T22:46:32.948Z"
   },
   {
    "duration": 4,
    "start_time": "2025-02-23T22:46:33.500Z"
   },
   {
    "duration": 4,
    "start_time": "2025-02-23T22:46:34.220Z"
   },
   {
    "duration": 4,
    "start_time": "2025-02-23T22:46:36.264Z"
   },
   {
    "duration": 5,
    "start_time": "2025-02-23T22:46:38.341Z"
   },
   {
    "duration": 5,
    "start_time": "2025-02-23T22:46:39.144Z"
   },
   {
    "duration": 5,
    "start_time": "2025-02-23T22:46:42.488Z"
   },
   {
    "duration": 4,
    "start_time": "2025-02-23T22:46:48.152Z"
   },
   {
    "duration": 5,
    "start_time": "2025-02-23T22:46:48.968Z"
   },
   {
    "duration": 5,
    "start_time": "2025-02-23T22:46:49.840Z"
   },
   {
    "duration": 7,
    "start_time": "2025-02-23T22:46:50.483Z"
   },
   {
    "duration": 5,
    "start_time": "2025-02-23T22:46:52.964Z"
   },
   {
    "duration": 1338,
    "start_time": "2025-02-23T22:46:54.912Z"
   },
   {
    "duration": 7,
    "start_time": "2025-02-23T22:47:17.396Z"
   },
   {
    "duration": 14,
    "start_time": "2025-02-23T22:47:19.608Z"
   },
   {
    "duration": 7,
    "start_time": "2025-02-23T22:47:53.175Z"
   },
   {
    "duration": 1665,
    "start_time": "2025-02-23T22:47:54.464Z"
   },
   {
    "duration": 1691,
    "start_time": "2025-02-23T22:48:12.353Z"
   },
   {
    "duration": 1677,
    "start_time": "2025-02-23T22:48:14.045Z"
   },
   {
    "duration": 8,
    "start_time": "2025-02-23T22:50:46.604Z"
   },
   {
    "duration": 1639,
    "start_time": "2025-02-23T22:50:49.508Z"
   },
   {
    "duration": 1696,
    "start_time": "2025-02-23T22:50:57.412Z"
   },
   {
    "duration": 1650,
    "start_time": "2025-02-23T22:51:05.073Z"
   },
   {
    "duration": 15,
    "start_time": "2025-02-23T22:51:56.200Z"
   },
   {
    "duration": 1620,
    "start_time": "2025-02-23T22:51:56.620Z"
   },
   {
    "duration": 1628,
    "start_time": "2025-02-23T22:52:06.867Z"
   },
   {
    "duration": 1643,
    "start_time": "2025-02-23T22:52:16.492Z"
   },
   {
    "duration": 529,
    "start_time": "2025-02-23T23:19:13.789Z"
   },
   {
    "duration": 286,
    "start_time": "2025-02-23T23:19:17.097Z"
   },
   {
    "duration": 7,
    "start_time": "2025-02-23T23:19:22.633Z"
   },
   {
    "duration": 3,
    "start_time": "2025-02-23T23:19:32.894Z"
   },
   {
    "duration": 8587,
    "start_time": "2025-02-23T23:19:33.497Z"
   },
   {
    "duration": 5,
    "start_time": "2025-02-23T23:19:42.085Z"
   },
   {
    "duration": 3500,
    "start_time": "2025-02-23T23:25:16.011Z"
   },
   {
    "duration": 375,
    "start_time": "2025-02-23T23:25:19.513Z"
   },
   {
    "duration": 13,
    "start_time": "2025-02-23T23:25:19.889Z"
   },
   {
    "duration": 14,
    "start_time": "2025-02-23T23:25:19.903Z"
   },
   {
    "duration": 8,
    "start_time": "2025-02-23T23:25:19.918Z"
   },
   {
    "duration": 12,
    "start_time": "2025-02-23T23:25:19.928Z"
   },
   {
    "duration": 32,
    "start_time": "2025-02-23T23:25:19.942Z"
   },
   {
    "duration": 13,
    "start_time": "2025-02-23T23:25:19.976Z"
   },
   {
    "duration": 4,
    "start_time": "2025-02-23T23:25:19.990Z"
   },
   {
    "duration": 27,
    "start_time": "2025-02-23T23:25:19.996Z"
   },
   {
    "duration": 85,
    "start_time": "2025-02-23T23:25:20.025Z"
   },
   {
    "duration": 42,
    "start_time": "2025-02-23T23:25:20.112Z"
   },
   {
    "duration": 44,
    "start_time": "2025-02-23T23:25:20.169Z"
   },
   {
    "duration": 93,
    "start_time": "2025-02-23T23:25:20.214Z"
   },
   {
    "duration": 1158,
    "start_time": "2025-02-23T23:25:20.308Z"
   },
   {
    "duration": 7141,
    "start_time": "2025-02-23T23:25:21.470Z"
   },
   {
    "duration": 5,
    "start_time": "2025-02-23T23:25:28.612Z"
   },
   {
    "duration": 33,
    "start_time": "2025-02-23T23:25:28.618Z"
   },
   {
    "duration": 23,
    "start_time": "2025-02-23T23:25:28.653Z"
   },
   {
    "duration": 29,
    "start_time": "2025-02-23T23:25:28.678Z"
   },
   {
    "duration": 20,
    "start_time": "2025-02-23T23:25:28.708Z"
   },
   {
    "duration": 43,
    "start_time": "2025-02-23T23:25:28.730Z"
   },
   {
    "duration": 17,
    "start_time": "2025-02-23T23:25:28.775Z"
   },
   {
    "duration": 594,
    "start_time": "2025-02-23T23:25:28.793Z"
   },
   {
    "duration": 595,
    "start_time": "2025-02-23T23:25:29.389Z"
   },
   {
    "duration": 703,
    "start_time": "2025-02-23T23:25:29.985Z"
   },
   {
    "duration": 5,
    "start_time": "2025-02-23T23:25:30.689Z"
   },
   {
    "duration": 49,
    "start_time": "2025-02-23T23:25:30.697Z"
   },
   {
    "duration": 127,
    "start_time": "2025-02-23T23:25:30.771Z"
   },
   {
    "duration": 109,
    "start_time": "2025-02-23T23:25:30.976Z"
   },
   {
    "duration": 99,
    "start_time": "2025-02-23T23:25:31.172Z"
   },
   {
    "duration": 23,
    "start_time": "2025-02-23T23:25:31.272Z"
   },
   {
    "duration": 22,
    "start_time": "2025-02-23T23:25:31.296Z"
   },
   {
    "duration": 14,
    "start_time": "2025-02-23T23:25:31.319Z"
   },
   {
    "duration": 22,
    "start_time": "2025-02-23T23:25:31.334Z"
   },
   {
    "duration": 4,
    "start_time": "2025-02-23T23:25:31.357Z"
   },
   {
    "duration": 9,
    "start_time": "2025-02-23T23:25:31.362Z"
   },
   {
    "duration": 15,
    "start_time": "2025-02-23T23:25:31.373Z"
   },
   {
    "duration": 31,
    "start_time": "2025-02-23T23:25:31.390Z"
   },
   {
    "duration": 47,
    "start_time": "2025-02-23T23:25:31.423Z"
   },
   {
    "duration": 130,
    "start_time": "2025-02-23T23:25:31.472Z"
   },
   {
    "duration": 0,
    "start_time": "2025-02-23T23:25:31.604Z"
   },
   {
    "duration": 0,
    "start_time": "2025-02-23T23:25:31.605Z"
   },
   {
    "duration": 0,
    "start_time": "2025-02-23T23:25:31.606Z"
   },
   {
    "duration": 5,
    "start_time": "2025-02-23T23:26:49.127Z"
   },
   {
    "duration": 18,
    "start_time": "2025-02-23T23:26:49.527Z"
   },
   {
    "duration": 5,
    "start_time": "2025-02-23T23:27:33.599Z"
   },
   {
    "duration": 16,
    "start_time": "2025-02-23T23:27:33.991Z"
   },
   {
    "duration": 5,
    "start_time": "2025-02-23T23:28:08.387Z"
   },
   {
    "duration": 17,
    "start_time": "2025-02-23T23:28:08.839Z"
   },
   {
    "duration": 5,
    "start_time": "2025-02-23T23:28:23.572Z"
   },
   {
    "duration": 17,
    "start_time": "2025-02-23T23:28:24.043Z"
   },
   {
    "duration": 6,
    "start_time": "2025-02-23T23:29:45.175Z"
   },
   {
    "duration": 958,
    "start_time": "2025-02-23T23:29:47.131Z"
   },
   {
    "duration": 925,
    "start_time": "2025-02-23T23:30:03.207Z"
   },
   {
    "duration": 939,
    "start_time": "2025-02-23T23:30:04.134Z"
   },
   {
    "duration": 10,
    "start_time": "2025-02-23T23:30:10.671Z"
   },
   {
    "duration": 3633,
    "start_time": "2025-02-23T23:31:23.261Z"
   },
   {
    "duration": 380,
    "start_time": "2025-02-23T23:31:26.896Z"
   },
   {
    "duration": 13,
    "start_time": "2025-02-23T23:31:27.277Z"
   },
   {
    "duration": 15,
    "start_time": "2025-02-23T23:31:27.292Z"
   },
   {
    "duration": 10,
    "start_time": "2025-02-23T23:31:27.309Z"
   },
   {
    "duration": 17,
    "start_time": "2025-02-23T23:31:27.320Z"
   },
   {
    "duration": 38,
    "start_time": "2025-02-23T23:31:27.338Z"
   },
   {
    "duration": 24,
    "start_time": "2025-02-23T23:31:27.378Z"
   },
   {
    "duration": 4,
    "start_time": "2025-02-23T23:31:27.404Z"
   },
   {
    "duration": 4,
    "start_time": "2025-02-23T23:31:27.412Z"
   },
   {
    "duration": 62,
    "start_time": "2025-02-23T23:31:27.417Z"
   },
   {
    "duration": 44,
    "start_time": "2025-02-23T23:31:27.481Z"
   },
   {
    "duration": 75,
    "start_time": "2025-02-23T23:31:27.528Z"
   },
   {
    "duration": 97,
    "start_time": "2025-02-23T23:31:27.604Z"
   },
   {
    "duration": 1182,
    "start_time": "2025-02-23T23:31:27.703Z"
   },
   {
    "duration": 7004,
    "start_time": "2025-02-23T23:31:28.887Z"
   },
   {
    "duration": 5,
    "start_time": "2025-02-23T23:31:35.892Z"
   },
   {
    "duration": 41,
    "start_time": "2025-02-23T23:31:35.899Z"
   },
   {
    "duration": 36,
    "start_time": "2025-02-23T23:31:35.941Z"
   },
   {
    "duration": 20,
    "start_time": "2025-02-23T23:31:35.979Z"
   },
   {
    "duration": 24,
    "start_time": "2025-02-23T23:31:36.000Z"
   },
   {
    "duration": 48,
    "start_time": "2025-02-23T23:31:36.026Z"
   },
   {
    "duration": 15,
    "start_time": "2025-02-23T23:31:36.075Z"
   },
   {
    "duration": 601,
    "start_time": "2025-02-23T23:31:36.092Z"
   },
   {
    "duration": 587,
    "start_time": "2025-02-23T23:31:36.694Z"
   },
   {
    "duration": 699,
    "start_time": "2025-02-23T23:31:37.282Z"
   },
   {
    "duration": 4,
    "start_time": "2025-02-23T23:31:37.982Z"
   },
   {
    "duration": 24,
    "start_time": "2025-02-23T23:31:37.989Z"
   },
   {
    "duration": 111,
    "start_time": "2025-02-23T23:31:38.075Z"
   },
   {
    "duration": 188,
    "start_time": "2025-02-23T23:31:38.188Z"
   },
   {
    "duration": 3,
    "start_time": "2025-02-23T23:31:38.379Z"
   },
   {
    "duration": 188,
    "start_time": "2025-02-23T23:31:38.384Z"
   },
   {
    "duration": 10,
    "start_time": "2025-02-23T23:31:38.574Z"
   },
   {
    "duration": 5,
    "start_time": "2025-02-23T23:31:38.586Z"
   },
   {
    "duration": 6,
    "start_time": "2025-02-23T23:31:38.592Z"
   },
   {
    "duration": 14,
    "start_time": "2025-02-23T23:31:38.600Z"
   },
   {
    "duration": 44,
    "start_time": "2025-02-23T23:31:38.615Z"
   },
   {
    "duration": 9,
    "start_time": "2025-02-23T23:31:38.662Z"
   },
   {
    "duration": 14,
    "start_time": "2025-02-23T23:31:38.673Z"
   },
   {
    "duration": 10,
    "start_time": "2025-02-23T23:31:38.688Z"
   },
   {
    "duration": 882,
    "start_time": "2025-02-23T23:31:38.700Z"
   },
   {
    "duration": 866,
    "start_time": "2025-02-23T23:31:39.583Z"
   },
   {
    "duration": 949,
    "start_time": "2025-02-23T23:31:40.450Z"
   },
   {
    "duration": 107,
    "start_time": "2025-02-23T23:31:41.401Z"
   },
   {
    "duration": 4034,
    "start_time": "2025-02-23T23:48:11.328Z"
   },
   {
    "duration": 375,
    "start_time": "2025-02-23T23:48:15.364Z"
   },
   {
    "duration": 12,
    "start_time": "2025-02-23T23:48:15.741Z"
   },
   {
    "duration": 18,
    "start_time": "2025-02-23T23:48:15.755Z"
   },
   {
    "duration": 7,
    "start_time": "2025-02-23T23:48:15.775Z"
   },
   {
    "duration": 18,
    "start_time": "2025-02-23T23:48:15.784Z"
   },
   {
    "duration": 7,
    "start_time": "2025-02-23T23:48:15.804Z"
   },
   {
    "duration": 14,
    "start_time": "2025-02-23T23:48:15.813Z"
   },
   {
    "duration": 3,
    "start_time": "2025-02-23T23:48:15.828Z"
   },
   {
    "duration": 4,
    "start_time": "2025-02-23T23:48:15.833Z"
   },
   {
    "duration": 72,
    "start_time": "2025-02-23T23:48:15.838Z"
   },
   {
    "duration": 43,
    "start_time": "2025-02-23T23:48:15.911Z"
   },
   {
    "duration": 57,
    "start_time": "2025-02-23T23:48:15.956Z"
   },
   {
    "duration": 95,
    "start_time": "2025-02-23T23:48:16.014Z"
   },
   {
    "duration": 1171,
    "start_time": "2025-02-23T23:48:16.110Z"
   },
   {
    "duration": 7105,
    "start_time": "2025-02-23T23:48:17.282Z"
   },
   {
    "duration": 4,
    "start_time": "2025-02-23T23:48:24.388Z"
   },
   {
    "duration": 20,
    "start_time": "2025-02-23T23:48:24.394Z"
   },
   {
    "duration": 19,
    "start_time": "2025-02-23T23:48:24.416Z"
   },
   {
    "duration": 21,
    "start_time": "2025-02-23T23:48:24.437Z"
   },
   {
    "duration": 24,
    "start_time": "2025-02-23T23:48:24.459Z"
   },
   {
    "duration": 18,
    "start_time": "2025-02-23T23:48:24.484Z"
   },
   {
    "duration": 16,
    "start_time": "2025-02-23T23:48:24.503Z"
   },
   {
    "duration": 582,
    "start_time": "2025-02-23T23:48:24.520Z"
   },
   {
    "duration": 582,
    "start_time": "2025-02-23T23:48:25.104Z"
   },
   {
    "duration": 688,
    "start_time": "2025-02-23T23:48:25.687Z"
   },
   {
    "duration": 4,
    "start_time": "2025-02-23T23:48:26.377Z"
   },
   {
    "duration": 89,
    "start_time": "2025-02-23T23:48:26.384Z"
   },
   {
    "duration": 111,
    "start_time": "2025-02-23T23:48:26.478Z"
   },
   {
    "duration": 109,
    "start_time": "2025-02-23T23:48:26.672Z"
   },
   {
    "duration": 6,
    "start_time": "2025-02-23T23:48:26.871Z"
   },
   {
    "duration": 93,
    "start_time": "2025-02-23T23:48:26.880Z"
   },
   {
    "duration": 4,
    "start_time": "2025-02-23T23:48:26.975Z"
   },
   {
    "duration": 4,
    "start_time": "2025-02-23T23:48:26.981Z"
   },
   {
    "duration": 4,
    "start_time": "2025-02-23T23:48:26.986Z"
   },
   {
    "duration": 10,
    "start_time": "2025-02-23T23:48:26.991Z"
   },
   {
    "duration": 21,
    "start_time": "2025-02-23T23:48:27.002Z"
   },
   {
    "duration": 18,
    "start_time": "2025-02-23T23:48:27.024Z"
   },
   {
    "duration": 10,
    "start_time": "2025-02-23T23:48:27.043Z"
   },
   {
    "duration": 7,
    "start_time": "2025-02-23T23:48:27.054Z"
   },
   {
    "duration": 924,
    "start_time": "2025-02-23T23:48:27.063Z"
   },
   {
    "duration": 869,
    "start_time": "2025-02-23T23:48:27.988Z"
   },
   {
    "duration": 859,
    "start_time": "2025-02-23T23:48:28.858Z"
   },
   {
    "duration": 6431,
    "start_time": "2025-02-24T10:02:30.063Z"
   },
   {
    "duration": 611,
    "start_time": "2025-02-24T10:02:36.499Z"
   },
   {
    "duration": 14,
    "start_time": "2025-02-24T10:02:37.111Z"
   },
   {
    "duration": 17,
    "start_time": "2025-02-24T10:02:37.127Z"
   },
   {
    "duration": 9,
    "start_time": "2025-02-24T10:02:37.147Z"
   },
   {
    "duration": 54,
    "start_time": "2025-02-24T10:02:37.158Z"
   },
   {
    "duration": 24,
    "start_time": "2025-02-24T10:02:37.213Z"
   },
   {
    "duration": 20,
    "start_time": "2025-02-24T10:02:37.239Z"
   },
   {
    "duration": 42,
    "start_time": "2025-02-24T10:02:37.261Z"
   },
   {
    "duration": 7,
    "start_time": "2025-02-24T10:02:37.305Z"
   },
   {
    "duration": 93,
    "start_time": "2025-02-24T10:02:37.314Z"
   },
   {
    "duration": 47,
    "start_time": "2025-02-24T10:02:37.408Z"
   },
   {
    "duration": 81,
    "start_time": "2025-02-24T10:02:37.456Z"
   },
   {
    "duration": 106,
    "start_time": "2025-02-24T10:02:37.541Z"
   },
   {
    "duration": 1452,
    "start_time": "2025-02-24T10:02:37.649Z"
   },
   {
    "duration": 8319,
    "start_time": "2025-02-24T10:02:39.104Z"
   },
   {
    "duration": 5,
    "start_time": "2025-02-24T10:02:47.425Z"
   },
   {
    "duration": 26,
    "start_time": "2025-02-24T10:02:47.432Z"
   },
   {
    "duration": 30,
    "start_time": "2025-02-24T10:02:47.459Z"
   },
   {
    "duration": 22,
    "start_time": "2025-02-24T10:02:47.491Z"
   },
   {
    "duration": 19,
    "start_time": "2025-02-24T10:02:47.515Z"
   },
   {
    "duration": 46,
    "start_time": "2025-02-24T10:02:47.535Z"
   },
   {
    "duration": 29,
    "start_time": "2025-02-24T10:02:47.582Z"
   },
   {
    "duration": 725,
    "start_time": "2025-02-24T10:02:47.614Z"
   },
   {
    "duration": 713,
    "start_time": "2025-02-24T10:02:48.341Z"
   },
   {
    "duration": 897,
    "start_time": "2025-02-24T10:02:49.056Z"
   },
   {
    "duration": 4,
    "start_time": "2025-02-24T10:02:49.955Z"
   },
   {
    "duration": 114,
    "start_time": "2025-02-24T10:02:49.961Z"
   },
   {
    "duration": 115,
    "start_time": "2025-02-24T10:02:50.077Z"
   },
   {
    "duration": 107,
    "start_time": "2025-02-24T10:02:50.274Z"
   },
   {
    "duration": 86,
    "start_time": "2025-02-24T10:02:50.388Z"
   },
   {
    "duration": 10,
    "start_time": "2025-02-24T10:02:50.476Z"
   },
   {
    "duration": 7,
    "start_time": "2025-02-24T10:02:50.495Z"
   },
   {
    "duration": 4,
    "start_time": "2025-02-24T10:02:50.504Z"
   },
   {
    "duration": 4,
    "start_time": "2025-02-24T10:02:50.510Z"
   },
   {
    "duration": 4,
    "start_time": "2025-02-24T10:02:50.515Z"
   },
   {
    "duration": 7,
    "start_time": "2025-02-24T10:02:50.520Z"
   },
   {
    "duration": 9,
    "start_time": "2025-02-24T10:02:50.528Z"
   },
   {
    "duration": 5,
    "start_time": "2025-02-24T10:02:50.539Z"
   },
   {
    "duration": 14,
    "start_time": "2025-02-24T10:02:50.579Z"
   },
   {
    "duration": 1111,
    "start_time": "2025-02-24T10:02:50.599Z"
   },
   {
    "duration": 1082,
    "start_time": "2025-02-24T10:02:51.712Z"
   },
   {
    "duration": 1113,
    "start_time": "2025-02-24T10:02:52.795Z"
   }
  ],
  "kernelspec": {
   "display_name": "Python 3 (ipykernel)",
   "language": "python",
   "name": "python3"
  },
  "language_info": {
   "codemirror_mode": {
    "name": "ipython",
    "version": 3
   },
   "file_extension": ".py",
   "mimetype": "text/x-python",
   "name": "python",
   "nbconvert_exporter": "python",
   "pygments_lexer": "ipython3",
   "version": "3.9.5"
  },
  "toc": {
   "base_numbering": 1,
   "nav_menu": {},
   "number_sections": true,
   "sideBar": true,
   "skip_h1_title": true,
   "title_cell": "Table of Contents",
   "title_sidebar": "Contents",
   "toc_cell": false,
   "toc_position": {
    "height": "calc(100% - 180px)",
    "left": "10px",
    "top": "150px",
    "width": "490.139px"
   },
   "toc_section_display": true,
   "toc_window_display": true
  }
 },
 "nbformat": 4,
 "nbformat_minor": 4
}
