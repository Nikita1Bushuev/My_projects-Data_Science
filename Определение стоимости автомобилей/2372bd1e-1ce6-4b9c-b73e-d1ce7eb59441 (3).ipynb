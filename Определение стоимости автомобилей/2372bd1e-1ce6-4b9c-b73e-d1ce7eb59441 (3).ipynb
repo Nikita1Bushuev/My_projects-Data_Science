{
 "cells": [
  {
   "cell_type": "markdown",
   "metadata": {},
   "source": [
    "# Определение стоимости автомобилей"
   ]
  },
  {
   "cell_type": "markdown",
   "metadata": {},
   "source": [
    "Сервис по продаже автомобилей с пробегом «Не бит, не крашен» разрабатывает приложение для привлечения новых клиентов. В нём можно быстро узнать рыночную стоимость своего автомобиля. В вашем распоряжении исторические данные: технические характеристики, комплектации и цены автомобилей. Вам нужно построить модель для определения стоимости. \n",
    "\n",
    "Заказчику важны:\n",
    "\n",
    "- качество предсказания;\n",
    "- скорость предсказания;\n",
    "- время обучения.\n",
    "\n",
    "\n",
    "**Основные этапы  выполнения задачи:**\n",
    "\n",
    "- Загрузить и подготовьте данные;\n",
    "- Подготовить выборки для обучения моделей;\n",
    "- Обучить разные модели, одна из которых — LightGBM, как минимум одна — не бустинг.;\n",
    "- Проанализировать время обучения, время предсказания и качество моделей;\n",
    "- Опираясь на критерии заказчика, выбрать лучшую модель, проверить её качество на тестовой выборке.\n",
    "\n",
    "Для оценки качества моделей использовать метрику RMSE.\n",
    "Значение метрики RMSE должно быть меньше 2500.\n",
    "\n",
    "**Описание данных**\n",
    "\n",
    "\n",
    "Данные находятся в файле /datasets/autos.csv. \n",
    "\n",
    "\n",
    "Признаки:\n",
    "- DateCrawled — дата скачивания анкеты из базы;\n",
    "- VehicleType — тип автомобильного кузова;\n",
    "- RegistrationYear — год регистрации автомобиля;\n",
    "- Gearbox — тип коробки передач;\n",
    "- Power — мощность (л. с.);\n",
    "- Model — модель автомобиля;\n",
    "- Kilometer — пробег (км);\n",
    "- RegistrationMonth — месяц регистрации автомобиля;\n",
    "- FuelType — тип топлива;\n",
    "- Brand — марка автомобиля;\n",
    "- Repaired — была машина в ремонте или нет;\n",
    "- DateCreated — дата создания анкеты;\n",
    "- NumberOfPictures — количество фотографий автомобиля;\n",
    "- PostalCode — почтовый индекс владельца анкеты (пользователя);\n",
    "- LastSeen — дата последней активности пользователя.\n",
    "\n",
    "\n",
    "Целевой признак: Price — цена (евро)"
   ]
  },
  {
   "cell_type": "code",
   "execution_count": 1,
   "metadata": {},
   "outputs": [],
   "source": [
    "!pip install phik -q\n",
    "!pip install --upgrade scikit-learn -q\n",
    "!pip install category-encoders -q\n",
    "\n",
    "import pandas as pd\n",
    "import numpy as np\n",
    "import seaborn as sns\n",
    "import matplotlib.pyplot as plt\n",
    "import math\n",
    "import phik\n",
    "import lightgbm as lgb\n",
    "import time\n",
    "\n",
    "from sklearn.model_selection import train_test_split, cross_val_score, RandomizedSearchCV, KFold\n",
    "from sklearn.metrics import mean_squared_error\n",
    "from catboost import CatBoostRegressor\n",
    "from sklearn.linear_model import LinearRegression\n",
    "from sklearn.ensemble import RandomForestRegressor\n",
    "from sklearn.preprocessing import LabelEncoder\n",
    "from sklearn.compose import ColumnTransformer\n",
    "from sklearn.preprocessing import OneHotEncoder, OrdinalEncoder, StandardScaler\n",
    "from category_encoders import TargetEncoder \n",
    "from sklearn.pipeline import Pipeline\n",
    "from lightgbm import LGBMRegressor\n",
    "from sklearn.metrics import make_scorer\n",
    "from scipy.stats import randint, uniform\n",
    "from sklearn.model_selection import cross_validate\n",
    "\n",
    "RANDOM = 42"
   ]
  },
  {
   "cell_type": "markdown",
   "metadata": {},
   "source": [
    "## Подготовка данных"
   ]
  },
  {
   "cell_type": "markdown",
   "metadata": {},
   "source": [
    "### Считаем CSV-файлы с данными с помощью библиотеки pandas и сохраним его в датафрейм"
   ]
  },
  {
   "cell_type": "code",
   "execution_count": 2,
   "metadata": {},
   "outputs": [],
   "source": [
    "autos = pd.read_csv('/datasets/autos.csv')"
   ]
  },
  {
   "cell_type": "markdown",
   "metadata": {},
   "source": [
    "### Изучим информацию о датафреймах"
   ]
  },
  {
   "cell_type": "code",
   "execution_count": 3,
   "metadata": {},
   "outputs": [
    {
     "data": {
      "text/html": [
       "<div>\n",
       "<style scoped>\n",
       "    .dataframe tbody tr th:only-of-type {\n",
       "        vertical-align: middle;\n",
       "    }\n",
       "\n",
       "    .dataframe tbody tr th {\n",
       "        vertical-align: top;\n",
       "    }\n",
       "\n",
       "    .dataframe thead th {\n",
       "        text-align: right;\n",
       "    }\n",
       "</style>\n",
       "<table border=\"1\" class=\"dataframe\">\n",
       "  <thead>\n",
       "    <tr style=\"text-align: right;\">\n",
       "      <th></th>\n",
       "      <th>DateCrawled</th>\n",
       "      <th>Price</th>\n",
       "      <th>VehicleType</th>\n",
       "      <th>RegistrationYear</th>\n",
       "      <th>Gearbox</th>\n",
       "      <th>Power</th>\n",
       "      <th>Model</th>\n",
       "      <th>Kilometer</th>\n",
       "      <th>RegistrationMonth</th>\n",
       "      <th>FuelType</th>\n",
       "      <th>Brand</th>\n",
       "      <th>Repaired</th>\n",
       "      <th>DateCreated</th>\n",
       "      <th>NumberOfPictures</th>\n",
       "      <th>PostalCode</th>\n",
       "      <th>LastSeen</th>\n",
       "    </tr>\n",
       "  </thead>\n",
       "  <tbody>\n",
       "    <tr>\n",
       "      <th>0</th>\n",
       "      <td>2016-03-24 11:52:17</td>\n",
       "      <td>480</td>\n",
       "      <td>NaN</td>\n",
       "      <td>1993</td>\n",
       "      <td>manual</td>\n",
       "      <td>0</td>\n",
       "      <td>golf</td>\n",
       "      <td>150000</td>\n",
       "      <td>0</td>\n",
       "      <td>petrol</td>\n",
       "      <td>volkswagen</td>\n",
       "      <td>NaN</td>\n",
       "      <td>2016-03-24 00:00:00</td>\n",
       "      <td>0</td>\n",
       "      <td>70435</td>\n",
       "      <td>2016-04-07 03:16:57</td>\n",
       "    </tr>\n",
       "    <tr>\n",
       "      <th>1</th>\n",
       "      <td>2016-03-24 10:58:45</td>\n",
       "      <td>18300</td>\n",
       "      <td>coupe</td>\n",
       "      <td>2011</td>\n",
       "      <td>manual</td>\n",
       "      <td>190</td>\n",
       "      <td>NaN</td>\n",
       "      <td>125000</td>\n",
       "      <td>5</td>\n",
       "      <td>gasoline</td>\n",
       "      <td>audi</td>\n",
       "      <td>yes</td>\n",
       "      <td>2016-03-24 00:00:00</td>\n",
       "      <td>0</td>\n",
       "      <td>66954</td>\n",
       "      <td>2016-04-07 01:46:50</td>\n",
       "    </tr>\n",
       "    <tr>\n",
       "      <th>2</th>\n",
       "      <td>2016-03-14 12:52:21</td>\n",
       "      <td>9800</td>\n",
       "      <td>suv</td>\n",
       "      <td>2004</td>\n",
       "      <td>auto</td>\n",
       "      <td>163</td>\n",
       "      <td>grand</td>\n",
       "      <td>125000</td>\n",
       "      <td>8</td>\n",
       "      <td>gasoline</td>\n",
       "      <td>jeep</td>\n",
       "      <td>NaN</td>\n",
       "      <td>2016-03-14 00:00:00</td>\n",
       "      <td>0</td>\n",
       "      <td>90480</td>\n",
       "      <td>2016-04-05 12:47:46</td>\n",
       "    </tr>\n",
       "    <tr>\n",
       "      <th>3</th>\n",
       "      <td>2016-03-17 16:54:04</td>\n",
       "      <td>1500</td>\n",
       "      <td>small</td>\n",
       "      <td>2001</td>\n",
       "      <td>manual</td>\n",
       "      <td>75</td>\n",
       "      <td>golf</td>\n",
       "      <td>150000</td>\n",
       "      <td>6</td>\n",
       "      <td>petrol</td>\n",
       "      <td>volkswagen</td>\n",
       "      <td>no</td>\n",
       "      <td>2016-03-17 00:00:00</td>\n",
       "      <td>0</td>\n",
       "      <td>91074</td>\n",
       "      <td>2016-03-17 17:40:17</td>\n",
       "    </tr>\n",
       "    <tr>\n",
       "      <th>4</th>\n",
       "      <td>2016-03-31 17:25:20</td>\n",
       "      <td>3600</td>\n",
       "      <td>small</td>\n",
       "      <td>2008</td>\n",
       "      <td>manual</td>\n",
       "      <td>69</td>\n",
       "      <td>fabia</td>\n",
       "      <td>90000</td>\n",
       "      <td>7</td>\n",
       "      <td>gasoline</td>\n",
       "      <td>skoda</td>\n",
       "      <td>no</td>\n",
       "      <td>2016-03-31 00:00:00</td>\n",
       "      <td>0</td>\n",
       "      <td>60437</td>\n",
       "      <td>2016-04-06 10:17:21</td>\n",
       "    </tr>\n",
       "  </tbody>\n",
       "</table>\n",
       "</div>"
      ],
      "text/plain": [
       "           DateCrawled  Price VehicleType  RegistrationYear Gearbox  Power  \\\n",
       "0  2016-03-24 11:52:17    480         NaN              1993  manual      0   \n",
       "1  2016-03-24 10:58:45  18300       coupe              2011  manual    190   \n",
       "2  2016-03-14 12:52:21   9800         suv              2004    auto    163   \n",
       "3  2016-03-17 16:54:04   1500       small              2001  manual     75   \n",
       "4  2016-03-31 17:25:20   3600       small              2008  manual     69   \n",
       "\n",
       "   Model  Kilometer  RegistrationMonth  FuelType       Brand Repaired  \\\n",
       "0   golf     150000                  0    petrol  volkswagen      NaN   \n",
       "1    NaN     125000                  5  gasoline        audi      yes   \n",
       "2  grand     125000                  8  gasoline        jeep      NaN   \n",
       "3   golf     150000                  6    petrol  volkswagen       no   \n",
       "4  fabia      90000                  7  gasoline       skoda       no   \n",
       "\n",
       "           DateCreated  NumberOfPictures  PostalCode             LastSeen  \n",
       "0  2016-03-24 00:00:00                 0       70435  2016-04-07 03:16:57  \n",
       "1  2016-03-24 00:00:00                 0       66954  2016-04-07 01:46:50  \n",
       "2  2016-03-14 00:00:00                 0       90480  2016-04-05 12:47:46  \n",
       "3  2016-03-17 00:00:00                 0       91074  2016-03-17 17:40:17  \n",
       "4  2016-03-31 00:00:00                 0       60437  2016-04-06 10:17:21  "
      ]
     },
     "execution_count": 3,
     "metadata": {},
     "output_type": "execute_result"
    }
   ],
   "source": [
    "autos.head()"
   ]
  },
  {
   "cell_type": "code",
   "execution_count": 4,
   "metadata": {},
   "outputs": [
    {
     "name": "stdout",
     "output_type": "stream",
     "text": [
      "<class 'pandas.core.frame.DataFrame'>\n",
      "RangeIndex: 354369 entries, 0 to 354368\n",
      "Data columns (total 16 columns):\n",
      " #   Column             Non-Null Count   Dtype \n",
      "---  ------             --------------   ----- \n",
      " 0   DateCrawled        354369 non-null  object\n",
      " 1   Price              354369 non-null  int64 \n",
      " 2   VehicleType        316879 non-null  object\n",
      " 3   RegistrationYear   354369 non-null  int64 \n",
      " 4   Gearbox            334536 non-null  object\n",
      " 5   Power              354369 non-null  int64 \n",
      " 6   Model              334664 non-null  object\n",
      " 7   Kilometer          354369 non-null  int64 \n",
      " 8   RegistrationMonth  354369 non-null  int64 \n",
      " 9   FuelType           321474 non-null  object\n",
      " 10  Brand              354369 non-null  object\n",
      " 11  Repaired           283215 non-null  object\n",
      " 12  DateCreated        354369 non-null  object\n",
      " 13  NumberOfPictures   354369 non-null  int64 \n",
      " 14  PostalCode         354369 non-null  int64 \n",
      " 15  LastSeen           354369 non-null  object\n",
      "dtypes: int64(7), object(9)\n",
      "memory usage: 43.3+ MB\n"
     ]
    }
   ],
   "source": [
    "autos.info()"
   ]
  },
  {
   "cell_type": "markdown",
   "metadata": {},
   "source": [
    "Типы данных соответствуют действительности, в данных есть пропуски. Для удобства переименуем названия столбцов.\n"
   ]
  },
  {
   "cell_type": "code",
   "execution_count": 5,
   "metadata": {},
   "outputs": [],
   "source": [
    "autos.columns = autos.columns.str.replace(r'([a-z])([A-Z])', r'\\1_\\2', regex=True).str.lower()"
   ]
  },
  {
   "cell_type": "markdown",
   "metadata": {},
   "source": [
    "### Проверим на наличие пропусков и дубликатов"
   ]
  },
  {
   "cell_type": "code",
   "execution_count": 7,
   "metadata": {},
   "outputs": [],
   "source": [
    "def skips_dulicates(data):\n",
    "    total_missing = data.isna().sum().sum()\n",
    "    if total_missing > 0:\n",
    "        print(f\"Пропуски найдены, общее количество пропусков: {total_missing}\")\n",
    "        print(\"Пропуски по столбцам:\")\n",
    "        print(data.isna().sum())\n",
    "    else:\n",
    "        print(\"Пропусков нет.\")\n",
    "    duplicate_count = data.duplicated().sum()\n",
    "    if duplicate_count > 0:\n",
    "        print(f\"Количество явных дубликатов: {duplicate_count}\")\n",
    "    else:\n",
    "        print(\"Дубликатов нет.\")\n",
    "    return data"
   ]
  },
  {
   "cell_type": "code",
   "execution_count": 8,
   "metadata": {},
   "outputs": [
    {
     "name": "stdout",
     "output_type": "stream",
     "text": [
      "Пропуски найдены, общее количество пропусков: 181077\n",
      "Пропуски по столбцам:\n",
      "date_crawled              0\n",
      "price                     0\n",
      "vehicle_type          37490\n",
      "registration_year         0\n",
      "gearbox               19833\n",
      "power                     0\n",
      "model                 19705\n",
      "kilometer                 0\n",
      "registration_month        0\n",
      "fuel_type             32895\n",
      "brand                     0\n",
      "repaired              71154\n",
      "date_created              0\n",
      "number_of_pictures        0\n",
      "postal_code               0\n",
      "last_seen                 0\n",
      "dtype: int64\n",
      "Количество явных дубликатов: 4\n"
     ]
    }
   ],
   "source": [
    "skips_dulicates(autos);"
   ]
  },
  {
   "cell_type": "code",
   "execution_count": 9,
   "metadata": {},
   "outputs": [],
   "source": [
    "# удалим явные дубликаты\n",
    "autos = autos.drop_duplicates()"
   ]
  },
  {
   "cell_type": "code",
   "execution_count": 10,
   "metadata": {},
   "outputs": [
    {
     "data": {
      "text/plain": [
       "array([nan, 'coupe', 'suv', 'small', 'sedan', 'convertible', 'bus',\n",
       "       'wagon', 'other'], dtype=object)"
      ]
     },
     "execution_count": 10,
     "metadata": {},
     "output_type": "execute_result"
    }
   ],
   "source": [
    "autos['vehicle_type'].unique()"
   ]
  },
  {
   "cell_type": "code",
   "execution_count": 11,
   "metadata": {},
   "outputs": [],
   "source": [
    "autos['vehicle_type'] = autos.groupby('brand')['vehicle_type'].transform(\n",
    "    lambda x: x.fillna(x.mode()[0]) if not x.mode().empty else x.fillna('unknown')\n",
    ")"
   ]
  },
  {
   "cell_type": "code",
   "execution_count": 12,
   "metadata": {},
   "outputs": [
    {
     "data": {
      "text/plain": [
       "array(['manual', 'auto', nan], dtype=object)"
      ]
     },
     "execution_count": 12,
     "metadata": {},
     "output_type": "execute_result"
    }
   ],
   "source": [
    "autos['gearbox'].unique()"
   ]
  },
  {
   "cell_type": "code",
   "execution_count": 13,
   "metadata": {},
   "outputs": [],
   "source": [
    "autos['gearbox'].fillna('unknown', inplace=True)"
   ]
  },
  {
   "cell_type": "code",
   "execution_count": 14,
   "metadata": {},
   "outputs": [
    {
     "data": {
      "text/plain": [
       "array(['golf', nan, 'grand', 'fabia', '3er', '2_reihe', 'other', 'c_max',\n",
       "       '3_reihe', 'passat', 'navara', 'ka', 'polo', 'twingo', 'a_klasse',\n",
       "       'scirocco', '5er', 'meriva', 'arosa', 'c4', 'civic', 'transporter',\n",
       "       'punto', 'e_klasse', 'clio', 'kadett', 'kangoo', 'corsa', 'one',\n",
       "       'fortwo', '1er', 'b_klasse', 'signum', 'astra', 'a8', 'jetta',\n",
       "       'fiesta', 'c_klasse', 'micra', 'vito', 'sprinter', '156', 'escort',\n",
       "       'forester', 'xc_reihe', 'scenic', 'a4', 'a1', 'insignia', 'combo',\n",
       "       'focus', 'tt', 'a6', 'jazz', 'omega', 'slk', '7er', '80', '147',\n",
       "       '100', 'z_reihe', 'sportage', 'sorento', 'v40', 'ibiza', 'mustang',\n",
       "       'eos', 'touran', 'getz', 'a3', 'almera', 'megane', 'lupo', 'r19',\n",
       "       'zafira', 'caddy', 'mondeo', 'cordoba', 'colt', 'impreza',\n",
       "       'vectra', 'berlingo', 'tiguan', 'i_reihe', 'espace', 'sharan',\n",
       "       '6_reihe', 'panda', 'up', 'seicento', 'ceed', '5_reihe', 'yeti',\n",
       "       'octavia', 'mii', 'rx_reihe', '6er', 'modus', 'fox', 'matiz',\n",
       "       'beetle', 'c1', 'rio', 'touareg', 'logan', 'spider', 'cuore',\n",
       "       's_max', 'a2', 'galaxy', 'c3', 'viano', 's_klasse', '1_reihe',\n",
       "       'avensis', 'roomster', 'sl', 'kaefer', 'santa', 'cooper', 'leon',\n",
       "       '4_reihe', 'a5', '500', 'laguna', 'ptcruiser', 'clk', 'primera',\n",
       "       'x_reihe', 'exeo', '159', 'transit', 'juke', 'qashqai', 'carisma',\n",
       "       'accord', 'corolla', 'lanos', 'phaeton', 'verso', 'swift', 'rav',\n",
       "       'picanto', 'boxster', 'kalos', 'superb', 'stilo', 'alhambra',\n",
       "       'mx_reihe', 'roadster', 'ypsilon', 'cayenne', 'galant', 'justy',\n",
       "       '90', 'sirion', 'crossfire', 'agila', 'duster', 'cr_reihe', 'v50',\n",
       "       'c_reihe', 'v_klasse', 'm_klasse', 'yaris', 'c5', 'aygo', 'cc',\n",
       "       'carnival', 'fusion', '911', 'bora', 'forfour', 'm_reihe', 'cl',\n",
       "       'tigra', '300c', 'spark', 'v70', 'kuga', 'x_type', 'ducato',\n",
       "       's_type', 'x_trail', 'toledo', 'altea', 'voyager', 'calibra',\n",
       "       'bravo', 'antara', 'tucson', 'citigo', 'jimny', 'wrangler',\n",
       "       'lybra', 'q7', 'lancer', 'captiva', 'c2', 'discovery',\n",
       "       'freelander', 'sandero', 'note', '900', 'cherokee', 'clubman',\n",
       "       'samara', 'defender', '601', 'cx_reihe', 'legacy', 'pajero',\n",
       "       'auris', 'niva', 's60', 'nubira', 'vivaro', 'g_klasse', 'lodgy',\n",
       "       '850', 'range_rover', 'q3', 'serie_2', 'glk', 'charade', 'croma',\n",
       "       'outlander', 'doblo', 'musa', 'move', '9000', 'v60', '145', 'aveo',\n",
       "       '200', 'b_max', 'range_rover_sport', 'terios', 'rangerover', 'q5',\n",
       "       'range_rover_evoque', 'materia', 'delta', 'gl', 'kalina', 'amarok',\n",
       "       'elefantino', 'i3', 'kappa', 'serie_3', 'serie_1'], dtype=object)"
      ]
     },
     "execution_count": 14,
     "metadata": {},
     "output_type": "execute_result"
    }
   ],
   "source": [
    "autos['model'].unique()"
   ]
  },
  {
   "cell_type": "code",
   "execution_count": 15,
   "metadata": {},
   "outputs": [],
   "source": [
    "autos['model'] = autos.groupby('brand')['model'].transform(\n",
    "    lambda x: x.fillna(x.mode()[0]) if not x.mode().empty else x.fillna('unknown')\n",
    ")"
   ]
  },
  {
   "cell_type": "code",
   "execution_count": 16,
   "metadata": {},
   "outputs": [
    {
     "data": {
      "text/plain": [
       "array(['petrol', 'gasoline', nan, 'lpg', 'other', 'hybrid', 'cng',\n",
       "       'electric'], dtype=object)"
      ]
     },
     "execution_count": 16,
     "metadata": {},
     "output_type": "execute_result"
    }
   ],
   "source": [
    "autos['fuel_type'].unique()"
   ]
  },
  {
   "cell_type": "code",
   "execution_count": 17,
   "metadata": {},
   "outputs": [],
   "source": [
    "# petrol и gasoline - одно и то же, переименуем gasoline в petrol\n",
    "autos['fuel_type'] = autos['fuel_type'].replace(['gasoline'], 'petrol')\n",
    "autos['fuel_type'].fillna('unknown', inplace=True)"
   ]
  },
  {
   "cell_type": "code",
   "execution_count": 18,
   "metadata": {},
   "outputs": [
    {
     "data": {
      "text/plain": [
       "array([nan, 'yes', 'no'], dtype=object)"
      ]
     },
     "execution_count": 18,
     "metadata": {},
     "output_type": "execute_result"
    }
   ],
   "source": [
    "autos['repaired'].unique()"
   ]
  },
  {
   "cell_type": "code",
   "execution_count": 19,
   "metadata": {},
   "outputs": [],
   "source": [
    "autos['repaired'].fillna('unknown', inplace=True)"
   ]
  },
  {
   "cell_type": "code",
   "execution_count": 20,
   "metadata": {},
   "outputs": [
    {
     "name": "stdout",
     "output_type": "stream",
     "text": [
      "Пропусков нет.\n",
      "Дубликатов нет.\n"
     ]
    }
   ],
   "source": [
    "skips_dulicates(autos);"
   ]
  },
  {
   "cell_type": "markdown",
   "metadata": {},
   "source": [
    "### Проведем исследовательский анализ данных"
   ]
  },
  {
   "cell_type": "code",
   "execution_count": 21,
   "metadata": {},
   "outputs": [],
   "source": [
    "def cat_variable_visualization(data, column, ax):\n",
    "    counts = data[column].value_counts().sort_values(ascending=False)\n",
    "    counts.plot(kind='bar', ax=ax, color='skyblue', edgecolor='black')\n",
    "    \n",
    "    ax.set_title(f'Распределение: {column}', fontsize=12)\n",
    "    ax.set_xlabel('')\n",
    "    ax.set_ylabel('Количество', fontsize=10)\n",
    "    ax.tick_params(axis='x', rotation=45) \n",
    "    ax.grid(axis='y', linestyle='--', alpha=0.7)"
   ]
  },
  {
   "cell_type": "code",
   "execution_count": 22,
   "metadata": {},
   "outputs": [
    {
     "data": {
      "text/html": [
       "<div>\n",
       "<style scoped>\n",
       "    .dataframe tbody tr th:only-of-type {\n",
       "        vertical-align: middle;\n",
       "    }\n",
       "\n",
       "    .dataframe tbody tr th {\n",
       "        vertical-align: top;\n",
       "    }\n",
       "\n",
       "    .dataframe thead th {\n",
       "        text-align: right;\n",
       "    }\n",
       "</style>\n",
       "<table border=\"1\" class=\"dataframe\">\n",
       "  <thead>\n",
       "    <tr style=\"text-align: right;\">\n",
       "      <th></th>\n",
       "      <th>price</th>\n",
       "      <th>registration_year</th>\n",
       "      <th>power</th>\n",
       "      <th>kilometer</th>\n",
       "      <th>registration_month</th>\n",
       "      <th>number_of_pictures</th>\n",
       "      <th>postal_code</th>\n",
       "    </tr>\n",
       "  </thead>\n",
       "  <tbody>\n",
       "    <tr>\n",
       "      <th>count</th>\n",
       "      <td>354365.000000</td>\n",
       "      <td>354365.000000</td>\n",
       "      <td>354365.000000</td>\n",
       "      <td>354365.000000</td>\n",
       "      <td>354365.000000</td>\n",
       "      <td>354365.0</td>\n",
       "      <td>354365.000000</td>\n",
       "    </tr>\n",
       "    <tr>\n",
       "      <th>mean</th>\n",
       "      <td>4416.679830</td>\n",
       "      <td>2004.234481</td>\n",
       "      <td>110.093816</td>\n",
       "      <td>128211.363989</td>\n",
       "      <td>5.714650</td>\n",
       "      <td>0.0</td>\n",
       "      <td>50508.503800</td>\n",
       "    </tr>\n",
       "    <tr>\n",
       "      <th>std</th>\n",
       "      <td>4514.176349</td>\n",
       "      <td>90.228466</td>\n",
       "      <td>189.851330</td>\n",
       "      <td>37905.083858</td>\n",
       "      <td>3.726432</td>\n",
       "      <td>0.0</td>\n",
       "      <td>25783.100078</td>\n",
       "    </tr>\n",
       "    <tr>\n",
       "      <th>min</th>\n",
       "      <td>0.000000</td>\n",
       "      <td>1000.000000</td>\n",
       "      <td>0.000000</td>\n",
       "      <td>5000.000000</td>\n",
       "      <td>0.000000</td>\n",
       "      <td>0.0</td>\n",
       "      <td>1067.000000</td>\n",
       "    </tr>\n",
       "    <tr>\n",
       "      <th>25%</th>\n",
       "      <td>1050.000000</td>\n",
       "      <td>1999.000000</td>\n",
       "      <td>69.000000</td>\n",
       "      <td>125000.000000</td>\n",
       "      <td>3.000000</td>\n",
       "      <td>0.0</td>\n",
       "      <td>30165.000000</td>\n",
       "    </tr>\n",
       "    <tr>\n",
       "      <th>50%</th>\n",
       "      <td>2700.000000</td>\n",
       "      <td>2003.000000</td>\n",
       "      <td>105.000000</td>\n",
       "      <td>150000.000000</td>\n",
       "      <td>6.000000</td>\n",
       "      <td>0.0</td>\n",
       "      <td>49413.000000</td>\n",
       "    </tr>\n",
       "    <tr>\n",
       "      <th>75%</th>\n",
       "      <td>6400.000000</td>\n",
       "      <td>2008.000000</td>\n",
       "      <td>143.000000</td>\n",
       "      <td>150000.000000</td>\n",
       "      <td>9.000000</td>\n",
       "      <td>0.0</td>\n",
       "      <td>71083.000000</td>\n",
       "    </tr>\n",
       "    <tr>\n",
       "      <th>max</th>\n",
       "      <td>20000.000000</td>\n",
       "      <td>9999.000000</td>\n",
       "      <td>20000.000000</td>\n",
       "      <td>150000.000000</td>\n",
       "      <td>12.000000</td>\n",
       "      <td>0.0</td>\n",
       "      <td>99998.000000</td>\n",
       "    </tr>\n",
       "  </tbody>\n",
       "</table>\n",
       "</div>"
      ],
      "text/plain": [
       "               price  registration_year          power      kilometer  \\\n",
       "count  354365.000000      354365.000000  354365.000000  354365.000000   \n",
       "mean     4416.679830        2004.234481     110.093816  128211.363989   \n",
       "std      4514.176349          90.228466     189.851330   37905.083858   \n",
       "min         0.000000        1000.000000       0.000000    5000.000000   \n",
       "25%      1050.000000        1999.000000      69.000000  125000.000000   \n",
       "50%      2700.000000        2003.000000     105.000000  150000.000000   \n",
       "75%      6400.000000        2008.000000     143.000000  150000.000000   \n",
       "max     20000.000000        9999.000000   20000.000000  150000.000000   \n",
       "\n",
       "       registration_month  number_of_pictures    postal_code  \n",
       "count       354365.000000            354365.0  354365.000000  \n",
       "mean             5.714650                 0.0   50508.503800  \n",
       "std              3.726432                 0.0   25783.100078  \n",
       "min              0.000000                 0.0    1067.000000  \n",
       "25%              3.000000                 0.0   30165.000000  \n",
       "50%              6.000000                 0.0   49413.000000  \n",
       "75%              9.000000                 0.0   71083.000000  \n",
       "max             12.000000                 0.0   99998.000000  "
      ]
     },
     "execution_count": 22,
     "metadata": {},
     "output_type": "execute_result"
    }
   ],
   "source": [
    "autos.describe()"
   ]
  },
  {
   "cell_type": "code",
   "execution_count": 23,
   "metadata": {},
   "outputs": [
    {
     "data": {
      "image/png": "[encoded data removed]",
      "text/plain": [
       "<Figure size 1152x720 with 6 Axes>"
      ]
     },
     "metadata": {
      "needs_background": "light"
     },
     "output_type": "display_data"
    }
   ],
   "source": [
    "autos = autos.drop(['date_crawled', 'last_seen', 'number_of_pictures'], axis = 1)\n",
    "\n",
    "num_cols = autos.select_dtypes(include=['number']).columns\n",
    "\n",
    "n_cols = 4  \n",
    "n_rows = math.ceil(len(num_cols) / n_cols) \n",
    "\n",
    "\n",
    "fig, axes = plt.subplots(nrows=n_rows, ncols=n_cols, figsize=(n_cols * 4, n_rows * 5))\n",
    "axes = axes.flatten()\n",
    "\n",
    "for i, col in enumerate(num_cols):\n",
    "    sns.boxplot(data=autos, y=col, ax=axes[i])\n",
    "    axes[i].set_title(col)\n",
    "\n",
    "for j in range(i + 1, len(axes)):\n",
    "    fig.delaxes(axes[j])\n",
    "    \n",
    "plt.tight_layout()\n",
    "plt.show()"
   ]
  },
  {
   "cell_type": "markdown",
   "metadata": {},
   "source": [
    "Среди признаков есть неинформативные: `date_crawled`, `last_seen`, `number_of_pictures`. От данных признаков стоимость автомобилей никак не зависит.\n",
    "\n",
    "В столбце `price` присутствуют аномальные значения (стоимость 0). `registration_year` стоит ограничить от создания первого серийнгого автомобиля в 1886 до 2016 года. В `power` исключим значения 0 и ограничим до 2000. В `kilometer` аномальных значений нет, так как пробег может быть малениким. "
   ]
  },
  {
   "cell_type": "code",
   "execution_count": 24,
   "metadata": {},
   "outputs": [],
   "source": [
    "autos['registration_month'] = autos['registration_month'].replace(0, 1)\n",
    "\n",
    "autos = autos[autos['price'] > 0]\n",
    "\n",
    "autos = autos[((autos['registration_year'] >= 1886) & (autos['registration_year'] < 2016)) \n",
    "             | ((autos['registration_year'] == 2016) & (autos['registration_month'] <= 4))]\n",
    "\n",
    "autos['power'] = autos.groupby(['brand', 'model'])['power'].transform(\n",
    "    lambda x: x.replace(0, x.median()) if x.median() > 0 else x.replace(0, 100)\n",
    ")\n",
    "\n",
    "autos = autos[(autos['power'] > 0) & (autos['power'] <= 2000)]\n",
    "\n",
    "autos['date_created'] = pd.to_datetime(autos['date_created'], format='%Y-%m-%d %H:%M:%S')\n",
    "autos['created_year'] = autos['date_created'].dt.year\n",
    "autos['created_month'] = autos['date_created'].dt.month\n",
    "\n",
    "valid_year = (\n",
    "    (autos['registration_year'] < autos['created_year']) | \n",
    "    (\n",
    "        (autos['registration_year'] == autos['created_year']) & \n",
    "        (autos['registration_month'] <= autos['created_month'])\n",
    "    )\n",
    ")\n",
    "\n",
    "autos = autos[valid_year]\n",
    "\n",
    "autos['postal_code'] = autos['postal_code'].astype(str).str.zfill(5)  \n",
    "autos['region'] = autos['postal_code'].str[:2] "
   ]
  },
  {
   "cell_type": "code",
   "execution_count": 25,
   "metadata": {},
   "outputs": [
    {
     "data": {
      "image/png": "[encoded data removed]",
      "text/plain": [
       "<Figure size 1152x720 with 5 Axes>"
      ]
     },
     "metadata": {
      "needs_background": "light"
     },
     "output_type": "display_data"
    }
   ],
   "source": [
    "n_cols = 4  \n",
    "num_cols = num_cols.drop('postal_code')\n",
    "n_rows = math.ceil(len(num_cols) / n_cols)  \n",
    "fig, axes = plt.subplots(nrows=n_rows, ncols=n_cols, figsize=(n_cols * 4, n_rows * 5))\n",
    "\n",
    "axes = axes.flatten()\n",
    "\n",
    "for i, col in enumerate(num_cols):\n",
    "    sns.histplot(autos[col], bins=25, kde=True, ax=axes[i], color=\"skyblue\", edgecolor=\"black\")\n",
    "    axes[i].set_title(col)\n",
    "    axes[i].set_xlabel(\"\")\n",
    "    \n",
    "for j in range(i + 1, len(axes)):\n",
    "    fig.delaxes(axes[j])\n",
    "\n",
    "plt.tight_layout()\n",
    "plt.show()"
   ]
  },
  {
   "cell_type": "code",
   "execution_count": 26,
   "metadata": {},
   "outputs": [
    {
     "data": {
      "image/png": "[encoded data removed]",
      "text/plain": [
       "<Figure size 1080x720 with 4 Axes>"
      ]
     },
     "metadata": {
      "needs_background": "light"
     },
     "output_type": "display_data"
    }
   ],
   "source": [
    "columns = ['vehicle_type', 'gearbox', 'fuel_type', 'repaired']  \n",
    "\n",
    "fig, axes = plt.subplots(2, 2, figsize=(15, 10)) \n",
    "\n",
    "axes = axes.flatten()\n",
    "\n",
    "for i, column in enumerate(columns):\n",
    "    cat_variable_visualization(autos, column, axes[i])\n",
    "    \n",
    "for ax in axes[len(columns):]:\n",
    "    ax.axis('off')\n",
    "\n",
    "plt.tight_layout()\n",
    "plt.show()"
   ]
  },
  {
   "cell_type": "markdown",
   "metadata": {},
   "source": [
    "В качественных переменных наблюдается сильныйй дисбаланс классов."
   ]
  },
  {
   "cell_type": "code",
   "execution_count": 27,
   "metadata": {},
   "outputs": [
    {
     "data": {
      "image/png": "[encoded data removed]",
      "text/plain": [
       "<Figure size 864x576 with 2 Axes>"
      ]
     },
     "metadata": {
      "needs_background": "light"
     },
     "output_type": "display_data"
    }
   ],
   "source": [
    "autos = autos.drop(['postal_code', 'date_created', 'created_year', 'created_month'], axis = 1)\n",
    "\n",
    "interval_cols = [\n",
    "    'price', 'registration_year', 'power', 'kilometer'\n",
    "]\n",
    "\n",
    "phik_matrix = autos.phik_matrix(interval_cols=interval_cols)\n",
    "mask = np.triu(np.ones_like(phik_matrix, dtype=bool))\n",
    "\n",
    "plt.figure(figsize=(12, 8))\n",
    "sns.heatmap(\n",
    "    phik_matrix,\n",
    "    annot=True,          \n",
    "    fmt=\".2f\",           \n",
    "    cmap=\"coolwarm\",     \n",
    "    mask=mask,          \n",
    "    linewidths=0.5,     \n",
    "    cbar_kws={\"shrink\": 0.75},  \n",
    "    vmin=-1, vmax=1,     \n",
    "    annot_kws={\"size\": 10, \"weight\": \"bold\", \"color\": \"black\"}  \n",
    ")\n",
    "\n",
    "plt.title(\"Матрица корреляции признаков\", fontsize=16)\n",
    "plt.show()"
   ]
  },
  {
   "cell_type": "markdown",
   "metadata": {},
   "source": [
    "Наиболее значимые признаки для цены:\n",
    "\n",
    "- registration_year (корреляция 0.6): более новые автомобили, как правило, дороже.\n",
    "\n",
    "- model (0.57): модель автомобиля сильно влияет на цену.\n",
    "\n",
    "Присутсвует мультиколлинеарность: между model и brand корреляция 1.00, что указывает на полную линейную зависимость. Один из этих признаков стоит исключить (исключим brand, так как он слабее коррелирует с целевым признаком)."
   ]
  },
  {
   "cell_type": "code",
   "execution_count": 28,
   "metadata": {},
   "outputs": [],
   "source": [
    "autos = autos.drop(['brand'], axis = 1)"
   ]
  },
  {
   "cell_type": "markdown",
   "metadata": {},
   "source": [
    "**Были найдены и запонены пропуски, удалены явные дубликаты. Среди признаков были найдены неинформативные: date_crawled, postal_code, last_seen, number_of_pictures. От данных признаков стоимость автомобилей никак не зависит, они были удалены. Данные были очищены от выбросов.**"
   ]
  },
  {
   "cell_type": "markdown",
   "metadata": {},
   "source": [
    "## Обучение моделей"
   ]
  },
  {
   "cell_type": "code",
   "execution_count": 29,
   "metadata": {},
   "outputs": [],
   "source": [
    "autos = autos.astype({'vehicle_type':'category',\n",
    "                                  'gearbox':'category',\n",
    "                                  'model':'category',\n",
    "                                  'fuel_type':'category',\n",
    "                                  'repaired':'category',\n",
    "                                  'region': 'category',\n",
    "                                  'registration_month': 'category'})\n",
    "\n",
    "#Разделим данные\n",
    "\n",
    "target = autos['price']\n",
    "features = autos.drop('price', axis=1)\n",
    "\n",
    "X_temp, X_test, y_temp, y_test = train_test_split(features, target, test_size=0.2, random_state=RANDOM)\n",
    "X_train, X_val, y_train, y_val = train_test_split(X_temp, y_temp, test_size=0.25, random_state=RANDOM)\n",
    "\n",
    "kf = KFold(n_splits=5, shuffle=True, random_state=RANDOM)\n",
    "\n",
    "\n",
    "categorical_high = ['model', 'region']\n",
    "categorical_low = ['vehicle_type', 'gearbox', 'fuel_type', 'repaired', 'registration_month']\n",
    "numerical_features = ['power', 'kilometer', 'registration_year']\n",
    "\n",
    "preprocessor_RF = ColumnTransformer([\n",
    "    ('ordinal', OrdinalEncoder(handle_unknown='use_encoded_value', unknown_value=-1), categorical_high),\n",
    "    ('onehot', OneHotEncoder(drop='first', handle_unknown='ignore'), categorical_low)\n",
    "], remainder='passthrough')\n",
    "\n",
    "preprocessor_LR = ColumnTransformer([\n",
    "    ('onehot', OneHotEncoder(drop='first', handle_unknown='ignore'), categorical_low + categorical_high),\n",
    "    ('scaler', StandardScaler(), numerical_features)\n",
    "])"
   ]
  },
  {
   "cell_type": "code",
   "execution_count": 30,
   "metadata": {},
   "outputs": [],
   "source": [
    "models = {\n",
    "    \"LinearRegression\": Pipeline([\n",
    "        ('preprocessor', preprocessor_LR),\n",
    "        ('model', LinearRegression())\n",
    "    ]),\n",
    "    \n",
    "    \"RandomForest\": Pipeline([\n",
    "        ('preprocessor', preprocessor_RF),\n",
    "        ('model', RandomForestRegressor(random_state=RANDOM))\n",
    "    ]),\n",
    "    \n",
    "    \"LightGBM\": LGBMRegressor(\n",
    "        num_leaves=31,\n",
    "        learning_rate=0.1,\n",
    "        n_estimators=500,\n",
    "        categorical_feature=categorical_low + categorical_high,\n",
    "        random_state=RANDOM,\n",
    "        verbosity=-1\n",
    "    ),\n",
    "    \n",
    "    \"CatBoost\": CatBoostRegressor(\n",
    "        iterations=1000,\n",
    "        learning_rate=0.1,\n",
    "        cat_features=categorical_low + categorical_high,\n",
    "        random_state=RANDOM,\n",
    "        verbose=0\n",
    "    )\n",
    "}"
   ]
  },
  {
   "cell_type": "code",
   "execution_count": 31,
   "metadata": {},
   "outputs": [],
   "source": [
    "# Подбор гиперпараметров для RandomForest\n",
    "param_dist_fast = {\n",
    "    'model__n_estimators': randint(30, 50), \n",
    "    'model__max_depth': [5, 7], \n",
    "    'model__max_features': ['sqrt']\n",
    "}"
   ]
  },
  {
   "cell_type": "code",
   "execution_count": 32,
   "metadata": {},
   "outputs": [],
   "source": [
    "random_search = RandomizedSearchCV(\n",
    "    models[\"RandomForest\"],\n",
    "    param_distributions=param_dist_fast,\n",
    "    n_iter=5,  \n",
    "    cv=2,  \n",
    "    scoring='neg_root_mean_squared_error',\n",
    "    n_jobs=2, \n",
    "    random_state=RANDOM,\n",
    "    verbose=1\n",
    ")"
   ]
  },
  {
   "cell_type": "code",
   "execution_count": 33,
   "metadata": {},
   "outputs": [
    {
     "name": "stdout",
     "output_type": "stream",
     "text": [
      "Fitting 2 folds for each of 5 candidates, totalling 10 fits\n"
     ]
    }
   ],
   "source": [
    "random_search.fit(X_temp, y_temp)\n",
    "best_rf = random_search.best_estimator_"
   ]
  },
  {
   "cell_type": "code",
   "execution_count": 34,
   "metadata": {},
   "outputs": [
    {
     "name": "stderr",
     "output_type": "stream",
     "text": [
      "/opt/conda/lib/python3.9/site-packages/sklearn/preprocessing/_encoders.py:246: UserWarning: Found unknown categories in columns [5] during transform. These unknown categories will be encoded as all zeros\n",
      "  warnings.warn(\n",
      "/opt/conda/lib/python3.9/site-packages/sklearn/preprocessing/_encoders.py:246: UserWarning: Found unknown categories in columns [5] during transform. These unknown categories will be encoded as all zeros\n",
      "  warnings.warn(\n",
      "/opt/conda/lib/python3.9/site-packages/lightgbm/sklearn.py:726: UserWarning: 'early_stopping_rounds' argument is deprecated and will be removed in a future release of LightGBM. Pass 'early_stopping()' callback via 'callbacks' argument instead.\n",
      "  _log_warning(\"'early_stopping_rounds' argument is deprecated and will be removed in a future release of LightGBM. \"\n",
      "/opt/conda/lib/python3.9/site-packages/lightgbm/sklearn.py:736: UserWarning: 'verbose' argument is deprecated and will be removed in a future release of LightGBM. Pass 'log_evaluation()' callback via 'callbacks' argument instead.\n",
      "  _log_warning(\"'verbose' argument is deprecated and will be removed in a future release of LightGBM. \"\n",
      "/opt/conda/lib/python3.9/site-packages/lightgbm/basic.py:1487: UserWarning: categorical_feature keyword has been found in `params` and will be ignored.\n",
      "Please use categorical_feature argument of the Dataset constructor to pass this parameter.\n",
      "  _log_warning(f'{key} keyword has been found in `params` and will be ignored.\\n'\n",
      "/opt/conda/lib/python3.9/site-packages/lightgbm/basic.py:1513: UserWarning: categorical_feature in param dict is overridden.\n",
      "  _log_warning(f'{cat_alias} in param dict is overridden.')\n",
      "/opt/conda/lib/python3.9/site-packages/lightgbm/basic.py:1780: UserWarning: Overriding the parameters from Reference Dataset.\n",
      "  _log_warning('Overriding the parameters from Reference Dataset.')\n",
      "/opt/conda/lib/python3.9/site-packages/lightgbm/basic.py:1513: UserWarning: categorical_column in param dict is overridden.\n",
      "  _log_warning(f'{cat_alias} in param dict is overridden.')\n",
      "/opt/conda/lib/python3.9/site-packages/lightgbm/sklearn.py:726: UserWarning: 'early_stopping_rounds' argument is deprecated and will be removed in a future release of LightGBM. Pass 'early_stopping()' callback via 'callbacks' argument instead.\n",
      "  _log_warning(\"'early_stopping_rounds' argument is deprecated and will be removed in a future release of LightGBM. \"\n",
      "/opt/conda/lib/python3.9/site-packages/lightgbm/sklearn.py:736: UserWarning: 'verbose' argument is deprecated and will be removed in a future release of LightGBM. Pass 'log_evaluation()' callback via 'callbacks' argument instead.\n",
      "  _log_warning(\"'verbose' argument is deprecated and will be removed in a future release of LightGBM. \"\n",
      "/opt/conda/lib/python3.9/site-packages/lightgbm/basic.py:1487: UserWarning: categorical_feature keyword has been found in `params` and will be ignored.\n",
      "Please use categorical_feature argument of the Dataset constructor to pass this parameter.\n",
      "  _log_warning(f'{key} keyword has been found in `params` and will be ignored.\\n'\n",
      "/opt/conda/lib/python3.9/site-packages/lightgbm/basic.py:1513: UserWarning: categorical_feature in param dict is overridden.\n",
      "  _log_warning(f'{cat_alias} in param dict is overridden.')\n",
      "/opt/conda/lib/python3.9/site-packages/lightgbm/basic.py:1780: UserWarning: Overriding the parameters from Reference Dataset.\n",
      "  _log_warning('Overriding the parameters from Reference Dataset.')\n",
      "/opt/conda/lib/python3.9/site-packages/lightgbm/basic.py:1513: UserWarning: categorical_column in param dict is overridden.\n",
      "  _log_warning(f'{cat_alias} in param dict is overridden.')\n",
      "/opt/conda/lib/python3.9/site-packages/lightgbm/sklearn.py:726: UserWarning: 'early_stopping_rounds' argument is deprecated and will be removed in a future release of LightGBM. Pass 'early_stopping()' callback via 'callbacks' argument instead.\n",
      "  _log_warning(\"'early_stopping_rounds' argument is deprecated and will be removed in a future release of LightGBM. \"\n",
      "/opt/conda/lib/python3.9/site-packages/lightgbm/sklearn.py:736: UserWarning: 'verbose' argument is deprecated and will be removed in a future release of LightGBM. Pass 'log_evaluation()' callback via 'callbacks' argument instead.\n",
      "  _log_warning(\"'verbose' argument is deprecated and will be removed in a future release of LightGBM. \"\n",
      "/opt/conda/lib/python3.9/site-packages/lightgbm/basic.py:1487: UserWarning: categorical_feature keyword has been found in `params` and will be ignored.\n",
      "Please use categorical_feature argument of the Dataset constructor to pass this parameter.\n",
      "  _log_warning(f'{key} keyword has been found in `params` and will be ignored.\\n'\n",
      "/opt/conda/lib/python3.9/site-packages/lightgbm/basic.py:1513: UserWarning: categorical_feature in param dict is overridden.\n",
      "  _log_warning(f'{cat_alias} in param dict is overridden.')\n",
      "/opt/conda/lib/python3.9/site-packages/lightgbm/basic.py:1780: UserWarning: Overriding the parameters from Reference Dataset.\n",
      "  _log_warning('Overriding the parameters from Reference Dataset.')\n",
      "/opt/conda/lib/python3.9/site-packages/lightgbm/basic.py:1513: UserWarning: categorical_column in param dict is overridden.\n",
      "  _log_warning(f'{cat_alias} in param dict is overridden.')\n",
      "/opt/conda/lib/python3.9/site-packages/lightgbm/sklearn.py:726: UserWarning: 'early_stopping_rounds' argument is deprecated and will be removed in a future release of LightGBM. Pass 'early_stopping()' callback via 'callbacks' argument instead.\n",
      "  _log_warning(\"'early_stopping_rounds' argument is deprecated and will be removed in a future release of LightGBM. \"\n",
      "/opt/conda/lib/python3.9/site-packages/lightgbm/sklearn.py:736: UserWarning: 'verbose' argument is deprecated and will be removed in a future release of LightGBM. Pass 'log_evaluation()' callback via 'callbacks' argument instead.\n",
      "  _log_warning(\"'verbose' argument is deprecated and will be removed in a future release of LightGBM. \"\n",
      "/opt/conda/lib/python3.9/site-packages/lightgbm/basic.py:1487: UserWarning: categorical_feature keyword has been found in `params` and will be ignored.\n",
      "Please use categorical_feature argument of the Dataset constructor to pass this parameter.\n",
      "  _log_warning(f'{key} keyword has been found in `params` and will be ignored.\\n'\n",
      "/opt/conda/lib/python3.9/site-packages/lightgbm/basic.py:1513: UserWarning: categorical_feature in param dict is overridden.\n",
      "  _log_warning(f'{cat_alias} in param dict is overridden.')\n",
      "/opt/conda/lib/python3.9/site-packages/lightgbm/basic.py:1780: UserWarning: Overriding the parameters from Reference Dataset.\n",
      "  _log_warning('Overriding the parameters from Reference Dataset.')\n",
      "/opt/conda/lib/python3.9/site-packages/lightgbm/basic.py:1513: UserWarning: categorical_column in param dict is overridden.\n",
      "  _log_warning(f'{cat_alias} in param dict is overridden.')\n",
      "/opt/conda/lib/python3.9/site-packages/lightgbm/sklearn.py:726: UserWarning: 'early_stopping_rounds' argument is deprecated and will be removed in a future release of LightGBM. Pass 'early_stopping()' callback via 'callbacks' argument instead.\n",
      "  _log_warning(\"'early_stopping_rounds' argument is deprecated and will be removed in a future release of LightGBM. \"\n",
      "/opt/conda/lib/python3.9/site-packages/lightgbm/sklearn.py:736: UserWarning: 'verbose' argument is deprecated and will be removed in a future release of LightGBM. Pass 'log_evaluation()' callback via 'callbacks' argument instead.\n",
      "  _log_warning(\"'verbose' argument is deprecated and will be removed in a future release of LightGBM. \"\n",
      "/opt/conda/lib/python3.9/site-packages/lightgbm/basic.py:1487: UserWarning: categorical_feature keyword has been found in `params` and will be ignored.\n",
      "Please use categorical_feature argument of the Dataset constructor to pass this parameter.\n",
      "  _log_warning(f'{key} keyword has been found in `params` and will be ignored.\\n'\n",
      "/opt/conda/lib/python3.9/site-packages/lightgbm/basic.py:1513: UserWarning: categorical_feature in param dict is overridden.\n",
      "  _log_warning(f'{cat_alias} in param dict is overridden.')\n",
      "/opt/conda/lib/python3.9/site-packages/lightgbm/basic.py:1780: UserWarning: Overriding the parameters from Reference Dataset.\n",
      "  _log_warning('Overriding the parameters from Reference Dataset.')\n",
      "/opt/conda/lib/python3.9/site-packages/lightgbm/basic.py:1513: UserWarning: categorical_column in param dict is overridden.\n",
      "  _log_warning(f'{cat_alias} in param dict is overridden.')\n"
     ]
    },
    {
     "name": "stdout",
     "output_type": "stream",
     "text": [
      "\n",
      "Детализированные результаты:\n",
      "                    RMSE_mean   RMSE_std  Среднее время обучения (сек)  \\\n",
      "RandomForest      2581.442642   0.000000                     12.268236   \n",
      "LinearRegression  2836.776989  13.712529                     29.105409   \n",
      "LightGBM          1616.411876  17.992200                    581.112479   \n",
      "CatBoost          1671.992222  17.945869                    296.720620   \n",
      "\n",
      "                  Среднее время предсказания (сек)  \n",
      "RandomForest                              1.630499  \n",
      "LinearRegression                          0.284620  \n",
      "LightGBM                                  2.622980  \n",
      "CatBoost                                  0.792969  \n"
     ]
    }
   ],
   "source": [
    "# Обучение с кросс-валидацией\n",
    "results = {}\n",
    "model_times = {}\n",
    "\n",
    "rf_results = {\n",
    "    'fit_time': random_search.cv_results_['mean_fit_time'][random_search.best_index_],\n",
    "    'score_time': random_search.cv_results_['mean_score_time'][random_search.best_index_],\n",
    "    'test_score': random_search.best_score_\n",
    "}\n",
    "results[\"RandomForest\"] = {\n",
    "    'RMSE_mean': -rf_results['test_score'],\n",
    "    'RMSE_std': 0.0,  \n",
    "    'fit_time': rf_results['fit_time'],\n",
    "    'pred_time': rf_results['score_time']\n",
    "}\n",
    "\n",
    "\n",
    "for name, model in models.items():\n",
    "    if name == \"RandomForest\":\n",
    "        continue\n",
    "    \n",
    "    start_time = time.time()\n",
    "    \n",
    "    if name in [\"LightGBM\", \"CatBoost\"]:\n",
    "        fold_scores = []\n",
    "        fit_times = []\n",
    "        pred_times = []\n",
    "        \n",
    "        for train_idx, val_idx in kf.split(X_temp):\n",
    "            X_fold_train, X_fold_val = X_temp.iloc[train_idx], X_temp.iloc[val_idx]\n",
    "            y_fold_train, y_fold_val = y_temp.iloc[train_idx], y_temp.iloc[val_idx]\n",
    "            \n",
    "            start_fit = time.time()\n",
    "            model.fit(\n",
    "                X_fold_train, y_fold_train,\n",
    "                eval_set=(X_fold_val, y_fold_val),\n",
    "                early_stopping_rounds=50,\n",
    "                verbose=0\n",
    "            )\n",
    "            fit_time = time.time() - start_fit\n",
    "            \n",
    "            start_pred = time.time()\n",
    "            pred = model.predict(X_fold_val)\n",
    "            pred_time = time.time() - start_pred\n",
    "            fold_scores.append(np.sqrt(mean_squared_error(y_fold_val, pred)))  \n",
    "            fit_times.append(fit_time)\n",
    "            pred_times.append(pred_time)\n",
    "        \n",
    "        results[name] = {\n",
    "            'RMSE_mean': np.mean(fold_scores),\n",
    "            'RMSE_std': np.std(fold_scores),\n",
    "            'fit_time': np.mean(fit_times),\n",
    "            'pred_time': np.mean(pred_times)\n",
    "        }\n",
    "        \n",
    "    else:\n",
    "        cv_results = cross_validate(\n",
    "            model,\n",
    "            X_temp,\n",
    "            y_temp,\n",
    "            cv=kf,\n",
    "            scoring='neg_root_mean_squared_error',\n",
    "            return_train_score=True,\n",
    "            return_estimator=True\n",
    "        )\n",
    "        \n",
    "        results[name] = {\n",
    "            'RMSE_mean': -cv_results['test_score'].mean(),\n",
    "            'RMSE_std': cv_results['test_score'].std(),\n",
    "            'fit_time': cv_results['fit_time'].mean(),\n",
    "            'pred_time': cv_results['score_time'].mean()\n",
    "        }\n",
    "\n",
    "metrics_df = pd.DataFrame({\n",
    "    'RMSE_mean': [results[name]['RMSE_mean'] for name in results],\n",
    "    'RMSE_std': [results[name]['RMSE_std'] for name in results],\n",
    "    'Среднее время обучения (сек)': [results[name]['fit_time'] for name in results],\n",
    "    'Среднее время предсказания (сек)': [results[name]['pred_time'] for name in results]\n",
    "}, index=results.keys())\n",
    "\n",
    "print(\"\\nДетализированные результаты:\")\n",
    "print(metrics_df)"
   ]
  },
  {
   "cell_type": "markdown",
   "metadata": {},
   "source": [
    "## Анализ моделей"
   ]
  },
  {
   "attachments": {
    "image-3.png": {
     "image/png": "[encoded data removed]"
    }
   },
   "cell_type": "markdown",
   "metadata": {},
   "source": [
    "![image-3.png](attachment:image-3.png)\n",
    "\n",
    "\n",
    "\n",
    "Лучшее качество у LightGBM (1616). Самой быстрой, с учетом кросс-валидации, оказалась RandomForest (10 сек).\n",
    "\n",
    "\n",
    "Предпочтительнее выбрать LightGBM, качестве наилучшее, обучается и предсказывает быстро (без  кросс-валидации)"
   ]
  },
  {
   "cell_type": "code",
   "execution_count": 36,
   "metadata": {},
   "outputs": [
    {
     "name": "stderr",
     "output_type": "stream",
     "text": [
      "/opt/conda/lib/python3.9/site-packages/lightgbm/basic.py:1487: UserWarning: categorical_feature keyword has been found in `params` and will be ignored.\n",
      "Please use categorical_feature argument of the Dataset constructor to pass this parameter.\n",
      "  _log_warning(f'{key} keyword has been found in `params` and will be ignored.\\n'\n",
      "/opt/conda/lib/python3.9/site-packages/lightgbm/basic.py:1513: UserWarning: categorical_feature in param dict is overridden.\n",
      "  _log_warning(f'{cat_alias} in param dict is overridden.')\n"
     ]
    },
    {
     "name": "stdout",
     "output_type": "stream",
     "text": [
      "CPU times: user 4 µs, sys: 1e+03 ns, total: 5 µs\n",
      "Wall time: 7.63 µs\n",
      "\n",
      "Финальный RMSE (LightGBM): 1629.13\n"
     ]
    }
   ],
   "source": [
    "best_model_name = metrics_df['RMSE_mean'].idxmin() \n",
    "best_model = models[best_model_name]\n",
    "\n",
    "if best_model_name == \"RandomForest\":\n",
    "    best_model = best_rf  \n",
    "\n",
    "best_model.fit(X_temp, y_temp)\n",
    "\n",
    "# Финальная оценка\n",
    "%time\n",
    "y_pred = best_model.predict(X_test)\n",
    "final_rmse = np.sqrt(mean_squared_error(y_test, y_pred))\n",
    "print(f\"\\nФинальный RMSE ({best_model_name}): {final_rmse:.2f}\")"
   ]
  },
  {
   "cell_type": "markdown",
   "metadata": {},
   "source": [
    "## Общий вывод"
   ]
  },
  {
   "cell_type": "markdown",
   "metadata": {},
   "source": [
    "**Описание проекта**\n",
    "\n",
    "Заказчику важны:\n",
    "\n",
    "- качество предсказания;\n",
    "- скорость предсказания;\n",
    "- время обучения.\n",
    "\n",
    "\n",
    "**Основные этапы выполнения задачи:**\n",
    "\n",
    "- Загрузить и подготовьте данные;\n",
    "- Подготовить выборки для обучения моделей;\n",
    "- Обучить разные модели, одна из которых — LightGBM, как минимум одна — не бустинг.;\n",
    "- Проанализировать время обучения, время предсказания и качество моделей;\n",
    "- Опираясь на критерии заказчика, выбрать лучшую модель, проверить её качество на тестовой выборке.\n",
    "- Для оценки качества моделей использовать метрику RMSE. Значение метрики RMSE должно быть меньше 2500.\n",
    "\n",
    "\n",
    "В ходе выполнения работы было обнаружено, что типы данных соответствуют действительности, в данных есть пропуски. Для удобства  названия столбцов были переименованы в змеином регистре. Были удалены дубликаты, некоторые пропуски были с некоторой степенью точности восстановленны друг на основе друга. \n",
    "\n",
    "Проведен исследовательский анализ данных. Среди признаков есть неинформативные, они были удалены. Были убраны аномальные значения некоторых признаков.\n",
    "\n",
    "Были обучены модели: LinearRegression, RandomForest, LightGBM, CatBoost. Лучшее качество у LightGBM (1616). Самой быстрой, с учетом кросс-валидации, оказалась RandomForest (51.78 сек).\n",
    "\n",
    "Предпочтительнее выбрать LightGBM, качестве наилучшее, обучается и предсказывает быстро (без кросс-валидации). "
   ]
  }
 ],
 "metadata": {
  "ExecuteTimeLog": [
   {
    "duration": 365,
    "start_time": "2025-03-24T22:17:16.519Z"
   },
   {
    "duration": 92,
    "start_time": "2025-03-24T22:18:02.732Z"
   },
   {
    "duration": 729,
    "start_time": "2025-03-24T22:18:11.527Z"
   },
   {
    "duration": 113,
    "start_time": "2025-03-24T22:18:57.311Z"
   },
   {
    "duration": 17,
    "start_time": "2025-03-24T22:19:32.028Z"
   },
   {
    "duration": 892,
    "start_time": "2025-03-24T22:25:53.764Z"
   },
   {
    "duration": 13,
    "start_time": "2025-03-24T22:25:55.608Z"
   },
   {
    "duration": 81,
    "start_time": "2025-03-24T22:25:58.020Z"
   },
   {
    "duration": 34,
    "start_time": "2025-03-24T22:29:01.852Z"
   },
   {
    "duration": 3,
    "start_time": "2025-03-24T22:29:29.545Z"
   },
   {
    "duration": 388,
    "start_time": "2025-03-24T22:29:41.297Z"
   },
   {
    "duration": 307,
    "start_time": "2025-03-24T22:33:29.961Z"
   },
   {
    "duration": 17,
    "start_time": "2025-03-24T22:33:58.321Z"
   },
   {
    "duration": 15,
    "start_time": "2025-03-24T22:35:54.509Z"
   },
   {
    "duration": 17,
    "start_time": "2025-03-24T22:36:10.637Z"
   },
   {
    "duration": 15,
    "start_time": "2025-03-24T22:36:51.546Z"
   },
   {
    "duration": 20,
    "start_time": "2025-03-24T22:37:04.294Z"
   },
   {
    "duration": 14,
    "start_time": "2025-03-24T22:37:45.330Z"
   },
   {
    "duration": 18,
    "start_time": "2025-03-24T22:37:57.982Z"
   },
   {
    "duration": 33,
    "start_time": "2025-03-24T22:40:12.538Z"
   },
   {
    "duration": 15,
    "start_time": "2025-03-24T22:40:55.566Z"
   },
   {
    "duration": 35,
    "start_time": "2025-03-24T22:41:00.110Z"
   },
   {
    "duration": 18,
    "start_time": "2025-03-24T22:41:21.478Z"
   },
   {
    "duration": 17,
    "start_time": "2025-03-24T22:41:29.258Z"
   },
   {
    "duration": 300,
    "start_time": "2025-03-24T22:41:51.350Z"
   },
   {
    "duration": 82,
    "start_time": "2025-03-24T22:43:48.247Z"
   },
   {
    "duration": 883,
    "start_time": "2025-03-24T22:45:22.931Z"
   },
   {
    "duration": 587,
    "start_time": "2025-03-24T22:45:40.227Z"
   },
   {
    "duration": 922,
    "start_time": "2025-03-24T22:46:41.895Z"
   },
   {
    "duration": 844,
    "start_time": "2025-03-24T22:48:02.499Z"
   },
   {
    "duration": 102,
    "start_time": "2025-03-24T22:48:58.016Z"
   },
   {
    "duration": 3,
    "start_time": "2025-03-24T22:49:12.143Z"
   },
   {
    "duration": 913,
    "start_time": "2025-03-24T22:49:16.240Z"
   },
   {
    "duration": 1059,
    "start_time": "2025-03-24T22:50:23.339Z"
   },
   {
    "duration": 903,
    "start_time": "2025-03-24T22:50:33.560Z"
   },
   {
    "duration": 33,
    "start_time": "2025-03-24T23:00:18.649Z"
   },
   {
    "duration": 1228,
    "start_time": "2025-03-24T23:07:28.301Z"
   },
   {
    "duration": 63,
    "start_time": "2025-03-24T23:09:57.204Z"
   },
   {
    "duration": 11,
    "start_time": "2025-03-24T23:12:59.101Z"
   },
   {
    "duration": 484,
    "start_time": "2025-03-24T23:14:32.604Z"
   },
   {
    "duration": 912,
    "start_time": "2025-03-24T23:14:39.228Z"
   },
   {
    "duration": 6616,
    "start_time": "2025-03-24T23:17:12.932Z"
   },
   {
    "duration": 741,
    "start_time": "2025-03-24T23:17:41.650Z"
   },
   {
    "duration": 1048,
    "start_time": "2025-03-24T23:19:10.192Z"
   },
   {
    "duration": 852,
    "start_time": "2025-03-24T23:19:11.242Z"
   },
   {
    "duration": 15,
    "start_time": "2025-03-24T23:19:12.095Z"
   },
   {
    "duration": 88,
    "start_time": "2025-03-24T23:19:12.112Z"
   },
   {
    "duration": 38,
    "start_time": "2025-03-24T23:19:12.201Z"
   },
   {
    "duration": 3,
    "start_time": "2025-03-24T23:19:12.241Z"
   },
   {
    "duration": 389,
    "start_time": "2025-03-24T23:19:12.245Z"
   },
   {
    "duration": 286,
    "start_time": "2025-03-24T23:19:12.635Z"
   },
   {
    "duration": 17,
    "start_time": "2025-03-24T23:19:12.922Z"
   },
   {
    "duration": 90,
    "start_time": "2025-03-24T23:19:12.941Z"
   },
   {
    "duration": 50,
    "start_time": "2025-03-24T23:19:13.032Z"
   },
   {
    "duration": 19,
    "start_time": "2025-03-24T23:19:13.084Z"
   },
   {
    "duration": 35,
    "start_time": "2025-03-24T23:19:13.105Z"
   },
   {
    "duration": 21,
    "start_time": "2025-03-24T23:19:13.142Z"
   },
   {
    "duration": 129,
    "start_time": "2025-03-24T23:19:13.164Z"
   },
   {
    "duration": 45,
    "start_time": "2025-03-24T23:19:13.295Z"
   },
   {
    "duration": 15,
    "start_time": "2025-03-24T23:19:13.341Z"
   },
   {
    "duration": 80,
    "start_time": "2025-03-24T23:19:13.357Z"
   },
   {
    "duration": 308,
    "start_time": "2025-03-24T23:19:13.438Z"
   },
   {
    "duration": 86,
    "start_time": "2025-03-24T23:19:13.748Z"
   },
   {
    "duration": 815,
    "start_time": "2025-03-24T23:19:13.836Z"
   },
   {
    "duration": 7004,
    "start_time": "2025-03-24T23:19:14.656Z"
   },
   {
    "duration": 49,
    "start_time": "2025-03-24T23:19:21.661Z"
   },
   {
    "duration": 6947,
    "start_time": "2025-03-24T23:19:21.712Z"
   },
   {
    "duration": 65,
    "start_time": "2025-03-24T23:21:57.848Z"
   },
   {
    "duration": 6610,
    "start_time": "2025-03-24T23:22:03.833Z"
   },
   {
    "duration": 474,
    "start_time": "2025-03-24T23:25:59.697Z"
   },
   {
    "duration": 453,
    "start_time": "2025-03-24T23:26:41.118Z"
   },
   {
    "duration": 392,
    "start_time": "2025-03-24T23:27:18.965Z"
   },
   {
    "duration": 4209,
    "start_time": "2025-03-24T23:27:37.489Z"
   },
   {
    "duration": 3,
    "start_time": "2025-03-24T23:28:00.589Z"
   },
   {
    "duration": 623,
    "start_time": "2025-03-24T23:28:11.598Z"
   },
   {
    "duration": 7,
    "start_time": "2025-03-24T23:32:58.754Z"
   },
   {
    "duration": 63,
    "start_time": "2025-03-24T23:33:02.601Z"
   },
   {
    "duration": 3,
    "start_time": "2025-03-24T23:33:30.434Z"
   },
   {
    "duration": 3776,
    "start_time": "2025-03-24T23:34:23.074Z"
   },
   {
    "duration": 6930,
    "start_time": "2025-03-24T23:36:06.366Z"
   },
   {
    "duration": 18,
    "start_time": "2025-03-24T23:42:55.487Z"
   },
   {
    "duration": 4743,
    "start_time": "2025-03-30T21:20:52.289Z"
   },
   {
    "duration": 8049,
    "start_time": "2025-03-30T21:20:57.034Z"
   },
   {
    "duration": 17,
    "start_time": "2025-03-30T21:21:05.085Z"
   },
   {
    "duration": 130,
    "start_time": "2025-03-30T21:21:05.104Z"
   },
   {
    "duration": 55,
    "start_time": "2025-03-30T21:21:05.236Z"
   },
   {
    "duration": 5,
    "start_time": "2025-03-30T21:21:05.293Z"
   },
   {
    "duration": 536,
    "start_time": "2025-03-30T21:21:05.299Z"
   },
   {
    "duration": 373,
    "start_time": "2025-03-30T21:21:05.837Z"
   },
   {
    "duration": 22,
    "start_time": "2025-03-30T21:21:06.212Z"
   },
   {
    "duration": 34,
    "start_time": "2025-03-30T21:21:06.237Z"
   },
   {
    "duration": 48,
    "start_time": "2025-03-30T21:21:06.273Z"
   },
   {
    "duration": 28,
    "start_time": "2025-03-30T21:21:06.323Z"
   },
   {
    "duration": 23,
    "start_time": "2025-03-30T21:21:06.353Z"
   },
   {
    "duration": 32,
    "start_time": "2025-03-30T21:21:06.378Z"
   },
   {
    "duration": 41,
    "start_time": "2025-03-30T21:21:06.412Z"
   },
   {
    "duration": 51,
    "start_time": "2025-03-30T21:21:06.455Z"
   },
   {
    "duration": 107,
    "start_time": "2025-03-30T21:21:06.508Z"
   },
   {
    "duration": 25,
    "start_time": "2025-03-30T21:21:06.616Z"
   },
   {
    "duration": 502,
    "start_time": "2025-03-30T21:21:06.642Z"
   },
   {
    "duration": 4,
    "start_time": "2025-03-30T21:21:07.145Z"
   },
   {
    "duration": 100,
    "start_time": "2025-03-30T21:21:07.150Z"
   },
   {
    "duration": 912,
    "start_time": "2025-03-30T21:21:07.252Z"
   },
   {
    "duration": 94,
    "start_time": "2025-03-30T21:21:08.165Z"
   },
   {
    "duration": 7446,
    "start_time": "2025-03-30T21:21:08.260Z"
   },
   {
    "duration": 746,
    "start_time": "2025-03-30T21:21:15.708Z"
   },
   {
    "duration": 7904,
    "start_time": "2025-03-30T21:21:16.456Z"
   },
   {
    "duration": 20,
    "start_time": "2025-03-30T21:21:24.362Z"
   },
   {
    "duration": 3629,
    "start_time": "2025-03-30T21:28:44.316Z"
   },
   {
    "duration": 1046,
    "start_time": "2025-03-30T21:28:47.947Z"
   },
   {
    "duration": 18,
    "start_time": "2025-03-30T21:28:48.995Z"
   },
   {
    "duration": 121,
    "start_time": "2025-03-30T21:28:49.016Z"
   },
   {
    "duration": 55,
    "start_time": "2025-03-30T21:28:49.139Z"
   },
   {
    "duration": 4,
    "start_time": "2025-03-30T21:28:49.196Z"
   },
   {
    "duration": 510,
    "start_time": "2025-03-30T21:28:49.203Z"
   },
   {
    "duration": 375,
    "start_time": "2025-03-30T21:28:49.715Z"
   },
   {
    "duration": 24,
    "start_time": "2025-03-30T21:28:50.091Z"
   },
   {
    "duration": 19,
    "start_time": "2025-03-30T21:28:50.118Z"
   },
   {
    "duration": 41,
    "start_time": "2025-03-30T21:28:50.138Z"
   },
   {
    "duration": 20,
    "start_time": "2025-03-30T21:28:50.180Z"
   },
   {
    "duration": 25,
    "start_time": "2025-03-30T21:28:50.201Z"
   },
   {
    "duration": 38,
    "start_time": "2025-03-30T21:28:50.228Z"
   },
   {
    "duration": 22,
    "start_time": "2025-03-30T21:28:50.267Z"
   },
   {
    "duration": 48,
    "start_time": "2025-03-30T21:28:50.291Z"
   },
   {
    "duration": 33,
    "start_time": "2025-03-30T21:28:50.341Z"
   },
   {
    "duration": 23,
    "start_time": "2025-03-30T21:28:50.376Z"
   },
   {
    "duration": 394,
    "start_time": "2025-03-30T21:28:50.400Z"
   },
   {
    "duration": 4,
    "start_time": "2025-03-30T21:28:50.795Z"
   },
   {
    "duration": 100,
    "start_time": "2025-03-30T21:28:50.800Z"
   },
   {
    "duration": 900,
    "start_time": "2025-03-30T21:28:50.901Z"
   },
   {
    "duration": 92,
    "start_time": "2025-03-30T21:28:51.802Z"
   },
   {
    "duration": 7234,
    "start_time": "2025-03-30T21:28:51.896Z"
   },
   {
    "duration": 822,
    "start_time": "2025-03-30T21:28:59.132Z"
   },
   {
    "duration": 7903,
    "start_time": "2025-03-30T21:28:59.955Z"
   },
   {
    "duration": 17,
    "start_time": "2025-03-30T21:29:07.859Z"
   },
   {
    "duration": 117,
    "start_time": "2025-03-30T21:29:07.879Z"
   },
   {
    "duration": 0,
    "start_time": "2025-03-30T21:29:07.998Z"
   },
   {
    "duration": 759,
    "start_time": "2025-03-30T21:32:03.105Z"
   },
   {
    "duration": 2695,
    "start_time": "2025-03-30T21:32:27.040Z"
   },
   {
    "duration": 1032,
    "start_time": "2025-03-30T21:32:32.785Z"
   },
   {
    "duration": 18,
    "start_time": "2025-03-30T21:39:13.884Z"
   },
   {
    "duration": 2479,
    "start_time": "2025-03-30T21:39:32.785Z"
   },
   {
    "duration": 215,
    "start_time": "2025-03-30T21:39:44.596Z"
   },
   {
    "duration": 3118,
    "start_time": "2025-03-30T21:41:09.069Z"
   },
   {
    "duration": 622,
    "start_time": "2025-03-30T22:00:31.233Z"
   },
   {
    "duration": 3838,
    "start_time": "2025-03-30T22:00:41.160Z"
   },
   {
    "duration": 1051,
    "start_time": "2025-03-30T22:00:45.000Z"
   },
   {
    "duration": 19,
    "start_time": "2025-03-30T22:00:46.052Z"
   },
   {
    "duration": 124,
    "start_time": "2025-03-30T22:00:46.073Z"
   },
   {
    "duration": 45,
    "start_time": "2025-03-30T22:00:46.199Z"
   },
   {
    "duration": 4,
    "start_time": "2025-03-30T22:00:46.245Z"
   },
   {
    "duration": 519,
    "start_time": "2025-03-30T22:00:46.258Z"
   },
   {
    "duration": 357,
    "start_time": "2025-03-30T22:00:46.779Z"
   },
   {
    "duration": 26,
    "start_time": "2025-03-30T22:00:47.138Z"
   },
   {
    "duration": 86,
    "start_time": "2025-03-30T22:00:47.167Z"
   },
   {
    "duration": 25,
    "start_time": "2025-03-30T22:00:47.255Z"
   },
   {
    "duration": 20,
    "start_time": "2025-03-30T22:00:47.282Z"
   },
   {
    "duration": 24,
    "start_time": "2025-03-30T22:00:47.303Z"
   },
   {
    "duration": 34,
    "start_time": "2025-03-30T22:00:47.329Z"
   },
   {
    "duration": 23,
    "start_time": "2025-03-30T22:00:47.365Z"
   },
   {
    "duration": 53,
    "start_time": "2025-03-30T22:00:47.390Z"
   },
   {
    "duration": 22,
    "start_time": "2025-03-30T22:00:47.458Z"
   },
   {
    "duration": 113,
    "start_time": "2025-03-30T22:00:47.482Z"
   },
   {
    "duration": 396,
    "start_time": "2025-03-30T22:00:47.597Z"
   },
   {
    "duration": 3,
    "start_time": "2025-03-30T22:00:47.994Z"
   },
   {
    "duration": 99,
    "start_time": "2025-03-30T22:00:47.999Z"
   },
   {
    "duration": 882,
    "start_time": "2025-03-30T22:00:48.100Z"
   },
   {
    "duration": 90,
    "start_time": "2025-03-30T22:00:48.984Z"
   },
   {
    "duration": 7212,
    "start_time": "2025-03-30T22:00:49.075Z"
   },
   {
    "duration": 700,
    "start_time": "2025-03-30T22:00:56.288Z"
   },
   {
    "duration": 8032,
    "start_time": "2025-03-30T22:00:56.989Z"
   },
   {
    "duration": 19,
    "start_time": "2025-03-30T22:01:05.022Z"
   },
   {
    "duration": 745,
    "start_time": "2025-03-30T22:01:05.044Z"
   },
   {
    "duration": 0,
    "start_time": "2025-03-30T22:01:05.791Z"
   },
   {
    "duration": 630,
    "start_time": "2025-03-30T22:02:03.166Z"
   },
   {
    "duration": 1132,
    "start_time": "2025-03-30T22:02:20.534Z"
   },
   {
    "duration": 1100,
    "start_time": "2025-03-30T22:05:09.027Z"
   },
   {
    "duration": 965,
    "start_time": "2025-03-30T22:05:31.383Z"
   },
   {
    "duration": 93,
    "start_time": "2025-03-30T22:14:44.306Z"
   },
   {
    "duration": 2396,
    "start_time": "2025-03-30T22:14:58.170Z"
   },
   {
    "duration": 128,
    "start_time": "2025-03-30T22:15:03.518Z"
   },
   {
    "duration": 3760,
    "start_time": "2025-03-30T22:15:34.994Z"
   },
   {
    "duration": 863,
    "start_time": "2025-03-30T22:15:38.756Z"
   },
   {
    "duration": 16,
    "start_time": "2025-03-30T22:15:39.620Z"
   },
   {
    "duration": 150,
    "start_time": "2025-03-30T22:15:39.638Z"
   },
   {
    "duration": 53,
    "start_time": "2025-03-30T22:15:39.790Z"
   },
   {
    "duration": 5,
    "start_time": "2025-03-30T22:15:39.858Z"
   },
   {
    "duration": 742,
    "start_time": "2025-03-30T22:15:39.864Z"
   },
   {
    "duration": 519,
    "start_time": "2025-03-30T22:15:40.608Z"
   },
   {
    "duration": 30,
    "start_time": "2025-03-30T22:15:41.128Z"
   },
   {
    "duration": 99,
    "start_time": "2025-03-30T22:15:41.161Z"
   },
   {
    "duration": 21,
    "start_time": "2025-03-30T22:15:41.261Z"
   },
   {
    "duration": 19,
    "start_time": "2025-03-30T22:15:41.284Z"
   },
   {
    "duration": 22,
    "start_time": "2025-03-30T22:15:41.304Z"
   },
   {
    "duration": 40,
    "start_time": "2025-03-30T22:15:41.328Z"
   },
   {
    "duration": 21,
    "start_time": "2025-03-30T22:15:41.369Z"
   },
   {
    "duration": 47,
    "start_time": "2025-03-30T22:15:41.392Z"
   },
   {
    "duration": 38,
    "start_time": "2025-03-30T22:15:41.440Z"
   },
   {
    "duration": 20,
    "start_time": "2025-03-30T22:15:41.480Z"
   },
   {
    "duration": 587,
    "start_time": "2025-03-30T22:15:41.501Z"
   },
   {
    "duration": 4,
    "start_time": "2025-03-30T22:15:42.089Z"
   },
   {
    "duration": 99,
    "start_time": "2025-03-30T22:15:42.094Z"
   },
   {
    "duration": 887,
    "start_time": "2025-03-30T22:15:42.195Z"
   },
   {
    "duration": 81,
    "start_time": "2025-03-30T22:15:43.084Z"
   },
   {
    "duration": 7099,
    "start_time": "2025-03-30T22:15:43.167Z"
   },
   {
    "duration": 706,
    "start_time": "2025-03-30T22:15:50.268Z"
   },
   {
    "duration": 8196,
    "start_time": "2025-03-30T22:15:50.976Z"
   },
   {
    "duration": 17,
    "start_time": "2025-03-30T22:15:59.174Z"
   },
   {
    "duration": 1441,
    "start_time": "2025-03-30T22:15:59.194Z"
   },
   {
    "duration": 224,
    "start_time": "2025-03-30T22:16:00.637Z"
   },
   {
    "duration": 10,
    "start_time": "2025-03-30T22:16:00.862Z"
   },
   {
    "duration": 5,
    "start_time": "2025-03-30T22:18:16.118Z"
   },
   {
    "duration": 33,
    "start_time": "2025-03-30T22:18:29.182Z"
   },
   {
    "duration": 3694,
    "start_time": "2025-03-30T22:19:25.685Z"
   },
   {
    "duration": 864,
    "start_time": "2025-03-30T22:19:29.381Z"
   },
   {
    "duration": 21,
    "start_time": "2025-03-30T22:19:30.249Z"
   },
   {
    "duration": 154,
    "start_time": "2025-03-30T22:19:30.272Z"
   },
   {
    "duration": 64,
    "start_time": "2025-03-30T22:19:30.427Z"
   },
   {
    "duration": 4,
    "start_time": "2025-03-30T22:19:30.492Z"
   },
   {
    "duration": 761,
    "start_time": "2025-03-30T22:19:30.498Z"
   },
   {
    "duration": 543,
    "start_time": "2025-03-30T22:19:31.261Z"
   },
   {
    "duration": 21,
    "start_time": "2025-03-30T22:19:31.808Z"
   },
   {
    "duration": 37,
    "start_time": "2025-03-30T22:19:31.831Z"
   },
   {
    "duration": 30,
    "start_time": "2025-03-30T22:19:31.869Z"
   },
   {
    "duration": 29,
    "start_time": "2025-03-30T22:19:31.901Z"
   },
   {
    "duration": 23,
    "start_time": "2025-03-30T22:19:31.932Z"
   },
   {
    "duration": 29,
    "start_time": "2025-03-30T22:19:31.958Z"
   },
   {
    "duration": 24,
    "start_time": "2025-03-30T22:19:31.989Z"
   },
   {
    "duration": 52,
    "start_time": "2025-03-30T22:19:32.015Z"
   },
   {
    "duration": 22,
    "start_time": "2025-03-30T22:19:32.069Z"
   },
   {
    "duration": 25,
    "start_time": "2025-03-30T22:19:32.093Z"
   },
   {
    "duration": 568,
    "start_time": "2025-03-30T22:19:32.119Z"
   },
   {
    "duration": 4,
    "start_time": "2025-03-30T22:19:32.689Z"
   },
   {
    "duration": 164,
    "start_time": "2025-03-30T22:19:32.695Z"
   },
   {
    "duration": 866,
    "start_time": "2025-03-30T22:19:32.861Z"
   },
   {
    "duration": 94,
    "start_time": "2025-03-30T22:19:33.729Z"
   },
   {
    "duration": 7205,
    "start_time": "2025-03-30T22:19:33.825Z"
   },
   {
    "duration": 762,
    "start_time": "2025-03-30T22:19:41.031Z"
   },
   {
    "duration": 8349,
    "start_time": "2025-03-30T22:19:41.795Z"
   },
   {
    "duration": 31,
    "start_time": "2025-03-30T22:19:50.147Z"
   },
   {
    "duration": 1492,
    "start_time": "2025-03-30T22:19:50.180Z"
   },
   {
    "duration": 212,
    "start_time": "2025-03-30T22:19:51.673Z"
   },
   {
    "duration": 11,
    "start_time": "2025-03-30T22:19:51.888Z"
   },
   {
    "duration": 0,
    "start_time": "2025-03-30T22:19:51.902Z"
   },
   {
    "duration": 0,
    "start_time": "2025-03-30T22:19:51.903Z"
   },
   {
    "duration": 149,
    "start_time": "2025-03-30T22:21:42.499Z"
   },
   {
    "duration": 4,
    "start_time": "2025-03-30T22:22:16.667Z"
   },
   {
    "duration": 33,
    "start_time": "2025-03-30T22:22:20.503Z"
   },
   {
    "duration": 3737,
    "start_time": "2025-03-30T22:23:26.234Z"
   },
   {
    "duration": 887,
    "start_time": "2025-03-30T22:23:29.973Z"
   },
   {
    "duration": 21,
    "start_time": "2025-03-30T22:23:30.862Z"
   },
   {
    "duration": 173,
    "start_time": "2025-03-30T22:23:30.886Z"
   },
   {
    "duration": 55,
    "start_time": "2025-03-30T22:23:31.061Z"
   },
   {
    "duration": 4,
    "start_time": "2025-03-30T22:23:31.118Z"
   },
   {
    "duration": 825,
    "start_time": "2025-03-30T22:23:31.124Z"
   },
   {
    "duration": 541,
    "start_time": "2025-03-30T22:23:31.951Z"
   },
   {
    "duration": 23,
    "start_time": "2025-03-30T22:23:32.494Z"
   },
   {
    "duration": 23,
    "start_time": "2025-03-30T22:23:32.519Z"
   },
   {
    "duration": 29,
    "start_time": "2025-03-30T22:23:32.544Z"
   },
   {
    "duration": 29,
    "start_time": "2025-03-30T22:23:32.575Z"
   },
   {
    "duration": 23,
    "start_time": "2025-03-30T22:23:32.605Z"
   },
   {
    "duration": 32,
    "start_time": "2025-03-30T22:23:32.629Z"
   },
   {
    "duration": 148,
    "start_time": "2025-03-30T22:23:32.662Z"
   },
   {
    "duration": 61,
    "start_time": "2025-03-30T22:23:32.812Z"
   },
   {
    "duration": 22,
    "start_time": "2025-03-30T22:23:32.875Z"
   },
   {
    "duration": 96,
    "start_time": "2025-03-30T22:23:32.899Z"
   },
   {
    "duration": 579,
    "start_time": "2025-03-30T22:23:32.997Z"
   },
   {
    "duration": 4,
    "start_time": "2025-03-30T22:23:33.577Z"
   },
   {
    "duration": 153,
    "start_time": "2025-03-30T22:23:33.582Z"
   },
   {
    "duration": 874,
    "start_time": "2025-03-30T22:23:33.737Z"
   },
   {
    "duration": 78,
    "start_time": "2025-03-30T22:23:34.613Z"
   },
   {
    "duration": 7137,
    "start_time": "2025-03-30T22:23:34.693Z"
   },
   {
    "duration": 739,
    "start_time": "2025-03-30T22:23:41.832Z"
   },
   {
    "duration": 5996,
    "start_time": "2025-03-30T22:23:42.572Z"
   },
   {
    "duration": 19,
    "start_time": "2025-03-30T22:23:48.570Z"
   },
   {
    "duration": 1159,
    "start_time": "2025-03-30T22:23:48.592Z"
   },
   {
    "duration": 14218,
    "start_time": "2025-03-30T22:23:49.753Z"
   },
   {
    "duration": 1609,
    "start_time": "2025-03-30T22:24:04.059Z"
   },
   {
    "duration": 4,
    "start_time": "2025-03-30T22:24:05.670Z"
   },
   {
    "duration": 82,
    "start_time": "2025-03-30T22:24:05.676Z"
   },
   {
    "duration": 3015,
    "start_time": "2025-03-30T22:26:41.170Z"
   },
   {
    "duration": 2996,
    "start_time": "2025-03-30T22:31:43.716Z"
   },
   {
    "duration": 196475,
    "start_time": "2025-03-30T22:34:35.181Z"
   },
   {
    "duration": 366,
    "start_time": "2025-03-30T22:37:59.044Z"
   },
   {
    "duration": 13299,
    "start_time": "2025-03-30T22:38:08.568Z"
   },
   {
    "duration": 1690,
    "start_time": "2025-03-30T22:38:21.869Z"
   },
   {
    "duration": 1556,
    "start_time": "2025-03-30T22:40:03.612Z"
   },
   {
    "duration": 1565,
    "start_time": "2025-03-30T22:40:07.608Z"
   },
   {
    "duration": 2612,
    "start_time": "2025-03-30T22:41:26.252Z"
   },
   {
    "duration": 16649,
    "start_time": "2025-03-30T22:42:59.912Z"
   },
   {
    "duration": 299,
    "start_time": "2025-03-30T22:43:16.564Z"
   },
   {
    "duration": 2581,
    "start_time": "2025-03-30T22:49:30.116Z"
   },
   {
    "duration": 57083,
    "start_time": "2025-03-30T22:53:30.076Z"
   },
   {
    "duration": 1325,
    "start_time": "2025-03-30T22:54:27.160Z"
   },
   {
    "duration": 5,
    "start_time": "2025-03-30T22:57:38.553Z"
   },
   {
    "duration": 120,
    "start_time": "2025-03-30T22:57:43.585Z"
   },
   {
    "duration": 171205,
    "start_time": "2025-03-30T22:57:52.641Z"
   },
   {
    "duration": 4052,
    "start_time": "2025-03-30T23:01:41.938Z"
   },
   {
    "duration": 869,
    "start_time": "2025-03-30T23:01:45.992Z"
   },
   {
    "duration": 19,
    "start_time": "2025-03-30T23:01:46.862Z"
   },
   {
    "duration": 173,
    "start_time": "2025-03-30T23:01:46.884Z"
   },
   {
    "duration": 59,
    "start_time": "2025-03-30T23:01:47.059Z"
   },
   {
    "duration": 4,
    "start_time": "2025-03-30T23:01:47.120Z"
   },
   {
    "duration": 733,
    "start_time": "2025-03-30T23:01:47.125Z"
   },
   {
    "duration": 520,
    "start_time": "2025-03-30T23:01:47.860Z"
   },
   {
    "duration": 22,
    "start_time": "2025-03-30T23:01:48.381Z"
   },
   {
    "duration": 19,
    "start_time": "2025-03-30T23:01:48.406Z"
   },
   {
    "duration": 36,
    "start_time": "2025-03-30T23:01:48.426Z"
   },
   {
    "duration": 20,
    "start_time": "2025-03-30T23:01:48.464Z"
   },
   {
    "duration": 23,
    "start_time": "2025-03-30T23:01:48.485Z"
   },
   {
    "duration": 18,
    "start_time": "2025-03-30T23:01:48.510Z"
   },
   {
    "duration": 46,
    "start_time": "2025-03-30T23:01:48.530Z"
   },
   {
    "duration": 48,
    "start_time": "2025-03-30T23:01:48.578Z"
   },
   {
    "duration": 30,
    "start_time": "2025-03-30T23:01:48.628Z"
   },
   {
    "duration": 19,
    "start_time": "2025-03-30T23:01:48.660Z"
   },
   {
    "duration": 577,
    "start_time": "2025-03-30T23:01:48.681Z"
   },
   {
    "duration": 3,
    "start_time": "2025-03-30T23:01:49.260Z"
   },
   {
    "duration": 180,
    "start_time": "2025-03-30T23:01:49.265Z"
   },
   {
    "duration": 880,
    "start_time": "2025-03-30T23:01:49.447Z"
   },
   {
    "duration": 80,
    "start_time": "2025-03-30T23:01:50.328Z"
   },
   {
    "duration": 7069,
    "start_time": "2025-03-30T23:01:50.409Z"
   },
   {
    "duration": 710,
    "start_time": "2025-03-30T23:01:57.479Z"
   },
   {
    "duration": 5992,
    "start_time": "2025-03-30T23:01:58.191Z"
   },
   {
    "duration": 20,
    "start_time": "2025-03-30T23:02:04.184Z"
   },
   {
    "duration": 1127,
    "start_time": "2025-03-30T23:02:04.207Z"
   },
   {
    "duration": 13624,
    "start_time": "2025-03-30T23:02:05.335Z"
   },
   {
    "duration": 1607,
    "start_time": "2025-03-30T23:02:18.961Z"
   },
   {
    "duration": 195627,
    "start_time": "2025-03-30T23:02:20.570Z"
   },
   {
    "duration": 370,
    "start_time": "2025-03-30T23:05:36.199Z"
   },
   {
    "duration": 16489,
    "start_time": "2025-03-30T23:05:36.570Z"
   },
   {
    "duration": 298,
    "start_time": "2025-03-30T23:05:53.061Z"
   },
   {
    "duration": 161947,
    "start_time": "2025-03-30T23:05:53.365Z"
   },
   {
    "duration": 9082,
    "start_time": "2025-03-30T23:08:35.313Z"
   },
   {
    "duration": 12927,
    "start_time": "2025-03-30T23:16:41.045Z"
   },
   {
    "duration": 1125,
    "start_time": "2025-03-30T23:17:04.349Z"
   },
   {
    "duration": 12489,
    "start_time": "2025-03-30T23:17:17.978Z"
   },
   {
    "duration": 1296,
    "start_time": "2025-03-30T23:17:30.468Z"
   },
   {
    "duration": 3772,
    "start_time": "2025-03-30T23:21:30.846Z"
   },
   {
    "duration": 873,
    "start_time": "2025-03-30T23:21:34.620Z"
   },
   {
    "duration": 18,
    "start_time": "2025-03-30T23:21:35.494Z"
   },
   {
    "duration": 154,
    "start_time": "2025-03-30T23:21:35.513Z"
   },
   {
    "duration": 61,
    "start_time": "2025-03-30T23:21:35.669Z"
   },
   {
    "duration": 4,
    "start_time": "2025-03-30T23:21:35.732Z"
   },
   {
    "duration": 804,
    "start_time": "2025-03-30T23:21:35.737Z"
   },
   {
    "duration": 537,
    "start_time": "2025-03-30T23:21:36.543Z"
   },
   {
    "duration": 21,
    "start_time": "2025-03-30T23:21:37.081Z"
   },
   {
    "duration": 76,
    "start_time": "2025-03-30T23:21:37.105Z"
   },
   {
    "duration": 26,
    "start_time": "2025-03-30T23:21:37.183Z"
   },
   {
    "duration": 19,
    "start_time": "2025-03-30T23:21:37.210Z"
   },
   {
    "duration": 28,
    "start_time": "2025-03-30T23:21:37.230Z"
   },
   {
    "duration": 24,
    "start_time": "2025-03-30T23:21:37.260Z"
   },
   {
    "duration": 24,
    "start_time": "2025-03-30T23:21:37.285Z"
   },
   {
    "duration": 58,
    "start_time": "2025-03-30T23:21:37.310Z"
   },
   {
    "duration": 55,
    "start_time": "2025-03-30T23:21:37.369Z"
   },
   {
    "duration": 19,
    "start_time": "2025-03-30T23:21:37.426Z"
   },
   {
    "duration": 580,
    "start_time": "2025-03-30T23:21:37.446Z"
   },
   {
    "duration": 3,
    "start_time": "2025-03-30T23:21:38.028Z"
   },
   {
    "duration": 101,
    "start_time": "2025-03-30T23:21:38.032Z"
   },
   {
    "duration": 864,
    "start_time": "2025-03-30T23:21:38.135Z"
   },
   {
    "duration": 82,
    "start_time": "2025-03-30T23:21:39.000Z"
   },
   {
    "duration": 7118,
    "start_time": "2025-03-30T23:21:39.084Z"
   },
   {
    "duration": 742,
    "start_time": "2025-03-30T23:21:46.204Z"
   },
   {
    "duration": 5946,
    "start_time": "2025-03-30T23:21:46.947Z"
   },
   {
    "duration": 17,
    "start_time": "2025-03-30T23:21:52.894Z"
   },
   {
    "duration": 1170,
    "start_time": "2025-03-30T23:21:52.914Z"
   },
   {
    "duration": 17773,
    "start_time": "2025-03-30T23:21:54.086Z"
   },
   {
    "duration": 2099,
    "start_time": "2025-03-30T23:22:11.860Z"
   },
   {
    "duration": 194365,
    "start_time": "2025-03-30T23:22:13.961Z"
   },
   {
    "duration": 367,
    "start_time": "2025-03-30T23:25:28.327Z"
   },
   {
    "duration": 16764,
    "start_time": "2025-03-30T23:25:28.695Z"
   },
   {
    "duration": 298,
    "start_time": "2025-03-30T23:25:45.461Z"
   },
   {
    "duration": 160947,
    "start_time": "2025-03-30T23:25:45.761Z"
   },
   {
    "duration": 9156,
    "start_time": "2025-03-30T23:28:26.710Z"
   },
   {
    "duration": 5094,
    "start_time": "2025-03-31T22:47:43.742Z"
   },
   {
    "duration": 838,
    "start_time": "2025-03-31T22:47:50.270Z"
   },
   {
    "duration": 17,
    "start_time": "2025-03-31T22:47:51.110Z"
   },
   {
    "duration": 208,
    "start_time": "2025-03-31T22:47:51.130Z"
   },
   {
    "duration": 4,
    "start_time": "2025-03-31T22:48:25.942Z"
   },
   {
    "duration": 144,
    "start_time": "2025-03-31T22:48:31.254Z"
   },
   {
    "duration": 66,
    "start_time": "2025-03-31T22:49:11.711Z"
   },
   {
    "duration": 4,
    "start_time": "2025-03-31T22:49:24.622Z"
   },
   {
    "duration": 6,
    "start_time": "2025-03-31T23:07:19.848Z"
   },
   {
    "duration": 6,
    "start_time": "2025-03-31T23:13:21.392Z"
   },
   {
    "duration": 26,
    "start_time": "2025-03-31T23:13:38.956Z"
   },
   {
    "duration": 5,
    "start_time": "2025-03-31T23:13:46.387Z"
   },
   {
    "duration": 6,
    "start_time": "2025-03-31T23:13:52.844Z"
   },
   {
    "duration": 7,
    "start_time": "2025-03-31T23:17:21.122Z"
   },
   {
    "duration": 6,
    "start_time": "2025-03-31T23:20:43.411Z"
   },
   {
    "duration": 950,
    "start_time": "2025-03-31T23:21:15.491Z"
   },
   {
    "duration": 1409,
    "start_time": "2025-03-31T23:35:14.921Z"
   },
   {
    "duration": 856,
    "start_time": "2025-03-31T23:35:29.519Z"
   },
   {
    "duration": 14,
    "start_time": "2025-03-31T23:35:30.377Z"
   },
   {
    "duration": 183,
    "start_time": "2025-03-31T23:35:30.392Z"
   },
   {
    "duration": 3,
    "start_time": "2025-03-31T23:35:30.831Z"
   },
   {
    "duration": 3,
    "start_time": "2025-03-31T23:35:31.102Z"
   },
   {
    "duration": 4,
    "start_time": "2025-03-31T23:35:31.810Z"
   },
   {
    "duration": 721,
    "start_time": "2025-03-31T23:35:32.067Z"
   },
   {
    "duration": 575,
    "start_time": "2025-03-31T23:35:32.791Z"
   },
   {
    "duration": 22,
    "start_time": "2025-03-31T23:35:33.368Z"
   },
   {
    "duration": 806,
    "start_time": "2025-03-31T23:35:33.393Z"
   },
   {
    "duration": 1,
    "start_time": "2025-03-31T23:35:34.201Z"
   },
   {
    "duration": 0,
    "start_time": "2025-03-31T23:35:34.203Z"
   },
   {
    "duration": 0,
    "start_time": "2025-03-31T23:35:34.204Z"
   },
   {
    "duration": 0,
    "start_time": "2025-03-31T23:35:34.205Z"
   },
   {
    "duration": 0,
    "start_time": "2025-03-31T23:35:34.206Z"
   },
   {
    "duration": 0,
    "start_time": "2025-03-31T23:35:34.208Z"
   },
   {
    "duration": 22,
    "start_time": "2025-03-31T23:35:34.310Z"
   },
   {
    "duration": 21,
    "start_time": "2025-03-31T23:35:34.550Z"
   },
   {
    "duration": 743,
    "start_time": "2025-03-31T23:35:35.238Z"
   },
   {
    "duration": 4,
    "start_time": "2025-03-31T23:35:39.682Z"
   },
   {
    "duration": 353,
    "start_time": "2025-03-31T23:36:45.423Z"
   },
   {
    "duration": 354,
    "start_time": "2025-03-31T23:44:16.395Z"
   },
   {
    "duration": 4,
    "start_time": "2025-03-31T23:44:22.043Z"
   },
   {
    "duration": 756,
    "start_time": "2025-03-31T23:44:25.851Z"
   },
   {
    "duration": 3882,
    "start_time": "2025-03-31T23:45:28.100Z"
   },
   {
    "duration": 873,
    "start_time": "2025-03-31T23:45:31.984Z"
   },
   {
    "duration": 19,
    "start_time": "2025-03-31T23:45:32.859Z"
   },
   {
    "duration": 167,
    "start_time": "2025-03-31T23:45:32.880Z"
   },
   {
    "duration": 5,
    "start_time": "2025-03-31T23:45:33.049Z"
   },
   {
    "duration": 13,
    "start_time": "2025-03-31T23:45:33.055Z"
   },
   {
    "duration": 15,
    "start_time": "2025-03-31T23:45:33.070Z"
   },
   {
    "duration": 772,
    "start_time": "2025-03-31T23:45:33.086Z"
   },
   {
    "duration": 542,
    "start_time": "2025-03-31T23:45:33.860Z"
   },
   {
    "duration": 22,
    "start_time": "2025-03-31T23:45:34.406Z"
   },
   {
    "duration": 869,
    "start_time": "2025-03-31T23:45:34.430Z"
   },
   {
    "duration": 0,
    "start_time": "2025-03-31T23:45:35.301Z"
   },
   {
    "duration": 0,
    "start_time": "2025-03-31T23:45:35.302Z"
   },
   {
    "duration": 0,
    "start_time": "2025-03-31T23:45:35.303Z"
   },
   {
    "duration": 0,
    "start_time": "2025-03-31T23:45:35.304Z"
   },
   {
    "duration": 0,
    "start_time": "2025-03-31T23:45:35.305Z"
   },
   {
    "duration": 0,
    "start_time": "2025-03-31T23:45:35.307Z"
   },
   {
    "duration": 0,
    "start_time": "2025-03-31T23:45:35.307Z"
   },
   {
    "duration": 1,
    "start_time": "2025-03-31T23:45:35.308Z"
   },
   {
    "duration": 0,
    "start_time": "2025-03-31T23:45:35.309Z"
   },
   {
    "duration": 0,
    "start_time": "2025-03-31T23:45:35.310Z"
   },
   {
    "duration": 0,
    "start_time": "2025-03-31T23:45:35.311Z"
   },
   {
    "duration": 0,
    "start_time": "2025-03-31T23:45:35.312Z"
   },
   {
    "duration": 0,
    "start_time": "2025-03-31T23:45:35.315Z"
   },
   {
    "duration": 0,
    "start_time": "2025-03-31T23:45:35.316Z"
   },
   {
    "duration": 0,
    "start_time": "2025-03-31T23:45:35.317Z"
   },
   {
    "duration": 0,
    "start_time": "2025-03-31T23:45:35.318Z"
   },
   {
    "duration": 0,
    "start_time": "2025-03-31T23:45:35.319Z"
   },
   {
    "duration": 0,
    "start_time": "2025-03-31T23:45:35.319Z"
   },
   {
    "duration": 0,
    "start_time": "2025-03-31T23:45:35.320Z"
   },
   {
    "duration": 0,
    "start_time": "2025-03-31T23:45:35.321Z"
   },
   {
    "duration": 0,
    "start_time": "2025-03-31T23:45:35.322Z"
   },
   {
    "duration": 0,
    "start_time": "2025-03-31T23:45:35.323Z"
   },
   {
    "duration": 0,
    "start_time": "2025-03-31T23:45:35.324Z"
   },
   {
    "duration": 0,
    "start_time": "2025-03-31T23:45:35.325Z"
   },
   {
    "duration": 0,
    "start_time": "2025-03-31T23:45:35.326Z"
   },
   {
    "duration": 0,
    "start_time": "2025-03-31T23:45:35.327Z"
   },
   {
    "duration": 23,
    "start_time": "2025-03-31T23:45:54.268Z"
   },
   {
    "duration": 20,
    "start_time": "2025-03-31T23:45:54.765Z"
   },
   {
    "duration": 27,
    "start_time": "2025-03-31T23:45:55.204Z"
   },
   {
    "duration": 193,
    "start_time": "2025-03-31T23:45:57.496Z"
   },
   {
    "duration": 24,
    "start_time": "2025-03-31T23:45:58.104Z"
   },
   {
    "duration": 53,
    "start_time": "2025-03-31T23:45:58.686Z"
   },
   {
    "duration": 22,
    "start_time": "2025-03-31T23:45:59.168Z"
   },
   {
    "duration": 28,
    "start_time": "2025-03-31T23:45:59.704Z"
   },
   {
    "duration": 734,
    "start_time": "2025-03-31T23:46:00.108Z"
   },
   {
    "duration": 378,
    "start_time": "2025-03-31T23:47:49.208Z"
   },
   {
    "duration": 568,
    "start_time": "2025-03-31T23:47:52.552Z"
   },
   {
    "duration": 4,
    "start_time": "2025-03-31T23:47:55.793Z"
   },
   {
    "duration": 89,
    "start_time": "2025-03-31T23:47:56.893Z"
   },
   {
    "duration": 1010,
    "start_time": "2025-03-31T23:47:58.413Z"
   },
   {
    "duration": 1054,
    "start_time": "2025-03-31T23:49:03.168Z"
   },
   {
    "duration": 125873,
    "start_time": "2025-03-31T23:49:08.212Z"
   },
   {
    "duration": 760,
    "start_time": "2025-03-31T23:51:14.087Z"
   },
   {
    "duration": 8523,
    "start_time": "2025-03-31T23:52:18.053Z"
   },
   {
    "duration": 182595,
    "start_time": "2025-03-31T23:53:50.218Z"
   },
   {
    "duration": 20,
    "start_time": "2025-04-01T00:00:07.912Z"
   },
   {
    "duration": 10552,
    "start_time": "2025-04-01T00:00:14.217Z"
   },
   {
    "duration": 20,
    "start_time": "2025-04-01T00:01:37.732Z"
   },
   {
    "duration": 17,
    "start_time": "2025-04-01T00:02:00.293Z"
   },
   {
    "duration": 2490,
    "start_time": "2025-04-01T00:02:18.056Z"
   },
   {
    "duration": 788,
    "start_time": "2025-04-01T00:02:20.549Z"
   },
   {
    "duration": 15,
    "start_time": "2025-04-01T00:02:21.339Z"
   },
   {
    "duration": 164,
    "start_time": "2025-04-01T00:02:21.355Z"
   },
   {
    "duration": 4,
    "start_time": "2025-04-01T00:02:21.521Z"
   },
   {
    "duration": 5,
    "start_time": "2025-04-01T00:02:24.008Z"
   },
   {
    "duration": 740,
    "start_time": "2025-04-01T00:02:24.172Z"
   },
   {
    "duration": 463,
    "start_time": "2025-04-01T00:02:24.914Z"
   },
   {
    "duration": 31,
    "start_time": "2025-04-01T00:02:25.379Z"
   },
   {
    "duration": 708,
    "start_time": "2025-04-01T00:02:25.412Z"
   },
   {
    "duration": 0,
    "start_time": "2025-04-01T00:02:26.122Z"
   },
   {
    "duration": 0,
    "start_time": "2025-04-01T00:02:26.123Z"
   },
   {
    "duration": 0,
    "start_time": "2025-04-01T00:02:26.124Z"
   },
   {
    "duration": 0,
    "start_time": "2025-04-01T00:02:26.125Z"
   },
   {
    "duration": 24,
    "start_time": "2025-04-01T00:02:26.236Z"
   },
   {
    "duration": 50,
    "start_time": "2025-04-01T00:02:26.456Z"
   },
   {
    "duration": 22,
    "start_time": "2025-04-01T00:02:26.648Z"
   },
   {
    "duration": 21,
    "start_time": "2025-04-01T00:02:26.984Z"
   },
   {
    "duration": 747,
    "start_time": "2025-04-01T00:02:27.763Z"
   },
   {
    "duration": 3933,
    "start_time": "2025-04-01T00:02:49.247Z"
   },
   {
    "duration": 881,
    "start_time": "2025-04-01T00:02:53.183Z"
   },
   {
    "duration": 18,
    "start_time": "2025-04-01T00:02:54.066Z"
   },
   {
    "duration": 157,
    "start_time": "2025-04-01T00:02:54.087Z"
   },
   {
    "duration": 22,
    "start_time": "2025-04-01T00:02:54.246Z"
   },
   {
    "duration": 16,
    "start_time": "2025-04-01T00:02:54.269Z"
   },
   {
    "duration": 6,
    "start_time": "2025-04-01T00:02:54.287Z"
   },
   {
    "duration": 785,
    "start_time": "2025-04-01T00:02:54.294Z"
   },
   {
    "duration": 514,
    "start_time": "2025-04-01T00:02:55.080Z"
   },
   {
    "duration": 23,
    "start_time": "2025-04-01T00:02:55.596Z"
   },
   {
    "duration": 959,
    "start_time": "2025-04-01T00:02:55.620Z"
   },
   {
    "duration": 0,
    "start_time": "2025-04-01T00:02:56.581Z"
   },
   {
    "duration": 1,
    "start_time": "2025-04-01T00:02:56.582Z"
   },
   {
    "duration": 1,
    "start_time": "2025-04-01T00:02:56.583Z"
   },
   {
    "duration": 0,
    "start_time": "2025-04-01T00:02:56.585Z"
   },
   {
    "duration": 0,
    "start_time": "2025-04-01T00:02:56.586Z"
   },
   {
    "duration": 0,
    "start_time": "2025-04-01T00:02:56.587Z"
   },
   {
    "duration": 0,
    "start_time": "2025-04-01T00:02:56.588Z"
   },
   {
    "duration": 0,
    "start_time": "2025-04-01T00:02:56.589Z"
   },
   {
    "duration": 0,
    "start_time": "2025-04-01T00:02:56.590Z"
   },
   {
    "duration": 0,
    "start_time": "2025-04-01T00:02:56.591Z"
   },
   {
    "duration": 0,
    "start_time": "2025-04-01T00:02:56.591Z"
   },
   {
    "duration": 0,
    "start_time": "2025-04-01T00:02:56.594Z"
   },
   {
    "duration": 0,
    "start_time": "2025-04-01T00:02:56.595Z"
   },
   {
    "duration": 0,
    "start_time": "2025-04-01T00:02:56.597Z"
   },
   {
    "duration": 0,
    "start_time": "2025-04-01T00:02:56.598Z"
   },
   {
    "duration": 0,
    "start_time": "2025-04-01T00:02:56.599Z"
   },
   {
    "duration": 0,
    "start_time": "2025-04-01T00:02:56.600Z"
   },
   {
    "duration": 0,
    "start_time": "2025-04-01T00:02:56.601Z"
   },
   {
    "duration": 0,
    "start_time": "2025-04-01T00:02:56.602Z"
   },
   {
    "duration": 0,
    "start_time": "2025-04-01T00:02:56.603Z"
   },
   {
    "duration": 0,
    "start_time": "2025-04-01T00:02:56.604Z"
   },
   {
    "duration": 0,
    "start_time": "2025-04-01T00:02:56.605Z"
   },
   {
    "duration": 0,
    "start_time": "2025-04-01T00:02:56.606Z"
   },
   {
    "duration": 0,
    "start_time": "2025-04-01T00:02:56.607Z"
   },
   {
    "duration": 0,
    "start_time": "2025-04-01T00:02:56.608Z"
   },
   {
    "duration": 0,
    "start_time": "2025-04-01T00:02:56.609Z"
   },
   {
    "duration": 699,
    "start_time": "2025-04-01T00:05:01.836Z"
   },
   {
    "duration": 715,
    "start_time": "2025-04-01T00:05:11.940Z"
   },
   {
    "duration": 6946,
    "start_time": "2025-04-01T00:05:45.942Z"
   },
   {
    "duration": 873,
    "start_time": "2025-04-01T00:05:52.890Z"
   },
   {
    "duration": 18,
    "start_time": "2025-04-01T00:05:53.765Z"
   },
   {
    "duration": 164,
    "start_time": "2025-04-01T00:05:53.785Z"
   },
   {
    "duration": 3,
    "start_time": "2025-04-01T00:05:53.951Z"
   },
   {
    "duration": 24,
    "start_time": "2025-04-01T00:05:53.956Z"
   },
   {
    "duration": 12,
    "start_time": "2025-04-01T00:05:53.982Z"
   },
   {
    "duration": 767,
    "start_time": "2025-04-01T00:05:53.995Z"
   },
   {
    "duration": 523,
    "start_time": "2025-04-01T00:05:54.763Z"
   },
   {
    "duration": 27,
    "start_time": "2025-04-01T00:05:55.289Z"
   },
   {
    "duration": 720,
    "start_time": "2025-04-01T00:05:55.318Z"
   },
   {
    "duration": 31,
    "start_time": "2025-04-01T00:05:56.040Z"
   },
   {
    "duration": 41,
    "start_time": "2025-04-01T00:05:56.073Z"
   },
   {
    "duration": 23,
    "start_time": "2025-04-01T00:05:56.116Z"
   },
   {
    "duration": 188,
    "start_time": "2025-04-01T00:05:56.141Z"
   },
   {
    "duration": 23,
    "start_time": "2025-04-01T00:05:56.330Z"
   },
   {
    "duration": 64,
    "start_time": "2025-04-01T00:05:56.355Z"
   },
   {
    "duration": 22,
    "start_time": "2025-04-01T00:05:56.421Z"
   },
   {
    "duration": 48,
    "start_time": "2025-04-01T00:05:56.445Z"
   },
   {
    "duration": 706,
    "start_time": "2025-04-01T00:05:56.495Z"
   },
   {
    "duration": 4,
    "start_time": "2025-04-01T00:05:57.206Z"
   },
   {
    "duration": 116,
    "start_time": "2025-04-01T00:05:57.211Z"
   },
   {
    "duration": 986,
    "start_time": "2025-04-01T00:05:57.328Z"
   },
   {
    "duration": 1113,
    "start_time": "2025-04-01T00:05:58.315Z"
   },
   {
    "duration": 7496,
    "start_time": "2025-04-01T00:05:59.430Z"
   },
   {
    "duration": 787,
    "start_time": "2025-04-01T00:06:06.927Z"
   },
   {
    "duration": 8551,
    "start_time": "2025-04-01T00:06:07.716Z"
   },
   {
    "duration": 23,
    "start_time": "2025-04-01T00:06:16.270Z"
   },
   {
    "duration": 1639,
    "start_time": "2025-04-01T00:06:16.294Z"
   },
   {
    "duration": 250,
    "start_time": "2025-04-01T00:06:17.934Z"
   },
   {
    "duration": 108,
    "start_time": "2025-04-01T00:06:18.186Z"
   },
   {
    "duration": 1740,
    "start_time": "2025-04-01T00:06:18.295Z"
   },
   {
    "duration": 110,
    "start_time": "2025-04-01T00:06:20.037Z"
   },
   {
    "duration": 26058,
    "start_time": "2025-04-01T00:06:20.149Z"
   },
   {
    "duration": 297,
    "start_time": "2025-04-01T00:06:46.210Z"
   },
   {
    "duration": 4475,
    "start_time": "2025-04-01T00:08:25.123Z"
   },
   {
    "duration": 902,
    "start_time": "2025-04-01T00:08:29.604Z"
   },
   {
    "duration": 20,
    "start_time": "2025-04-01T00:08:30.507Z"
   },
   {
    "duration": 162,
    "start_time": "2025-04-01T00:08:30.529Z"
   },
   {
    "duration": 13,
    "start_time": "2025-04-01T00:08:30.694Z"
   },
   {
    "duration": 25,
    "start_time": "2025-04-01T00:08:30.709Z"
   },
   {
    "duration": 24,
    "start_time": "2025-04-01T00:08:30.735Z"
   },
   {
    "duration": 799,
    "start_time": "2025-04-01T00:08:30.761Z"
   },
   {
    "duration": 544,
    "start_time": "2025-04-01T00:08:31.562Z"
   },
   {
    "duration": 23,
    "start_time": "2025-04-01T00:08:32.107Z"
   },
   {
    "duration": 796,
    "start_time": "2025-04-01T00:08:32.132Z"
   },
   {
    "duration": 23,
    "start_time": "2025-04-01T00:08:32.929Z"
   },
   {
    "duration": 44,
    "start_time": "2025-04-01T00:08:32.954Z"
   },
   {
    "duration": 42,
    "start_time": "2025-04-01T00:08:33.002Z"
   },
   {
    "duration": 205,
    "start_time": "2025-04-01T00:08:33.046Z"
   },
   {
    "duration": 24,
    "start_time": "2025-04-01T00:08:33.253Z"
   },
   {
    "duration": 84,
    "start_time": "2025-04-01T00:08:33.279Z"
   },
   {
    "duration": 23,
    "start_time": "2025-04-01T00:08:33.365Z"
   },
   {
    "duration": 74,
    "start_time": "2025-04-01T00:08:33.390Z"
   },
   {
    "duration": 823,
    "start_time": "2025-04-01T00:08:33.466Z"
   },
   {
    "duration": 14,
    "start_time": "2025-04-01T00:08:34.291Z"
   },
   {
    "duration": 162,
    "start_time": "2025-04-01T00:08:34.307Z"
   },
   {
    "duration": 984,
    "start_time": "2025-04-01T00:08:34.471Z"
   },
   {
    "duration": 1143,
    "start_time": "2025-04-01T00:08:35.457Z"
   },
   {
    "duration": 126,
    "start_time": "2025-04-01T00:08:36.604Z"
   },
   {
    "duration": 7481,
    "start_time": "2025-04-01T00:08:36.732Z"
   },
   {
    "duration": 780,
    "start_time": "2025-04-01T00:08:44.215Z"
   },
   {
    "duration": 8396,
    "start_time": "2025-04-01T00:08:45.004Z"
   },
   {
    "duration": 27,
    "start_time": "2025-04-01T00:08:53.402Z"
   },
   {
    "duration": 1655,
    "start_time": "2025-04-01T00:08:53.431Z"
   },
   {
    "duration": 267,
    "start_time": "2025-04-01T00:08:55.088Z"
   },
   {
    "duration": 108,
    "start_time": "2025-04-01T00:08:55.356Z"
   },
   {
    "duration": 1410,
    "start_time": "2025-04-01T00:08:55.465Z"
   },
   {
    "duration": 134,
    "start_time": "2025-04-01T00:08:56.876Z"
   },
   {
    "duration": 24396,
    "start_time": "2025-04-01T00:08:57.011Z"
   },
   {
    "duration": 209,
    "start_time": "2025-04-01T00:09:21.410Z"
   },
   {
    "duration": 246469,
    "start_time": "2025-04-01T00:09:21.707Z"
   },
   {
    "duration": 10121,
    "start_time": "2025-04-01T00:13:28.178Z"
   },
   {
    "duration": 15,
    "start_time": "2025-04-01T00:14:35.643Z"
   },
   {
    "duration": 852,
    "start_time": "2025-04-01T00:15:14.647Z"
   },
   {
    "duration": 14,
    "start_time": "2025-04-01T00:15:15.500Z"
   },
   {
    "duration": 206,
    "start_time": "2025-04-01T00:15:15.515Z"
   },
   {
    "duration": 4,
    "start_time": "2025-04-01T00:15:15.930Z"
   },
   {
    "duration": 2,
    "start_time": "2025-04-01T00:15:16.565Z"
   },
   {
    "duration": 4,
    "start_time": "2025-04-01T00:15:17.456Z"
   },
   {
    "duration": 696,
    "start_time": "2025-04-01T00:15:18.471Z"
   },
   {
    "duration": 448,
    "start_time": "2025-04-01T00:15:19.662Z"
   },
   {
    "duration": 22,
    "start_time": "2025-04-01T00:15:20.903Z"
   },
   {
    "duration": 153,
    "start_time": "2025-04-01T00:15:22.165Z"
   },
   {
    "duration": 23,
    "start_time": "2025-04-01T00:15:25.182Z"
   },
   {
    "duration": 20,
    "start_time": "2025-04-01T00:15:25.623Z"
   },
   {
    "duration": 25,
    "start_time": "2025-04-01T00:15:26.274Z"
   },
   {
    "duration": 153,
    "start_time": "2025-04-01T00:15:28.163Z"
   },
   {
    "duration": 22,
    "start_time": "2025-04-01T00:15:28.559Z"
   },
   {
    "duration": 50,
    "start_time": "2025-04-01T00:15:29.116Z"
   },
   {
    "duration": 22,
    "start_time": "2025-04-01T00:15:29.563Z"
   },
   {
    "duration": 21,
    "start_time": "2025-04-01T00:15:30.195Z"
   },
   {
    "duration": 562,
    "start_time": "2025-04-01T00:15:30.866Z"
   },
   {
    "duration": 4153,
    "start_time": "2025-04-01T00:15:37.354Z"
   },
   {
    "duration": 922,
    "start_time": "2025-04-01T00:15:41.509Z"
   },
   {
    "duration": 19,
    "start_time": "2025-04-01T00:15:42.432Z"
   },
   {
    "duration": 170,
    "start_time": "2025-04-01T00:15:42.453Z"
   },
   {
    "duration": 4,
    "start_time": "2025-04-01T00:15:42.624Z"
   },
   {
    "duration": 8,
    "start_time": "2025-04-01T00:15:42.630Z"
   },
   {
    "duration": 5,
    "start_time": "2025-04-01T00:15:42.639Z"
   },
   {
    "duration": 792,
    "start_time": "2025-04-01T00:15:42.645Z"
   },
   {
    "duration": 524,
    "start_time": "2025-04-01T00:15:43.438Z"
   },
   {
    "duration": 22,
    "start_time": "2025-04-01T00:15:43.965Z"
   },
   {
    "duration": 192,
    "start_time": "2025-04-01T00:15:43.989Z"
   },
   {
    "duration": 26,
    "start_time": "2025-04-01T00:15:44.183Z"
   },
   {
    "duration": 180,
    "start_time": "2025-04-01T00:15:44.210Z"
   },
   {
    "duration": 31,
    "start_time": "2025-04-01T00:15:44.392Z"
   },
   {
    "duration": 189,
    "start_time": "2025-04-01T00:15:44.424Z"
   },
   {
    "duration": 24,
    "start_time": "2025-04-01T00:15:44.615Z"
   },
   {
    "duration": 72,
    "start_time": "2025-04-01T00:15:44.640Z"
   },
   {
    "duration": 23,
    "start_time": "2025-04-01T00:15:44.713Z"
   },
   {
    "duration": 20,
    "start_time": "2025-04-01T00:15:44.738Z"
   },
   {
    "duration": 647,
    "start_time": "2025-04-01T00:15:44.760Z"
   },
   {
    "duration": 4,
    "start_time": "2025-04-01T00:15:45.408Z"
   },
   {
    "duration": 251,
    "start_time": "2025-04-01T00:15:45.413Z"
   },
   {
    "duration": 985,
    "start_time": "2025-04-01T00:15:45.665Z"
   },
   {
    "duration": 1128,
    "start_time": "2025-04-01T00:15:46.652Z"
   },
   {
    "duration": 7681,
    "start_time": "2025-04-01T00:15:47.781Z"
   },
   {
    "duration": 780,
    "start_time": "2025-04-01T00:15:55.463Z"
   },
   {
    "duration": 8596,
    "start_time": "2025-04-01T00:15:56.245Z"
   },
   {
    "duration": 23,
    "start_time": "2025-04-01T00:16:04.844Z"
   },
   {
    "duration": 1606,
    "start_time": "2025-04-01T00:16:04.869Z"
   },
   {
    "duration": 357,
    "start_time": "2025-04-01T00:16:06.476Z"
   },
   {
    "duration": 108,
    "start_time": "2025-04-01T00:16:06.834Z"
   },
   {
    "duration": 222056,
    "start_time": "2025-04-01T00:16:06.943Z"
   },
   {
    "duration": 435,
    "start_time": "2025-04-01T00:19:49.001Z"
   },
   {
    "duration": 24269,
    "start_time": "2025-04-01T00:19:49.438Z"
   },
   {
    "duration": 296,
    "start_time": "2025-04-01T00:20:13.709Z"
   },
   {
    "duration": 245931,
    "start_time": "2025-04-01T00:20:14.008Z"
   },
   {
    "duration": 9995,
    "start_time": "2025-04-01T00:24:19.941Z"
   },
   {
    "duration": 4957,
    "start_time": "2025-04-01T11:30:50.865Z"
   },
   {
    "duration": 840,
    "start_time": "2025-04-01T11:30:55.824Z"
   },
   {
    "duration": 18,
    "start_time": "2025-04-01T11:30:56.666Z"
   },
   {
    "duration": 201,
    "start_time": "2025-04-01T11:30:56.686Z"
   },
   {
    "duration": 4,
    "start_time": "2025-04-01T11:30:56.889Z"
   },
   {
    "duration": 99,
    "start_time": "2025-04-01T11:30:56.894Z"
   },
   {
    "duration": 4,
    "start_time": "2025-04-01T11:30:57.286Z"
   },
   {
    "duration": 814,
    "start_time": "2025-04-01T11:30:57.440Z"
   },
   {
    "duration": 452,
    "start_time": "2025-04-01T11:30:58.264Z"
   },
   {
    "duration": 21,
    "start_time": "2025-04-01T11:30:58.718Z"
   },
   {
    "duration": 175,
    "start_time": "2025-04-01T11:30:58.741Z"
   },
   {
    "duration": 22,
    "start_time": "2025-04-01T11:30:58.917Z"
   },
   {
    "duration": 267,
    "start_time": "2025-04-01T11:30:58.940Z"
   },
   {
    "duration": 28,
    "start_time": "2025-04-01T11:30:59.208Z"
   },
   {
    "duration": 161,
    "start_time": "2025-04-01T11:30:59.238Z"
   },
   {
    "duration": 21,
    "start_time": "2025-04-01T11:30:59.400Z"
   },
   {
    "duration": 52,
    "start_time": "2025-04-01T11:30:59.422Z"
   },
   {
    "duration": 30,
    "start_time": "2025-04-01T11:30:59.476Z"
   },
   {
    "duration": 20,
    "start_time": "2025-04-01T11:30:59.553Z"
   },
   {
    "duration": 590,
    "start_time": "2025-04-01T11:30:59.722Z"
   },
   {
    "duration": 4,
    "start_time": "2025-04-01T11:31:00.314Z"
   },
   {
    "duration": 89,
    "start_time": "2025-04-01T11:31:00.469Z"
   },
   {
    "duration": 981,
    "start_time": "2025-04-01T11:31:00.642Z"
   },
   {
    "duration": 1048,
    "start_time": "2025-04-01T11:31:01.625Z"
   },
   {
    "duration": 7110,
    "start_time": "2025-04-01T11:31:02.858Z"
   },
   {
    "duration": 719,
    "start_time": "2025-04-01T11:31:09.971Z"
   },
   {
    "duration": 7909,
    "start_time": "2025-04-01T11:31:10.691Z"
   },
   {
    "duration": 22,
    "start_time": "2025-04-01T11:31:18.601Z"
   },
   {
    "duration": 2401,
    "start_time": "2025-04-01T11:55:10.249Z"
   },
   {
    "duration": 8776,
    "start_time": "2025-04-01T11:58:35.060Z"
   },
   {
    "duration": 11,
    "start_time": "2025-04-01T11:59:07.271Z"
   },
   {
    "duration": 3,
    "start_time": "2025-04-01T11:59:46.668Z"
   },
   {
    "duration": 2880,
    "start_time": "2025-04-01T11:59:52.020Z"
   },
   {
    "duration": 8465,
    "start_time": "2025-04-01T12:01:02.932Z"
   },
   {
    "duration": 101,
    "start_time": "2025-04-01T12:01:42.592Z"
   },
   {
    "duration": 6,
    "start_time": "2025-04-01T12:02:09.360Z"
   },
   {
    "duration": 23,
    "start_time": "2025-04-01T12:02:16.956Z"
   },
   {
    "duration": 31,
    "start_time": "2025-04-01T12:03:18.209Z"
   },
   {
    "duration": 8360,
    "start_time": "2025-04-01T12:13:27.774Z"
   },
   {
    "duration": 7707,
    "start_time": "2025-04-01T12:21:28.419Z"
   },
   {
    "duration": 7642,
    "start_time": "2025-04-01T12:21:42.076Z"
   },
   {
    "duration": 188,
    "start_time": "2025-04-01T12:26:00.128Z"
   },
   {
    "duration": 54,
    "start_time": "2025-04-01T12:27:15.812Z"
   },
   {
    "duration": 18477,
    "start_time": "2025-04-01T12:27:19.440Z"
   },
   {
    "duration": 101,
    "start_time": "2025-04-01T12:27:37.919Z"
   },
   {
    "duration": 91,
    "start_time": "2025-04-01T12:27:38.022Z"
   },
   {
    "duration": 101,
    "start_time": "2025-04-01T12:27:38.115Z"
   },
   {
    "duration": 38894,
    "start_time": "2025-04-01T12:27:38.220Z"
   },
   {
    "duration": 206,
    "start_time": "2025-04-01T12:28:17.116Z"
   },
   {
    "duration": 9472,
    "start_time": "2025-04-01T13:29:16.008Z"
   },
   {
    "duration": 822,
    "start_time": "2025-04-01T13:29:25.482Z"
   },
   {
    "duration": 15,
    "start_time": "2025-04-01T13:29:26.306Z"
   },
   {
    "duration": 152,
    "start_time": "2025-04-01T13:29:26.323Z"
   },
   {
    "duration": 3,
    "start_time": "2025-04-01T13:29:26.477Z"
   },
   {
    "duration": 14,
    "start_time": "2025-04-01T13:29:26.482Z"
   },
   {
    "duration": 13,
    "start_time": "2025-04-01T13:29:26.497Z"
   },
   {
    "duration": 712,
    "start_time": "2025-04-01T13:29:26.512Z"
   },
   {
    "duration": 523,
    "start_time": "2025-04-01T13:29:27.226Z"
   },
   {
    "duration": 20,
    "start_time": "2025-04-01T13:29:27.753Z"
   },
   {
    "duration": 185,
    "start_time": "2025-04-01T13:29:27.775Z"
   },
   {
    "duration": 21,
    "start_time": "2025-04-01T13:29:27.962Z"
   },
   {
    "duration": 26,
    "start_time": "2025-04-01T13:29:27.984Z"
   },
   {
    "duration": 43,
    "start_time": "2025-04-01T13:29:28.011Z"
   },
   {
    "duration": 157,
    "start_time": "2025-04-01T13:29:28.055Z"
   },
   {
    "duration": 21,
    "start_time": "2025-04-01T13:29:28.214Z"
   },
   {
    "duration": 69,
    "start_time": "2025-04-01T13:29:28.236Z"
   },
   {
    "duration": 27,
    "start_time": "2025-04-01T13:29:28.308Z"
   },
   {
    "duration": 100,
    "start_time": "2025-04-01T13:29:28.337Z"
   },
   {
    "duration": 563,
    "start_time": "2025-04-01T13:29:28.438Z"
   },
   {
    "duration": 4,
    "start_time": "2025-04-01T13:29:29.004Z"
   },
   {
    "duration": 109,
    "start_time": "2025-04-01T13:29:29.009Z"
   },
   {
    "duration": 1035,
    "start_time": "2025-04-01T13:29:29.120Z"
   },
   {
    "duration": 998,
    "start_time": "2025-04-01T13:29:30.156Z"
   },
   {
    "duration": 7089,
    "start_time": "2025-04-01T13:29:31.156Z"
   },
   {
    "duration": 727,
    "start_time": "2025-04-01T13:29:38.247Z"
   },
   {
    "duration": 8143,
    "start_time": "2025-04-01T13:29:38.976Z"
   },
   {
    "duration": 28,
    "start_time": "2025-04-01T13:29:47.124Z"
   },
   {
    "duration": 5,
    "start_time": "2025-04-01T13:29:47.154Z"
   },
   {
    "duration": 201,
    "start_time": "2025-04-01T13:29:47.160Z"
   },
   {
    "duration": 29854,
    "start_time": "2025-04-01T13:29:47.363Z"
   },
   {
    "duration": 2,
    "start_time": "2025-04-01T13:30:17.219Z"
   },
   {
    "duration": 289523,
    "start_time": "2025-04-01T13:30:17.223Z"
   },
   {
    "duration": 976,
    "start_time": "2025-04-01T13:35:06.748Z"
   },
   {
    "duration": 34685,
    "start_time": "2025-04-01T13:35:07.726Z"
   },
   {
    "duration": 965,
    "start_time": "2025-04-01T13:35:42.413Z"
   },
   {
    "duration": 223,
    "start_time": "2025-04-01T13:35:43.380Z"
   },
   {
    "duration": 943,
    "start_time": "2025-04-01T13:35:43.605Z"
   },
   {
    "duration": 52,
    "start_time": "2025-04-01T13:35:44.550Z"
   },
   {
    "duration": 4,
    "start_time": "2025-04-01T13:35:44.604Z"
   },
   {
    "duration": 40,
    "start_time": "2025-04-01T13:35:44.610Z"
   },
   {
    "duration": 0,
    "start_time": "2025-04-01T13:35:44.651Z"
   },
   {
    "duration": 7791,
    "start_time": "2025-04-01T13:43:17.137Z"
   },
   {
    "duration": 5,
    "start_time": "2025-04-01T13:48:50.934Z"
   },
   {
    "duration": 53,
    "start_time": "2025-04-01T13:48:52.549Z"
   },
   {
    "duration": 4,
    "start_time": "2025-04-01T13:48:54.578Z"
   },
   {
    "duration": 5,
    "start_time": "2025-04-01T13:48:56.314Z"
   },
   {
    "duration": 22,
    "start_time": "2025-04-01T13:48:57.862Z"
   },
   {
    "duration": 7676,
    "start_time": "2025-04-01T13:49:50.106Z"
   },
   {
    "duration": 5,
    "start_time": "2025-04-01T13:50:03.594Z"
   },
   {
    "duration": 66,
    "start_time": "2025-04-01T13:50:04.372Z"
   },
   {
    "duration": 5,
    "start_time": "2025-04-01T13:50:05.590Z"
   },
   {
    "duration": 4,
    "start_time": "2025-04-01T13:50:06.530Z"
   },
   {
    "duration": 20,
    "start_time": "2025-04-01T13:50:09.006Z"
   },
   {
    "duration": 7719,
    "start_time": "2025-04-01T13:53:10.267Z"
   },
   {
    "duration": 16759,
    "start_time": "2025-04-02T14:24:58.458Z"
   },
   {
    "duration": 1024,
    "start_time": "2025-04-02T14:25:15.220Z"
   },
   {
    "duration": 16,
    "start_time": "2025-04-02T14:25:16.246Z"
   },
   {
    "duration": 181,
    "start_time": "2025-04-02T14:25:16.264Z"
   },
   {
    "duration": 4,
    "start_time": "2025-04-02T14:25:16.447Z"
   },
   {
    "duration": 4,
    "start_time": "2025-04-02T14:25:16.452Z"
   },
   {
    "duration": 5,
    "start_time": "2025-04-02T14:25:16.457Z"
   },
   {
    "duration": 896,
    "start_time": "2025-04-02T14:25:16.463Z"
   },
   {
    "duration": 578,
    "start_time": "2025-04-02T14:25:17.361Z"
   },
   {
    "duration": 24,
    "start_time": "2025-04-02T14:25:17.942Z"
   },
   {
    "duration": 215,
    "start_time": "2025-04-02T14:25:17.968Z"
   },
   {
    "duration": 33,
    "start_time": "2025-04-02T14:25:18.185Z"
   },
   {
    "duration": 24,
    "start_time": "2025-04-02T14:25:18.224Z"
   },
   {
    "duration": 34,
    "start_time": "2025-04-02T14:25:18.250Z"
   },
   {
    "duration": 266,
    "start_time": "2025-04-02T14:25:18.286Z"
   },
   {
    "duration": 24,
    "start_time": "2025-04-02T14:25:18.554Z"
   },
   {
    "duration": 74,
    "start_time": "2025-04-02T14:25:18.580Z"
   },
   {
    "duration": 69,
    "start_time": "2025-04-02T14:25:18.656Z"
   },
   {
    "duration": 21,
    "start_time": "2025-04-02T14:25:18.727Z"
   },
   {
    "duration": 704,
    "start_time": "2025-04-02T14:25:18.750Z"
   },
   {
    "duration": 5,
    "start_time": "2025-04-02T14:25:19.455Z"
   },
   {
    "duration": 156,
    "start_time": "2025-04-02T14:25:19.461Z"
   },
   {
    "duration": 1301,
    "start_time": "2025-04-02T14:25:19.621Z"
   },
   {
    "duration": 1187,
    "start_time": "2025-04-02T14:25:20.925Z"
   },
   {
    "duration": 8269,
    "start_time": "2025-04-02T14:25:22.117Z"
   },
   {
    "duration": 850,
    "start_time": "2025-04-02T14:25:30.388Z"
   },
   {
    "duration": 9642,
    "start_time": "2025-04-02T14:25:31.240Z"
   },
   {
    "duration": 36,
    "start_time": "2025-04-02T14:25:40.885Z"
   },
   {
    "duration": 246,
    "start_time": "2025-04-02T14:25:40.923Z"
   },
   {
    "duration": 5,
    "start_time": "2025-04-02T14:25:41.171Z"
   },
   {
    "duration": 41,
    "start_time": "2025-04-02T14:25:41.177Z"
   },
   {
    "duration": 168,
    "start_time": "2025-04-02T14:25:41.220Z"
   },
   {
    "duration": 0,
    "start_time": "2025-04-02T14:25:41.390Z"
   },
   {
    "duration": 0,
    "start_time": "2025-04-02T14:25:41.391Z"
   },
   {
    "duration": 0,
    "start_time": "2025-04-02T14:25:41.392Z"
   },
   {
    "duration": 9048,
    "start_time": "2025-04-02T14:28:03.743Z"
   },
   {
    "duration": 4,
    "start_time": "2025-04-02T14:28:17.079Z"
   },
   {
    "duration": 2371,
    "start_time": "2025-04-02T14:28:18.475Z"
   },
   {
    "duration": 12488,
    "start_time": "2025-04-02T14:30:31.560Z"
   },
   {
    "duration": 2358,
    "start_time": "2025-04-02T14:30:55.304Z"
   },
   {
    "duration": 13356,
    "start_time": "2025-04-02T14:36:42.055Z"
   },
   {
    "duration": 969,
    "start_time": "2025-04-02T14:36:55.413Z"
   },
   {
    "duration": 26,
    "start_time": "2025-04-02T14:36:56.384Z"
   },
   {
    "duration": 164,
    "start_time": "2025-04-02T14:36:56.412Z"
   },
   {
    "duration": 4,
    "start_time": "2025-04-02T14:36:56.578Z"
   },
   {
    "duration": 9,
    "start_time": "2025-04-02T14:36:56.583Z"
   },
   {
    "duration": 17,
    "start_time": "2025-04-02T14:36:56.593Z"
   },
   {
    "duration": 807,
    "start_time": "2025-04-02T14:36:56.612Z"
   },
   {
    "duration": 543,
    "start_time": "2025-04-02T14:36:57.421Z"
   },
   {
    "duration": 23,
    "start_time": "2025-04-02T14:36:57.967Z"
   },
   {
    "duration": 204,
    "start_time": "2025-04-02T14:36:57.992Z"
   },
   {
    "duration": 23,
    "start_time": "2025-04-02T14:36:58.197Z"
   },
   {
    "duration": 28,
    "start_time": "2025-04-02T14:36:58.221Z"
   },
   {
    "duration": 25,
    "start_time": "2025-04-02T14:36:58.251Z"
   },
   {
    "duration": 204,
    "start_time": "2025-04-02T14:36:58.278Z"
   },
   {
    "duration": 24,
    "start_time": "2025-04-02T14:36:58.483Z"
   },
   {
    "duration": 55,
    "start_time": "2025-04-02T14:36:58.509Z"
   },
   {
    "duration": 23,
    "start_time": "2025-04-02T14:36:58.566Z"
   },
   {
    "duration": 21,
    "start_time": "2025-04-02T14:36:58.606Z"
   },
   {
    "duration": 645,
    "start_time": "2025-04-02T14:36:58.629Z"
   },
   {
    "duration": 5,
    "start_time": "2025-04-02T14:36:59.275Z"
   },
   {
    "duration": 118,
    "start_time": "2025-04-02T14:36:59.281Z"
   },
   {
    "duration": 1145,
    "start_time": "2025-04-02T14:36:59.404Z"
   },
   {
    "duration": 1123,
    "start_time": "2025-04-02T14:37:00.551Z"
   },
   {
    "duration": 7871,
    "start_time": "2025-04-02T14:37:01.675Z"
   },
   {
    "duration": 788,
    "start_time": "2025-04-02T14:37:09.548Z"
   },
   {
    "duration": 9127,
    "start_time": "2025-04-02T14:37:10.337Z"
   },
   {
    "duration": 27,
    "start_time": "2025-04-02T14:37:19.467Z"
   },
   {
    "duration": 251,
    "start_time": "2025-04-02T14:37:19.505Z"
   },
   {
    "duration": 5,
    "start_time": "2025-04-02T14:37:19.758Z"
   },
   {
    "duration": 71,
    "start_time": "2025-04-02T14:37:19.764Z"
   },
   {
    "duration": 4,
    "start_time": "2025-04-02T14:37:19.837Z"
   },
   {
    "duration": 14018,
    "start_time": "2025-04-02T14:49:49.481Z"
   },
   {
    "duration": 1023,
    "start_time": "2025-04-02T14:50:03.501Z"
   },
   {
    "duration": 20,
    "start_time": "2025-04-02T14:50:04.526Z"
   },
   {
    "duration": 182,
    "start_time": "2025-04-02T14:50:04.548Z"
   },
   {
    "duration": 4,
    "start_time": "2025-04-02T14:50:04.732Z"
   },
   {
    "duration": 49,
    "start_time": "2025-04-02T14:50:04.737Z"
   },
   {
    "duration": 35,
    "start_time": "2025-04-02T14:50:04.788Z"
   },
   {
    "duration": 935,
    "start_time": "2025-04-02T14:50:04.825Z"
   },
   {
    "duration": 596,
    "start_time": "2025-04-02T14:50:05.762Z"
   },
   {
    "duration": 24,
    "start_time": "2025-04-02T14:50:06.361Z"
   },
   {
    "duration": 429,
    "start_time": "2025-04-02T14:50:06.387Z"
   },
   {
    "duration": 23,
    "start_time": "2025-04-02T14:50:06.820Z"
   },
   {
    "duration": 37,
    "start_time": "2025-04-02T14:50:06.845Z"
   },
   {
    "duration": 51,
    "start_time": "2025-04-02T14:50:06.884Z"
   },
   {
    "duration": 229,
    "start_time": "2025-04-02T14:50:06.937Z"
   },
   {
    "duration": 25,
    "start_time": "2025-04-02T14:50:07.167Z"
   },
   {
    "duration": 90,
    "start_time": "2025-04-02T14:50:07.195Z"
   },
   {
    "duration": 29,
    "start_time": "2025-04-02T14:50:07.287Z"
   },
   {
    "duration": 41,
    "start_time": "2025-04-02T14:50:07.319Z"
   },
   {
    "duration": 723,
    "start_time": "2025-04-02T14:50:07.362Z"
   },
   {
    "duration": 4,
    "start_time": "2025-04-02T14:50:08.087Z"
   },
   {
    "duration": 179,
    "start_time": "2025-04-02T14:50:08.105Z"
   },
   {
    "duration": 1225,
    "start_time": "2025-04-02T14:50:08.285Z"
   },
   {
    "duration": 1172,
    "start_time": "2025-04-02T14:50:09.519Z"
   },
   {
    "duration": 8273,
    "start_time": "2025-04-02T14:50:10.693Z"
   },
   {
    "duration": 851,
    "start_time": "2025-04-02T14:50:18.968Z"
   },
   {
    "duration": 9670,
    "start_time": "2025-04-02T14:50:19.821Z"
   },
   {
    "duration": 36,
    "start_time": "2025-04-02T14:50:29.494Z"
   },
   {
    "duration": 237,
    "start_time": "2025-04-02T14:50:29.531Z"
   },
   {
    "duration": 4,
    "start_time": "2025-04-02T14:50:29.770Z"
   },
   {
    "duration": 126,
    "start_time": "2025-04-02T14:50:29.776Z"
   },
   {
    "duration": 151,
    "start_time": "2025-04-02T14:50:29.903Z"
   },
   {
    "duration": 0,
    "start_time": "2025-04-02T14:50:30.056Z"
   },
   {
    "duration": 0,
    "start_time": "2025-04-02T14:50:30.058Z"
   },
   {
    "duration": 0,
    "start_time": "2025-04-02T14:50:30.059Z"
   },
   {
    "duration": 3,
    "start_time": "2025-04-02T14:52:43.287Z"
   },
   {
    "duration": 14155,
    "start_time": "2025-04-02T15:00:03.017Z"
   },
   {
    "duration": 995,
    "start_time": "2025-04-02T15:00:17.174Z"
   },
   {
    "duration": 19,
    "start_time": "2025-04-02T15:00:18.171Z"
   },
   {
    "duration": 188,
    "start_time": "2025-04-02T15:00:18.193Z"
   },
   {
    "duration": 4,
    "start_time": "2025-04-02T15:00:18.383Z"
   },
   {
    "duration": 30,
    "start_time": "2025-04-02T15:00:18.389Z"
   },
   {
    "duration": 70,
    "start_time": "2025-04-02T15:00:18.421Z"
   },
   {
    "duration": 901,
    "start_time": "2025-04-02T15:00:18.493Z"
   },
   {
    "duration": 601,
    "start_time": "2025-04-02T15:00:19.395Z"
   },
   {
    "duration": 37,
    "start_time": "2025-04-02T15:00:19.999Z"
   },
   {
    "duration": 211,
    "start_time": "2025-04-02T15:00:20.037Z"
   },
   {
    "duration": 22,
    "start_time": "2025-04-02T15:00:20.250Z"
   },
   {
    "duration": 60,
    "start_time": "2025-04-02T15:00:20.274Z"
   },
   {
    "duration": 49,
    "start_time": "2025-04-02T15:00:20.335Z"
   },
   {
    "duration": 232,
    "start_time": "2025-04-02T15:00:20.385Z"
   },
   {
    "duration": 24,
    "start_time": "2025-04-02T15:00:20.619Z"
   },
   {
    "duration": 86,
    "start_time": "2025-04-02T15:00:20.645Z"
   },
   {
    "duration": 24,
    "start_time": "2025-04-02T15:00:20.733Z"
   },
   {
    "duration": 135,
    "start_time": "2025-04-02T15:00:20.758Z"
   },
   {
    "duration": 662,
    "start_time": "2025-04-02T15:00:20.895Z"
   },
   {
    "duration": 4,
    "start_time": "2025-04-02T15:00:21.559Z"
   },
   {
    "duration": 317,
    "start_time": "2025-04-02T15:00:21.564Z"
   },
   {
    "duration": 1173,
    "start_time": "2025-04-02T15:00:21.883Z"
   },
   {
    "duration": 1179,
    "start_time": "2025-04-02T15:00:23.058Z"
   },
   {
    "duration": 8227,
    "start_time": "2025-04-02T15:00:24.239Z"
   },
   {
    "duration": 848,
    "start_time": "2025-04-02T15:00:32.468Z"
   },
   {
    "duration": 9662,
    "start_time": "2025-04-02T15:00:33.318Z"
   },
   {
    "duration": 39,
    "start_time": "2025-04-02T15:00:42.983Z"
   },
   {
    "duration": 228,
    "start_time": "2025-04-02T15:00:43.023Z"
   },
   {
    "duration": 5,
    "start_time": "2025-04-02T15:00:43.252Z"
   },
   {
    "duration": 17,
    "start_time": "2025-04-02T15:00:43.260Z"
   },
   {
    "duration": 5,
    "start_time": "2025-04-02T15:00:43.279Z"
   },
   {
    "duration": 14071,
    "start_time": "2025-04-02T15:14:12.575Z"
   },
   {
    "duration": 1011,
    "start_time": "2025-04-02T15:14:26.648Z"
   },
   {
    "duration": 17,
    "start_time": "2025-04-02T15:14:27.661Z"
   },
   {
    "duration": 191,
    "start_time": "2025-04-02T15:14:27.680Z"
   },
   {
    "duration": 4,
    "start_time": "2025-04-02T15:14:27.873Z"
   },
   {
    "duration": 13,
    "start_time": "2025-04-02T15:14:27.878Z"
   },
   {
    "duration": 19,
    "start_time": "2025-04-02T15:14:27.893Z"
   },
   {
    "duration": 857,
    "start_time": "2025-04-02T15:14:27.914Z"
   },
   {
    "duration": 601,
    "start_time": "2025-04-02T15:14:28.773Z"
   },
   {
    "duration": 38,
    "start_time": "2025-04-02T15:14:29.378Z"
   },
   {
    "duration": 182,
    "start_time": "2025-04-02T15:14:29.421Z"
   },
   {
    "duration": 31,
    "start_time": "2025-04-02T15:14:29.605Z"
   },
   {
    "duration": 27,
    "start_time": "2025-04-02T15:14:29.637Z"
   },
   {
    "duration": 25,
    "start_time": "2025-04-02T15:14:29.666Z"
   },
   {
    "duration": 181,
    "start_time": "2025-04-02T15:14:29.718Z"
   },
   {
    "duration": 33,
    "start_time": "2025-04-02T15:14:29.901Z"
   },
   {
    "duration": 53,
    "start_time": "2025-04-02T15:14:29.936Z"
   },
   {
    "duration": 65,
    "start_time": "2025-04-02T15:14:29.991Z"
   },
   {
    "duration": 63,
    "start_time": "2025-04-02T15:14:30.058Z"
   },
   {
    "duration": 711,
    "start_time": "2025-04-02T15:14:30.123Z"
   },
   {
    "duration": 5,
    "start_time": "2025-04-02T15:14:30.836Z"
   },
   {
    "duration": 147,
    "start_time": "2025-04-02T15:14:30.842Z"
   },
   {
    "duration": 1209,
    "start_time": "2025-04-02T15:14:30.991Z"
   },
   {
    "duration": 1178,
    "start_time": "2025-04-02T15:14:32.206Z"
   },
   {
    "duration": 8280,
    "start_time": "2025-04-02T15:14:33.386Z"
   },
   {
    "duration": 819,
    "start_time": "2025-04-02T15:14:41.668Z"
   },
   {
    "duration": 9697,
    "start_time": "2025-04-02T15:14:42.488Z"
   },
   {
    "duration": 34,
    "start_time": "2025-04-02T15:14:52.189Z"
   },
   {
    "duration": 300,
    "start_time": "2025-04-02T15:14:52.225Z"
   },
   {
    "duration": 5,
    "start_time": "2025-04-02T15:14:52.527Z"
   },
   {
    "duration": 65,
    "start_time": "2025-04-02T15:14:52.534Z"
   },
   {
    "duration": 0,
    "start_time": "2025-04-02T15:14:52.600Z"
   },
   {
    "duration": 0,
    "start_time": "2025-04-02T15:14:52.602Z"
   },
   {
    "duration": 0,
    "start_time": "2025-04-02T15:14:52.603Z"
   },
   {
    "duration": 0,
    "start_time": "2025-04-02T15:14:52.604Z"
   },
   {
    "duration": 6,
    "start_time": "2025-04-02T15:17:05.722Z"
   },
   {
    "duration": 12,
    "start_time": "2025-04-02T15:17:06.205Z"
   },
   {
    "duration": 14136,
    "start_time": "2025-04-02T15:32:08.886Z"
   },
   {
    "duration": 1012,
    "start_time": "2025-04-02T15:32:23.025Z"
   },
   {
    "duration": 18,
    "start_time": "2025-04-02T15:32:24.039Z"
   },
   {
    "duration": 281,
    "start_time": "2025-04-02T15:32:24.060Z"
   },
   {
    "duration": 4,
    "start_time": "2025-04-02T15:32:24.343Z"
   },
   {
    "duration": 3,
    "start_time": "2025-04-02T15:32:24.349Z"
   },
   {
    "duration": 5,
    "start_time": "2025-04-02T15:32:24.354Z"
   },
   {
    "duration": 903,
    "start_time": "2025-04-02T15:32:24.360Z"
   },
   {
    "duration": 576,
    "start_time": "2025-04-02T15:32:25.265Z"
   },
   {
    "duration": 24,
    "start_time": "2025-04-02T15:32:25.844Z"
   },
   {
    "duration": 261,
    "start_time": "2025-04-02T15:32:25.869Z"
   },
   {
    "duration": 24,
    "start_time": "2025-04-02T15:32:26.132Z"
   },
   {
    "duration": 23,
    "start_time": "2025-04-02T15:32:26.157Z"
   },
   {
    "duration": 48,
    "start_time": "2025-04-02T15:32:26.182Z"
   },
   {
    "duration": 270,
    "start_time": "2025-04-02T15:32:26.232Z"
   },
   {
    "duration": 31,
    "start_time": "2025-04-02T15:32:26.504Z"
   },
   {
    "duration": 128,
    "start_time": "2025-04-02T15:32:26.537Z"
   },
   {
    "duration": 24,
    "start_time": "2025-04-02T15:32:26.667Z"
   },
   {
    "duration": 50,
    "start_time": "2025-04-02T15:32:26.692Z"
   },
   {
    "duration": 656,
    "start_time": "2025-04-02T15:32:26.744Z"
   },
   {
    "duration": 13,
    "start_time": "2025-04-02T15:32:27.402Z"
   },
   {
    "duration": 108,
    "start_time": "2025-04-02T15:32:27.422Z"
   },
   {
    "duration": 1159,
    "start_time": "2025-04-02T15:32:27.532Z"
   },
   {
    "duration": 1219,
    "start_time": "2025-04-02T15:32:28.693Z"
   },
   {
    "duration": 8364,
    "start_time": "2025-04-02T15:32:29.918Z"
   },
   {
    "duration": 833,
    "start_time": "2025-04-02T15:32:38.284Z"
   },
   {
    "duration": 9752,
    "start_time": "2025-04-02T15:32:39.119Z"
   },
   {
    "duration": 43,
    "start_time": "2025-04-02T15:32:48.875Z"
   },
   {
    "duration": 226,
    "start_time": "2025-04-02T15:32:48.920Z"
   },
   {
    "duration": 5,
    "start_time": "2025-04-02T15:32:49.148Z"
   },
   {
    "duration": 85,
    "start_time": "2025-04-02T15:32:49.154Z"
   },
   {
    "duration": 0,
    "start_time": "2025-04-02T15:32:49.241Z"
   },
   {
    "duration": 0,
    "start_time": "2025-04-02T15:32:49.242Z"
   },
   {
    "duration": 0,
    "start_time": "2025-04-02T15:32:49.243Z"
   },
   {
    "duration": 0,
    "start_time": "2025-04-02T15:32:49.244Z"
   },
   {
    "duration": 4,
    "start_time": "2025-04-02T15:32:56.418Z"
   },
   {
    "duration": 3,
    "start_time": "2025-04-02T15:32:57.382Z"
   },
   {
    "duration": 13972,
    "start_time": "2025-04-02T15:34:16.342Z"
   },
   {
    "duration": 1008,
    "start_time": "2025-04-02T15:34:30.322Z"
   },
   {
    "duration": 23,
    "start_time": "2025-04-02T15:34:31.332Z"
   },
   {
    "duration": 191,
    "start_time": "2025-04-02T15:34:31.357Z"
   },
   {
    "duration": 4,
    "start_time": "2025-04-02T15:34:31.550Z"
   },
   {
    "duration": 26,
    "start_time": "2025-04-02T15:34:31.555Z"
   },
   {
    "duration": 11,
    "start_time": "2025-04-02T15:34:31.582Z"
   },
   {
    "duration": 879,
    "start_time": "2025-04-02T15:34:31.595Z"
   },
   {
    "duration": 598,
    "start_time": "2025-04-02T15:34:32.476Z"
   },
   {
    "duration": 28,
    "start_time": "2025-04-02T15:34:33.078Z"
   },
   {
    "duration": 206,
    "start_time": "2025-04-02T15:34:33.109Z"
   },
   {
    "duration": 24,
    "start_time": "2025-04-02T15:34:33.317Z"
   },
   {
    "duration": 32,
    "start_time": "2025-04-02T15:34:33.343Z"
   },
   {
    "duration": 63,
    "start_time": "2025-04-02T15:34:33.377Z"
   },
   {
    "duration": 187,
    "start_time": "2025-04-02T15:34:33.443Z"
   },
   {
    "duration": 25,
    "start_time": "2025-04-02T15:34:33.631Z"
   },
   {
    "duration": 72,
    "start_time": "2025-04-02T15:34:33.658Z"
   },
   {
    "duration": 25,
    "start_time": "2025-04-02T15:34:33.731Z"
   },
   {
    "duration": 85,
    "start_time": "2025-04-02T15:34:33.758Z"
   },
   {
    "duration": 744,
    "start_time": "2025-04-02T15:34:33.845Z"
   },
   {
    "duration": 4,
    "start_time": "2025-04-02T15:34:34.591Z"
   },
   {
    "duration": 135,
    "start_time": "2025-04-02T15:34:34.596Z"
   },
   {
    "duration": 1217,
    "start_time": "2025-04-02T15:34:34.732Z"
   },
   {
    "duration": 1189,
    "start_time": "2025-04-02T15:34:35.952Z"
   },
   {
    "duration": 8176,
    "start_time": "2025-04-02T15:34:37.142Z"
   },
   {
    "duration": 874,
    "start_time": "2025-04-02T15:34:45.320Z"
   },
   {
    "duration": 9724,
    "start_time": "2025-04-02T15:34:46.196Z"
   },
   {
    "duration": 27,
    "start_time": "2025-04-02T15:34:55.924Z"
   },
   {
    "duration": 264,
    "start_time": "2025-04-02T15:34:55.953Z"
   },
   {
    "duration": 5,
    "start_time": "2025-04-02T15:34:56.219Z"
   },
   {
    "duration": 7,
    "start_time": "2025-04-02T15:34:56.225Z"
   },
   {
    "duration": 5,
    "start_time": "2025-04-02T15:34:56.234Z"
   },
   {
    "duration": 56008,
    "start_time": "2025-04-02T15:34:56.241Z"
   },
   {
    "duration": 166,
    "start_time": "2025-04-02T15:35:52.252Z"
   },
   {
    "duration": 0,
    "start_time": "2025-04-02T15:35:52.420Z"
   },
   {
    "duration": 3535165,
    "start_time": "2025-04-02T15:37:10.158Z"
   },
   {
    "duration": 9,
    "start_time": "2025-04-02T16:36:05.326Z"
   },
   {
    "duration": 8087,
    "start_time": "2025-04-02T17:12:34.326Z"
   },
   {
    "duration": 19,
    "start_time": "2025-04-02T17:13:35.822Z"
   },
   {
    "duration": 4,
    "start_time": "2025-04-02T17:14:20.735Z"
   },
   {
    "duration": 83,
    "start_time": "2025-04-02T17:14:38.490Z"
   },
   {
    "duration": 5,
    "start_time": "2025-04-02T17:14:48.734Z"
   },
   {
    "duration": 7,
    "start_time": "2025-04-02T17:15:32.116Z"
   },
   {
    "duration": 67,
    "start_time": "2025-04-02T17:15:58.689Z"
   },
   {
    "duration": 5,
    "start_time": "2025-04-02T17:16:08.605Z"
   },
   {
    "duration": 13,
    "start_time": "2025-04-02T17:16:17.742Z"
   },
   {
    "duration": 26782,
    "start_time": "2025-04-02T17:17:12.939Z"
   },
   {
    "duration": 28095,
    "start_time": "2025-04-02T17:17:58.111Z"
   },
   {
    "duration": 27068,
    "start_time": "2025-04-02T17:20:40.250Z"
   },
   {
    "duration": 29187,
    "start_time": "2025-04-02T17:21:44.947Z"
   },
   {
    "duration": 28632,
    "start_time": "2025-04-02T17:24:41.501Z"
   },
   {
    "duration": 12402,
    "start_time": "2025-04-03T08:49:50.761Z"
   },
   {
    "duration": 0,
    "start_time": "2025-04-03T08:50:03.166Z"
   },
   {
    "duration": 0,
    "start_time": "2025-04-03T08:50:03.168Z"
   },
   {
    "duration": 0,
    "start_time": "2025-04-03T08:50:03.169Z"
   },
   {
    "duration": 0,
    "start_time": "2025-04-03T08:50:03.170Z"
   },
   {
    "duration": 0,
    "start_time": "2025-04-03T08:50:03.171Z"
   },
   {
    "duration": 0,
    "start_time": "2025-04-03T08:50:03.172Z"
   },
   {
    "duration": 0,
    "start_time": "2025-04-03T08:50:03.173Z"
   },
   {
    "duration": 0,
    "start_time": "2025-04-03T08:50:03.174Z"
   },
   {
    "duration": 0,
    "start_time": "2025-04-03T08:50:03.175Z"
   },
   {
    "duration": 0,
    "start_time": "2025-04-03T08:50:03.176Z"
   },
   {
    "duration": 0,
    "start_time": "2025-04-03T08:50:03.177Z"
   },
   {
    "duration": 0,
    "start_time": "2025-04-03T08:50:03.178Z"
   },
   {
    "duration": 0,
    "start_time": "2025-04-03T08:50:03.179Z"
   },
   {
    "duration": 0,
    "start_time": "2025-04-03T08:50:03.180Z"
   },
   {
    "duration": 0,
    "start_time": "2025-04-03T08:50:03.181Z"
   },
   {
    "duration": 0,
    "start_time": "2025-04-03T08:50:03.182Z"
   },
   {
    "duration": 0,
    "start_time": "2025-04-03T08:50:03.183Z"
   },
   {
    "duration": 0,
    "start_time": "2025-04-03T08:50:03.184Z"
   },
   {
    "duration": 0,
    "start_time": "2025-04-03T08:50:03.186Z"
   },
   {
    "duration": 0,
    "start_time": "2025-04-03T08:50:03.187Z"
   },
   {
    "duration": 0,
    "start_time": "2025-04-03T08:50:03.189Z"
   },
   {
    "duration": 0,
    "start_time": "2025-04-03T08:50:03.190Z"
   },
   {
    "duration": 0,
    "start_time": "2025-04-03T08:50:03.192Z"
   },
   {
    "duration": 0,
    "start_time": "2025-04-03T08:50:03.193Z"
   },
   {
    "duration": 0,
    "start_time": "2025-04-03T08:50:03.195Z"
   },
   {
    "duration": 0,
    "start_time": "2025-04-03T08:50:03.198Z"
   },
   {
    "duration": 0,
    "start_time": "2025-04-03T08:50:03.199Z"
   },
   {
    "duration": 0,
    "start_time": "2025-04-03T08:50:03.201Z"
   },
   {
    "duration": 0,
    "start_time": "2025-04-03T08:50:03.202Z"
   },
   {
    "duration": 0,
    "start_time": "2025-04-03T08:50:03.263Z"
   },
   {
    "duration": 0,
    "start_time": "2025-04-03T08:50:03.265Z"
   },
   {
    "duration": 0,
    "start_time": "2025-04-03T08:50:03.266Z"
   },
   {
    "duration": 0,
    "start_time": "2025-04-03T08:50:03.268Z"
   },
   {
    "duration": 0,
    "start_time": "2025-04-03T08:50:03.269Z"
   },
   {
    "duration": 0,
    "start_time": "2025-04-03T08:50:03.271Z"
   },
   {
    "duration": 10150,
    "start_time": "2025-04-03T08:52:14.317Z"
   },
   {
    "duration": 9774,
    "start_time": "2025-04-03T08:52:53.230Z"
   },
   {
    "duration": 924,
    "start_time": "2025-04-03T08:53:03.006Z"
   },
   {
    "duration": 30,
    "start_time": "2025-04-03T08:53:03.932Z"
   },
   {
    "duration": 153,
    "start_time": "2025-04-03T08:53:03.965Z"
   },
   {
    "duration": 5,
    "start_time": "2025-04-03T08:53:04.120Z"
   },
   {
    "duration": 5,
    "start_time": "2025-04-03T08:53:04.127Z"
   },
   {
    "duration": 19,
    "start_time": "2025-04-03T08:53:04.133Z"
   },
   {
    "duration": 790,
    "start_time": "2025-04-03T08:53:04.153Z"
   },
   {
    "duration": 526,
    "start_time": "2025-04-03T08:53:04.945Z"
   },
   {
    "duration": 23,
    "start_time": "2025-04-03T08:53:05.474Z"
   },
   {
    "duration": 221,
    "start_time": "2025-04-03T08:53:05.499Z"
   },
   {
    "duration": 26,
    "start_time": "2025-04-03T08:53:05.722Z"
   },
   {
    "duration": 66,
    "start_time": "2025-04-03T08:53:05.750Z"
   },
   {
    "duration": 49,
    "start_time": "2025-04-03T08:53:05.818Z"
   },
   {
    "duration": 216,
    "start_time": "2025-04-03T08:53:05.869Z"
   },
   {
    "duration": 23,
    "start_time": "2025-04-03T08:53:06.087Z"
   },
   {
    "duration": 56,
    "start_time": "2025-04-03T08:53:06.112Z"
   },
   {
    "duration": 21,
    "start_time": "2025-04-03T08:53:06.170Z"
   },
   {
    "duration": 29,
    "start_time": "2025-04-03T08:53:06.193Z"
   },
   {
    "duration": 612,
    "start_time": "2025-04-03T08:53:06.224Z"
   },
   {
    "duration": 4,
    "start_time": "2025-04-03T08:53:06.837Z"
   },
   {
    "duration": 125,
    "start_time": "2025-04-03T08:53:06.843Z"
   },
   {
    "duration": 1099,
    "start_time": "2025-04-03T08:53:06.970Z"
   },
   {
    "duration": 1041,
    "start_time": "2025-04-03T08:53:08.071Z"
   },
   {
    "duration": 7668,
    "start_time": "2025-04-03T08:53:09.115Z"
   },
   {
    "duration": 807,
    "start_time": "2025-04-03T08:53:16.785Z"
   },
   {
    "duration": 8639,
    "start_time": "2025-04-03T08:53:17.595Z"
   },
   {
    "duration": 33,
    "start_time": "2025-04-03T08:53:26.238Z"
   },
   {
    "duration": 207,
    "start_time": "2025-04-03T08:53:26.272Z"
   },
   {
    "duration": 5,
    "start_time": "2025-04-03T08:53:26.481Z"
   },
   {
    "duration": 14,
    "start_time": "2025-04-03T08:53:26.488Z"
   },
   {
    "duration": 3,
    "start_time": "2025-04-03T08:53:26.504Z"
   },
   {
    "duration": 51028,
    "start_time": "2025-04-03T08:53:26.509Z"
   },
   {
    "duration": 960145,
    "start_time": "2025-04-03T08:54:17.539Z"
   },
   {
    "duration": 0,
    "start_time": "2025-04-03T09:10:17.686Z"
   },
   {
    "duration": 0,
    "start_time": "2025-04-03T09:10:17.687Z"
   },
   {
    "duration": 9450,
    "start_time": "2025-04-03T09:28:29.660Z"
   },
   {
    "duration": 908,
    "start_time": "2025-04-03T09:28:39.112Z"
   },
   {
    "duration": 19,
    "start_time": "2025-04-03T09:28:40.022Z"
   },
   {
    "duration": 167,
    "start_time": "2025-04-03T09:28:40.043Z"
   },
   {
    "duration": 5,
    "start_time": "2025-04-03T09:28:40.211Z"
   },
   {
    "duration": 4,
    "start_time": "2025-04-03T09:28:40.217Z"
   },
   {
    "duration": 5,
    "start_time": "2025-04-03T09:28:40.222Z"
   },
   {
    "duration": 772,
    "start_time": "2025-04-03T09:28:40.229Z"
   },
   {
    "duration": 528,
    "start_time": "2025-04-03T09:28:41.003Z"
   },
   {
    "duration": 29,
    "start_time": "2025-04-03T09:28:41.534Z"
   },
   {
    "duration": 209,
    "start_time": "2025-04-03T09:28:41.564Z"
   },
   {
    "duration": 21,
    "start_time": "2025-04-03T09:28:41.775Z"
   },
   {
    "duration": 88,
    "start_time": "2025-04-03T09:28:41.798Z"
   },
   {
    "duration": 60,
    "start_time": "2025-04-03T09:28:41.888Z"
   },
   {
    "duration": 179,
    "start_time": "2025-04-03T09:28:41.949Z"
   },
   {
    "duration": 24,
    "start_time": "2025-04-03T09:28:42.130Z"
   },
   {
    "duration": 49,
    "start_time": "2025-04-03T09:28:42.163Z"
   },
   {
    "duration": 21,
    "start_time": "2025-04-03T09:28:42.214Z"
   },
   {
    "duration": 37,
    "start_time": "2025-04-03T09:28:42.237Z"
   },
   {
    "duration": 623,
    "start_time": "2025-04-03T09:28:42.276Z"
   },
   {
    "duration": 4,
    "start_time": "2025-04-03T09:28:42.901Z"
   },
   {
    "duration": 118,
    "start_time": "2025-04-03T09:28:42.907Z"
   },
   {
    "duration": 1076,
    "start_time": "2025-04-03T09:28:43.027Z"
   },
   {
    "duration": 1039,
    "start_time": "2025-04-03T09:28:44.104Z"
   },
   {
    "duration": 7522,
    "start_time": "2025-04-03T09:28:45.145Z"
   },
   {
    "duration": 784,
    "start_time": "2025-04-03T09:28:52.669Z"
   },
   {
    "duration": 8626,
    "start_time": "2025-04-03T09:28:53.455Z"
   },
   {
    "duration": 27,
    "start_time": "2025-04-03T09:29:02.084Z"
   },
   {
    "duration": 220,
    "start_time": "2025-04-03T09:29:02.113Z"
   },
   {
    "duration": 5,
    "start_time": "2025-04-03T09:29:02.335Z"
   },
   {
    "duration": 134,
    "start_time": "2025-04-03T09:29:02.341Z"
   },
   {
    "duration": 23,
    "start_time": "2025-04-03T09:29:02.476Z"
   },
   {
    "duration": 49944,
    "start_time": "2025-04-03T09:29:02.501Z"
   },
   {
    "duration": 1746870,
    "start_time": "2025-04-03T09:29:52.448Z"
   },
   {
    "duration": 143,
    "start_time": "2025-04-03T09:58:59.319Z"
   },
   {
    "duration": 0,
    "start_time": "2025-04-03T09:58:59.464Z"
   },
   {
    "duration": 9937,
    "start_time": "2025-04-03T10:34:09.930Z"
   },
   {
    "duration": 970,
    "start_time": "2025-04-03T10:34:19.870Z"
   },
   {
    "duration": 23,
    "start_time": "2025-04-03T10:34:20.842Z"
   },
   {
    "duration": 284,
    "start_time": "2025-04-03T10:34:20.866Z"
   },
   {
    "duration": 3,
    "start_time": "2025-04-03T10:34:21.152Z"
   },
   {
    "duration": 32,
    "start_time": "2025-04-03T10:34:21.157Z"
   },
   {
    "duration": 73,
    "start_time": "2025-04-03T10:34:21.192Z"
   },
   {
    "duration": 852,
    "start_time": "2025-04-03T10:34:21.268Z"
   },
   {
    "duration": 556,
    "start_time": "2025-04-03T10:34:22.122Z"
   },
   {
    "duration": 23,
    "start_time": "2025-04-03T10:34:22.680Z"
   },
   {
    "duration": 183,
    "start_time": "2025-04-03T10:34:22.704Z"
   },
   {
    "duration": 22,
    "start_time": "2025-04-03T10:34:22.888Z"
   },
   {
    "duration": 40,
    "start_time": "2025-04-03T10:34:22.911Z"
   },
   {
    "duration": 50,
    "start_time": "2025-04-03T10:34:22.954Z"
   },
   {
    "duration": 192,
    "start_time": "2025-04-03T10:34:23.006Z"
   },
   {
    "duration": 23,
    "start_time": "2025-04-03T10:34:23.199Z"
   },
   {
    "duration": 67,
    "start_time": "2025-04-03T10:34:23.223Z"
   },
   {
    "duration": 23,
    "start_time": "2025-04-03T10:34:23.292Z"
   },
   {
    "duration": 52,
    "start_time": "2025-04-03T10:34:23.317Z"
   },
   {
    "duration": 644,
    "start_time": "2025-04-03T10:34:23.371Z"
   },
   {
    "duration": 6,
    "start_time": "2025-04-03T10:34:24.018Z"
   },
   {
    "duration": 117,
    "start_time": "2025-04-03T10:34:24.025Z"
   },
   {
    "duration": 1125,
    "start_time": "2025-04-03T10:34:24.144Z"
   },
   {
    "duration": 1181,
    "start_time": "2025-04-03T10:34:25.277Z"
   },
   {
    "duration": 7929,
    "start_time": "2025-04-03T10:34:26.462Z"
   },
   {
    "duration": 803,
    "start_time": "2025-04-03T10:34:34.393Z"
   },
   {
    "duration": 9187,
    "start_time": "2025-04-03T10:34:35.198Z"
   },
   {
    "duration": 22,
    "start_time": "2025-04-03T10:34:44.387Z"
   },
   {
    "duration": 242,
    "start_time": "2025-04-03T10:34:44.411Z"
   },
   {
    "duration": 7,
    "start_time": "2025-04-03T10:34:44.655Z"
   },
   {
    "duration": 46,
    "start_time": "2025-04-03T10:34:44.664Z"
   },
   {
    "duration": 29,
    "start_time": "2025-04-03T10:34:44.712Z"
   },
   {
    "duration": 54558,
    "start_time": "2025-04-03T10:34:44.742Z"
   },
   {
    "duration": 10045,
    "start_time": "2025-04-03T13:08:12.297Z"
   },
   {
    "duration": 946,
    "start_time": "2025-04-03T13:08:22.344Z"
   },
   {
    "duration": 17,
    "start_time": "2025-04-03T13:08:23.292Z"
   },
   {
    "duration": 171,
    "start_time": "2025-04-03T13:08:23.310Z"
   },
   {
    "duration": 5,
    "start_time": "2025-04-03T13:08:23.483Z"
   },
   {
    "duration": 5,
    "start_time": "2025-04-03T13:08:23.490Z"
   },
   {
    "duration": 24,
    "start_time": "2025-04-03T13:08:23.497Z"
   },
   {
    "duration": 855,
    "start_time": "2025-04-03T13:08:23.523Z"
   },
   {
    "duration": 599,
    "start_time": "2025-04-03T13:08:24.380Z"
   },
   {
    "duration": 24,
    "start_time": "2025-04-03T13:08:24.980Z"
   },
   {
    "duration": 206,
    "start_time": "2025-04-03T13:08:25.005Z"
   },
   {
    "duration": 23,
    "start_time": "2025-04-03T13:08:25.213Z"
   },
   {
    "duration": 44,
    "start_time": "2025-04-03T13:08:25.238Z"
   },
   {
    "duration": 25,
    "start_time": "2025-04-03T13:08:25.286Z"
   },
   {
    "duration": 196,
    "start_time": "2025-04-03T13:08:25.313Z"
   },
   {
    "duration": 24,
    "start_time": "2025-04-03T13:08:25.512Z"
   },
   {
    "duration": 72,
    "start_time": "2025-04-03T13:08:25.537Z"
   },
   {
    "duration": 22,
    "start_time": "2025-04-03T13:08:25.611Z"
   },
   {
    "duration": 32,
    "start_time": "2025-04-03T13:08:25.635Z"
   },
   {
    "duration": 685,
    "start_time": "2025-04-03T13:08:25.668Z"
   },
   {
    "duration": 7,
    "start_time": "2025-04-03T13:08:26.355Z"
   },
   {
    "duration": 140,
    "start_time": "2025-04-03T13:08:26.363Z"
   },
   {
    "duration": 1162,
    "start_time": "2025-04-03T13:08:26.505Z"
   },
   {
    "duration": 1118,
    "start_time": "2025-04-03T13:08:27.675Z"
   },
   {
    "duration": 8108,
    "start_time": "2025-04-03T13:08:28.795Z"
   },
   {
    "duration": 831,
    "start_time": "2025-04-03T13:08:36.905Z"
   },
   {
    "duration": 9387,
    "start_time": "2025-04-03T13:08:37.738Z"
   },
   {
    "duration": 49,
    "start_time": "2025-04-03T13:08:47.127Z"
   },
   {
    "duration": 237,
    "start_time": "2025-04-03T13:08:47.179Z"
   },
   {
    "duration": 10,
    "start_time": "2025-04-03T13:08:47.417Z"
   },
   {
    "duration": 27,
    "start_time": "2025-04-03T13:08:47.429Z"
   },
   {
    "duration": 28,
    "start_time": "2025-04-03T13:08:47.459Z"
   },
   {
    "duration": 54416,
    "start_time": "2025-04-03T13:08:47.490Z"
   },
   {
    "duration": 10239,
    "start_time": "2025-04-03T14:43:42.772Z"
   },
   {
    "duration": 1017,
    "start_time": "2025-04-03T14:43:53.013Z"
   },
   {
    "duration": 19,
    "start_time": "2025-04-03T14:43:54.031Z"
   },
   {
    "duration": 173,
    "start_time": "2025-04-03T14:43:54.064Z"
   },
   {
    "duration": 4,
    "start_time": "2025-04-03T14:43:54.238Z"
   },
   {
    "duration": 10,
    "start_time": "2025-04-03T14:43:54.244Z"
   },
   {
    "duration": 20,
    "start_time": "2025-04-03T14:43:54.255Z"
   },
   {
    "duration": 874,
    "start_time": "2025-04-03T14:43:54.277Z"
   },
   {
    "duration": 632,
    "start_time": "2025-04-03T14:43:55.153Z"
   },
   {
    "duration": 31,
    "start_time": "2025-04-03T14:43:55.790Z"
   },
   {
    "duration": 201,
    "start_time": "2025-04-03T14:43:55.823Z"
   },
   {
    "duration": 24,
    "start_time": "2025-04-03T14:43:56.026Z"
   },
   {
    "duration": 32,
    "start_time": "2025-04-03T14:43:56.064Z"
   },
   {
    "duration": 31,
    "start_time": "2025-04-03T14:43:56.097Z"
   },
   {
    "duration": 184,
    "start_time": "2025-04-03T14:43:56.129Z"
   },
   {
    "duration": 23,
    "start_time": "2025-04-03T14:43:56.314Z"
   },
   {
    "duration": 78,
    "start_time": "2025-04-03T14:43:56.339Z"
   },
   {
    "duration": 22,
    "start_time": "2025-04-03T14:43:56.419Z"
   },
   {
    "duration": 42,
    "start_time": "2025-04-03T14:43:56.443Z"
   },
   {
    "duration": 673,
    "start_time": "2025-04-03T14:43:56.486Z"
   },
   {
    "duration": 8,
    "start_time": "2025-04-03T14:43:57.163Z"
   },
   {
    "duration": 114,
    "start_time": "2025-04-03T14:43:57.173Z"
   },
   {
    "duration": 1253,
    "start_time": "2025-04-03T14:43:57.289Z"
   },
   {
    "duration": 1174,
    "start_time": "2025-04-03T14:43:58.544Z"
   },
   {
    "duration": 8339,
    "start_time": "2025-04-03T14:43:59.720Z"
   },
   {
    "duration": 864,
    "start_time": "2025-04-03T14:44:08.060Z"
   },
   {
    "duration": 9785,
    "start_time": "2025-04-03T14:44:08.925Z"
   },
   {
    "duration": 30,
    "start_time": "2025-04-03T14:44:18.714Z"
   },
   {
    "duration": 278,
    "start_time": "2025-04-03T14:44:18.746Z"
   },
   {
    "duration": 5,
    "start_time": "2025-04-03T14:44:19.026Z"
   },
   {
    "duration": 24,
    "start_time": "2025-04-03T14:44:19.033Z"
   },
   {
    "duration": 17,
    "start_time": "2025-04-03T14:44:19.058Z"
   },
   {
    "duration": 58987,
    "start_time": "2025-04-03T14:44:19.078Z"
   },
   {
    "duration": 4556058,
    "start_time": "2025-04-03T14:45:18.069Z"
   },
   {
    "duration": 177,
    "start_time": "2025-04-03T16:01:14.129Z"
   },
   {
    "duration": 832739,
    "start_time": "2025-04-03T16:07:59.933Z"
   }
  ],
  "kernelspec": {
   "display_name": "Python 3 (ipykernel)",
   "language": "python",
   "name": "python3"
  },
  "language_info": {
   "codemirror_mode": {
    "name": "ipython",
    "version": 3
   },
   "file_extension": ".py",
   "mimetype": "text/x-python",
   "name": "python",
   "nbconvert_exporter": "python",
   "pygments_lexer": "ipython3",
   "version": "3.9.19"
  },
  "toc": {
   "base_numbering": 1,
   "nav_menu": {},
   "number_sections": true,
   "sideBar": true,
   "skip_h1_title": true,
   "title_cell": "Table of Contents",
   "title_sidebar": "Contents",
   "toc_cell": false,
   "toc_position": {
    "height": "calc(100% - 180px)",
    "left": "10px",
    "top": "150px",
    "width": "555.99px"
   },
   "toc_section_display": true,
   "toc_window_display": true
  }
 },
 "nbformat": 4,
 "nbformat_minor": 4
}
