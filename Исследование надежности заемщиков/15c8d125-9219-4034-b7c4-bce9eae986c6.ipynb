{
 "cells": [
  {
   "cell_type": "markdown",
   "id": "b1e2b8ac",
   "metadata": {
    "deletable": false,
    "editable": false,
    "id": "c81daeeb"
   },
   "source": [
    "# Исследование надежности заемщиков\n"
   ]
  },
  {
   "cell_type": "markdown",
   "id": "1b7ec9b5",
   "metadata": {
    "deletable": false,
    "editable": false,
    "id": "744d7639"
   },
   "source": [
    "## Откроем таблицу и изучим общую информацию о данных"
   ]
  },
  {
   "cell_type": "code",
   "execution_count": 1,
   "id": "84498fe5",
   "metadata": {
    "deletable": false,
    "id": "7bcf75c9"
   },
   "outputs": [],
   "source": [
    "import pandas as pd\n",
    "\n",
    "try:\n",
    "    data = pd.read_csv('/datasets/data.csv')\n",
    "except:\n",
    "    data = pd.read_csv('https://code.s3.yandex.net/datasets/data.csv')"
   ]
  },
  {
   "cell_type": "code",
   "execution_count": 2,
   "id": "dbca8828",
   "metadata": {
    "deletable": false,
    "id": "2a7cab99",
    "outputId": "1a8f3ef2-d323-4ec2-ddf7-89670b5944c4"
   },
   "outputs": [
    {
     "data": {
      "text/html": [
       "<div>\n",
       "<style scoped>\n",
       "    .dataframe tbody tr th:only-of-type {\n",
       "        vertical-align: middle;\n",
       "    }\n",
       "\n",
       "    .dataframe tbody tr th {\n",
       "        vertical-align: top;\n",
       "    }\n",
       "\n",
       "    .dataframe thead th {\n",
       "        text-align: right;\n",
       "    }\n",
       "</style>\n",
       "<table border=\"1\" class=\"dataframe\">\n",
       "  <thead>\n",
       "    <tr style=\"text-align: right;\">\n",
       "      <th></th>\n",
       "      <th>children</th>\n",
       "      <th>days_employed</th>\n",
       "      <th>dob_years</th>\n",
       "      <th>education</th>\n",
       "      <th>education_id</th>\n",
       "      <th>family_status</th>\n",
       "      <th>family_status_id</th>\n",
       "      <th>gender</th>\n",
       "      <th>income_type</th>\n",
       "      <th>debt</th>\n",
       "      <th>total_income</th>\n",
       "      <th>purpose</th>\n",
       "    </tr>\n",
       "  </thead>\n",
       "  <tbody>\n",
       "    <tr>\n",
       "      <th>0</th>\n",
       "      <td>1</td>\n",
       "      <td>-8437.673028</td>\n",
       "      <td>42</td>\n",
       "      <td>высшее</td>\n",
       "      <td>0</td>\n",
       "      <td>женат / замужем</td>\n",
       "      <td>0</td>\n",
       "      <td>F</td>\n",
       "      <td>сотрудник</td>\n",
       "      <td>0</td>\n",
       "      <td>253875.639453</td>\n",
       "      <td>покупка жилья</td>\n",
       "    </tr>\n",
       "    <tr>\n",
       "      <th>1</th>\n",
       "      <td>1</td>\n",
       "      <td>-4024.803754</td>\n",
       "      <td>36</td>\n",
       "      <td>среднее</td>\n",
       "      <td>1</td>\n",
       "      <td>женат / замужем</td>\n",
       "      <td>0</td>\n",
       "      <td>F</td>\n",
       "      <td>сотрудник</td>\n",
       "      <td>0</td>\n",
       "      <td>112080.014102</td>\n",
       "      <td>приобретение автомобиля</td>\n",
       "    </tr>\n",
       "    <tr>\n",
       "      <th>2</th>\n",
       "      <td>0</td>\n",
       "      <td>-5623.422610</td>\n",
       "      <td>33</td>\n",
       "      <td>Среднее</td>\n",
       "      <td>1</td>\n",
       "      <td>женат / замужем</td>\n",
       "      <td>0</td>\n",
       "      <td>M</td>\n",
       "      <td>сотрудник</td>\n",
       "      <td>0</td>\n",
       "      <td>145885.952297</td>\n",
       "      <td>покупка жилья</td>\n",
       "    </tr>\n",
       "    <tr>\n",
       "      <th>3</th>\n",
       "      <td>3</td>\n",
       "      <td>-4124.747207</td>\n",
       "      <td>32</td>\n",
       "      <td>среднее</td>\n",
       "      <td>1</td>\n",
       "      <td>женат / замужем</td>\n",
       "      <td>0</td>\n",
       "      <td>M</td>\n",
       "      <td>сотрудник</td>\n",
       "      <td>0</td>\n",
       "      <td>267628.550329</td>\n",
       "      <td>дополнительное образование</td>\n",
       "    </tr>\n",
       "    <tr>\n",
       "      <th>4</th>\n",
       "      <td>0</td>\n",
       "      <td>340266.072047</td>\n",
       "      <td>53</td>\n",
       "      <td>среднее</td>\n",
       "      <td>1</td>\n",
       "      <td>гражданский брак</td>\n",
       "      <td>1</td>\n",
       "      <td>F</td>\n",
       "      <td>пенсионер</td>\n",
       "      <td>0</td>\n",
       "      <td>158616.077870</td>\n",
       "      <td>сыграть свадьбу</td>\n",
       "    </tr>\n",
       "    <tr>\n",
       "      <th>5</th>\n",
       "      <td>0</td>\n",
       "      <td>-926.185831</td>\n",
       "      <td>27</td>\n",
       "      <td>высшее</td>\n",
       "      <td>0</td>\n",
       "      <td>гражданский брак</td>\n",
       "      <td>1</td>\n",
       "      <td>M</td>\n",
       "      <td>компаньон</td>\n",
       "      <td>0</td>\n",
       "      <td>255763.565419</td>\n",
       "      <td>покупка жилья</td>\n",
       "    </tr>\n",
       "    <tr>\n",
       "      <th>6</th>\n",
       "      <td>0</td>\n",
       "      <td>-2879.202052</td>\n",
       "      <td>43</td>\n",
       "      <td>высшее</td>\n",
       "      <td>0</td>\n",
       "      <td>женат / замужем</td>\n",
       "      <td>0</td>\n",
       "      <td>F</td>\n",
       "      <td>компаньон</td>\n",
       "      <td>0</td>\n",
       "      <td>240525.971920</td>\n",
       "      <td>операции с жильем</td>\n",
       "    </tr>\n",
       "    <tr>\n",
       "      <th>7</th>\n",
       "      <td>0</td>\n",
       "      <td>-152.779569</td>\n",
       "      <td>50</td>\n",
       "      <td>СРЕДНЕЕ</td>\n",
       "      <td>1</td>\n",
       "      <td>женат / замужем</td>\n",
       "      <td>0</td>\n",
       "      <td>M</td>\n",
       "      <td>сотрудник</td>\n",
       "      <td>0</td>\n",
       "      <td>135823.934197</td>\n",
       "      <td>образование</td>\n",
       "    </tr>\n",
       "    <tr>\n",
       "      <th>8</th>\n",
       "      <td>2</td>\n",
       "      <td>-6929.865299</td>\n",
       "      <td>35</td>\n",
       "      <td>ВЫСШЕЕ</td>\n",
       "      <td>0</td>\n",
       "      <td>гражданский брак</td>\n",
       "      <td>1</td>\n",
       "      <td>F</td>\n",
       "      <td>сотрудник</td>\n",
       "      <td>0</td>\n",
       "      <td>95856.832424</td>\n",
       "      <td>на проведение свадьбы</td>\n",
       "    </tr>\n",
       "    <tr>\n",
       "      <th>9</th>\n",
       "      <td>0</td>\n",
       "      <td>-2188.756445</td>\n",
       "      <td>41</td>\n",
       "      <td>среднее</td>\n",
       "      <td>1</td>\n",
       "      <td>женат / замужем</td>\n",
       "      <td>0</td>\n",
       "      <td>M</td>\n",
       "      <td>сотрудник</td>\n",
       "      <td>0</td>\n",
       "      <td>144425.938277</td>\n",
       "      <td>покупка жилья для семьи</td>\n",
       "    </tr>\n",
       "    <tr>\n",
       "      <th>10</th>\n",
       "      <td>2</td>\n",
       "      <td>-4171.483647</td>\n",
       "      <td>36</td>\n",
       "      <td>высшее</td>\n",
       "      <td>0</td>\n",
       "      <td>женат / замужем</td>\n",
       "      <td>0</td>\n",
       "      <td>M</td>\n",
       "      <td>компаньон</td>\n",
       "      <td>0</td>\n",
       "      <td>113943.491460</td>\n",
       "      <td>покупка недвижимости</td>\n",
       "    </tr>\n",
       "    <tr>\n",
       "      <th>11</th>\n",
       "      <td>0</td>\n",
       "      <td>-792.701887</td>\n",
       "      <td>40</td>\n",
       "      <td>среднее</td>\n",
       "      <td>1</td>\n",
       "      <td>женат / замужем</td>\n",
       "      <td>0</td>\n",
       "      <td>F</td>\n",
       "      <td>сотрудник</td>\n",
       "      <td>0</td>\n",
       "      <td>77069.234271</td>\n",
       "      <td>покупка коммерческой недвижимости</td>\n",
       "    </tr>\n",
       "    <tr>\n",
       "      <th>12</th>\n",
       "      <td>0</td>\n",
       "      <td>NaN</td>\n",
       "      <td>65</td>\n",
       "      <td>среднее</td>\n",
       "      <td>1</td>\n",
       "      <td>гражданский брак</td>\n",
       "      <td>1</td>\n",
       "      <td>M</td>\n",
       "      <td>пенсионер</td>\n",
       "      <td>0</td>\n",
       "      <td>NaN</td>\n",
       "      <td>сыграть свадьбу</td>\n",
       "    </tr>\n",
       "    <tr>\n",
       "      <th>13</th>\n",
       "      <td>0</td>\n",
       "      <td>-1846.641941</td>\n",
       "      <td>54</td>\n",
       "      <td>неоконченное высшее</td>\n",
       "      <td>2</td>\n",
       "      <td>женат / замужем</td>\n",
       "      <td>0</td>\n",
       "      <td>F</td>\n",
       "      <td>сотрудник</td>\n",
       "      <td>0</td>\n",
       "      <td>130458.228857</td>\n",
       "      <td>приобретение автомобиля</td>\n",
       "    </tr>\n",
       "    <tr>\n",
       "      <th>14</th>\n",
       "      <td>0</td>\n",
       "      <td>-1844.956182</td>\n",
       "      <td>56</td>\n",
       "      <td>высшее</td>\n",
       "      <td>0</td>\n",
       "      <td>гражданский брак</td>\n",
       "      <td>1</td>\n",
       "      <td>F</td>\n",
       "      <td>компаньон</td>\n",
       "      <td>1</td>\n",
       "      <td>165127.911772</td>\n",
       "      <td>покупка жилой недвижимости</td>\n",
       "    </tr>\n",
       "    <tr>\n",
       "      <th>15</th>\n",
       "      <td>1</td>\n",
       "      <td>-972.364419</td>\n",
       "      <td>26</td>\n",
       "      <td>среднее</td>\n",
       "      <td>1</td>\n",
       "      <td>женат / замужем</td>\n",
       "      <td>0</td>\n",
       "      <td>F</td>\n",
       "      <td>сотрудник</td>\n",
       "      <td>0</td>\n",
       "      <td>116820.904450</td>\n",
       "      <td>строительство собственной недвижимости</td>\n",
       "    </tr>\n",
       "    <tr>\n",
       "      <th>16</th>\n",
       "      <td>0</td>\n",
       "      <td>-1719.934226</td>\n",
       "      <td>35</td>\n",
       "      <td>среднее</td>\n",
       "      <td>1</td>\n",
       "      <td>женат / замужем</td>\n",
       "      <td>0</td>\n",
       "      <td>F</td>\n",
       "      <td>сотрудник</td>\n",
       "      <td>0</td>\n",
       "      <td>289202.704229</td>\n",
       "      <td>недвижимость</td>\n",
       "    </tr>\n",
       "    <tr>\n",
       "      <th>17</th>\n",
       "      <td>0</td>\n",
       "      <td>-2369.999720</td>\n",
       "      <td>33</td>\n",
       "      <td>высшее</td>\n",
       "      <td>0</td>\n",
       "      <td>гражданский брак</td>\n",
       "      <td>1</td>\n",
       "      <td>M</td>\n",
       "      <td>сотрудник</td>\n",
       "      <td>0</td>\n",
       "      <td>90410.586745</td>\n",
       "      <td>строительство недвижимости</td>\n",
       "    </tr>\n",
       "    <tr>\n",
       "      <th>18</th>\n",
       "      <td>0</td>\n",
       "      <td>400281.136913</td>\n",
       "      <td>53</td>\n",
       "      <td>среднее</td>\n",
       "      <td>1</td>\n",
       "      <td>вдовец / вдова</td>\n",
       "      <td>2</td>\n",
       "      <td>F</td>\n",
       "      <td>пенсионер</td>\n",
       "      <td>0</td>\n",
       "      <td>56823.777243</td>\n",
       "      <td>на покупку подержанного автомобиля</td>\n",
       "    </tr>\n",
       "    <tr>\n",
       "      <th>19</th>\n",
       "      <td>0</td>\n",
       "      <td>-10038.818549</td>\n",
       "      <td>48</td>\n",
       "      <td>СРЕДНЕЕ</td>\n",
       "      <td>1</td>\n",
       "      <td>в разводе</td>\n",
       "      <td>3</td>\n",
       "      <td>F</td>\n",
       "      <td>сотрудник</td>\n",
       "      <td>0</td>\n",
       "      <td>242831.107982</td>\n",
       "      <td>на покупку своего автомобиля</td>\n",
       "    </tr>\n",
       "  </tbody>\n",
       "</table>\n",
       "</div>"
      ],
      "text/plain": [
       "    children  days_employed  dob_years            education  education_id  \\\n",
       "0          1   -8437.673028         42               высшее             0   \n",
       "1          1   -4024.803754         36              среднее             1   \n",
       "2          0   -5623.422610         33              Среднее             1   \n",
       "3          3   -4124.747207         32              среднее             1   \n",
       "4          0  340266.072047         53              среднее             1   \n",
       "5          0    -926.185831         27               высшее             0   \n",
       "6          0   -2879.202052         43               высшее             0   \n",
       "7          0    -152.779569         50              СРЕДНЕЕ             1   \n",
       "8          2   -6929.865299         35               ВЫСШЕЕ             0   \n",
       "9          0   -2188.756445         41              среднее             1   \n",
       "10         2   -4171.483647         36               высшее             0   \n",
       "11         0    -792.701887         40              среднее             1   \n",
       "12         0            NaN         65              среднее             1   \n",
       "13         0   -1846.641941         54  неоконченное высшее             2   \n",
       "14         0   -1844.956182         56               высшее             0   \n",
       "15         1    -972.364419         26              среднее             1   \n",
       "16         0   -1719.934226         35              среднее             1   \n",
       "17         0   -2369.999720         33               высшее             0   \n",
       "18         0  400281.136913         53              среднее             1   \n",
       "19         0  -10038.818549         48              СРЕДНЕЕ             1   \n",
       "\n",
       "       family_status  family_status_id gender income_type  debt  \\\n",
       "0    женат / замужем                 0      F   сотрудник     0   \n",
       "1    женат / замужем                 0      F   сотрудник     0   \n",
       "2    женат / замужем                 0      M   сотрудник     0   \n",
       "3    женат / замужем                 0      M   сотрудник     0   \n",
       "4   гражданский брак                 1      F   пенсионер     0   \n",
       "5   гражданский брак                 1      M   компаньон     0   \n",
       "6    женат / замужем                 0      F   компаньон     0   \n",
       "7    женат / замужем                 0      M   сотрудник     0   \n",
       "8   гражданский брак                 1      F   сотрудник     0   \n",
       "9    женат / замужем                 0      M   сотрудник     0   \n",
       "10   женат / замужем                 0      M   компаньон     0   \n",
       "11   женат / замужем                 0      F   сотрудник     0   \n",
       "12  гражданский брак                 1      M   пенсионер     0   \n",
       "13   женат / замужем                 0      F   сотрудник     0   \n",
       "14  гражданский брак                 1      F   компаньон     1   \n",
       "15   женат / замужем                 0      F   сотрудник     0   \n",
       "16   женат / замужем                 0      F   сотрудник     0   \n",
       "17  гражданский брак                 1      M   сотрудник     0   \n",
       "18    вдовец / вдова                 2      F   пенсионер     0   \n",
       "19         в разводе                 3      F   сотрудник     0   \n",
       "\n",
       "     total_income                                 purpose  \n",
       "0   253875.639453                           покупка жилья  \n",
       "1   112080.014102                 приобретение автомобиля  \n",
       "2   145885.952297                           покупка жилья  \n",
       "3   267628.550329              дополнительное образование  \n",
       "4   158616.077870                         сыграть свадьбу  \n",
       "5   255763.565419                           покупка жилья  \n",
       "6   240525.971920                       операции с жильем  \n",
       "7   135823.934197                             образование  \n",
       "8    95856.832424                   на проведение свадьбы  \n",
       "9   144425.938277                 покупка жилья для семьи  \n",
       "10  113943.491460                    покупка недвижимости  \n",
       "11   77069.234271       покупка коммерческой недвижимости  \n",
       "12            NaN                         сыграть свадьбу  \n",
       "13  130458.228857                 приобретение автомобиля  \n",
       "14  165127.911772              покупка жилой недвижимости  \n",
       "15  116820.904450  строительство собственной недвижимости  \n",
       "16  289202.704229                            недвижимость  \n",
       "17   90410.586745              строительство недвижимости  \n",
       "18   56823.777243      на покупку подержанного автомобиля  \n",
       "19  242831.107982            на покупку своего автомобиля  "
      ]
     },
     "execution_count": 2,
     "metadata": {},
     "output_type": "execute_result"
    }
   ],
   "source": [
    "data.head(20)"
   ]
  },
  {
   "cell_type": "code",
   "execution_count": 3,
   "id": "d8987111",
   "metadata": {
    "deletable": false,
    "id": "2b757bca",
    "outputId": "15376089-8dad-46c9-b520-c05248d43158"
   },
   "outputs": [
    {
     "name": "stdout",
     "output_type": "stream",
     "text": [
      "<class 'pandas.core.frame.DataFrame'>\n",
      "RangeIndex: 21525 entries, 0 to 21524\n",
      "Data columns (total 12 columns):\n",
      " #   Column            Non-Null Count  Dtype  \n",
      "---  ------            --------------  -----  \n",
      " 0   children          21525 non-null  int64  \n",
      " 1   days_employed     19351 non-null  float64\n",
      " 2   dob_years         21525 non-null  int64  \n",
      " 3   education         21525 non-null  object \n",
      " 4   education_id      21525 non-null  int64  \n",
      " 5   family_status     21525 non-null  object \n",
      " 6   family_status_id  21525 non-null  int64  \n",
      " 7   gender            21525 non-null  object \n",
      " 8   income_type       21525 non-null  object \n",
      " 9   debt              21525 non-null  int64  \n",
      " 10  total_income      19351 non-null  float64\n",
      " 11  purpose           21525 non-null  object \n",
      "dtypes: float64(2), int64(5), object(5)\n",
      "memory usage: 2.0+ MB\n"
     ]
    }
   ],
   "source": [
    "data.info()"
   ]
  },
  {
   "cell_type": "markdown",
   "id": "a75a95d4",
   "metadata": {
    "deletable": false,
    "editable": false,
    "id": "333ec665"
   },
   "source": [
    "## Предобработка данных"
   ]
  },
  {
   "cell_type": "markdown",
   "id": "99469c4e",
   "metadata": {
    "deletable": false,
    "editable": false,
    "id": "02d92d53"
   },
   "source": [
    "### Удаление пропусков"
   ]
  },
  {
   "cell_type": "code",
   "execution_count": 4,
   "id": "6d91f946",
   "metadata": {
    "deletable": false,
    "id": "7f9b2309",
    "outputId": "81f4d817-781c-465c-ed15-91ce4446810d"
   },
   "outputs": [
    {
     "data": {
      "text/plain": [
       "children               0\n",
       "days_employed       2174\n",
       "dob_years              0\n",
       "education              0\n",
       "education_id           0\n",
       "family_status          0\n",
       "family_status_id       0\n",
       "gender                 0\n",
       "income_type            0\n",
       "debt                   0\n",
       "total_income        2174\n",
       "purpose                0\n",
       "dtype: int64"
      ]
     },
     "execution_count": 4,
     "metadata": {},
     "output_type": "execute_result"
    }
   ],
   "source": [
    "data.isna().sum()"
   ]
  },
  {
   "cell_type": "markdown",
   "id": "c4c22606",
   "metadata": {
    "deletable": false,
    "editable": false,
    "id": "db86e27b"
   },
   "source": [
    "**В двух столбцах есть пропущенные значения. Один из них — `days_employed`. Пропуски в этом столбце обработаем на следующем этапе. Другой столбец с пропущенными значениями — `total_income` — хранит данные о доходах. На сумму дохода сильнее всего влияет тип занятости, поэтому заполнить пропуски в этом столбце нужно медианным значением по каждому типу из столбца `income_type`.**"
   ]
  },
  {
   "cell_type": "code",
   "execution_count": null,
   "id": "dc80a006",
   "metadata": {
    "deletable": false,
    "id": "42006a93"
   },
   "outputs": [],
   "source": [
    "median_values = data.groupby('income_type')['total_income'].median()\n",
    "for i in range(len(data)):\n",
    "     if pd.isnull(data.loc[i, 'total_income']):  \n",
    "        income_type = data.loc[i, 'income_type']  \n",
    "        data.loc[i, 'total_income'] = median_values[income_type] \n",
    "        "
   ]
  },
  {
   "cell_type": "markdown",
   "id": "36df83ef",
   "metadata": {
    "deletable": false,
    "editable": false,
    "id": "89da5ece"
   },
   "source": [
    "### Обработка аномальных значений"
   ]
  },
  {
   "cell_type": "code",
   "execution_count": 6,
   "id": "55397e80",
   "metadata": {
    "deletable": false,
    "id": "f6f055bf"
   },
   "outputs": [],
   "source": [
    "data['days_employed'] = data['days_employed'].abs()"
   ]
  },
  {
   "cell_type": "markdown",
   "id": "c380c711",
   "metadata": {
    "deletable": false,
    "editable": false,
    "id": "6107dd2f"
   },
   "source": [
    "**Для каждого типа занятости выведим медианное значение трудового стажа `days_employed` в днях.**"
   ]
  },
  {
   "cell_type": "code",
   "execution_count": 7,
   "id": "43c5e7f0",
   "metadata": {
    "deletable": false,
    "id": "85a5faf6",
    "outputId": "801ef80e-522b-4668-f34e-565af7432bcf"
   },
   "outputs": [
    {
     "data": {
      "text/plain": [
       "income_type\n",
       "безработный        366413.652744\n",
       "в декрете            3296.759962\n",
       "госслужащий          2689.368353\n",
       "компаньон            1547.382223\n",
       "пенсионер          365213.306266\n",
       "предприниматель       520.848083\n",
       "сотрудник            1574.202821\n",
       "студент               578.751554\n",
       "Name: days_employed, dtype: float64"
      ]
     },
     "execution_count": 7,
     "metadata": {},
     "output_type": "execute_result"
    }
   ],
   "source": [
    "data.groupby('income_type')['days_employed'].agg('median')"
   ]
  },
  {
   "cell_type": "markdown",
   "id": "267e8376",
   "metadata": {
    "deletable": false,
    "editable": false,
    "id": "38d1a030"
   },
   "source": [
    "У двух типов (безработные и пенсионеры) получатся аномально большие значения. Исправить такие значения сложно, поэтому оставим их как есть. Тем более этот столбец не понадобится для исследования."
   ]
  },
  {
   "cell_type": "markdown",
   "id": "8ad44863",
   "metadata": {
    "deletable": false,
    "editable": false,
    "id": "d8a9f147"
   },
   "source": [
    "**Выведим перечень уникальных значений столбца `children`.**"
   ]
  },
  {
   "cell_type": "code",
   "execution_count": 8,
   "id": "88b09b7b",
   "metadata": {
    "deletable": false,
    "id": "ef5056eb",
    "outputId": "6975b15c-7f95-4697-d16d-a0c79b657b03"
   },
   "outputs": [
    {
     "data": {
      "text/plain": [
       "array([ 1,  0,  3,  2, -1,  4, 20,  5])"
      ]
     },
     "execution_count": 8,
     "metadata": {},
     "output_type": "execute_result"
    }
   ],
   "source": [
    "data['children'].unique()"
   ]
  },
  {
   "cell_type": "markdown",
   "id": "897e0716",
   "metadata": {
    "deletable": false,
    "editable": false,
    "id": "40b9ebf2"
   },
   "source": [
    "**В столбце `children` есть два аномальных значения. Удалим строки, в которых встречаются такие аномальные значения из датафрейма `data`.**"
   ]
  },
  {
   "cell_type": "code",
   "execution_count": null,
   "id": "070b32d3",
   "metadata": {
    "deletable": false,
    "id": "3ff9801d"
   },
   "outputs": [],
   "source": [
    "data = data[(data['children'] != -1) & (data['children'] != 20)]"
   ]
  },
  {
   "cell_type": "code",
   "execution_count": 10,
   "id": "4cb0c8ba",
   "metadata": {
    "deletable": false,
    "id": "ad4fa8b7",
    "outputId": "b2097101-d49d-44d9-901b-32a65c9463d1"
   },
   "outputs": [
    {
     "data": {
      "text/plain": [
       "array([1, 0, 3, 2, 4, 5])"
      ]
     },
     "execution_count": 10,
     "metadata": {},
     "output_type": "execute_result"
    }
   ],
   "source": [
    "data['children'].unique()"
   ]
  },
  {
   "cell_type": "markdown",
   "id": "4209c63f",
   "metadata": {
    "deletable": false,
    "editable": false,
    "id": "75440b63"
   },
   "source": [
    "### Удаление пропусков (продолжение)"
   ]
  },
  {
   "cell_type": "markdown",
   "id": "e946d82a",
   "metadata": {
    "deletable": false,
    "editable": false,
    "id": "f4ea573f"
   },
   "source": [
    "**Заполним пропуски в столбце `days_employed` медианными значениями по каждого типа занятости `income_type`.**"
   ]
  },
  {
   "cell_type": "code",
   "execution_count": null,
   "id": "ac0400fe",
   "metadata": {
    "deletable": false,
    "id": "af6b1a7e"
   },
   "outputs": [],
   "source": [
    "median_days = data.groupby('income_type')['days_employed'].median()\n",
    "\n",
    "\n",
    "def fill_missing_days(row):\n",
    "    if pd.isnull(row['days_employed']):\n",
    "        income_type = row['income_type']\n",
    "        if income_type in median_days:\n",
    "            return median_days[income_type]\n",
    "        else:\n",
    "            return None  \n",
    "    return row['days_employed']\n",
    "\n",
    "data['days_employed'] = data.apply(fill_missing_days, axis=1)  "
   ]
  },
  {
   "cell_type": "code",
   "execution_count": 12,
   "id": "bd03356e",
   "metadata": {
    "deletable": false,
    "id": "55f78bc2",
    "outputId": "8da1e4e1-358e-4e87-98c9-f261bce0a7b2"
   },
   "outputs": [
    {
     "data": {
      "text/plain": [
       "children            0\n",
       "days_employed       0\n",
       "dob_years           0\n",
       "education           0\n",
       "education_id        0\n",
       "family_status       0\n",
       "family_status_id    0\n",
       "gender              0\n",
       "income_type         0\n",
       "debt                0\n",
       "total_income        0\n",
       "purpose             0\n",
       "dtype: int64"
      ]
     },
     "execution_count": 12,
     "metadata": {},
     "output_type": "execute_result"
    }
   ],
   "source": [
    "data.isna().sum()"
   ]
  },
  {
   "cell_type": "markdown",
   "id": "8b531096",
   "metadata": {
    "deletable": false,
    "editable": false,
    "id": "ddc81e43"
   },
   "source": [
    "### Изменение типов данных"
   ]
  },
  {
   "cell_type": "code",
   "execution_count": 13,
   "id": "3b47ee81",
   "metadata": {
    "deletable": false,
    "id": "920b65ad"
   },
   "outputs": [],
   "source": [
    "data['total_income'] = data['total_income'].astype(int)"
   ]
  },
  {
   "cell_type": "markdown",
   "id": "53841ced",
   "metadata": {
    "deletable": false,
    "editable": false,
    "id": "80c420ba"
   },
   "source": [
    "### Обработка дубликатов"
   ]
  },
  {
   "cell_type": "code",
   "execution_count": 14,
   "id": "7489c8e4",
   "metadata": {
    "deletable": false
   },
   "outputs": [],
   "source": [
    "data['education'] = data['education'].str.lower()"
   ]
  },
  {
   "cell_type": "code",
   "execution_count": 15,
   "id": "5aef543b",
   "metadata": {
    "deletable": false,
    "id": "3ee445e4",
    "outputId": "9684deba-1934-42d1-99e1-cda61740f822"
   },
   "outputs": [
    {
     "data": {
      "text/plain": [
       "71"
      ]
     },
     "execution_count": 15,
     "metadata": {},
     "output_type": "execute_result"
    }
   ],
   "source": [
    "data.duplicated().sum()"
   ]
  },
  {
   "cell_type": "code",
   "execution_count": 16,
   "id": "e01c4804",
   "metadata": {
    "deletable": false,
    "id": "8575fe05"
   },
   "outputs": [],
   "source": [
    "data = data.drop_duplicates()"
   ]
  },
  {
   "cell_type": "markdown",
   "id": "25c915aa",
   "metadata": {
    "deletable": false,
    "editable": false,
    "id": "9904cf55"
   },
   "source": [
    "### Категоризация данных"
   ]
  },
  {
   "cell_type": "markdown",
   "id": "e2547b59",
   "metadata": {
    "deletable": false,
    "editable": false,
    "id": "72fcc8a2"
   },
   "source": [
    "**На основании диапазонов, указанных ниже, создадим в датафрейме `data` столбец `total_income_category` с категориями:**\n",
    "\n",
    "- 0–30000 — `'E'`;\n",
    "- 30001–50000 — `'D'`;\n",
    "- 50001–200000 — `'C'`;\n",
    "- 200001–1000000 — `'B'`;\n",
    "- 1000001 и выше — `'A'`."
   ]
  },
  {
   "cell_type": "code",
   "execution_count": null,
   "id": "4c15954c",
   "metadata": {
    "deletable": false,
    "id": "e1771346"
   },
   "outputs": [],
   "source": [
    "def categorize_income(total_income):\n",
    "    if 0 < total_income <= 30000:\n",
    "        return 'E'\n",
    "    if 30000 < total_income <= 50000:\n",
    "        return 'D'\n",
    "    if 50000 < total_income <= 200000:\n",
    "        return 'C'\n",
    "    if 200000 < total_income <= 1000000:\n",
    "        return 'B'\n",
    "    else:\n",
    "        return 'A'"
   ]
  },
  {
   "cell_type": "code",
   "execution_count": 18,
   "id": "2b504a1b",
   "metadata": {
    "deletable": false,
    "id": "d5f3586d"
   },
   "outputs": [],
   "source": [
    "data['total_income_category'] = data['total_income'].apply(categorize_income)"
   ]
  },
  {
   "cell_type": "markdown",
   "id": "1b006ae7",
   "metadata": {
    "deletable": false,
    "editable": false,
    "id": "dde49b5c"
   },
   "source": [
    "**Выведим на экран перечень уникальных целей взятия кредита из столбца `purpose`.**"
   ]
  },
  {
   "cell_type": "code",
   "execution_count": 19,
   "id": "3dcfd1f5",
   "metadata": {
    "deletable": false,
    "id": "f67ce9b3",
    "outputId": "673c12d9-7d7e-4ae0-9812-c622c89dd244"
   },
   "outputs": [
    {
     "data": {
      "text/plain": [
       "array(['покупка жилья', 'приобретение автомобиля',\n",
       "       'дополнительное образование', 'сыграть свадьбу',\n",
       "       'операции с жильем', 'образование', 'на проведение свадьбы',\n",
       "       'покупка жилья для семьи', 'покупка недвижимости',\n",
       "       'покупка коммерческой недвижимости', 'покупка жилой недвижимости',\n",
       "       'строительство собственной недвижимости', 'недвижимость',\n",
       "       'строительство недвижимости', 'на покупку подержанного автомобиля',\n",
       "       'на покупку своего автомобиля',\n",
       "       'операции с коммерческой недвижимостью',\n",
       "       'строительство жилой недвижимости', 'жилье',\n",
       "       'операции со своей недвижимостью', 'автомобили',\n",
       "       'заняться образованием', 'сделка с подержанным автомобилем',\n",
       "       'получение образования', 'автомобиль', 'свадьба',\n",
       "       'получение дополнительного образования', 'покупка своего жилья',\n",
       "       'операции с недвижимостью', 'получение высшего образования',\n",
       "       'свой автомобиль', 'сделка с автомобилем',\n",
       "       'профильное образование', 'высшее образование',\n",
       "       'покупка жилья для сдачи', 'на покупку автомобиля', 'ремонт жилью',\n",
       "       'заняться высшим образованием'], dtype=object)"
      ]
     },
     "execution_count": 19,
     "metadata": {},
     "output_type": "execute_result"
    }
   ],
   "source": [
    "data['purpose'].unique()"
   ]
  },
  {
   "cell_type": "markdown",
   "id": "ed8da920",
   "metadata": {
    "deletable": false,
    "editable": false,
    "id": "85d0aef0"
   },
   "source": [
    "**Создадим функцию, которая на основании данных из столбца `purpose` сформирует новый столбец `purpose_category`, в который войдут следующие категории:**\n",
    "\n",
    "- `'операции с автомобилем'`,\n",
    "- `'операции с недвижимостью'`,\n",
    "- `'проведение свадьбы'`,\n",
    "- `'получение образования'`."
   ]
  },
  {
   "cell_type": "code",
   "execution_count": null,
   "id": "d7633f3f",
   "metadata": {
    "deletable": false,
    "id": "e149fab4"
   },
   "outputs": [],
   "source": [
    "def categorize_purpose(purpose):\n",
    "    if 'авто' in purpose:\n",
    "        return 'операции с автомобилем'\n",
    "    if 'недвижимо' in purpose or 'жиль' in purpose:\n",
    "        return 'операции с недвижимостью'\n",
    "    if 'свадь' in purpose:\n",
    "        return 'проведение свадьбы'\n",
    "    if 'образова' in purpose:\n",
    "        return 'получение образования'"
   ]
  },
  {
   "cell_type": "code",
   "execution_count": 21,
   "id": "70989000",
   "metadata": {
    "deletable": false,
    "id": "bf36e69b"
   },
   "outputs": [],
   "source": [
    "data['purpose_category'] = data['purpose'].apply(categorize_purpose)"
   ]
  },
  {
   "cell_type": "markdown",
   "id": "952cc729",
   "metadata": {
    "deletable": false,
    "editable": false,
    "id": "09b242bf"
   },
   "source": [
    "### Шаг 3. Исследуйте данные и ответим на вопросы"
   ]
  },
  {
   "cell_type": "markdown",
   "id": "f2441df0",
   "metadata": {
    "deletable": false,
    "editable": false,
    "id": "c5d66278"
   },
   "source": [
    "#### 3.1 Есть ли зависимость между количеством детей и возвратом кредита в срок?"
   ]
  },
  {
   "cell_type": "markdown",
   "id": "04310e6c",
   "metadata": {},
   "source": [
    "Для проверки первой гипотезы нам потребуются данные о количестве детей у заемщика и информация о том, имел ли он задолженность по возврату кредитов."
   ]
  },
  {
   "cell_type": "code",
   "execution_count": 22,
   "id": "db4fc5f1",
   "metadata": {
    "deletable": false,
    "id": "2cacfc4a"
   },
   "outputs": [
    {
     "data": {
      "text/html": [
       "<div>\n",
       "<style scoped>\n",
       "    .dataframe tbody tr th:only-of-type {\n",
       "        vertical-align: middle;\n",
       "    }\n",
       "\n",
       "    .dataframe tbody tr th {\n",
       "        vertical-align: top;\n",
       "    }\n",
       "\n",
       "    .dataframe thead th {\n",
       "        text-align: right;\n",
       "    }\n",
       "</style>\n",
       "<table border=\"1\" class=\"dataframe\">\n",
       "  <thead>\n",
       "    <tr style=\"text-align: right;\">\n",
       "      <th></th>\n",
       "      <th>total_clients</th>\n",
       "      <th>clients_with_debt</th>\n",
       "    </tr>\n",
       "    <tr>\n",
       "      <th>children</th>\n",
       "      <th></th>\n",
       "      <th></th>\n",
       "    </tr>\n",
       "  </thead>\n",
       "  <tbody>\n",
       "    <tr>\n",
       "      <th>0</th>\n",
       "      <td>14091</td>\n",
       "      <td>1063</td>\n",
       "    </tr>\n",
       "    <tr>\n",
       "      <th>1</th>\n",
       "      <td>4808</td>\n",
       "      <td>444</td>\n",
       "    </tr>\n",
       "    <tr>\n",
       "      <th>2</th>\n",
       "      <td>2052</td>\n",
       "      <td>194</td>\n",
       "    </tr>\n",
       "    <tr>\n",
       "      <th>3</th>\n",
       "      <td>330</td>\n",
       "      <td>27</td>\n",
       "    </tr>\n",
       "    <tr>\n",
       "      <th>4</th>\n",
       "      <td>41</td>\n",
       "      <td>4</td>\n",
       "    </tr>\n",
       "    <tr>\n",
       "      <th>5</th>\n",
       "      <td>9</td>\n",
       "      <td>0</td>\n",
       "    </tr>\n",
       "  </tbody>\n",
       "</table>\n",
       "</div>"
      ],
      "text/plain": [
       "          total_clients  clients_with_debt\n",
       "children                                  \n",
       "0                 14091               1063\n",
       "1                  4808                444\n",
       "2                  2052                194\n",
       "3                   330                 27\n",
       "4                    41                  4\n",
       "5                     9                  0"
      ]
     },
     "execution_count": 22,
     "metadata": {},
     "output_type": "execute_result"
    }
   ],
   "source": [
    "#Сгруппируем данные по количеству детей и подсчитаем количесвто должников\n",
    "children_debt = data.groupby('children')['debt'].agg(['count', 'sum'])\n",
    "children_debt = children_debt.rename(columns = {'count': 'total_clients', 'sum': 'clients_with_debt'})\n",
    "#В столбце total_clients показано общее количество заемщиков с определенным количеством детей\n",
    "#В столбце clients_with_debt - количество заемщиков с долгами среди группы\n",
    "children_debt"
   ]
  },
  {
   "cell_type": "code",
   "execution_count": 23,
   "id": "a9833427",
   "metadata": {},
   "outputs": [
    {
     "data": {
      "text/html": [
       "<div>\n",
       "<style scoped>\n",
       "    .dataframe tbody tr th:only-of-type {\n",
       "        vertical-align: middle;\n",
       "    }\n",
       "\n",
       "    .dataframe tbody tr th {\n",
       "        vertical-align: top;\n",
       "    }\n",
       "\n",
       "    .dataframe thead th {\n",
       "        text-align: right;\n",
       "    }\n",
       "</style>\n",
       "<table border=\"1\" class=\"dataframe\">\n",
       "  <thead>\n",
       "    <tr style=\"text-align: right;\">\n",
       "      <th></th>\n",
       "      <th>total_clients</th>\n",
       "      <th>clients_with_debt</th>\n",
       "      <th>ratio</th>\n",
       "    </tr>\n",
       "    <tr>\n",
       "      <th>children</th>\n",
       "      <th></th>\n",
       "      <th></th>\n",
       "      <th></th>\n",
       "    </tr>\n",
       "  </thead>\n",
       "  <tbody>\n",
       "    <tr>\n",
       "      <th>0</th>\n",
       "      <td>14091</td>\n",
       "      <td>1063</td>\n",
       "      <td>0.075438</td>\n",
       "    </tr>\n",
       "    <tr>\n",
       "      <th>1</th>\n",
       "      <td>4808</td>\n",
       "      <td>444</td>\n",
       "      <td>0.092346</td>\n",
       "    </tr>\n",
       "    <tr>\n",
       "      <th>2</th>\n",
       "      <td>2052</td>\n",
       "      <td>194</td>\n",
       "      <td>0.094542</td>\n",
       "    </tr>\n",
       "    <tr>\n",
       "      <th>3</th>\n",
       "      <td>330</td>\n",
       "      <td>27</td>\n",
       "      <td>0.081818</td>\n",
       "    </tr>\n",
       "    <tr>\n",
       "      <th>4</th>\n",
       "      <td>41</td>\n",
       "      <td>4</td>\n",
       "      <td>0.097561</td>\n",
       "    </tr>\n",
       "    <tr>\n",
       "      <th>5</th>\n",
       "      <td>9</td>\n",
       "      <td>0</td>\n",
       "      <td>0.000000</td>\n",
       "    </tr>\n",
       "  </tbody>\n",
       "</table>\n",
       "</div>"
      ],
      "text/plain": [
       "          total_clients  clients_with_debt     ratio\n",
       "children                                            \n",
       "0                 14091               1063  0.075438\n",
       "1                  4808                444  0.092346\n",
       "2                  2052                194  0.094542\n",
       "3                   330                 27  0.081818\n",
       "4                    41                  4  0.097561\n",
       "5                     9                  0  0.000000"
      ]
     },
     "execution_count": 23,
     "metadata": {},
     "output_type": "execute_result"
    }
   ],
   "source": [
    "#Добавим столбец с процентным соотношением\n",
    "children_debt['ratio'] = children_debt['clients_with_debt'] / children_debt['total_clients']\n",
    "children_debt"
   ]
  },
  {
   "cell_type": "markdown",
   "id": "76545783",
   "metadata": {
    "deletable": false,
    "id": "3a6b99ec"
   },
   "source": [
    "**Вывод:** \n",
    "\n",
    "1. Меньше всего должников среди людей у которых нет детей (7.5%).\n",
    "2. Сначала с увеличением увеличением количества детей наблюдается рост количества должников, но на третьем ребенке данный показатель уменьшается.\n",
    "3. Группа с 4 детьми имеет наивысший процент должников (9.7%).\n",
    "4. Группа с 5 детьми имеет слишком малый размер выборки, с этим связано отсутствия должников в данной группе.\n",
    "\n",
    "Таким образом, первая гипотеза подтверждается лишь частично: \n",
    "\n",
    "* доля должников среди заёмщиков с разным количеством детей отличается. Так, заёмщики с 1-2 или 4 детьми имеют чуть более высокую долю задолженности, чем те, у кого нет детей.\n",
    "* Группа 4 и 5 имеют маленькую выборку, что делает статистические данные менее надежными."
   ]
  },
  {
   "cell_type": "markdown",
   "id": "f981f2d2",
   "metadata": {
    "deletable": false,
    "editable": false,
    "id": "97be82ca"
   },
   "source": [
    "#### 3.2 Есть ли зависимость между семейным положением и возвратом кредита в срок?"
   ]
  },
  {
   "cell_type": "markdown",
   "id": "16df34b3",
   "metadata": {},
   "source": [
    "Для проверки второй гипотезы нам потребуются данные о семейном положении заёмщика и информация о том, имел ли он задолженность по возврату кредитов."
   ]
  },
  {
   "cell_type": "code",
   "execution_count": 24,
   "id": "e188385f",
   "metadata": {
    "deletable": false,
    "id": "dc3f7ee8"
   },
   "outputs": [
    {
     "data": {
      "text/html": [
       "<div>\n",
       "<style scoped>\n",
       "    .dataframe tbody tr th:only-of-type {\n",
       "        vertical-align: middle;\n",
       "    }\n",
       "\n",
       "    .dataframe tbody tr th {\n",
       "        vertical-align: top;\n",
       "    }\n",
       "\n",
       "    .dataframe thead th {\n",
       "        text-align: right;\n",
       "    }\n",
       "</style>\n",
       "<table border=\"1\" class=\"dataframe\">\n",
       "  <thead>\n",
       "    <tr style=\"text-align: right;\">\n",
       "      <th></th>\n",
       "      <th>total_clients</th>\n",
       "      <th>clients_with_debt</th>\n",
       "      <th>ratio</th>\n",
       "    </tr>\n",
       "    <tr>\n",
       "      <th>family_status</th>\n",
       "      <th></th>\n",
       "      <th></th>\n",
       "      <th></th>\n",
       "    </tr>\n",
       "  </thead>\n",
       "  <tbody>\n",
       "    <tr>\n",
       "      <th>Не женат / не замужем</th>\n",
       "      <td>2796</td>\n",
       "      <td>273</td>\n",
       "      <td>0.097639</td>\n",
       "    </tr>\n",
       "    <tr>\n",
       "      <th>в разводе</th>\n",
       "      <td>1189</td>\n",
       "      <td>84</td>\n",
       "      <td>0.070648</td>\n",
       "    </tr>\n",
       "    <tr>\n",
       "      <th>вдовец / вдова</th>\n",
       "      <td>951</td>\n",
       "      <td>63</td>\n",
       "      <td>0.066246</td>\n",
       "    </tr>\n",
       "    <tr>\n",
       "      <th>гражданский брак</th>\n",
       "      <td>4134</td>\n",
       "      <td>385</td>\n",
       "      <td>0.093130</td>\n",
       "    </tr>\n",
       "    <tr>\n",
       "      <th>женат / замужем</th>\n",
       "      <td>12261</td>\n",
       "      <td>927</td>\n",
       "      <td>0.075606</td>\n",
       "    </tr>\n",
       "  </tbody>\n",
       "</table>\n",
       "</div>"
      ],
      "text/plain": [
       "                       total_clients  clients_with_debt     ratio\n",
       "family_status                                                    \n",
       "Не женат / не замужем           2796                273  0.097639\n",
       "в разводе                       1189                 84  0.070648\n",
       "вдовец / вдова                   951                 63  0.066246\n",
       "гражданский брак                4134                385  0.093130\n",
       "женат / замужем                12261                927  0.075606"
      ]
     },
     "execution_count": 24,
     "metadata": {},
     "output_type": "execute_result"
    }
   ],
   "source": [
    "#Сгруппируем данные по семейному положению и подсчитаем количесвто должников\n",
    "family_status_debt = data.groupby('family_status')['debt'].agg(['count', 'sum'])\n",
    "family_status_debt = family_status_debt.rename(columns = {'count': 'total_clients', 'sum': 'clients_with_debt'})\n",
    "#Добавим столбец с процентным соотношением\n",
    "family_status_debt['ratio'] = family_status_debt['clients_with_debt'] / family_status_debt['total_clients']\n",
    "family_status_debt"
   ]
  },
  {
   "cell_type": "markdown",
   "id": "dc0eb4f9",
   "metadata": {
    "deletable": false,
    "id": "1cef7837"
   },
   "source": [
    "**Вывод:** \n",
    "\n",
    "1. Больше всего должников наблюдается среди людей, которые не состаят в официальных отношениях (не женат/не замужем, гражданский брак).\n",
    "2. Люди, которые находятся в официальном браке или в разводе имеют меньшую долю должников, чем те, которые не не состаят в официальных отношениях.\n",
    "3. Наименьшая доля должников среди вдов/вдовцов.\n",
    "\n",
    "Вторая гипотеза подтверждается. Наличие официального или бывшего брачного статуса связано с более низким процентом невозврата кредита. Это может быть связано с большей финансовой отвественностью среди этих групп. \n",
    "\n"
   ]
  },
  {
   "cell_type": "markdown",
   "id": "62127b6e",
   "metadata": {
    "deletable": false,
    "editable": false,
    "id": "1e8b2fca"
   },
   "source": [
    "#### 3.3 Есть ли зависимость между уровнем дохода и возвратом кредита в срок?"
   ]
  },
  {
   "cell_type": "markdown",
   "id": "6bee5676",
   "metadata": {},
   "source": [
    "Для проверки третьей гипотезы нам потребуются данные об уровне дохода заёмщика и информация о том, имел ли он задолженность по возврату кредитов."
   ]
  },
  {
   "cell_type": "code",
   "execution_count": 25,
   "id": "eace5293",
   "metadata": {
    "deletable": false,
    "id": "cd7e3720"
   },
   "outputs": [
    {
     "data": {
      "text/html": [
       "<div>\n",
       "<style scoped>\n",
       "    .dataframe tbody tr th:only-of-type {\n",
       "        vertical-align: middle;\n",
       "    }\n",
       "\n",
       "    .dataframe tbody tr th {\n",
       "        vertical-align: top;\n",
       "    }\n",
       "\n",
       "    .dataframe thead th {\n",
       "        text-align: right;\n",
       "    }\n",
       "</style>\n",
       "<table border=\"1\" class=\"dataframe\">\n",
       "  <thead>\n",
       "    <tr style=\"text-align: right;\">\n",
       "      <th></th>\n",
       "      <th>total_clients</th>\n",
       "      <th>clients_with_debt</th>\n",
       "      <th>ratio</th>\n",
       "    </tr>\n",
       "    <tr>\n",
       "      <th>total_income_category</th>\n",
       "      <th></th>\n",
       "      <th></th>\n",
       "      <th></th>\n",
       "    </tr>\n",
       "  </thead>\n",
       "  <tbody>\n",
       "    <tr>\n",
       "      <th>A</th>\n",
       "      <td>25</td>\n",
       "      <td>2</td>\n",
       "      <td>0.080000</td>\n",
       "    </tr>\n",
       "    <tr>\n",
       "      <th>B</th>\n",
       "      <td>5014</td>\n",
       "      <td>354</td>\n",
       "      <td>0.070602</td>\n",
       "    </tr>\n",
       "    <tr>\n",
       "      <th>C</th>\n",
       "      <td>15921</td>\n",
       "      <td>1353</td>\n",
       "      <td>0.084982</td>\n",
       "    </tr>\n",
       "    <tr>\n",
       "      <th>D</th>\n",
       "      <td>349</td>\n",
       "      <td>21</td>\n",
       "      <td>0.060172</td>\n",
       "    </tr>\n",
       "    <tr>\n",
       "      <th>E</th>\n",
       "      <td>22</td>\n",
       "      <td>2</td>\n",
       "      <td>0.090909</td>\n",
       "    </tr>\n",
       "  </tbody>\n",
       "</table>\n",
       "</div>"
      ],
      "text/plain": [
       "                       total_clients  clients_with_debt     ratio\n",
       "total_income_category                                            \n",
       "A                                 25                  2  0.080000\n",
       "B                               5014                354  0.070602\n",
       "C                              15921               1353  0.084982\n",
       "D                                349                 21  0.060172\n",
       "E                                 22                  2  0.090909"
      ]
     },
     "execution_count": 25,
     "metadata": {},
     "output_type": "execute_result"
    }
   ],
   "source": [
    "#Сгруппируем данные по уровню дохода и подсчитаем количесвто должников\n",
    "total_income_debt = data.groupby('total_income_category')['debt'].agg(['count', 'sum'])\n",
    "total_income_debt = total_income_debt.rename(columns = {'count': 'total_clients', 'sum': 'clients_with_debt'})\n",
    "total_income_debt['ratio'] = total_income_debt['clients_with_debt'] / total_income_debt['total_clients']\n",
    "total_income_debt"
   ]
  },
  {
   "cell_type": "markdown",
   "id": "019fda85",
   "metadata": {
    "deletable": false,
    "id": "e8593def"
   },
   "source": [
    "**Вывод:** \n",
    "\n",
    "1. Количество должников в категории A - 8%, но выборка невилека, что может повлиять на достоверность выводов.\n",
    "2. Для B - 7.06%, для C - 8.49%. В категории C наблюдается самое большое количество должников после категории E (в этой категории выборка мала).\n",
    "3. В категории D наблюдается наименьший процент должников - 0.6%.\n",
    "\n",
    "Таким образом третья гипотеза не подтверждается. Нельзя выделить четкую закономерность влияния доходов на количество должников.\n"
   ]
  },
  {
   "cell_type": "markdown",
   "id": "361851c0",
   "metadata": {
    "deletable": false,
    "editable": false,
    "id": "99ecbd1f"
   },
   "source": [
    "#### 3.4 Как разные цели кредита влияют на его возврат в срок?"
   ]
  },
  {
   "cell_type": "markdown",
   "id": "b1d178d6",
   "metadata": {},
   "source": [
    "Для проверки четвертой гипотезы нам потребуются данные цели кредита и информация о том, имел ли заемщик задолженность по возврату кредитов."
   ]
  },
  {
   "cell_type": "code",
   "execution_count": 26,
   "id": "97906c0b",
   "metadata": {
    "deletable": false,
    "id": "2b687290"
   },
   "outputs": [
    {
     "data": {
      "text/html": [
       "<div>\n",
       "<style scoped>\n",
       "    .dataframe tbody tr th:only-of-type {\n",
       "        vertical-align: middle;\n",
       "    }\n",
       "\n",
       "    .dataframe tbody tr th {\n",
       "        vertical-align: top;\n",
       "    }\n",
       "\n",
       "    .dataframe thead th {\n",
       "        text-align: right;\n",
       "    }\n",
       "</style>\n",
       "<table border=\"1\" class=\"dataframe\">\n",
       "  <thead>\n",
       "    <tr style=\"text-align: right;\">\n",
       "      <th></th>\n",
       "      <th>total_clients</th>\n",
       "      <th>clients_with_debt</th>\n",
       "      <th>ratio</th>\n",
       "    </tr>\n",
       "    <tr>\n",
       "      <th>purpose_category</th>\n",
       "      <th></th>\n",
       "      <th></th>\n",
       "      <th></th>\n",
       "    </tr>\n",
       "  </thead>\n",
       "  <tbody>\n",
       "    <tr>\n",
       "      <th>операции с автомобилем</th>\n",
       "      <td>4279</td>\n",
       "      <td>400</td>\n",
       "      <td>0.093480</td>\n",
       "    </tr>\n",
       "    <tr>\n",
       "      <th>операции с недвижимостью</th>\n",
       "      <td>10751</td>\n",
       "      <td>780</td>\n",
       "      <td>0.072551</td>\n",
       "    </tr>\n",
       "    <tr>\n",
       "      <th>получение образования</th>\n",
       "      <td>3988</td>\n",
       "      <td>369</td>\n",
       "      <td>0.092528</td>\n",
       "    </tr>\n",
       "    <tr>\n",
       "      <th>проведение свадьбы</th>\n",
       "      <td>2313</td>\n",
       "      <td>183</td>\n",
       "      <td>0.079118</td>\n",
       "    </tr>\n",
       "  </tbody>\n",
       "</table>\n",
       "</div>"
      ],
      "text/plain": [
       "                          total_clients  clients_with_debt     ratio\n",
       "purpose_category                                                    \n",
       "операции с автомобилем             4279                400  0.093480\n",
       "операции с недвижимостью          10751                780  0.072551\n",
       "получение образования              3988                369  0.092528\n",
       "проведение свадьбы                 2313                183  0.079118"
      ]
     },
     "execution_count": 26,
     "metadata": {},
     "output_type": "execute_result"
    }
   ],
   "source": [
    " #Сгруппируем данные по цели кредита и подсчитаем количесвто должников\n",
    "purpose_category_debt = data.groupby('purpose_category')['debt'].agg(['count', 'sum'])\n",
    "purpose_category_debt = purpose_category_debt.rename(columns = {'count': 'total_clients', 'sum': 'clients_with_debt'})\n",
    "purpose_category_debt['ratio'] = purpose_category_debt['clients_with_debt'] / purpose_category_debt['total_clients']\n",
    "purpose_category_debt"
   ]
  },
  {
   "cell_type": "markdown",
   "id": "f2ea4fd2",
   "metadata": {
    "deletable": false,
    "id": "b4bb2ce6"
   },
   "source": [
    "**Вывод:** \n",
    "\n",
    "1. Операции с недвижимостью имеют самую низкую долю должников. Это может свидетельствовать о том, что кредиты на недвижимость заемщики чаще возвращают в срок, возможно, потому что они рассматриваются как важные и долгосрочные вложения.\n",
    "2. Операции с автомобилем, а также получение образования имеют наибольший доли должников. Возможно, что кредиты на данные цели сложнее выплатить из-за того, что эти расходы могут быть менее приоритетными.\n",
    "3. Кредиты на проведение свадеб имеют среднюю долю должников.\n",
    "\n",
    "Таким образом, четвертая гипотеза подтверждается. Цель кредита влияет на то, будет ли он погашен в срок."
   ]
  },
  {
   "cell_type": "markdown",
   "id": "d7b2e1ec",
   "metadata": {
    "deletable": false,
    "editable": false,
    "id": "09c3ac4c"
   },
   "source": [
    "#### 3.5 Приведем возможные причины появления пропусков в исходных данных."
   ]
  },
  {
   "cell_type": "markdown",
   "id": "cf905ecb",
   "metadata": {
    "deletable": false,
    "id": "9da2ceda"
   },
   "source": [
    "*Ответ:* \n",
    "\n",
    "Во время предобработки данных пропуски были обнаружены в столбце days_employed(общий трудовой стаж в днях) и столбце total_income(ежемесячный доход). При этом количество пропусков в этих столбцах было одинаковым. \n",
    "\n",
    "Можно выделить следующие причины:\n",
    "\n",
    "* Во время сбора данных могла произойти ошибка.\n",
    "* Некоторые люди могли не заполнить эти данные.\n",
    "* Некоторые люди могли работать не официально."
   ]
  },
  {
   "cell_type": "markdown",
   "id": "d8961acb",
   "metadata": {
    "deletable": false,
    "editable": false,
    "id": "7b0487d6"
   },
   "source": [
    "#### 3.6 Объясните, почему заполнить пропуски медианным значением — лучшее решение для количественных переменных."
   ]
  },
  {
   "cell_type": "markdown",
   "id": "2f9a1faf",
   "metadata": {
    "deletable": false,
    "id": "7ecf2b8e"
   },
   "source": [
    "*Ответ:* \n",
    "\n",
    "В отличие от среднего значения, которое может некорректно характеризовать данные, когда некоторые значения сильно выделяются среди большинства, медиана - это такое число в выборке, что ровно половина элементов больше него, а другая - меньше. В нашем случае лучше использовать медиану, так как в данных могут быть выдающиеся значения, которые могут сильно сместить среднее."
   ]
  },
  {
   "cell_type": "markdown",
   "id": "08bedc9c",
   "metadata": {
    "deletable": false,
    "editable": false,
    "id": "6db5255a"
   },
   "source": [
    "### Шаг 4: общий вывод."
   ]
  },
  {
   "cell_type": "markdown",
   "id": "2011dad4",
   "metadata": {
    "deletable": false,
    "id": "bad65432"
   },
   "source": [
    "Было проверено четыре гипотезы. В результате установлено:\n",
    "\n",
    "1. Доля должников несколько выше среди клиентов с 1-2 или 4 детьми по сравнению с теми, у кого детей нет.\n",
    "\n",
    "Гипотеза о том, что количество детей влияет на возврат кредита в срок, подтвердилась частично.\n",
    "\n",
    "2. Существует зависимость между семейным положением и возвратом кредита в срок. Наличие официального или бывшего брачного статуса связано с более низким процентом невозврата кредита. Это может быть связано с большей финансовой ответственностью среди этих групп.\n",
    "\n",
    "Таким образом, вторая гипотеза подтвердилась.\n",
    "\n",
    "\n",
    "3. Не удалось выделить четкую зависимость между уровнем дохода и возвратом кредита в срок. \n",
    "\n",
    "\n",
    "Третья гипотеза не подтвердилась.\n",
    "\n",
    "\n",
    "4. Цель кредита влияет на то, будет ли он погашен в срок. Так, операции с недвижимостью имеют минимальный процент должников.\n",
    "\n",
    "Четвертая гипотеза подтверждается.\n"
   ]
  }
 ],
 "metadata": {
  "ExecuteTimeLog": [
   {
    "duration": 563,
    "start_time": "2024-08-19T14:38:21.281Z"
   },
   {
    "duration": 24,
    "start_time": "2024-08-19T14:38:21.847Z"
   },
   {
    "duration": 16,
    "start_time": "2024-08-19T14:38:21.872Z"
   },
   {
    "duration": 11,
    "start_time": "2024-08-19T14:38:21.890Z"
   },
   {
    "duration": 36,
    "start_time": "2024-08-19T14:38:21.903Z"
   },
   {
    "duration": 24,
    "start_time": "2024-08-19T14:38:21.941Z"
   },
   {
    "duration": 9,
    "start_time": "2024-08-19T14:38:21.967Z"
   },
   {
    "duration": 4,
    "start_time": "2024-08-19T14:38:21.978Z"
   },
   {
    "duration": 8,
    "start_time": "2024-08-19T14:38:21.983Z"
   },
   {
    "duration": 5,
    "start_time": "2024-08-19T14:38:21.993Z"
   },
   {
    "duration": 68,
    "start_time": "2024-08-19T14:38:21.999Z"
   },
   {
    "duration": 12,
    "start_time": "2024-08-19T14:38:22.068Z"
   },
   {
    "duration": 8,
    "start_time": "2024-08-19T14:38:22.082Z"
   },
   {
    "duration": 12,
    "start_time": "2024-08-19T14:38:22.092Z"
   },
   {
    "duration": 22,
    "start_time": "2024-08-19T14:38:22.106Z"
   },
   {
    "duration": 41,
    "start_time": "2024-08-19T14:38:22.130Z"
   },
   {
    "duration": 4,
    "start_time": "2024-08-19T14:38:22.172Z"
   },
   {
    "duration": 11,
    "start_time": "2024-08-19T14:38:22.178Z"
   },
   {
    "duration": 7,
    "start_time": "2024-08-19T14:38:22.191Z"
   },
   {
    "duration": 4,
    "start_time": "2024-08-19T14:38:22.199Z"
   },
   {
    "duration": 11,
    "start_time": "2024-08-19T14:38:22.205Z"
   },
   {
    "duration": 2,
    "start_time": "2024-08-19T14:38:22.217Z"
   },
   {
    "duration": 14,
    "start_time": "2024-08-19T14:38:22.221Z"
   },
   {
    "duration": 29,
    "start_time": "2024-08-19T14:38:22.237Z"
   },
   {
    "duration": 6,
    "start_time": "2024-08-19T14:38:22.268Z"
   },
   {
    "duration": 11,
    "start_time": "2024-08-19T14:39:24.075Z"
   },
   {
    "duration": 8,
    "start_time": "2024-08-19T14:40:08.771Z"
   },
   {
    "duration": 15,
    "start_time": "2024-08-19T14:59:39.181Z"
   },
   {
    "duration": 14,
    "start_time": "2024-08-19T15:13:36.895Z"
   },
   {
    "duration": 18,
    "start_time": "2024-08-19T16:06:15.222Z"
   },
   {
    "duration": 474,
    "start_time": "2024-08-19T16:54:36.419Z"
   },
   {
    "duration": 22,
    "start_time": "2024-08-19T16:54:36.894Z"
   },
   {
    "duration": 14,
    "start_time": "2024-08-19T16:54:36.918Z"
   },
   {
    "duration": 10,
    "start_time": "2024-08-19T16:54:36.934Z"
   },
   {
    "duration": 51,
    "start_time": "2024-08-19T16:54:36.946Z"
   },
   {
    "duration": 3,
    "start_time": "2024-08-19T16:54:36.999Z"
   },
   {
    "duration": 14,
    "start_time": "2024-08-19T16:54:37.003Z"
   },
   {
    "duration": 5,
    "start_time": "2024-08-19T16:54:37.019Z"
   },
   {
    "duration": 17,
    "start_time": "2024-08-19T16:54:37.026Z"
   },
   {
    "duration": 5,
    "start_time": "2024-08-19T16:54:37.047Z"
   },
   {
    "duration": 45,
    "start_time": "2024-08-19T16:54:37.065Z"
   },
   {
    "duration": 9,
    "start_time": "2024-08-19T16:54:37.112Z"
   },
   {
    "duration": 31,
    "start_time": "2024-08-19T16:54:37.123Z"
   },
   {
    "duration": 27,
    "start_time": "2024-08-19T16:54:37.156Z"
   },
   {
    "duration": 22,
    "start_time": "2024-08-19T16:54:37.184Z"
   },
   {
    "duration": 18,
    "start_time": "2024-08-19T16:54:37.208Z"
   },
   {
    "duration": 4,
    "start_time": "2024-08-19T16:54:37.227Z"
   },
   {
    "duration": 32,
    "start_time": "2024-08-19T16:54:37.232Z"
   },
   {
    "duration": 13,
    "start_time": "2024-08-19T16:54:37.266Z"
   },
   {
    "duration": 4,
    "start_time": "2024-08-19T16:54:37.281Z"
   },
   {
    "duration": 14,
    "start_time": "2024-08-19T16:54:37.286Z"
   },
   {
    "duration": 10,
    "start_time": "2024-08-19T16:54:37.302Z"
   },
   {
    "duration": 10,
    "start_time": "2024-08-19T16:54:37.313Z"
   },
   {
    "duration": 16,
    "start_time": "2024-08-19T16:54:37.324Z"
   },
   {
    "duration": 26,
    "start_time": "2024-08-19T16:54:37.341Z"
   },
   {
    "duration": 12,
    "start_time": "2024-08-19T16:54:37.368Z"
   },
   {
    "duration": 751,
    "start_time": "2024-08-19T17:43:11.323Z"
   },
   {
    "duration": 22,
    "start_time": "2024-08-19T17:43:12.078Z"
   },
   {
    "duration": 16,
    "start_time": "2024-08-19T17:43:12.101Z"
   },
   {
    "duration": 10,
    "start_time": "2024-08-19T17:43:12.119Z"
   },
   {
    "duration": 40,
    "start_time": "2024-08-19T17:43:12.131Z"
   },
   {
    "duration": 3,
    "start_time": "2024-08-19T17:43:12.172Z"
   },
   {
    "duration": 9,
    "start_time": "2024-08-19T17:43:12.177Z"
   },
   {
    "duration": 4,
    "start_time": "2024-08-19T17:43:12.187Z"
   },
   {
    "duration": 7,
    "start_time": "2024-08-19T17:43:12.193Z"
   },
   {
    "duration": 4,
    "start_time": "2024-08-19T17:43:12.202Z"
   },
   {
    "duration": 65,
    "start_time": "2024-08-19T17:43:12.207Z"
   },
   {
    "duration": 11,
    "start_time": "2024-08-19T17:43:12.274Z"
   },
   {
    "duration": 3,
    "start_time": "2024-08-19T17:43:12.287Z"
   },
   {
    "duration": 16,
    "start_time": "2024-08-19T17:43:12.291Z"
   },
   {
    "duration": 18,
    "start_time": "2024-08-19T17:43:12.309Z"
   },
   {
    "duration": 38,
    "start_time": "2024-08-19T17:43:12.329Z"
   },
   {
    "duration": 3,
    "start_time": "2024-08-19T17:43:12.369Z"
   },
   {
    "duration": 11,
    "start_time": "2024-08-19T17:43:12.374Z"
   },
   {
    "duration": 6,
    "start_time": "2024-08-19T17:43:12.386Z"
   },
   {
    "duration": 4,
    "start_time": "2024-08-19T17:43:12.393Z"
   },
   {
    "duration": 11,
    "start_time": "2024-08-19T17:43:12.398Z"
   },
   {
    "duration": 9,
    "start_time": "2024-08-19T17:43:12.410Z"
   },
   {
    "duration": 37,
    "start_time": "2024-08-19T17:43:12.421Z"
   },
   {
    "duration": 28,
    "start_time": "2024-08-19T17:43:12.459Z"
   },
   {
    "duration": 12,
    "start_time": "2024-08-19T17:43:12.489Z"
   },
   {
    "duration": 13,
    "start_time": "2024-08-19T17:43:12.502Z"
   },
   {
    "duration": 552,
    "start_time": "2024-08-20T08:47:12.085Z"
   },
   {
    "duration": 33,
    "start_time": "2024-08-20T08:47:12.639Z"
   },
   {
    "duration": 26,
    "start_time": "2024-08-20T08:47:12.674Z"
   },
   {
    "duration": 11,
    "start_time": "2024-08-20T08:47:12.702Z"
   },
   {
    "duration": 66,
    "start_time": "2024-08-20T08:47:12.714Z"
   },
   {
    "duration": 4,
    "start_time": "2024-08-20T08:47:12.782Z"
   },
   {
    "duration": 16,
    "start_time": "2024-08-20T08:47:12.787Z"
   },
   {
    "duration": 11,
    "start_time": "2024-08-20T08:47:12.805Z"
   },
   {
    "duration": 12,
    "start_time": "2024-08-20T08:47:12.817Z"
   },
   {
    "duration": 31,
    "start_time": "2024-08-20T08:47:12.833Z"
   },
   {
    "duration": 106,
    "start_time": "2024-08-20T08:47:12.866Z"
   },
   {
    "duration": 20,
    "start_time": "2024-08-20T08:47:12.973Z"
   },
   {
    "duration": 13,
    "start_time": "2024-08-20T08:47:12.996Z"
   },
   {
    "duration": 16,
    "start_time": "2024-08-20T08:47:13.010Z"
   },
   {
    "duration": 24,
    "start_time": "2024-08-20T08:47:13.028Z"
   },
   {
    "duration": 25,
    "start_time": "2024-08-20T08:47:13.054Z"
   },
   {
    "duration": 6,
    "start_time": "2024-08-20T08:47:13.082Z"
   },
   {
    "duration": 66,
    "start_time": "2024-08-20T08:47:13.090Z"
   },
   {
    "duration": 30,
    "start_time": "2024-08-20T08:47:13.158Z"
   },
   {
    "duration": 17,
    "start_time": "2024-08-20T08:47:13.191Z"
   },
   {
    "duration": 63,
    "start_time": "2024-08-20T08:47:13.209Z"
   },
   {
    "duration": 60,
    "start_time": "2024-08-20T08:47:13.275Z"
   },
   {
    "duration": 30,
    "start_time": "2024-08-20T08:47:13.337Z"
   },
   {
    "duration": 24,
    "start_time": "2024-08-20T08:47:13.369Z"
   },
   {
    "duration": 15,
    "start_time": "2024-08-20T08:47:13.394Z"
   },
   {
    "duration": 23,
    "start_time": "2024-08-20T08:47:13.411Z"
   },
   {
    "duration": 67,
    "start_time": "2024-08-21T10:10:41.993Z"
   },
   {
    "duration": 53,
    "start_time": "2024-08-21T10:13:32.105Z"
   },
   {
    "duration": 52,
    "start_time": "2024-08-21T10:13:54.418Z"
   },
   {
    "duration": 699,
    "start_time": "2024-08-21T10:14:01.492Z"
   },
   {
    "duration": 24,
    "start_time": "2024-08-21T10:14:02.193Z"
   },
   {
    "duration": 22,
    "start_time": "2024-08-21T10:14:02.219Z"
   },
   {
    "duration": 11,
    "start_time": "2024-08-21T10:14:02.243Z"
   },
   {
    "duration": 36,
    "start_time": "2024-08-21T10:14:02.256Z"
   },
   {
    "duration": 4,
    "start_time": "2024-08-21T10:14:02.293Z"
   },
   {
    "duration": 15,
    "start_time": "2024-08-21T10:14:02.298Z"
   },
   {
    "duration": 12,
    "start_time": "2024-08-21T10:14:02.314Z"
   },
   {
    "duration": 19,
    "start_time": "2024-08-21T10:14:02.328Z"
   },
   {
    "duration": 6,
    "start_time": "2024-08-21T10:14:02.351Z"
   },
   {
    "duration": 44,
    "start_time": "2024-08-21T10:14:02.359Z"
   },
   {
    "duration": 11,
    "start_time": "2024-08-21T10:14:02.405Z"
   },
   {
    "duration": 29,
    "start_time": "2024-08-21T10:14:02.418Z"
   },
   {
    "duration": 47,
    "start_time": "2024-08-21T10:14:02.450Z"
   },
   {
    "duration": 26,
    "start_time": "2024-08-21T10:14:02.498Z"
   },
   {
    "duration": 17,
    "start_time": "2024-08-21T10:14:02.526Z"
   },
   {
    "duration": 3,
    "start_time": "2024-08-21T10:14:02.545Z"
   },
   {
    "duration": 23,
    "start_time": "2024-08-21T10:14:02.550Z"
   },
   {
    "duration": 24,
    "start_time": "2024-08-21T10:14:02.575Z"
   },
   {
    "duration": 10,
    "start_time": "2024-08-21T10:14:02.600Z"
   },
   {
    "duration": 23,
    "start_time": "2024-08-21T10:14:02.611Z"
   },
   {
    "duration": 22,
    "start_time": "2024-08-21T10:14:02.635Z"
   },
   {
    "duration": 9,
    "start_time": "2024-08-21T10:14:02.658Z"
   },
   {
    "duration": 25,
    "start_time": "2024-08-21T10:14:02.668Z"
   },
   {
    "duration": 85,
    "start_time": "2024-08-21T10:14:02.695Z"
   },
   {
    "duration": 15,
    "start_time": "2024-08-21T10:14:02.782Z"
   },
   {
    "duration": 48,
    "start_time": "2024-08-21T10:14:02.799Z"
   },
   {
    "duration": 59,
    "start_time": "2024-08-21T10:15:22.340Z"
   }
  ],
  "colab": {
   "name": "dpp_template_part2.ipynb",
   "provenance": []
  },
  "kernelspec": {
   "display_name": "Python 3 (ipykernel)",
   "language": "python",
   "name": "python3"
  },
  "language_info": {
   "codemirror_mode": {
    "name": "ipython",
    "version": 3
   },
   "file_extension": ".py",
   "mimetype": "text/x-python",
   "name": "python",
   "nbconvert_exporter": "python",
   "pygments_lexer": "ipython3",
   "version": "3.12.4"
  },
  "toc": {
   "base_numbering": 1,
   "nav_menu": {},
   "number_sections": true,
   "sideBar": true,
   "skip_h1_title": true,
   "title_cell": "Table of Contents",
   "title_sidebar": "Contents",
   "toc_cell": false,
   "toc_position": {},
   "toc_section_display": true,
   "toc_window_display": false
  }
 },
 "nbformat": 4,
 "nbformat_minor": 5
}
