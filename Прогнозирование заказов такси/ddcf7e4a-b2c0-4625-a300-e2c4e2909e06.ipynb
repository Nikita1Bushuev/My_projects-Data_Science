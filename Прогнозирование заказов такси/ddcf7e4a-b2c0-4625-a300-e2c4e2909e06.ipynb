{
 "cells": [
  {
   "cell_type": "markdown",
   "metadata": {},
   "source": [
    "#  Прогнозирование заказов такси"
   ]
  },
  {
   "cell_type": "markdown",
   "metadata": {},
   "source": [
    "Компания «Чётенькое такси» собрала исторические данные о заказах такси в аэропортах. Чтобы привлекать больше водителей в период пиковой нагрузки, нужно спрогнозировать количество заказов такси на следующий час. Постройте модель для такого предсказания.\n",
    "\n",
    "Значение метрики *RMSE* на тестовой выборке должно быть не больше 48.\n",
    "\n",
    "Вам нужно:\n",
    "\n",
    "1. Загрузить данные и выполнить их ресемплирование по одному часу.\n",
    "2. Проанализировать данные.\n",
    "3. Обучить разные модели с различными гиперпараметрами. Сделать тестовую выборку размером 10% от исходных данных.\n",
    "4. Проверить данные на тестовой выборке и сделать выводы.\n",
    "\n",
    "\n",
    "Данные лежат в файле `taxi.csv`. Количество заказов находится в столбце `num_orders` (от англ. *number of orders*, «число заказов»)."
   ]
  },
  {
   "cell_type": "code",
   "execution_count": 1,
   "metadata": {},
   "outputs": [],
   "source": [
    "import pandas as pd\n",
    "import matplotlib.pyplot as plt\n",
    "import numpy as np\n",
    "import seaborn as sns\n",
    "import lightgbm as lgb\n",
    "\n",
    "from statsmodels.tsa.seasonal import seasonal_decompose\n",
    "from sklearn.model_selection import train_test_split, TimeSeriesSplit, cross_val_score, RandomizedSearchCV, cross_val_predict\n",
    "from sklearn.linear_model import LinearRegression\n",
    "from sklearn.metrics import mean_squared_error, make_scorer\n",
    "from sklearn.ensemble import RandomForestRegressor\n",
    "from sklearn.preprocessing import OneHotEncoder\n",
    "from sklearn.compose import ColumnTransformer\n",
    "from lightgbm import LGBMRegressor\n",
    "from catboost import CatBoostRegressor\n",
    "\n",
    "RANDOM = 42"
   ]
  },
  {
   "cell_type": "markdown",
   "metadata": {},
   "source": [
    "## Подготовка"
   ]
  },
  {
   "cell_type": "markdown",
   "metadata": {},
   "source": [
    "### Считаем CSV-файл с данными с помощью библиотеки pandas и сохраним его в датафрейм"
   ]
  },
  {
   "cell_type": "code",
   "execution_count": 2,
   "metadata": {},
   "outputs": [],
   "source": [
    "data = pd.read_csv('/datasets/taxi.csv', index_col=[0], parse_dates=[0])"
   ]
  },
  {
   "cell_type": "markdown",
   "metadata": {},
   "source": [
    "### Изучим информацию о датафрейме"
   ]
  },
  {
   "cell_type": "code",
   "execution_count": 3,
   "metadata": {},
   "outputs": [
    {
     "data": {
      "text/html": [
       "<div>\n",
       "<style scoped>\n",
       "    .dataframe tbody tr th:only-of-type {\n",
       "        vertical-align: middle;\n",
       "    }\n",
       "\n",
       "    .dataframe tbody tr th {\n",
       "        vertical-align: top;\n",
       "    }\n",
       "\n",
       "    .dataframe thead th {\n",
       "        text-align: right;\n",
       "    }\n",
       "</style>\n",
       "<table border=\"1\" class=\"dataframe\">\n",
       "  <thead>\n",
       "    <tr style=\"text-align: right;\">\n",
       "      <th></th>\n",
       "      <th>num_orders</th>\n",
       "    </tr>\n",
       "    <tr>\n",
       "      <th>datetime</th>\n",
       "      <th></th>\n",
       "    </tr>\n",
       "  </thead>\n",
       "  <tbody>\n",
       "    <tr>\n",
       "      <th>2018-03-01 00:00:00</th>\n",
       "      <td>9</td>\n",
       "    </tr>\n",
       "    <tr>\n",
       "      <th>2018-03-01 00:10:00</th>\n",
       "      <td>14</td>\n",
       "    </tr>\n",
       "    <tr>\n",
       "      <th>2018-03-01 00:20:00</th>\n",
       "      <td>28</td>\n",
       "    </tr>\n",
       "    <tr>\n",
       "      <th>2018-03-01 00:30:00</th>\n",
       "      <td>20</td>\n",
       "    </tr>\n",
       "    <tr>\n",
       "      <th>2018-03-01 00:40:00</th>\n",
       "      <td>32</td>\n",
       "    </tr>\n",
       "  </tbody>\n",
       "</table>\n",
       "</div>"
      ],
      "text/plain": [
       "                     num_orders\n",
       "datetime                       \n",
       "2018-03-01 00:00:00           9\n",
       "2018-03-01 00:10:00          14\n",
       "2018-03-01 00:20:00          28\n",
       "2018-03-01 00:30:00          20\n",
       "2018-03-01 00:40:00          32"
      ]
     },
     "execution_count": 3,
     "metadata": {},
     "output_type": "execute_result"
    }
   ],
   "source": [
    "data.head()"
   ]
  },
  {
   "cell_type": "code",
   "execution_count": 4,
   "metadata": {},
   "outputs": [
    {
     "name": "stdout",
     "output_type": "stream",
     "text": [
      "<class 'pandas.core.frame.DataFrame'>\n",
      "DatetimeIndex: 26496 entries, 2018-03-01 00:00:00 to 2018-08-31 23:50:00\n",
      "Data columns (total 1 columns):\n",
      " #   Column      Non-Null Count  Dtype\n",
      "---  ------      --------------  -----\n",
      " 0   num_orders  26496 non-null  int64\n",
      "dtypes: int64(1)\n",
      "memory usage: 414.0 KB\n"
     ]
    }
   ],
   "source": [
    "data.info()"
   ]
  },
  {
   "cell_type": "markdown",
   "metadata": {},
   "source": [
    "Проверим на наличие пропусков"
   ]
  },
  {
   "cell_type": "code",
   "execution_count": 5,
   "metadata": {},
   "outputs": [
    {
     "name": "stdout",
     "output_type": "stream",
     "text": [
      "num_orders    0\n",
      "dtype: int64\n"
     ]
    }
   ],
   "source": [
    "total_missing = data.isna().sum()\n",
    "print(total_missing)"
   ]
  },
  {
   "cell_type": "markdown",
   "metadata": {},
   "source": [
    "Упорядочем данные, проверим на монотонность."
   ]
  },
  {
   "cell_type": "code",
   "execution_count": 6,
   "metadata": {},
   "outputs": [
    {
     "data": {
      "text/plain": [
       "True"
      ]
     },
     "execution_count": 6,
     "metadata": {},
     "output_type": "execute_result"
    }
   ],
   "source": [
    "data = data.sort_index()\n",
    "data.index.is_monotonic"
   ]
  },
  {
   "cell_type": "markdown",
   "metadata": {},
   "source": [
    "Выполним ресемплирование данных по одному часу"
   ]
  },
  {
   "cell_type": "code",
   "execution_count": 7,
   "metadata": {},
   "outputs": [],
   "source": [
    "data = data.resample('1H').sum() "
   ]
  },
  {
   "cell_type": "markdown",
   "metadata": {},
   "source": [
    "Теперь данные подготовлены к анализу"
   ]
  },
  {
   "cell_type": "markdown",
   "metadata": {},
   "source": [
    "## Анализ"
   ]
  },
  {
   "cell_type": "code",
   "execution_count": 8,
   "metadata": {},
   "outputs": [],
   "source": [
    "decomposed =  seasonal_decompose(data)"
   ]
  },
  {
   "cell_type": "code",
   "execution_count": 9,
   "metadata": {},
   "outputs": [
    {
     "data": {
      "image/png": "[encoded data removed]",
      "text/plain": [
       "<Figure size 1080x864 with 3 Axes>"
      ]
     },
     "metadata": {
      "needs_background": "light"
     },
     "output_type": "display_data"
    }
   ],
   "source": [
    "plt.figure(figsize=(15, 12))\n",
    "\n",
    "plt.subplot(311)\n",
    "decomposed.trend.plot(ax=plt.gca())\n",
    "plt.title('Trend')\n",
    "plt.xlabel('Дата')\n",
    "plt.ylabel('Количество заказов')\n",
    "\n",
    "plt.subplot(312)\n",
    "decomposed.seasonal.plot(ax=plt.gca()) \n",
    "plt.title('Seasonality')\n",
    "plt.xlabel('Дата')\n",
    "plt.ylabel('Количество заказов')\n",
    "\n",
    "plt.subplot(313)\n",
    "decomposed.resid.plot(ax=plt.gca()) \n",
    "plt.title('Residuals')\n",
    "plt.xlabel('Дата')\n",
    "plt.ylabel('Количество заказов')\n",
    "\n",
    "plt.tight_layout()"
   ]
  },
  {
   "cell_type": "markdown",
   "metadata": {},
   "source": [
    "Можно заметить, что тренд идет на увеличение количества заказов. Более подробно рассмотрим сезонность. "
   ]
  },
  {
   "cell_type": "code",
   "execution_count": 10,
   "metadata": {},
   "outputs": [
    {
     "data": {
      "text/plain": [
       "Text(0, 0.5, 'Количество заказов')"
      ]
     },
     "execution_count": 10,
     "metadata": {},
     "output_type": "execute_result"
    },
    {
     "data": {
      "image/png": "[encoded data removed]",
      "text/plain": [
       "<Figure size 1080x288 with 1 Axes>"
      ]
     },
     "metadata": {
      "needs_background": "light"
     },
     "output_type": "display_data"
    }
   ],
   "source": [
    "seasonal_hourly = decomposed.seasonal.groupby(decomposed.seasonal.index.hour).mean()\n",
    "\n",
    "plt.figure(figsize=(15, 4))\n",
    "seasonal_hourly.plot(ax=plt.gca()) \n",
    "plt.xticks(\n",
    "    ticks=range(24),\n",
    "    labels=[f'{h:02d}:00' for h in range(24)],\n",
    "    rotation=45,\n",
    "    fontsize=10\n",
    ")\n",
    "plt.title('Средняя сезонность по часам')\n",
    "plt.xlabel('Час')\n",
    "plt.ylabel('Количество заказов')"
   ]
  },
  {
   "cell_type": "markdown",
   "metadata": {},
   "source": [
    "Можно заметить сезонность по часам. С 6:00 количество заказов начинает увеличиваться до 10:00. Есть пик заказов в 16:00. К полуночи количество возрастает, затем плавно уменьшается. "
   ]
  },
  {
   "cell_type": "code",
   "execution_count": 11,
   "metadata": {},
   "outputs": [
    {
     "data": {
      "image/png": "[encoded data removed]",
      "text/plain": [
       "<Figure size 1080x432 with 1 Axes>"
      ]
     },
     "metadata": {
      "needs_background": "light"
     },
     "output_type": "display_data"
    }
   ],
   "source": [
    "data['rolling_mean'] = data['num_orders'].rolling(24).mean()\n",
    "data['rolling_std'] = data['num_orders'].rolling(24).std()\n",
    "\n",
    "data[['num_orders', 'rolling_mean', 'rolling_std']].plot(figsize=(15, 6))\n",
    "plt.title('Скользящее среднее и стандартное отклонение')\n",
    "plt.xlabel('Дата')\n",
    "plt.ylabel('Количество заказов')\n",
    "plt.legend(['Исходные данные', 'Среднее', 'Стандартное отклонение'])\n",
    "plt.show()"
   ]
  },
  {
   "cell_type": "markdown",
   "metadata": {},
   "source": [
    "Наблюдается устойчивый рост количества заказов с течением времени, что указывает на увеличение спроса на услуги такси в аэропортах. Скользящее среднее подтверждает долгосрочный рост тренда. Стандартное отклонение демонстрирует, что волатильность заказов остается стабильной, без резких всплесков. Это говорит об отсутствии аномальных выбросов. Из анализа сезонности можно выделить пики количества заказов: утренний (6:00–10:00), дневной (16:00), вечерний (20:00–00:00)."
   ]
  },
  {
   "cell_type": "markdown",
   "metadata": {},
   "source": [
    "## Обучение"
   ]
  },
  {
   "cell_type": "markdown",
   "metadata": {},
   "source": [
    "### Подготовим данные "
   ]
  },
  {
   "cell_type": "code",
   "execution_count": 12,
   "metadata": {},
   "outputs": [],
   "source": [
    "def make_features(data, max_lag, rolling_mean_size):\n",
    "    data['month'] = data.index.month\n",
    "    data['day'] = data.index.day\n",
    "    data['dayofweek'] = data.index.dayofweek\n",
    "    data['hour'] = data.index.hour\n",
    "    \n",
    "    for lag in range(1, max_lag + 1):\n",
    "        data['lag_{}'.format(lag)] = data['num_orders'].shift(lag)\n",
    "\n",
    "    data['rolling_mean'] = data['num_orders'].shift().rolling(rolling_mean_size).mean()\n",
    "    data.dropna(inplace=True)\n",
    "    return data "
   ]
  },
  {
   "cell_type": "code",
   "execution_count": 13,
   "metadata": {},
   "outputs": [
    {
     "data": {
      "text/plain": [
       "(4416, 3)"
      ]
     },
     "execution_count": 13,
     "metadata": {},
     "output_type": "execute_result"
    }
   ],
   "source": [
    "data.shape"
   ]
  },
  {
   "cell_type": "code",
   "execution_count": 14,
   "metadata": {},
   "outputs": [],
   "source": [
    "data = make_features(data, 1, 4)"
   ]
  },
  {
   "cell_type": "code",
   "execution_count": 15,
   "metadata": {},
   "outputs": [
    {
     "data": {
      "text/plain": [
       "(4393, 8)"
      ]
     },
     "execution_count": 15,
     "metadata": {},
     "output_type": "execute_result"
    }
   ],
   "source": [
    "data.shape"
   ]
  },
  {
   "cell_type": "code",
   "execution_count": 16,
   "metadata": {},
   "outputs": [
    {
     "name": "stderr",
     "output_type": "stream",
     "text": [
      "/tmp/ipykernel_103/4148884626.py:23: SettingWithCopyWarning: \n",
      "A value is trying to be set on a copy of a slice from a DataFrame.\n",
      "Try using .loc[row_indexer,col_indexer] = value instead\n",
      "\n",
      "See the caveats in the documentation: https://pandas.pydata.org/pandas-docs/stable/user_guide/indexing.html#returning-a-view-versus-a-copy\n",
      "  X_train[col] = X_train[col].astype('category')\n",
      "/tmp/ipykernel_103/4148884626.py:24: SettingWithCopyWarning: \n",
      "A value is trying to be set on a copy of a slice from a DataFrame.\n",
      "Try using .loc[row_indexer,col_indexer] = value instead\n",
      "\n",
      "See the caveats in the documentation: https://pandas.pydata.org/pandas-docs/stable/user_guide/indexing.html#returning-a-view-versus-a-copy\n",
      "  X_test[col] = X_test[col].astype('category')\n"
     ]
    }
   ],
   "source": [
    "features = data.drop(['num_orders'], axis=1)  \n",
    "target = data['num_orders']\n",
    "\n",
    "\n",
    "X_train, X_test, y_train, y_test = train_test_split(features, target, shuffle=False, random_state=RANDOM, test_size=0.1)\n",
    "\n",
    "cat_features = ['dayofweek', 'hour']\n",
    "\n",
    "preprocessor = ColumnTransformer(\n",
    "    transformers=[\n",
    "        ('cat', OneHotEncoder(handle_unknown='ignore'), cat_features)\n",
    "    ],\n",
    "    remainder='passthrough'\n",
    ")\n",
    "\n",
    "X_train_encoded = preprocessor.fit_transform(X_train)\n",
    "X_test_encoded = preprocessor.transform(X_test)\n",
    "\n",
    "X_train_raw = X_train.copy()\n",
    "X_test_raw = X_test.copy()\n",
    "\n",
    "for col in cat_features:\n",
    "    X_train[col] = X_train[col].astype('category')\n",
    "    X_test[col] = X_test[col].astype('category')"
   ]
  },
  {
   "cell_type": "markdown",
   "metadata": {},
   "source": [
    "### LinearRegression"
   ]
  },
  {
   "cell_type": "code",
   "execution_count": 17,
   "metadata": {},
   "outputs": [
    {
     "name": "stdout",
     "output_type": "stream",
     "text": [
      "RMSE LinearRegression на кросс-валидации: 25.29 ± 3.14\n"
     ]
    }
   ],
   "source": [
    "tscv = TimeSeriesSplit(n_splits=5) \n",
    "\n",
    "rmse_scorer = make_scorer(\n",
    "    lambda y_true, y_pred: mean_squared_error(y_true, y_pred, squared=False)\n",
    ")\n",
    "\n",
    "model_LR = LinearRegression()\n",
    "scores = cross_val_score(\n",
    "    model_LR, \n",
    "    X_train_encoded,  \n",
    "    y_train,    \n",
    "    cv=tscv,  \n",
    "    scoring=rmse_scorer\n",
    ")\n",
    "\n",
    "print(f\"RMSE LinearRegression на кросс-валидации: {scores.mean():.2f} ± {scores.std():.2f}\")\n",
    "\n",
    "#model.fit(X_train_encoded, y_train)\n",
    "#y_pred_test_LR = model.predict(X_test)\n",
    "#rmse_test_LR = mean_squared_error(y_test, y_pred_test_LR, squared=False)\n",
    "#print(f\"RMSE на тестовой выборке: {rmse_test_LR:.2f}\")"
   ]
  },
  {
   "cell_type": "markdown",
   "metadata": {},
   "source": [
    "### RandomForest"
   ]
  },
  {
   "cell_type": "code",
   "execution_count": 18,
   "metadata": {},
   "outputs": [],
   "source": [
    "param_grid = {\n",
    "    'n_estimators': np.arange(100, 500, 50), \n",
    "    'max_depth': [None, 10, 20, 30],         \n",
    "    'min_samples_split': [2, 5, 10],         \n",
    "    'min_samples_leaf': [1, 2, 4],          \n",
    "    'max_features': ['sqrt', 'log2', 0.5],   \n",
    "}"
   ]
  },
  {
   "cell_type": "code",
   "execution_count": 19,
   "metadata": {},
   "outputs": [
    {
     "name": "stdout",
     "output_type": "stream",
     "text": [
      "Fitting 3 folds for each of 20 candidates, totalling 60 fits\n"
     ]
    },
    {
     "data": {
      "text/plain": [
       "RandomizedSearchCV(cv=TimeSeriesSplit(gap=0, max_train_size=None, n_splits=3, test_size=None),\n",
       "                   estimator=RandomForestRegressor(random_state=42), n_iter=20,\n",
       "                   n_jobs=-1,\n",
       "                   param_distributions={'max_depth': [None, 10, 20, 30],\n",
       "                                        'max_features': ['sqrt', 'log2', 0.5],\n",
       "                                        'min_samples_leaf': [1, 2, 4],\n",
       "                                        'min_samples_split': [2, 5, 10],\n",
       "                                        'n_estimators': array([100, 150, 200, 250, 300, 350, 400, 450])},\n",
       "                   scoring='neg_root_mean_squared_error', verbose=1)"
      ]
     },
     "execution_count": 19,
     "metadata": {},
     "output_type": "execute_result"
    }
   ],
   "source": [
    "model_RF = RandomForestRegressor(random_state=RANDOM)\n",
    "\n",
    "\n",
    "tscv = TimeSeriesSplit(n_splits=3)\n",
    "random_search = RandomizedSearchCV(\n",
    "    estimator=model_RF,\n",
    "    param_distributions=param_grid,\n",
    "    n_iter=20,                \n",
    "    cv=tscv,                  \n",
    "    scoring='neg_root_mean_squared_error',\n",
    "    n_jobs=-1,                \n",
    "    verbose=1\n",
    ")\n",
    "\n",
    "random_search.fit(X_train, y_train)"
   ]
  },
  {
   "cell_type": "code",
   "execution_count": 20,
   "metadata": {},
   "outputs": [
    {
     "name": "stdout",
     "output_type": "stream",
     "text": [
      "Лучшие параметры: {'n_estimators': 200, 'min_samples_split': 2, 'min_samples_leaf': 2, 'max_features': 0.5, 'max_depth': 20}\n"
     ]
    }
   ],
   "source": [
    "print(\"Лучшие параметры:\", random_search.best_params_)"
   ]
  },
  {
   "cell_type": "code",
   "execution_count": 21,
   "metadata": {},
   "outputs": [
    {
     "name": "stderr",
     "output_type": "stream",
     "text": [
      "[Parallel(n_jobs=-1)]: Using backend SequentialBackend with 1 concurrent workers.\n"
     ]
    },
    {
     "name": "stdout",
     "output_type": "stream",
     "text": [
      "RMSE RandomForest на кросс-валидации: 27.76 ± 3.50\n"
     ]
    },
    {
     "name": "stderr",
     "output_type": "stream",
     "text": [
      "[Parallel(n_jobs=-1)]: Done   3 out of   3 | elapsed:    1.9s finished\n"
     ]
    }
   ],
   "source": [
    "tscv = TimeSeriesSplit(n_splits=3)\n",
    "\n",
    "best_model = random_search.best_estimator_\n",
    "\n",
    "scores = cross_val_score(\n",
    "    estimator=best_model,\n",
    "    X=X_train,\n",
    "    y=y_train,\n",
    "    cv=tscv,\n",
    "    scoring=rmse_scorer,\n",
    "    n_jobs=-1,\n",
    "    verbose=1\n",
    ")\n",
    "\n",
    "print(f\"RMSE RandomForest на кросс-валидации: {scores.mean():.2f} ± {scores.std():.2f}\")\n",
    "\n",
    "#best_model.fit(X_train, y_train)\n",
    "#y_pred_test_RF = best_model.predict(X_test)\n",
    "#rmse_test_RF = mean_squared_error(y_test, y_pred_test_RF, squared=False)\n",
    "#print(f\"RMSE на тестовой выборке: {rmse_test_RF:.2f}\")"
   ]
  },
  {
   "cell_type": "markdown",
   "metadata": {},
   "source": [
    "### LightGBM"
   ]
  },
  {
   "cell_type": "code",
   "execution_count": 22,
   "metadata": {},
   "outputs": [],
   "source": [
    "params = {\n",
    "    'objective': 'regression',\n",
    "    'metric': 'rmse',\n",
    "    'learning_rate': 0.1,\n",
    "    'num_leaves': 31,\n",
    "    'max_depth': 5\n",
    "}"
   ]
  },
  {
   "cell_type": "code",
   "execution_count": 23,
   "metadata": {},
   "outputs": [
    {
     "name": "stderr",
     "output_type": "stream",
     "text": [
      "/opt/conda/lib/python3.9/site-packages/lightgbm/basic.py:2065: UserWarning: Using categorical_feature in Dataset.\n",
      "  _log_warning('Using categorical_feature in Dataset.')\n",
      "/opt/conda/lib/python3.9/site-packages/lightgbm/basic.py:2065: UserWarning: Using categorical_feature in Dataset.\n",
      "  _log_warning('Using categorical_feature in Dataset.')\n",
      "/opt/conda/lib/python3.9/site-packages/lightgbm/basic.py:2065: UserWarning: Using categorical_feature in Dataset.\n",
      "  _log_warning('Using categorical_feature in Dataset.')\n"
     ]
    }
   ],
   "source": [
    "model_LighGBM = lgb.LGBMRegressor(**params)\n",
    "\n",
    "tscv = TimeSeriesSplit(n_splits=3)\n",
    "cv_scores = cross_val_score(\n",
    "    model_LighGBM,\n",
    "    X_train,\n",
    "    y_train,\n",
    "    cv=tscv,\n",
    "    scoring='neg_root_mean_squared_error',\n",
    "    n_jobs=-1,\n",
    "    fit_params={'categorical_feature': cat_features}\n",
    ")"
   ]
  },
  {
   "cell_type": "code",
   "execution_count": 24,
   "metadata": {},
   "outputs": [
    {
     "name": "stdout",
     "output_type": "stream",
     "text": [
      "RMSE  LightGBM на кросс-валидации: 26.30 ± 1.32\n"
     ]
    }
   ],
   "source": [
    "cv_rmse = (-cv_scores).mean()\n",
    "print(f\"RMSE  LightGBM на кросс-валидации: {cv_rmse:.2f} ± {(-cv_scores).std():.2f}\")\n",
    "\n",
    "\n",
    "#model.fit(X_train, y_train)\n",
    "#y_pred_test_LightGBM = model.predict(X_test)\n",
    "#rmse_test_LightGBM = mean_squared_error(y_test, y_pred_test_LightGBM, squared=False)\n",
    "#print(f\"RMSE на тестовой выборке: {rmse_test_LightGBM:.2f}\")"
   ]
  },
  {
   "cell_type": "markdown",
   "metadata": {},
   "source": [
    "### CatBoost"
   ]
  },
  {
   "cell_type": "code",
   "execution_count": 25,
   "metadata": {},
   "outputs": [],
   "source": [
    "model_CatBoost = CatBoostRegressor(\n",
    "    iterations=500,         \n",
    "    learning_rate=0.1,     \n",
    "    depth=6,               \n",
    "    random_seed=RANDOM,         \n",
    "    verbose=0               \n",
    ")"
   ]
  },
  {
   "cell_type": "code",
   "execution_count": 26,
   "metadata": {},
   "outputs": [],
   "source": [
    "tscv = TimeSeriesSplit(n_splits=3)\n",
    "cv_scores = cross_val_score(\n",
    "    model_CatBoost,\n",
    "    X_train_raw,\n",
    "    y_train,\n",
    "    cv=tscv,\n",
    "    scoring='neg_root_mean_squared_error',\n",
    "    n_jobs=-1\n",
    ")"
   ]
  },
  {
   "cell_type": "code",
   "execution_count": 27,
   "metadata": {},
   "outputs": [
    {
     "name": "stdout",
     "output_type": "stream",
     "text": [
      "RMSE CatBoost на кросс-валидации: 27.68 ± 3.13\n"
     ]
    }
   ],
   "source": [
    "cv_rmse = (-cv_scores).mean()\n",
    "print(f\"RMSE CatBoost на кросс-валидации: {cv_rmse:.2f} ± {(-cv_scores).std():.2f}\")\n",
    "\n",
    "#model.fit(\n",
    "#    X_train, \n",
    "#    y_train,\n",
    "#    eval_set=(X_test, y_test),\n",
    "#    early_stopping_rounds=50,\n",
    "#    verbose=0\n",
    "#)\n",
    "\n",
    "#y_pred_test_CatBoost = model.predict(X_test)\n",
    "#rmse_test_CatBoost = mean_squared_error(y_test, y_pred_test_CatBoost, squared=False)\n",
    "#print(f\"RMSE на тестовой выборке: {rmse_test_CatBoost:.2f}\")"
   ]
  },
  {
   "cell_type": "markdown",
   "metadata": {},
   "source": [
    "## Тестирование"
   ]
  },
  {
   "cell_type": "markdown",
   "metadata": {},
   "source": [
    "RMSE LinearRegression на кросс-валидации: 25.29 ± 3.14\n",
    "\n",
    "RMSE RandomForest на кросс-валидации: 27.78 ± 3.40\n",
    "\n",
    "RMSE  LightGBM на кросс-валидации: 26.30 ± 1.32\n",
    "\n",
    "RMSE CatBoost на кросс-валидации: 27.68 ± 3.13\n",
    "\n",
    "По результатм кросс-валидации лучшей моделью оказалась LinearRegression"
   ]
  },
  {
   "cell_type": "code",
   "execution_count": 28,
   "metadata": {},
   "outputs": [
    {
     "name": "stdout",
     "output_type": "stream",
     "text": [
      "RMSE на тестовой выборке: 43.41\n"
     ]
    }
   ],
   "source": [
    "model_LR.fit(X_train_encoded, y_train)\n",
    "y_pred_test_LR = model_LR.predict(X_test_encoded)\n",
    "rmse_test_LR = mean_squared_error(y_test, y_pred_test_LR, squared=False)\n",
    "print(f\"RMSE на тестовой выборке: {rmse_test_LR:.2f}\")"
   ]
  },
  {
   "cell_type": "code",
   "execution_count": 29,
   "metadata": {},
   "outputs": [
    {
     "data": {
      "image/png": "[encoded data removed]",
      "text/plain": [
       "<Figure size 1152x432 with 1 Axes>"
      ]
     },
     "metadata": {
      "needs_background": "light"
     },
     "output_type": "display_data"
    }
   ],
   "source": [
    "plt.figure(figsize=(16, 6))\n",
    "plt.title('Сравнение прогнозов LinearRegression с реальными данными', fontsize=14)\n",
    "\n",
    "\n",
    "sns.lineplot(x=y_test.index, y=y_test, \n",
    "             label='Реальные заказы', \n",
    "             linewidth=2, \n",
    "             color='black')\n",
    "\n",
    "\n",
    "sns.lineplot(x=y_test.index, y=y_pred_test_LR, \n",
    "             label=f'LinearRegression (RMSE={rmse_test_LR:.2f})', \n",
    "             linestyle='--', \n",
    "             color='red', \n",
    "             alpha=0.8)\n",
    "\n",
    "plt.xlabel('Дата', fontsize=12)\n",
    "plt.ylabel('Количество заказов', fontsize=12)\n",
    "plt.legend(loc='upper right')\n",
    "plt.grid(True, alpha=0.3)\n",
    "plt.tight_layout()\n",
    "plt.show()"
   ]
  },
  {
   "cell_type": "markdown",
   "metadata": {},
   "source": [
    "## Общий вывод"
   ]
  },
  {
   "cell_type": "markdown",
   "metadata": {},
   "source": [
    "В ходе анализа было обнаружено, что наблюдается устойчивый рост количества заказов с течением времени, это указывает на увеличение спроса на услуги такси в аэропортах. Скользящее среднее подтверждает долгосрочный рост тренда. Стандартное отклонение демонстрирует, что волатильность заказов остается стабильной, без резких всплесков. Это говорит об отсутствии аномальных выбросов. Из анализа сезонности можно выделить пики количества заказов: утренний (6:00–10:00), дневной (16:00), вечерний (20:00–00:00).\n",
    "\n",
    "Было обучено и протестировано 4 модели: LinearRegression, RandomForest, LightGBM и CatBoost. Значение метрики RMSE на тестовой выборке должно быть не больше 48. Лучшей моделью оказалась LinearRegression.  RMSE у LinearRegression (43.41)."
   ]
  }
 ],
 "metadata": {
  "ExecuteTimeLog": [
   {
    "duration": 487,
    "start_time": "2025-04-05T23:22:39.290Z"
   },
   {
    "duration": 41,
    "start_time": "2025-04-05T23:23:32.126Z"
   },
   {
    "duration": 15,
    "start_time": "2025-04-05T23:24:03.778Z"
   },
   {
    "duration": 11,
    "start_time": "2025-04-05T23:24:10.902Z"
   },
   {
    "duration": 5,
    "start_time": "2025-04-05T23:25:30.725Z"
   },
   {
    "duration": 71,
    "start_time": "2025-04-05T23:31:34.666Z"
   },
   {
    "duration": 467,
    "start_time": "2025-04-05T23:32:06.047Z"
   },
   {
    "duration": 39,
    "start_time": "2025-04-05T23:32:10.418Z"
   },
   {
    "duration": 10,
    "start_time": "2025-04-05T23:32:38.394Z"
   },
   {
    "duration": 4,
    "start_time": "2025-04-05T23:33:27.846Z"
   },
   {
    "duration": 10,
    "start_time": "2025-04-05T23:37:04.826Z"
   },
   {
    "duration": 479,
    "start_time": "2025-04-05T23:37:59.131Z"
   },
   {
    "duration": 19,
    "start_time": "2025-04-05T23:38:15.784Z"
   },
   {
    "duration": 1183,
    "start_time": "2025-04-05T23:38:26.636Z"
   },
   {
    "duration": 51,
    "start_time": "2025-04-05T23:38:27.822Z"
   },
   {
    "duration": 11,
    "start_time": "2025-04-05T23:38:27.875Z"
   },
   {
    "duration": 15,
    "start_time": "2025-04-05T23:38:27.888Z"
   },
   {
    "duration": 9,
    "start_time": "2025-04-05T23:38:27.904Z"
   },
   {
    "duration": 110,
    "start_time": "2025-04-05T23:38:27.915Z"
   },
   {
    "duration": 0,
    "start_time": "2025-04-05T23:38:28.027Z"
   },
   {
    "duration": 8,
    "start_time": "2025-04-05T23:38:32.719Z"
   },
   {
    "duration": 1161,
    "start_time": "2025-04-05T23:38:39.360Z"
   },
   {
    "duration": 42,
    "start_time": "2025-04-05T23:38:40.523Z"
   },
   {
    "duration": 12,
    "start_time": "2025-04-05T23:38:40.567Z"
   },
   {
    "duration": 11,
    "start_time": "2025-04-05T23:38:40.581Z"
   },
   {
    "duration": 5,
    "start_time": "2025-04-05T23:38:40.605Z"
   },
   {
    "duration": 4,
    "start_time": "2025-04-05T23:38:40.612Z"
   },
   {
    "duration": 8,
    "start_time": "2025-04-05T23:38:40.618Z"
   },
   {
    "duration": 8,
    "start_time": "2025-04-05T23:42:09.774Z"
   },
   {
    "duration": 723,
    "start_time": "2025-04-05T23:42:10.427Z"
   },
   {
    "duration": 792,
    "start_time": "2025-04-05T23:42:20.810Z"
   },
   {
    "duration": 931,
    "start_time": "2025-04-05T23:44:17.975Z"
   },
   {
    "duration": 345,
    "start_time": "2025-04-05T23:50:48.969Z"
   },
   {
    "duration": 893,
    "start_time": "2025-04-05T23:52:00.117Z"
   },
   {
    "duration": 423,
    "start_time": "2025-04-05T23:52:08.757Z"
   },
   {
    "duration": 348,
    "start_time": "2025-04-05T23:52:17.817Z"
   },
   {
    "duration": 333,
    "start_time": "2025-04-05T23:52:39.413Z"
   },
   {
    "duration": 419,
    "start_time": "2025-04-05T23:52:43.957Z"
   },
   {
    "duration": 216,
    "start_time": "2025-04-05T23:58:46.950Z"
   },
   {
    "duration": 209,
    "start_time": "2025-04-05T23:59:37.210Z"
   },
   {
    "duration": 216,
    "start_time": "2025-04-06T00:00:01.067Z"
   },
   {
    "duration": 115,
    "start_time": "2025-04-06T00:03:54.823Z"
   },
   {
    "duration": 148,
    "start_time": "2025-04-06T00:04:10.834Z"
   },
   {
    "duration": 200,
    "start_time": "2025-04-06T00:04:16.454Z"
   },
   {
    "duration": 160,
    "start_time": "2025-04-06T00:04:22.790Z"
   },
   {
    "duration": 338,
    "start_time": "2025-04-06T00:11:29.948Z"
   },
   {
    "duration": 243,
    "start_time": "2025-04-06T00:12:05.491Z"
   },
   {
    "duration": 356,
    "start_time": "2025-04-06T01:01:09.525Z"
   },
   {
    "duration": 4,
    "start_time": "2025-04-06T01:03:54.133Z"
   },
   {
    "duration": 7,
    "start_time": "2025-04-06T01:07:36.925Z"
   },
   {
    "duration": 18,
    "start_time": "2025-04-06T01:07:43.966Z"
   },
   {
    "duration": 4,
    "start_time": "2025-04-06T01:07:47.674Z"
   },
   {
    "duration": 5,
    "start_time": "2025-04-06T01:08:23.689Z"
   },
   {
    "duration": 12,
    "start_time": "2025-04-06T01:08:39.826Z"
   },
   {
    "duration": 16,
    "start_time": "2025-04-06T01:08:59.074Z"
   },
   {
    "duration": 4,
    "start_time": "2025-04-06T01:09:13.166Z"
   },
   {
    "duration": 4,
    "start_time": "2025-04-06T01:09:13.858Z"
   },
   {
    "duration": 16,
    "start_time": "2025-04-06T01:09:15.029Z"
   },
   {
    "duration": 4,
    "start_time": "2025-04-06T01:09:25.950Z"
   },
   {
    "duration": 4,
    "start_time": "2025-04-06T01:09:26.217Z"
   },
   {
    "duration": 15,
    "start_time": "2025-04-06T01:09:26.589Z"
   },
   {
    "duration": 13,
    "start_time": "2025-04-06T01:09:46.206Z"
   },
   {
    "duration": 14,
    "start_time": "2025-04-06T01:09:58.793Z"
   },
   {
    "duration": 1470,
    "start_time": "2025-04-06T01:10:05.029Z"
   },
   {
    "duration": 48,
    "start_time": "2025-04-06T01:10:06.501Z"
   },
   {
    "duration": 12,
    "start_time": "2025-04-06T01:10:06.550Z"
   },
   {
    "duration": 38,
    "start_time": "2025-04-06T01:10:06.564Z"
   },
   {
    "duration": 83,
    "start_time": "2025-04-06T01:10:06.604Z"
   },
   {
    "duration": 53,
    "start_time": "2025-04-06T01:10:06.689Z"
   },
   {
    "duration": 52,
    "start_time": "2025-04-06T01:10:06.744Z"
   },
   {
    "duration": 37,
    "start_time": "2025-04-06T01:10:06.798Z"
   },
   {
    "duration": 1057,
    "start_time": "2025-04-06T01:10:06.837Z"
   },
   {
    "duration": 263,
    "start_time": "2025-04-06T01:10:07.896Z"
   },
   {
    "duration": 492,
    "start_time": "2025-04-06T01:10:08.161Z"
   },
   {
    "duration": 4,
    "start_time": "2025-04-06T01:10:08.655Z"
   },
   {
    "duration": 66,
    "start_time": "2025-04-06T01:10:08.661Z"
   },
   {
    "duration": 29,
    "start_time": "2025-04-06T01:10:08.728Z"
   },
   {
    "duration": 66,
    "start_time": "2025-04-06T01:10:08.759Z"
   },
   {
    "duration": 128,
    "start_time": "2025-04-06T01:10:19.989Z"
   },
   {
    "duration": 1618,
    "start_time": "2025-04-06T01:10:24.814Z"
   },
   {
    "duration": 42,
    "start_time": "2025-04-06T01:10:26.435Z"
   },
   {
    "duration": 11,
    "start_time": "2025-04-06T01:10:26.479Z"
   },
   {
    "duration": 9,
    "start_time": "2025-04-06T01:10:26.492Z"
   },
   {
    "duration": 23,
    "start_time": "2025-04-06T01:10:26.504Z"
   },
   {
    "duration": 5,
    "start_time": "2025-04-06T01:10:26.530Z"
   },
   {
    "duration": 9,
    "start_time": "2025-04-06T01:10:26.537Z"
   },
   {
    "duration": 12,
    "start_time": "2025-04-06T01:10:26.547Z"
   },
   {
    "duration": 1070,
    "start_time": "2025-04-06T01:10:26.560Z"
   },
   {
    "duration": 244,
    "start_time": "2025-04-06T01:10:27.633Z"
   },
   {
    "duration": 458,
    "start_time": "2025-04-06T01:10:27.879Z"
   },
   {
    "duration": 4,
    "start_time": "2025-04-06T01:10:28.339Z"
   },
   {
    "duration": 45,
    "start_time": "2025-04-06T01:10:28.344Z"
   },
   {
    "duration": 25,
    "start_time": "2025-04-06T01:10:28.390Z"
   },
   {
    "duration": 134,
    "start_time": "2025-04-06T01:10:28.417Z"
   },
   {
    "duration": 0,
    "start_time": "2025-04-06T01:10:28.552Z"
   },
   {
    "duration": 3,
    "start_time": "2025-04-06T01:10:34.257Z"
   },
   {
    "duration": 9,
    "start_time": "2025-04-06T01:10:38.246Z"
   },
   {
    "duration": 13,
    "start_time": "2025-04-06T01:10:43.874Z"
   },
   {
    "duration": 4,
    "start_time": "2025-04-06T01:12:18.082Z"
   },
   {
    "duration": 9,
    "start_time": "2025-04-06T01:12:18.534Z"
   },
   {
    "duration": 13,
    "start_time": "2025-04-06T01:12:20.170Z"
   },
   {
    "duration": 9,
    "start_time": "2025-04-06T01:12:20.838Z"
   },
   {
    "duration": 1544,
    "start_time": "2025-04-06T01:12:24.985Z"
   },
   {
    "duration": 42,
    "start_time": "2025-04-06T01:12:26.530Z"
   },
   {
    "duration": 12,
    "start_time": "2025-04-06T01:12:26.574Z"
   },
   {
    "duration": 17,
    "start_time": "2025-04-06T01:12:26.588Z"
   },
   {
    "duration": 5,
    "start_time": "2025-04-06T01:12:26.609Z"
   },
   {
    "duration": 14,
    "start_time": "2025-04-06T01:12:26.616Z"
   },
   {
    "duration": 12,
    "start_time": "2025-04-06T01:12:26.631Z"
   },
   {
    "duration": 8,
    "start_time": "2025-04-06T01:12:26.644Z"
   },
   {
    "duration": 981,
    "start_time": "2025-04-06T01:12:26.653Z"
   },
   {
    "duration": 267,
    "start_time": "2025-04-06T01:12:27.636Z"
   },
   {
    "duration": 470,
    "start_time": "2025-04-06T01:12:27.905Z"
   },
   {
    "duration": 4,
    "start_time": "2025-04-06T01:12:28.377Z"
   },
   {
    "duration": 24,
    "start_time": "2025-04-06T01:12:28.383Z"
   },
   {
    "duration": 12,
    "start_time": "2025-04-06T01:12:28.409Z"
   },
   {
    "duration": 4,
    "start_time": "2025-04-06T01:12:28.423Z"
   },
   {
    "duration": 71,
    "start_time": "2025-04-06T01:12:28.429Z"
   },
   {
    "duration": 78,
    "start_time": "2025-04-06T01:14:09.886Z"
   },
   {
    "duration": 71,
    "start_time": "2025-04-06T01:14:14.410Z"
   },
   {
    "duration": 7,
    "start_time": "2025-04-06T01:14:18.502Z"
   },
   {
    "duration": 22,
    "start_time": "2025-04-06T01:16:27.254Z"
   },
   {
    "duration": 137,
    "start_time": "2025-04-06T01:19:37.630Z"
   },
   {
    "duration": 17,
    "start_time": "2025-04-06T01:19:44.830Z"
   },
   {
    "duration": 17,
    "start_time": "2025-04-06T01:19:49.886Z"
   },
   {
    "duration": 1558,
    "start_time": "2025-04-06T01:20:15.087Z"
   },
   {
    "duration": 42,
    "start_time": "2025-04-06T01:20:16.646Z"
   },
   {
    "duration": 53,
    "start_time": "2025-04-06T01:20:16.689Z"
   },
   {
    "duration": 10,
    "start_time": "2025-04-06T01:20:16.745Z"
   },
   {
    "duration": 4,
    "start_time": "2025-04-06T01:20:16.756Z"
   },
   {
    "duration": 14,
    "start_time": "2025-04-06T01:20:16.762Z"
   },
   {
    "duration": 9,
    "start_time": "2025-04-06T01:20:16.777Z"
   },
   {
    "duration": 8,
    "start_time": "2025-04-06T01:20:16.787Z"
   },
   {
    "duration": 974,
    "start_time": "2025-04-06T01:20:16.796Z"
   },
   {
    "duration": 236,
    "start_time": "2025-04-06T01:20:17.773Z"
   },
   {
    "duration": 438,
    "start_time": "2025-04-06T01:20:18.011Z"
   },
   {
    "duration": 5,
    "start_time": "2025-04-06T01:20:18.451Z"
   },
   {
    "duration": 16,
    "start_time": "2025-04-06T01:20:18.458Z"
   },
   {
    "duration": 48,
    "start_time": "2025-04-06T01:20:18.476Z"
   },
   {
    "duration": 29,
    "start_time": "2025-04-06T01:20:18.529Z"
   },
   {
    "duration": 14,
    "start_time": "2025-04-06T01:20:18.560Z"
   },
   {
    "duration": 262,
    "start_time": "2025-04-06T01:20:18.576Z"
   },
   {
    "duration": 160,
    "start_time": "2025-04-06T01:20:59.447Z"
   },
   {
    "duration": 10,
    "start_time": "2025-04-06T01:21:16.430Z"
   },
   {
    "duration": 10,
    "start_time": "2025-04-06T01:21:33.642Z"
   },
   {
    "duration": 3,
    "start_time": "2025-04-06T01:27:30.730Z"
   },
   {
    "duration": 12,
    "start_time": "2025-04-06T01:30:59.561Z"
   },
   {
    "duration": 3,
    "start_time": "2025-04-06T01:31:04.910Z"
   },
   {
    "duration": 34,
    "start_time": "2025-04-06T01:31:53.378Z"
   },
   {
    "duration": 29,
    "start_time": "2025-04-06T01:35:11.306Z"
   },
   {
    "duration": 14,
    "start_time": "2025-04-06T01:36:52.214Z"
   },
   {
    "duration": 4,
    "start_time": "2025-04-06T01:37:05.782Z"
   },
   {
    "duration": 3,
    "start_time": "2025-04-06T01:37:09.603Z"
   },
   {
    "duration": 54266,
    "start_time": "2025-04-06T01:37:10.694Z"
   },
   {
    "duration": 4,
    "start_time": "2025-04-06T01:38:35.938Z"
   },
   {
    "duration": 10,
    "start_time": "2025-04-06T01:41:50.843Z"
   },
   {
    "duration": 4,
    "start_time": "2025-04-06T01:42:09.155Z"
   },
   {
    "duration": 10,
    "start_time": "2025-04-06T01:42:13.034Z"
   },
   {
    "duration": 15,
    "start_time": "2025-04-06T01:43:12.407Z"
   },
   {
    "duration": 3209,
    "start_time": "2025-04-06T01:43:42.154Z"
   },
   {
    "duration": 13,
    "start_time": "2025-04-06T01:45:50.123Z"
   },
   {
    "duration": 2938,
    "start_time": "2025-04-06T02:02:25.302Z"
   },
   {
    "duration": 32,
    "start_time": "2025-04-06T02:17:06.270Z"
   },
   {
    "duration": 38,
    "start_time": "2025-04-06T02:17:12.734Z"
   },
   {
    "duration": 3,
    "start_time": "2025-04-06T02:18:09.634Z"
   },
   {
    "duration": 50831,
    "start_time": "2025-04-06T02:18:10.022Z"
   },
   {
    "duration": 3,
    "start_time": "2025-04-06T02:19:00.855Z"
   },
   {
    "duration": 5317,
    "start_time": "2025-04-06T02:19:00.859Z"
   },
   {
    "duration": 7659,
    "start_time": "2025-04-06T02:29:10.556Z"
   },
   {
    "duration": 27,
    "start_time": "2025-04-06T02:33:35.688Z"
   },
   {
    "duration": 3,
    "start_time": "2025-04-06T02:34:38.120Z"
   },
   {
    "duration": 2081,
    "start_time": "2025-04-06T02:34:38.665Z"
   },
   {
    "duration": 1329,
    "start_time": "2025-04-06T02:34:40.748Z"
   },
   {
    "duration": 58,
    "start_time": "2025-04-06T02:35:49.200Z"
   },
   {
    "duration": 12,
    "start_time": "2025-04-06T02:36:37.533Z"
   },
   {
    "duration": 11,
    "start_time": "2025-04-06T02:36:48.821Z"
   },
   {
    "duration": 4,
    "start_time": "2025-04-06T02:41:58.669Z"
   },
   {
    "duration": 3989,
    "start_time": "2025-04-06T02:41:59.429Z"
   },
   {
    "duration": 1677,
    "start_time": "2025-04-06T02:42:03.419Z"
   },
   {
    "duration": 1631,
    "start_time": "2025-04-06T02:44:28.390Z"
   },
   {
    "duration": 41,
    "start_time": "2025-04-06T02:44:30.023Z"
   },
   {
    "duration": 11,
    "start_time": "2025-04-06T02:44:30.066Z"
   },
   {
    "duration": 64,
    "start_time": "2025-04-06T02:44:30.079Z"
   },
   {
    "duration": 81,
    "start_time": "2025-04-06T02:44:30.145Z"
   },
   {
    "duration": 10,
    "start_time": "2025-04-06T02:44:30.228Z"
   },
   {
    "duration": 13,
    "start_time": "2025-04-06T02:44:30.240Z"
   },
   {
    "duration": 28,
    "start_time": "2025-04-06T02:44:30.254Z"
   },
   {
    "duration": 1050,
    "start_time": "2025-04-06T02:44:30.284Z"
   },
   {
    "duration": 232,
    "start_time": "2025-04-06T02:44:31.338Z"
   },
   {
    "duration": 361,
    "start_time": "2025-04-06T02:44:31.572Z"
   },
   {
    "duration": 6,
    "start_time": "2025-04-06T02:44:31.935Z"
   },
   {
    "duration": 67,
    "start_time": "2025-04-06T02:44:31.943Z"
   },
   {
    "duration": 23,
    "start_time": "2025-04-06T02:44:32.012Z"
   },
   {
    "duration": 27,
    "start_time": "2025-04-06T02:44:32.036Z"
   },
   {
    "duration": 13,
    "start_time": "2025-04-06T02:44:32.065Z"
   },
   {
    "duration": 261,
    "start_time": "2025-04-06T02:44:32.079Z"
   },
   {
    "duration": 0,
    "start_time": "2025-04-06T02:44:32.342Z"
   },
   {
    "duration": 0,
    "start_time": "2025-04-06T02:44:32.343Z"
   },
   {
    "duration": 0,
    "start_time": "2025-04-06T02:44:32.345Z"
   },
   {
    "duration": 0,
    "start_time": "2025-04-06T02:44:32.346Z"
   },
   {
    "duration": 0,
    "start_time": "2025-04-06T02:44:32.348Z"
   },
   {
    "duration": 1,
    "start_time": "2025-04-06T02:44:32.349Z"
   },
   {
    "duration": 0,
    "start_time": "2025-04-06T02:44:32.351Z"
   },
   {
    "duration": 0,
    "start_time": "2025-04-06T02:44:32.352Z"
   },
   {
    "duration": 0,
    "start_time": "2025-04-06T02:44:32.354Z"
   },
   {
    "duration": 0,
    "start_time": "2025-04-06T02:44:32.355Z"
   },
   {
    "duration": 1544,
    "start_time": "2025-04-06T02:45:48.725Z"
   },
   {
    "duration": 53,
    "start_time": "2025-04-06T02:45:50.271Z"
   },
   {
    "duration": 10,
    "start_time": "2025-04-06T02:45:50.326Z"
   },
   {
    "duration": 21,
    "start_time": "2025-04-06T02:45:50.338Z"
   },
   {
    "duration": 8,
    "start_time": "2025-04-06T02:45:50.361Z"
   },
   {
    "duration": 5,
    "start_time": "2025-04-06T02:45:50.370Z"
   },
   {
    "duration": 28,
    "start_time": "2025-04-06T02:45:50.377Z"
   },
   {
    "duration": 8,
    "start_time": "2025-04-06T02:45:50.407Z"
   },
   {
    "duration": 1010,
    "start_time": "2025-04-06T02:45:50.416Z"
   },
   {
    "duration": 233,
    "start_time": "2025-04-06T02:45:51.428Z"
   },
   {
    "duration": 349,
    "start_time": "2025-04-06T02:45:51.662Z"
   },
   {
    "duration": 4,
    "start_time": "2025-04-06T02:45:52.013Z"
   },
   {
    "duration": 33,
    "start_time": "2025-04-06T02:45:52.019Z"
   },
   {
    "duration": 16,
    "start_time": "2025-04-06T02:45:52.055Z"
   },
   {
    "duration": 4,
    "start_time": "2025-04-06T02:45:52.072Z"
   },
   {
    "duration": 21,
    "start_time": "2025-04-06T02:45:52.078Z"
   },
   {
    "duration": 54,
    "start_time": "2025-04-06T02:45:52.100Z"
   },
   {
    "duration": 64,
    "start_time": "2025-04-06T02:45:52.155Z"
   },
   {
    "duration": 43029,
    "start_time": "2025-04-06T02:45:52.221Z"
   },
   {
    "duration": 3,
    "start_time": "2025-04-06T02:46:35.251Z"
   },
   {
    "duration": 2572,
    "start_time": "2025-04-06T02:46:35.256Z"
   },
   {
    "duration": 3,
    "start_time": "2025-04-06T02:46:37.829Z"
   },
   {
    "duration": 2117,
    "start_time": "2025-04-06T02:46:37.834Z"
   },
   {
    "duration": 1404,
    "start_time": "2025-04-06T02:46:39.953Z"
   },
   {
    "duration": 3,
    "start_time": "2025-04-06T02:46:41.359Z"
   },
   {
    "duration": 3777,
    "start_time": "2025-04-06T02:46:41.364Z"
   },
   {
    "duration": 1323,
    "start_time": "2025-04-06T02:46:45.143Z"
   },
   {
    "duration": 8,
    "start_time": "2025-04-06T02:51:53.974Z"
   },
   {
    "duration": 128,
    "start_time": "2025-04-06T02:52:24.126Z"
   },
   {
    "duration": 848,
    "start_time": "2025-04-06T02:52:32.835Z"
   },
   {
    "duration": 16,
    "start_time": "2025-04-06T02:52:39.623Z"
   },
   {
    "duration": 617,
    "start_time": "2025-04-06T02:59:40.328Z"
   },
   {
    "duration": 1310,
    "start_time": "2025-04-06T03:00:07.731Z"
   },
   {
    "duration": 4,
    "start_time": "2025-04-06T03:00:38.692Z"
   },
   {
    "duration": 1516,
    "start_time": "2025-04-06T03:05:40.361Z"
   },
   {
    "duration": 41,
    "start_time": "2025-04-06T03:05:41.879Z"
   },
   {
    "duration": 11,
    "start_time": "2025-04-06T03:05:41.921Z"
   },
   {
    "duration": 16,
    "start_time": "2025-04-06T03:05:41.935Z"
   },
   {
    "duration": 4,
    "start_time": "2025-04-06T03:05:41.954Z"
   },
   {
    "duration": 6,
    "start_time": "2025-04-06T03:05:41.960Z"
   },
   {
    "duration": 8,
    "start_time": "2025-04-06T03:05:41.967Z"
   },
   {
    "duration": 84,
    "start_time": "2025-04-06T03:05:41.977Z"
   },
   {
    "duration": 1056,
    "start_time": "2025-04-06T03:05:42.062Z"
   },
   {
    "duration": 241,
    "start_time": "2025-04-06T03:05:43.120Z"
   },
   {
    "duration": 353,
    "start_time": "2025-04-06T03:05:43.363Z"
   },
   {
    "duration": 4,
    "start_time": "2025-04-06T03:05:43.718Z"
   },
   {
    "duration": 18,
    "start_time": "2025-04-06T03:05:43.724Z"
   },
   {
    "duration": 68,
    "start_time": "2025-04-06T03:05:43.744Z"
   },
   {
    "duration": 46,
    "start_time": "2025-04-06T03:05:43.814Z"
   },
   {
    "duration": 12,
    "start_time": "2025-04-06T03:05:43.862Z"
   },
   {
    "duration": 49,
    "start_time": "2025-04-06T03:05:43.877Z"
   },
   {
    "duration": 4,
    "start_time": "2025-04-06T03:05:43.928Z"
   },
   {
    "duration": 43484,
    "start_time": "2025-04-06T03:05:43.934Z"
   },
   {
    "duration": 3,
    "start_time": "2025-04-06T03:06:27.419Z"
   },
   {
    "duration": 3424,
    "start_time": "2025-04-06T03:06:27.424Z"
   },
   {
    "duration": 3,
    "start_time": "2025-04-06T03:06:30.850Z"
   },
   {
    "duration": 2086,
    "start_time": "2025-04-06T03:06:30.854Z"
   },
   {
    "duration": 1331,
    "start_time": "2025-04-06T03:06:32.942Z"
   },
   {
    "duration": 4,
    "start_time": "2025-04-06T03:06:34.274Z"
   },
   {
    "duration": 4371,
    "start_time": "2025-04-06T03:06:34.279Z"
   },
   {
    "duration": 1668,
    "start_time": "2025-04-06T03:06:38.651Z"
   },
   {
    "duration": 7,
    "start_time": "2025-04-06T03:06:40.324Z"
   },
   {
    "duration": 1365,
    "start_time": "2025-04-06T03:06:40.333Z"
   },
   {
    "duration": 1734,
    "start_time": "2025-04-06T11:48:43.808Z"
   },
   {
    "duration": 38,
    "start_time": "2025-04-06T11:48:45.544Z"
   },
   {
    "duration": 12,
    "start_time": "2025-04-06T11:48:45.583Z"
   },
   {
    "duration": 14,
    "start_time": "2025-04-06T11:48:45.597Z"
   },
   {
    "duration": 6,
    "start_time": "2025-04-06T11:48:45.613Z"
   },
   {
    "duration": 5,
    "start_time": "2025-04-06T11:48:45.622Z"
   },
   {
    "duration": 9,
    "start_time": "2025-04-06T11:48:45.657Z"
   },
   {
    "duration": 7,
    "start_time": "2025-04-06T11:48:45.667Z"
   },
   {
    "duration": 1023,
    "start_time": "2025-04-06T11:48:45.676Z"
   },
   {
    "duration": 221,
    "start_time": "2025-04-06T11:48:46.701Z"
   },
   {
    "duration": 339,
    "start_time": "2025-04-06T11:48:46.924Z"
   },
   {
    "duration": 5,
    "start_time": "2025-04-06T11:48:47.265Z"
   },
   {
    "duration": 5,
    "start_time": "2025-04-06T11:48:47.271Z"
   },
   {
    "duration": 12,
    "start_time": "2025-04-06T11:48:47.277Z"
   },
   {
    "duration": 3,
    "start_time": "2025-04-06T11:48:47.291Z"
   },
   {
    "duration": 5,
    "start_time": "2025-04-06T11:48:47.296Z"
   },
   {
    "duration": 69,
    "start_time": "2025-04-06T11:48:47.302Z"
   },
   {
    "duration": 4,
    "start_time": "2025-04-06T11:48:47.373Z"
   },
   {
    "duration": 43488,
    "start_time": "2025-04-06T11:48:47.378Z"
   },
   {
    "duration": 3,
    "start_time": "2025-04-06T11:49:30.868Z"
   },
   {
    "duration": 2906,
    "start_time": "2025-04-06T11:49:30.872Z"
   },
   {
    "duration": 3,
    "start_time": "2025-04-06T11:49:33.780Z"
   },
   {
    "duration": 2084,
    "start_time": "2025-04-06T11:49:33.784Z"
   },
   {
    "duration": 1248,
    "start_time": "2025-04-06T11:49:35.870Z"
   },
   {
    "duration": 3,
    "start_time": "2025-04-06T11:49:37.120Z"
   },
   {
    "duration": 3726,
    "start_time": "2025-04-06T11:49:37.124Z"
   },
   {
    "duration": 1961,
    "start_time": "2025-04-06T11:49:40.852Z"
   },
   {
    "duration": 7,
    "start_time": "2025-04-06T11:49:42.815Z"
   },
   {
    "duration": 1255,
    "start_time": "2025-04-06T11:49:42.823Z"
   },
   {
    "duration": 11,
    "start_time": "2025-04-06T11:49:44.080Z"
   },
   {
    "duration": 4,
    "start_time": "2025-04-06T11:50:19.813Z"
   },
   {
    "duration": 120,
    "start_time": "2025-04-06T11:58:48.726Z"
   },
   {
    "duration": 15,
    "start_time": "2025-04-06T11:58:51.854Z"
   },
   {
    "duration": 1555,
    "start_time": "2025-04-06T11:59:20.458Z"
   },
   {
    "duration": 50,
    "start_time": "2025-04-06T11:59:22.015Z"
   },
   {
    "duration": 10,
    "start_time": "2025-04-06T11:59:22.067Z"
   },
   {
    "duration": 9,
    "start_time": "2025-04-06T11:59:22.079Z"
   },
   {
    "duration": 4,
    "start_time": "2025-04-06T11:59:22.089Z"
   },
   {
    "duration": 4,
    "start_time": "2025-04-06T11:59:22.095Z"
   },
   {
    "duration": 8,
    "start_time": "2025-04-06T11:59:22.100Z"
   },
   {
    "duration": 6,
    "start_time": "2025-04-06T11:59:22.110Z"
   },
   {
    "duration": 1017,
    "start_time": "2025-04-06T11:59:22.117Z"
   },
   {
    "duration": 228,
    "start_time": "2025-04-06T11:59:23.138Z"
   },
   {
    "duration": 340,
    "start_time": "2025-04-06T11:59:23.368Z"
   },
   {
    "duration": 4,
    "start_time": "2025-04-06T11:59:23.710Z"
   },
   {
    "duration": 4,
    "start_time": "2025-04-06T11:59:23.716Z"
   },
   {
    "duration": 12,
    "start_time": "2025-04-06T11:59:23.722Z"
   },
   {
    "duration": 25,
    "start_time": "2025-04-06T11:59:23.735Z"
   },
   {
    "duration": 146,
    "start_time": "2025-04-06T11:59:23.762Z"
   },
   {
    "duration": 0,
    "start_time": "2025-04-06T11:59:23.910Z"
   },
   {
    "duration": 0,
    "start_time": "2025-04-06T11:59:23.911Z"
   },
   {
    "duration": 0,
    "start_time": "2025-04-06T11:59:23.912Z"
   },
   {
    "duration": 0,
    "start_time": "2025-04-06T11:59:23.913Z"
   },
   {
    "duration": 0,
    "start_time": "2025-04-06T11:59:23.914Z"
   },
   {
    "duration": 0,
    "start_time": "2025-04-06T11:59:23.915Z"
   },
   {
    "duration": 0,
    "start_time": "2025-04-06T11:59:23.916Z"
   },
   {
    "duration": 0,
    "start_time": "2025-04-06T11:59:23.917Z"
   },
   {
    "duration": 0,
    "start_time": "2025-04-06T11:59:23.918Z"
   },
   {
    "duration": 0,
    "start_time": "2025-04-06T11:59:23.920Z"
   },
   {
    "duration": 0,
    "start_time": "2025-04-06T11:59:23.921Z"
   },
   {
    "duration": 0,
    "start_time": "2025-04-06T11:59:23.922Z"
   },
   {
    "duration": 0,
    "start_time": "2025-04-06T11:59:23.924Z"
   },
   {
    "duration": 25,
    "start_time": "2025-04-06T12:00:57.768Z"
   },
   {
    "duration": 22,
    "start_time": "2025-04-06T12:01:16.904Z"
   },
   {
    "duration": 10,
    "start_time": "2025-04-06T12:02:24.539Z"
   },
   {
    "duration": 41,
    "start_time": "2025-04-06T12:02:39.306Z"
   },
   {
    "duration": 4,
    "start_time": "2025-04-06T12:03:02.584Z"
   },
   {
    "duration": 46640,
    "start_time": "2025-04-06T12:03:03.302Z"
   },
   {
    "duration": 3,
    "start_time": "2025-04-06T12:03:49.944Z"
   },
   {
    "duration": 2500,
    "start_time": "2025-04-06T12:03:49.958Z"
   },
   {
    "duration": 13,
    "start_time": "2025-04-06T12:04:14.571Z"
   },
   {
    "duration": 4,
    "start_time": "2025-04-06T12:04:25.503Z"
   },
   {
    "duration": 3,
    "start_time": "2025-04-06T12:19:39.584Z"
   },
   {
    "duration": 11,
    "start_time": "2025-04-06T12:20:28.068Z"
   },
   {
    "duration": 5,
    "start_time": "2025-04-06T12:20:48.559Z"
   },
   {
    "duration": 2,
    "start_time": "2025-04-06T12:20:58.621Z"
   },
   {
    "duration": 1457,
    "start_time": "2025-04-06T12:20:58.901Z"
   },
   {
    "duration": 3,
    "start_time": "2025-04-06T12:21:02.025Z"
   },
   {
    "duration": 3,
    "start_time": "2025-04-06T12:22:26.873Z"
   },
   {
    "duration": 520,
    "start_time": "2025-04-06T12:22:27.205Z"
   },
   {
    "duration": 4,
    "start_time": "2025-04-06T12:22:27.785Z"
   },
   {
    "duration": 3,
    "start_time": "2025-04-06T12:24:33.001Z"
   },
   {
    "duration": 1558,
    "start_time": "2025-04-06T12:24:33.409Z"
   },
   {
    "duration": 3,
    "start_time": "2025-04-06T12:24:38.082Z"
   },
   {
    "duration": 1507,
    "start_time": "2025-04-06T12:26:34.810Z"
   },
   {
    "duration": 150,
    "start_time": "2025-04-06T12:26:36.319Z"
   },
   {
    "duration": 0,
    "start_time": "2025-04-06T12:26:36.472Z"
   },
   {
    "duration": 0,
    "start_time": "2025-04-06T12:26:36.474Z"
   },
   {
    "duration": 0,
    "start_time": "2025-04-06T12:26:36.475Z"
   },
   {
    "duration": 0,
    "start_time": "2025-04-06T12:26:36.477Z"
   },
   {
    "duration": 0,
    "start_time": "2025-04-06T12:26:36.478Z"
   },
   {
    "duration": 0,
    "start_time": "2025-04-06T12:26:36.480Z"
   },
   {
    "duration": 0,
    "start_time": "2025-04-06T12:26:36.481Z"
   },
   {
    "duration": 0,
    "start_time": "2025-04-06T12:26:36.483Z"
   },
   {
    "duration": 0,
    "start_time": "2025-04-06T12:26:36.484Z"
   },
   {
    "duration": 0,
    "start_time": "2025-04-06T12:26:36.486Z"
   },
   {
    "duration": 0,
    "start_time": "2025-04-06T12:26:36.487Z"
   },
   {
    "duration": 0,
    "start_time": "2025-04-06T12:26:36.489Z"
   },
   {
    "duration": 0,
    "start_time": "2025-04-06T12:26:36.490Z"
   },
   {
    "duration": 0,
    "start_time": "2025-04-06T12:26:36.491Z"
   },
   {
    "duration": 0,
    "start_time": "2025-04-06T12:26:36.493Z"
   },
   {
    "duration": 0,
    "start_time": "2025-04-06T12:26:36.495Z"
   },
   {
    "duration": 0,
    "start_time": "2025-04-06T12:26:36.496Z"
   },
   {
    "duration": 0,
    "start_time": "2025-04-06T12:26:36.498Z"
   },
   {
    "duration": 0,
    "start_time": "2025-04-06T12:26:36.500Z"
   },
   {
    "duration": 0,
    "start_time": "2025-04-06T12:26:36.501Z"
   },
   {
    "duration": 0,
    "start_time": "2025-04-06T12:26:36.503Z"
   },
   {
    "duration": 0,
    "start_time": "2025-04-06T12:26:36.504Z"
   },
   {
    "duration": 0,
    "start_time": "2025-04-06T12:26:36.506Z"
   },
   {
    "duration": 0,
    "start_time": "2025-04-06T12:26:36.507Z"
   },
   {
    "duration": 0,
    "start_time": "2025-04-06T12:26:36.559Z"
   },
   {
    "duration": 0,
    "start_time": "2025-04-06T12:26:36.560Z"
   },
   {
    "duration": 0,
    "start_time": "2025-04-06T12:26:36.562Z"
   },
   {
    "duration": 5,
    "start_time": "2025-04-06T12:28:13.973Z"
   },
   {
    "duration": 39,
    "start_time": "2025-04-06T12:28:15.413Z"
   },
   {
    "duration": 1553,
    "start_time": "2025-04-06T12:29:33.446Z"
   },
   {
    "duration": 149,
    "start_time": "2025-04-06T12:29:35.001Z"
   },
   {
    "duration": 0,
    "start_time": "2025-04-06T12:29:35.153Z"
   },
   {
    "duration": 0,
    "start_time": "2025-04-06T12:29:35.154Z"
   },
   {
    "duration": 0,
    "start_time": "2025-04-06T12:29:35.155Z"
   },
   {
    "duration": 0,
    "start_time": "2025-04-06T12:29:35.158Z"
   },
   {
    "duration": 0,
    "start_time": "2025-04-06T12:29:35.159Z"
   },
   {
    "duration": 0,
    "start_time": "2025-04-06T12:29:35.160Z"
   },
   {
    "duration": 0,
    "start_time": "2025-04-06T12:29:35.161Z"
   },
   {
    "duration": 0,
    "start_time": "2025-04-06T12:29:35.162Z"
   },
   {
    "duration": 0,
    "start_time": "2025-04-06T12:29:35.164Z"
   },
   {
    "duration": 0,
    "start_time": "2025-04-06T12:29:35.165Z"
   },
   {
    "duration": 0,
    "start_time": "2025-04-06T12:29:35.166Z"
   },
   {
    "duration": 0,
    "start_time": "2025-04-06T12:29:35.167Z"
   },
   {
    "duration": 0,
    "start_time": "2025-04-06T12:29:35.168Z"
   },
   {
    "duration": 0,
    "start_time": "2025-04-06T12:29:35.169Z"
   },
   {
    "duration": 0,
    "start_time": "2025-04-06T12:29:35.171Z"
   },
   {
    "duration": 0,
    "start_time": "2025-04-06T12:29:35.172Z"
   },
   {
    "duration": 0,
    "start_time": "2025-04-06T12:29:35.173Z"
   },
   {
    "duration": 0,
    "start_time": "2025-04-06T12:29:35.174Z"
   },
   {
    "duration": 0,
    "start_time": "2025-04-06T12:29:35.175Z"
   },
   {
    "duration": 0,
    "start_time": "2025-04-06T12:29:35.176Z"
   },
   {
    "duration": 0,
    "start_time": "2025-04-06T12:29:35.177Z"
   },
   {
    "duration": 0,
    "start_time": "2025-04-06T12:29:35.178Z"
   },
   {
    "duration": 0,
    "start_time": "2025-04-06T12:29:35.180Z"
   },
   {
    "duration": 0,
    "start_time": "2025-04-06T12:29:35.181Z"
   },
   {
    "duration": 0,
    "start_time": "2025-04-06T12:29:35.182Z"
   },
   {
    "duration": 0,
    "start_time": "2025-04-06T12:29:35.184Z"
   },
   {
    "duration": 0,
    "start_time": "2025-04-06T12:29:35.185Z"
   },
   {
    "duration": 1669,
    "start_time": "2025-04-06T17:17:35.036Z"
   },
   {
    "duration": 55,
    "start_time": "2025-04-06T17:17:36.707Z"
   },
   {
    "duration": 1386,
    "start_time": "2025-04-06T17:17:42.858Z"
   },
   {
    "duration": 39,
    "start_time": "2025-04-06T17:17:44.246Z"
   },
   {
    "duration": 25,
    "start_time": "2025-04-06T17:17:44.286Z"
   },
   {
    "duration": 18,
    "start_time": "2025-04-06T17:17:44.313Z"
   },
   {
    "duration": 4,
    "start_time": "2025-04-06T17:17:44.333Z"
   },
   {
    "duration": 5,
    "start_time": "2025-04-06T17:17:44.338Z"
   },
   {
    "duration": 9,
    "start_time": "2025-04-06T17:17:44.344Z"
   },
   {
    "duration": 11,
    "start_time": "2025-04-06T17:17:44.354Z"
   },
   {
    "duration": 955,
    "start_time": "2025-04-06T17:17:44.366Z"
   },
   {
    "duration": 208,
    "start_time": "2025-04-06T17:17:45.324Z"
   },
   {
    "duration": 306,
    "start_time": "2025-04-06T17:17:45.536Z"
   },
   {
    "duration": 4,
    "start_time": "2025-04-06T17:17:45.844Z"
   },
   {
    "duration": 5,
    "start_time": "2025-04-06T17:17:45.849Z"
   },
   {
    "duration": 11,
    "start_time": "2025-04-06T17:17:45.855Z"
   },
   {
    "duration": 8,
    "start_time": "2025-04-06T17:17:45.867Z"
   },
   {
    "duration": 22,
    "start_time": "2025-04-06T17:17:45.876Z"
   },
   {
    "duration": 62,
    "start_time": "2025-04-06T17:17:45.900Z"
   },
   {
    "duration": 2,
    "start_time": "2025-04-06T17:17:45.964Z"
   },
   {
    "duration": 39983,
    "start_time": "2025-04-06T17:17:45.968Z"
   },
   {
    "duration": 3,
    "start_time": "2025-04-06T17:18:25.953Z"
   },
   {
    "duration": 948,
    "start_time": "2025-04-06T17:18:25.957Z"
   },
   {
    "duration": 4,
    "start_time": "2025-04-06T17:18:26.907Z"
   },
   {
    "duration": 3137,
    "start_time": "2025-04-06T17:18:26.913Z"
   },
   {
    "duration": 86,
    "start_time": "2025-04-06T17:18:30.052Z"
   },
   {
    "duration": 27,
    "start_time": "2025-04-06T17:18:30.140Z"
   },
   {
    "duration": 3770,
    "start_time": "2025-04-06T17:18:30.168Z"
   },
   {
    "duration": 4,
    "start_time": "2025-04-06T17:18:33.939Z"
   },
   {
    "duration": 226,
    "start_time": "2025-04-06T17:18:33.946Z"
   },
   {
    "duration": 0,
    "start_time": "2025-04-06T17:18:34.174Z"
   },
   {
    "duration": 3,
    "start_time": "2025-04-06T17:27:35.747Z"
   },
   {
    "duration": 30149,
    "start_time": "2025-04-06T17:27:36.504Z"
   },
   {
    "duration": 4,
    "start_time": "2025-04-06T17:28:06.655Z"
   },
   {
    "duration": 3,
    "start_time": "2025-04-06T17:31:59.232Z"
   },
   {
    "duration": 4101,
    "start_time": "2025-04-06T17:31:59.577Z"
   },
   {
    "duration": 4,
    "start_time": "2025-04-06T17:32:03.680Z"
   },
   {
    "duration": 19,
    "start_time": "2025-04-06T17:33:41.709Z"
   },
   {
    "duration": 13,
    "start_time": "2025-04-06T17:33:47.185Z"
   },
   {
    "duration": 508,
    "start_time": "2025-04-06T17:37:06.194Z"
   },
   {
    "duration": 1511,
    "start_time": "2025-04-06T17:38:15.138Z"
   },
   {
    "duration": 38,
    "start_time": "2025-04-06T17:38:16.651Z"
   },
   {
    "duration": 9,
    "start_time": "2025-04-06T17:38:16.690Z"
   },
   {
    "duration": 10,
    "start_time": "2025-04-06T17:38:16.701Z"
   },
   {
    "duration": 5,
    "start_time": "2025-04-06T17:38:16.712Z"
   },
   {
    "duration": 21,
    "start_time": "2025-04-06T17:38:16.718Z"
   },
   {
    "duration": 14,
    "start_time": "2025-04-06T17:38:16.740Z"
   },
   {
    "duration": 6,
    "start_time": "2025-04-06T17:38:16.756Z"
   },
   {
    "duration": 945,
    "start_time": "2025-04-06T17:38:16.764Z"
   },
   {
    "duration": 213,
    "start_time": "2025-04-06T17:38:17.711Z"
   },
   {
    "duration": 326,
    "start_time": "2025-04-06T17:38:17.926Z"
   },
   {
    "duration": 5,
    "start_time": "2025-04-06T17:38:18.254Z"
   },
   {
    "duration": 5,
    "start_time": "2025-04-06T17:38:18.261Z"
   },
   {
    "duration": 17,
    "start_time": "2025-04-06T17:38:18.267Z"
   },
   {
    "duration": 7,
    "start_time": "2025-04-06T17:38:18.286Z"
   },
   {
    "duration": 53,
    "start_time": "2025-04-06T17:38:18.294Z"
   },
   {
    "duration": 132,
    "start_time": "2025-04-06T17:38:18.349Z"
   },
   {
    "duration": 4,
    "start_time": "2025-04-06T17:38:18.482Z"
   },
   {
    "duration": 46602,
    "start_time": "2025-04-06T17:38:18.536Z"
   },
   {
    "duration": 3,
    "start_time": "2025-04-06T17:39:05.140Z"
   },
   {
    "duration": 1944,
    "start_time": "2025-04-06T17:39:05.145Z"
   },
   {
    "duration": 3,
    "start_time": "2025-04-06T17:39:07.090Z"
   },
   {
    "duration": 20648,
    "start_time": "2025-04-06T17:39:07.094Z"
   },
   {
    "duration": 4,
    "start_time": "2025-04-06T17:39:27.744Z"
   },
   {
    "duration": 22,
    "start_time": "2025-04-06T17:39:27.749Z"
   },
   {
    "duration": 3362,
    "start_time": "2025-04-06T17:39:27.773Z"
   },
   {
    "duration": 3,
    "start_time": "2025-04-06T17:39:31.137Z"
   },
   {
    "duration": 28,
    "start_time": "2025-04-06T17:39:31.143Z"
   },
   {
    "duration": 528,
    "start_time": "2025-04-06T17:39:31.172Z"
   }
  ],
  "kernelspec": {
   "display_name": "Python 3 (ipykernel)",
   "language": "python",
   "name": "python3"
  },
  "language_info": {
   "codemirror_mode": {
    "name": "ipython",
    "version": 3
   },
   "file_extension": ".py",
   "mimetype": "text/x-python",
   "name": "python",
   "nbconvert_exporter": "python",
   "pygments_lexer": "ipython3",
   "version": "3.9.19"
  },
  "toc": {
   "base_numbering": 1,
   "nav_menu": {},
   "number_sections": true,
   "sideBar": true,
   "skip_h1_title": true,
   "title_cell": "Содержание",
   "title_sidebar": "Contents",
   "toc_cell": true,
   "toc_position": {
    "height": "calc(100% - 180px)",
    "left": "10px",
    "top": "150px",
    "width": "251.372px"
   },
   "toc_section_display": true,
   "toc_window_display": true
  }
 },
 "nbformat": 4,
 "nbformat_minor": 4
}
