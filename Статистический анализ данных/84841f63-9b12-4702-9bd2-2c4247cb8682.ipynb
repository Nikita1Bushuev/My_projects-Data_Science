{
 "cells": [
  {
   "cell_type": "markdown",
   "id": "4805135c",
   "metadata": {},
   "source": [
    "**Проект: Статистический анализ данных**\n",
    "\n",
    "Вы аналитик популярного сервиса аренды самокатов GoFast. Вам передали данные о некоторых пользователях из нескольких городов, а также об их поездках. Проанализируйте данные и проверьте некоторые гипотезы, которые могут помочь бизнесу вырасти.\n",
    "\n",
    "Для проведения анализа потребуется выполнить следующие основные задачи:\n",
    "- выполнить предобработку данных\n",
    "- выполнить исследовательский анализ данных (описать и визуализировать общую информацию о пользователях и поездках)\n",
    "- объединить данные о пользователях, поездках и подписках\n",
    "- подсчитать выручку\n",
    "- проверить гипотезы"
   ]
  },
  {
   "cell_type": "code",
   "execution_count": 1,
   "id": "72576667",
   "metadata": {},
   "outputs": [],
   "source": [
    "import pandas as pd\n",
    "import matplotlib.pyplot as plt\n",
    "import numpy as np\n",
    "from scipy import stats as st"
   ]
  },
  {
   "cell_type": "markdown",
   "id": "c42cbe00",
   "metadata": {},
   "source": [
    "#### Шаг 1. Загрузка данных"
   ]
  },
  {
   "cell_type": "markdown",
   "id": "9969ea1c",
   "metadata": {},
   "source": [
    "##### Считаем CSV-файлы с данными с помощью библиотеки pandas и сохраним их в датафреймы"
   ]
  },
  {
   "cell_type": "markdown",
   "id": "077346e8",
   "metadata": {},
   "source": [
    "В users_go содержиться инофрмация о пользователях, в rides_go о поездках, в subscriptions_go о подписках."
   ]
  },
  {
   "cell_type": "code",
   "execution_count": 2,
   "id": "eff9f206",
   "metadata": {},
   "outputs": [],
   "source": [
    "users_go = pd.read_csv('/datasets/users_go.csv')\n",
    "rides_go = pd.read_csv('/datasets/rides_go.csv')\n",
    "subscriptions_go = pd.read_csv('/datasets/subscriptions_go.csv')"
   ]
  },
  {
   "cell_type": "markdown",
   "id": "64ab6ce4",
   "metadata": {},
   "source": [
    "#####  Выведим первые строки каждого набора данных. Изучим общую информацию о каждом датафрейме"
   ]
  },
  {
   "cell_type": "code",
   "execution_count": 3,
   "id": "d9c643f9",
   "metadata": {},
   "outputs": [
    {
     "data": {
      "text/html": [
       "<div>\n",
       "<style scoped>\n",
       "    .dataframe tbody tr th:only-of-type {\n",
       "        vertical-align: middle;\n",
       "    }\n",
       "\n",
       "    .dataframe tbody tr th {\n",
       "        vertical-align: top;\n",
       "    }\n",
       "\n",
       "    .dataframe thead th {\n",
       "        text-align: right;\n",
       "    }\n",
       "</style>\n",
       "<table border=\"1\" class=\"dataframe\">\n",
       "  <thead>\n",
       "    <tr style=\"text-align: right;\">\n",
       "      <th></th>\n",
       "      <th>user_id</th>\n",
       "      <th>name</th>\n",
       "      <th>age</th>\n",
       "      <th>city</th>\n",
       "      <th>subscription_type</th>\n",
       "    </tr>\n",
       "  </thead>\n",
       "  <tbody>\n",
       "    <tr>\n",
       "      <th>0</th>\n",
       "      <td>1</td>\n",
       "      <td>Кира</td>\n",
       "      <td>22</td>\n",
       "      <td>Тюмень</td>\n",
       "      <td>ultra</td>\n",
       "    </tr>\n",
       "    <tr>\n",
       "      <th>1</th>\n",
       "      <td>2</td>\n",
       "      <td>Станислав</td>\n",
       "      <td>31</td>\n",
       "      <td>Омск</td>\n",
       "      <td>ultra</td>\n",
       "    </tr>\n",
       "    <tr>\n",
       "      <th>2</th>\n",
       "      <td>3</td>\n",
       "      <td>Алексей</td>\n",
       "      <td>20</td>\n",
       "      <td>Москва</td>\n",
       "      <td>ultra</td>\n",
       "    </tr>\n",
       "    <tr>\n",
       "      <th>3</th>\n",
       "      <td>4</td>\n",
       "      <td>Константин</td>\n",
       "      <td>26</td>\n",
       "      <td>Ростов-на-Дону</td>\n",
       "      <td>ultra</td>\n",
       "    </tr>\n",
       "    <tr>\n",
       "      <th>4</th>\n",
       "      <td>5</td>\n",
       "      <td>Адель</td>\n",
       "      <td>28</td>\n",
       "      <td>Омск</td>\n",
       "      <td>ultra</td>\n",
       "    </tr>\n",
       "  </tbody>\n",
       "</table>\n",
       "</div>"
      ],
      "text/plain": [
       "   user_id        name  age            city subscription_type\n",
       "0        1        Кира   22          Тюмень             ultra\n",
       "1        2   Станислав   31            Омск             ultra\n",
       "2        3     Алексей   20          Москва             ultra\n",
       "3        4  Константин   26  Ростов-на-Дону             ultra\n",
       "4        5       Адель   28            Омск             ultra"
      ]
     },
     "execution_count": 3,
     "metadata": {},
     "output_type": "execute_result"
    }
   ],
   "source": [
    "users_go.head()"
   ]
  },
  {
   "cell_type": "code",
   "execution_count": 4,
   "id": "60986b90",
   "metadata": {},
   "outputs": [
    {
     "name": "stdout",
     "output_type": "stream",
     "text": [
      "<class 'pandas.core.frame.DataFrame'>\n",
      "RangeIndex: 1565 entries, 0 to 1564\n",
      "Data columns (total 5 columns):\n",
      " #   Column             Non-Null Count  Dtype \n",
      "---  ------             --------------  ----- \n",
      " 0   user_id            1565 non-null   int64 \n",
      " 1   name               1565 non-null   object\n",
      " 2   age                1565 non-null   int64 \n",
      " 3   city               1565 non-null   object\n",
      " 4   subscription_type  1565 non-null   object\n",
      "dtypes: int64(2), object(3)\n",
      "memory usage: 61.3+ KB\n"
     ]
    }
   ],
   "source": [
    "users_go.info()"
   ]
  },
  {
   "cell_type": "code",
   "execution_count": 5,
   "id": "1f26d276",
   "metadata": {},
   "outputs": [
    {
     "data": {
      "text/html": [
       "<div>\n",
       "<style scoped>\n",
       "    .dataframe tbody tr th:only-of-type {\n",
       "        vertical-align: middle;\n",
       "    }\n",
       "\n",
       "    .dataframe tbody tr th {\n",
       "        vertical-align: top;\n",
       "    }\n",
       "\n",
       "    .dataframe thead th {\n",
       "        text-align: right;\n",
       "    }\n",
       "</style>\n",
       "<table border=\"1\" class=\"dataframe\">\n",
       "  <thead>\n",
       "    <tr style=\"text-align: right;\">\n",
       "      <th></th>\n",
       "      <th>user_id</th>\n",
       "      <th>distance</th>\n",
       "      <th>duration</th>\n",
       "      <th>date</th>\n",
       "    </tr>\n",
       "  </thead>\n",
       "  <tbody>\n",
       "    <tr>\n",
       "      <th>0</th>\n",
       "      <td>1</td>\n",
       "      <td>4409.919140</td>\n",
       "      <td>25.599769</td>\n",
       "      <td>2021-01-01</td>\n",
       "    </tr>\n",
       "    <tr>\n",
       "      <th>1</th>\n",
       "      <td>1</td>\n",
       "      <td>2617.592153</td>\n",
       "      <td>15.816871</td>\n",
       "      <td>2021-01-18</td>\n",
       "    </tr>\n",
       "    <tr>\n",
       "      <th>2</th>\n",
       "      <td>1</td>\n",
       "      <td>754.159807</td>\n",
       "      <td>6.232113</td>\n",
       "      <td>2021-04-20</td>\n",
       "    </tr>\n",
       "    <tr>\n",
       "      <th>3</th>\n",
       "      <td>1</td>\n",
       "      <td>2694.783254</td>\n",
       "      <td>18.511000</td>\n",
       "      <td>2021-08-11</td>\n",
       "    </tr>\n",
       "    <tr>\n",
       "      <th>4</th>\n",
       "      <td>1</td>\n",
       "      <td>4028.687306</td>\n",
       "      <td>26.265803</td>\n",
       "      <td>2021-08-28</td>\n",
       "    </tr>\n",
       "  </tbody>\n",
       "</table>\n",
       "</div>"
      ],
      "text/plain": [
       "   user_id     distance   duration        date\n",
       "0        1  4409.919140  25.599769  2021-01-01\n",
       "1        1  2617.592153  15.816871  2021-01-18\n",
       "2        1   754.159807   6.232113  2021-04-20\n",
       "3        1  2694.783254  18.511000  2021-08-11\n",
       "4        1  4028.687306  26.265803  2021-08-28"
      ]
     },
     "execution_count": 5,
     "metadata": {},
     "output_type": "execute_result"
    }
   ],
   "source": [
    "rides_go.head()"
   ]
  },
  {
   "cell_type": "code",
   "execution_count": 6,
   "id": "13621e26",
   "metadata": {},
   "outputs": [
    {
     "name": "stdout",
     "output_type": "stream",
     "text": [
      "<class 'pandas.core.frame.DataFrame'>\n",
      "RangeIndex: 18068 entries, 0 to 18067\n",
      "Data columns (total 4 columns):\n",
      " #   Column    Non-Null Count  Dtype  \n",
      "---  ------    --------------  -----  \n",
      " 0   user_id   18068 non-null  int64  \n",
      " 1   distance  18068 non-null  float64\n",
      " 2   duration  18068 non-null  float64\n",
      " 3   date      18068 non-null  object \n",
      "dtypes: float64(2), int64(1), object(1)\n",
      "memory usage: 564.8+ KB\n"
     ]
    }
   ],
   "source": [
    "rides_go.info()"
   ]
  },
  {
   "cell_type": "code",
   "execution_count": 7,
   "id": "e68e7c7e",
   "metadata": {},
   "outputs": [
    {
     "data": {
      "text/html": [
       "<div>\n",
       "<style scoped>\n",
       "    .dataframe tbody tr th:only-of-type {\n",
       "        vertical-align: middle;\n",
       "    }\n",
       "\n",
       "    .dataframe tbody tr th {\n",
       "        vertical-align: top;\n",
       "    }\n",
       "\n",
       "    .dataframe thead th {\n",
       "        text-align: right;\n",
       "    }\n",
       "</style>\n",
       "<table border=\"1\" class=\"dataframe\">\n",
       "  <thead>\n",
       "    <tr style=\"text-align: right;\">\n",
       "      <th></th>\n",
       "      <th>subscription_type</th>\n",
       "      <th>minute_price</th>\n",
       "      <th>start_ride_price</th>\n",
       "      <th>subscription_fee</th>\n",
       "    </tr>\n",
       "  </thead>\n",
       "  <tbody>\n",
       "    <tr>\n",
       "      <th>0</th>\n",
       "      <td>free</td>\n",
       "      <td>8</td>\n",
       "      <td>50</td>\n",
       "      <td>0</td>\n",
       "    </tr>\n",
       "    <tr>\n",
       "      <th>1</th>\n",
       "      <td>ultra</td>\n",
       "      <td>6</td>\n",
       "      <td>0</td>\n",
       "      <td>199</td>\n",
       "    </tr>\n",
       "  </tbody>\n",
       "</table>\n",
       "</div>"
      ],
      "text/plain": [
       "  subscription_type  minute_price  start_ride_price  subscription_fee\n",
       "0              free             8                50                 0\n",
       "1             ultra             6                 0               199"
      ]
     },
     "execution_count": 7,
     "metadata": {},
     "output_type": "execute_result"
    }
   ],
   "source": [
    "subscriptions_go.head()"
   ]
  },
  {
   "cell_type": "code",
   "execution_count": 8,
   "id": "ab3d568c",
   "metadata": {},
   "outputs": [
    {
     "name": "stdout",
     "output_type": "stream",
     "text": [
      "<class 'pandas.core.frame.DataFrame'>\n",
      "RangeIndex: 2 entries, 0 to 1\n",
      "Data columns (total 4 columns):\n",
      " #   Column             Non-Null Count  Dtype \n",
      "---  ------             --------------  ----- \n",
      " 0   subscription_type  2 non-null      object\n",
      " 1   minute_price       2 non-null      int64 \n",
      " 2   start_ride_price   2 non-null      int64 \n",
      " 3   subscription_fee   2 non-null      int64 \n",
      "dtypes: int64(3), object(1)\n",
      "memory usage: 192.0+ bytes\n"
     ]
    }
   ],
   "source": [
    "subscriptions_go.info()"
   ]
  },
  {
   "cell_type": "markdown",
   "id": "cb713c11",
   "metadata": {},
   "source": [
    "**Пользовательские данные (users_go) cодержит 1565 записей и 5 столбцов. Вся информация полная, отсутствуют пропуски, как и для других датафреймов. Данные о поездках (rides_go) cодержит 18068 записей и 4 столбца. Данные о подписках (subscriptions_go) содержит только 2 записи (для типов подписок free и ultra) и 4 столбца.**"
   ]
  },
  {
   "cell_type": "markdown",
   "id": "e95ebca7",
   "metadata": {},
   "source": [
    "#### Шаг 2. Предобработка данных"
   ]
  },
  {
   "cell_type": "markdown",
   "id": "493f471f",
   "metadata": {},
   "source": [
    "##### Приведем столбец date к типу даты pandas."
   ]
  },
  {
   "cell_type": "code",
   "execution_count": 9,
   "id": "af6d202c",
   "metadata": {},
   "outputs": [],
   "source": [
    "rides_go['date'] = pd.to_datetime(rides_go['date'], format='%Y-%m-%d %H:%M')"
   ]
  },
  {
   "cell_type": "markdown",
   "id": "7776aff3",
   "metadata": {},
   "source": [
    "##### Создадим новый столбец с номером месяца на основе столбца date."
   ]
  },
  {
   "cell_type": "code",
   "execution_count": 10,
   "id": "6cdd2aec",
   "metadata": {},
   "outputs": [],
   "source": [
    "rides_go['month number'] = rides_go['date'].dt.month"
   ]
  },
  {
   "cell_type": "markdown",
   "id": "33ac2cc6",
   "metadata": {},
   "source": [
    "##### Проверим наличие пропущенных значений и дубликатов в датафреймах. Обработуем их, если такие значения присутствуют."
   ]
  },
  {
   "cell_type": "code",
   "execution_count": 11,
   "id": "ff1c40d0",
   "metadata": {},
   "outputs": [
    {
     "data": {
      "text/plain": [
       "user_id              0\n",
       "name                 0\n",
       "age                  0\n",
       "city                 0\n",
       "subscription_type    0\n",
       "dtype: int64"
      ]
     },
     "execution_count": 11,
     "metadata": {},
     "output_type": "execute_result"
    }
   ],
   "source": [
    "users_go.isna().sum()"
   ]
  },
  {
   "cell_type": "code",
   "execution_count": 12,
   "id": "d79cc01d",
   "metadata": {},
   "outputs": [
    {
     "data": {
      "text/plain": [
       "user_id         0\n",
       "distance        0\n",
       "duration        0\n",
       "date            0\n",
       "month number    0\n",
       "dtype: int64"
      ]
     },
     "execution_count": 12,
     "metadata": {},
     "output_type": "execute_result"
    }
   ],
   "source": [
    "rides_go.isna().sum()"
   ]
  },
  {
   "cell_type": "code",
   "execution_count": 13,
   "id": "70c04068",
   "metadata": {},
   "outputs": [
    {
     "data": {
      "text/plain": [
       "subscription_type    0\n",
       "minute_price         0\n",
       "start_ride_price     0\n",
       "subscription_fee     0\n",
       "dtype: int64"
      ]
     },
     "execution_count": 13,
     "metadata": {},
     "output_type": "execute_result"
    }
   ],
   "source": [
    "subscriptions_go.isna().sum()"
   ]
  },
  {
   "cell_type": "markdown",
   "id": "38a9cd07",
   "metadata": {},
   "source": [
    "Пропусков во всех датафреймах не обнаружено. Проверим на дубликаты."
   ]
  },
  {
   "cell_type": "code",
   "execution_count": 14,
   "id": "1931c53d",
   "metadata": {},
   "outputs": [
    {
     "data": {
      "text/plain": [
       "31"
      ]
     },
     "execution_count": 14,
     "metadata": {},
     "output_type": "execute_result"
    }
   ],
   "source": [
    "duplicates_users_go_sum = users_go.duplicated().sum()\n",
    "duplicates_users_go_sum"
   ]
  },
  {
   "cell_type": "code",
   "execution_count": 15,
   "id": "ab3d7755",
   "metadata": {},
   "outputs": [
    {
     "data": {
      "text/plain": [
       "0"
      ]
     },
     "execution_count": 15,
     "metadata": {},
     "output_type": "execute_result"
    }
   ],
   "source": [
    "duplicates_rides_go_sum = rides_go.duplicated().sum()\n",
    "duplicates_rides_go_sum"
   ]
  },
  {
   "cell_type": "code",
   "execution_count": 16,
   "id": "561cf336",
   "metadata": {},
   "outputs": [
    {
     "data": {
      "text/plain": [
       "0"
      ]
     },
     "execution_count": 16,
     "metadata": {},
     "output_type": "execute_result"
    }
   ],
   "source": [
    "duplicates_subscriptions_go_sum = subscriptions_go.duplicated().sum()\n",
    "duplicates_subscriptions_go_sum"
   ]
  },
  {
   "cell_type": "markdown",
   "id": "da01d93b",
   "metadata": {},
   "source": [
    "Дубликаты были обнаружены только в users_go, удалим их. Также проверим: есть ли неявные дубликаты в users_go."
   ]
  },
  {
   "cell_type": "code",
   "execution_count": 17,
   "id": "b3af7ece",
   "metadata": {},
   "outputs": [],
   "source": [
    "users_go_filtred = users_go.drop_duplicates()"
   ]
  },
  {
   "cell_type": "code",
   "execution_count": 18,
   "id": "06d60e73",
   "metadata": {},
   "outputs": [
    {
     "data": {
      "text/plain": [
       "0"
      ]
     },
     "execution_count": 18,
     "metadata": {},
     "output_type": "execute_result"
    }
   ],
   "source": [
    "duplicates_users_go_sum = users_go_filtred.duplicated().sum()\n",
    "duplicates_users_go_sum "
   ]
  },
  {
   "cell_type": "code",
   "execution_count": 19,
   "id": "01480d4c",
   "metadata": {},
   "outputs": [
    {
     "name": "stdout",
     "output_type": "stream",
     "text": [
      "Неявные дубликаты в users_go: 0\n"
     ]
    }
   ],
   "source": [
    "users_go_filtred_1 = users_go_filtred.copy()\n",
    "users_go_filtred_1 ['name'] = users_go_filtred ['name'].str.strip().str.lower()\n",
    "users_go_filtred_1 ['city'] = users_go_filtred ['city'].str.strip().str.lower()\n",
    "users_go_filtred_1 ['subscription_type'] = users_go_filtred ['subscription_type'].str.strip().str.lower()\n",
    "duplicates_users_1 = users_go_filtred_1.duplicated()\n",
    "print(\"Неявные дубликаты в users_go:\", duplicates_users_1.sum()) "
   ]
  },
  {
   "cell_type": "markdown",
   "id": "212593c7",
   "metadata": {},
   "source": [
    "#### Шаг 3. Исследовательский анализ данных"
   ]
  },
  {
   "cell_type": "markdown",
   "id": "afc88737",
   "metadata": {},
   "source": [
    "**Опишим и визуализируем общую информацию о пользователях и поездках:**"
   ]
  },
  {
   "cell_type": "markdown",
   "id": "65627173",
   "metadata": {},
   "source": [
    "##### Частота встречаемости городов"
   ]
  },
  {
   "cell_type": "code",
   "execution_count": 20,
   "id": "c1df85b8",
   "metadata": {},
   "outputs": [
    {
     "data": {
      "text/plain": [
       "count          1534\n",
       "unique            8\n",
       "top       Пятигорск\n",
       "freq            219\n",
       "Name: city, dtype: object"
      ]
     },
     "execution_count": 20,
     "metadata": {},
     "output_type": "execute_result"
    }
   ],
   "source": [
    "users_go_filtred['city'].describe()"
   ]
  },
  {
   "cell_type": "code",
   "execution_count": 21,
   "id": "a1f6c4ac",
   "metadata": {},
   "outputs": [
    {
     "data": {
      "text/plain": [
       "Пятигорск         219\n",
       "Екатеринбург      204\n",
       "Ростов-на-Дону    198\n",
       "Краснодар         193\n",
       "Сочи              189\n",
       "Омск              183\n",
       "Тюмень            180\n",
       "Москва            168\n",
       "Name: city, dtype: int64"
      ]
     },
     "execution_count": 21,
     "metadata": {},
     "output_type": "execute_result"
    }
   ],
   "source": [
    "city_counts = users_go_filtred['city'].value_counts()\n",
    "city_counts"
   ]
  },
  {
   "cell_type": "code",
   "execution_count": 22,
   "id": "1f9720fd",
   "metadata": {},
   "outputs": [
    {
     "data": {
      "image/png": "[encoded data removed]",
      "text/plain": [
       "<Figure size 720x432 with 1 Axes>"
      ]
     },
     "metadata": {
      "needs_background": "light"
     },
     "output_type": "display_data"
    }
   ],
   "source": [
    "users_go_plot_city = city_counts.plot(title='Частота встречаемости городов', kind='bar', grid=True, figsize=(10, 6))\n",
    "users_go_plot_city.set_xlabel('Город')\n",
    "users_go_plot_city.set_ylabel('Количество')\n",
    "plt.xticks(rotation=45)\n",
    "plt.show()"
   ]
  },
  {
   "cell_type": "markdown",
   "id": "09dc3cfe",
   "metadata": {},
   "source": [
    "**Чаще всего встречается Пятигорс - 219 раз, меньше всего Москва - 168.**"
   ]
  },
  {
   "cell_type": "markdown",
   "id": "0cddc3de",
   "metadata": {},
   "source": [
    "##### Cоотношение пользователей с подпиской и без подписки"
   ]
  },
  {
   "cell_type": "code",
   "execution_count": 23,
   "id": "fffcb3d8",
   "metadata": {},
   "outputs": [
    {
     "name": "stdout",
     "output_type": "stream",
     "text": [
      "Пользователи с подпиской: 699\n",
      "Пользователи без подпиской: 835\n"
     ]
    }
   ],
   "source": [
    "users_go_filtred_ultra = users_go_filtred[users_go_filtred['subscription_type'] == 'ultra']\n",
    "users_go_filtred_free = users_go_filtred[users_go_filtred['subscription_type'] == 'free']\n",
    "\n",
    "print('Пользователи с подпиской:', users_go_filtred_ultra.value_counts().sum())\n",
    "print('Пользователи без подпиской:',users_go_filtred_free.value_counts().sum())"
   ]
  },
  {
   "cell_type": "code",
   "execution_count": 24,
   "id": "8a23ede9",
   "metadata": {},
   "outputs": [
    {
     "data": {
      "image/png": "[encoded data removed]",
      "text/plain": [
       "<Figure size 720x432 with 1 Axes>"
      ]
     },
     "metadata": {},
     "output_type": "display_data"
    }
   ],
   "source": [
    "subscription_counts = [users_go_filtred_ultra['subscription_type'].count(), users_go_filtred_free['subscription_type'].count()]\n",
    "labels = ['С подпиской', 'Без подписки']\n",
    "\n",
    "plt.figure(figsize=(10, 6))\n",
    "plt.pie(subscription_counts, labels=labels, autopct='%1.1f%%', startangle=140,  \n",
    "        wedgeprops={'edgecolor': 'black', 'linewidth': 1.5})\n",
    "plt.title('Соотношение пользователей с подпиской и без подписки')\n",
    "plt.show()"
   ]
  },
  {
   "cell_type": "markdown",
   "id": "e7c64c2a",
   "metadata": {},
   "source": [
    "**Почти 46% людей использует подписку, а остальные нет.**"
   ]
  },
  {
   "cell_type": "markdown",
   "id": "a161499b",
   "metadata": {},
   "source": [
    "##### Возраст пользователей"
   ]
  },
  {
   "cell_type": "code",
   "execution_count": 25,
   "id": "739453c5",
   "metadata": {},
   "outputs": [
    {
     "data": {
      "text/plain": [
       "count    1534.000000\n",
       "mean       24.903520\n",
       "std         4.572367\n",
       "min        12.000000\n",
       "25%        22.000000\n",
       "50%        25.000000\n",
       "75%        28.000000\n",
       "max        43.000000\n",
       "Name: age, dtype: float64"
      ]
     },
     "execution_count": 25,
     "metadata": {},
     "output_type": "execute_result"
    }
   ],
   "source": [
    "users_go_filtred['age'].describe()"
   ]
  },
  {
   "cell_type": "code",
   "execution_count": 26,
   "id": "5fb02723",
   "metadata": {},
   "outputs": [
    {
     "data": {
      "text/plain": [
       "25    145\n",
       "24    132\n",
       "26    131\n",
       "23    129\n",
       "27    119\n",
       "22    119\n",
       "28    112\n",
       "21     93\n",
       "20     71\n",
       "30     68\n",
       "29     68\n",
       "31     48\n",
       "19     47\n",
       "18     46\n",
       "32     41\n",
       "33     39\n",
       "17     26\n",
       "34     19\n",
       "16     19\n",
       "35     15\n",
       "15     13\n",
       "14      9\n",
       "13      8\n",
       "36      6\n",
       "12      4\n",
       "38      3\n",
       "37      2\n",
       "39      1\n",
       "43      1\n",
       "Name: age, dtype: int64"
      ]
     },
     "execution_count": 26,
     "metadata": {},
     "output_type": "execute_result"
    }
   ],
   "source": [
    "users_go_filtred['age'].value_counts()"
   ]
  },
  {
   "cell_type": "code",
   "execution_count": 27,
   "id": "39eb400b",
   "metadata": {},
   "outputs": [
    {
     "data": {
      "image/png": "[encoded data removed]",
      "text/plain": [
       "<Figure size 720x432 with 1 Axes>"
      ]
     },
     "metadata": {
      "needs_background": "light"
     },
     "output_type": "display_data"
    }
   ],
   "source": [
    "users_go_plot_age = users_go_filtred['age'].plot(title='Распределение возраста пользователей', kind='hist', bins=15, grid=True, \n",
    "                                             figsize=(10,6), color='skyblue', edgecolor='black')\n",
    "users_go_plot_age.set_xlabel('Возраст')\n",
    "users_go_plot_age.set_ylabel('Количество')\n",
    "plt.show()"
   ]
  },
  {
   "cell_type": "markdown",
   "id": "5c422665",
   "metadata": {},
   "source": [
    "**Средний возраст пользователей 25 лет. Стандартное отклонение составляет 4.6 лет. График представляет собой нормальное распределение.**"
   ]
  },
  {
   "cell_type": "markdown",
   "id": "537e77c0",
   "metadata": {},
   "source": [
    "##### Расстояние, которое пользователь преодолел за одну поездку"
   ]
  },
  {
   "cell_type": "code",
   "execution_count": 28,
   "id": "86e19700",
   "metadata": {},
   "outputs": [
    {
     "data": {
      "text/plain": [
       "count    18068.000000\n",
       "mean      3070.659976\n",
       "std       1116.831209\n",
       "min          0.855683\n",
       "25%       2543.226360\n",
       "50%       3133.609994\n",
       "75%       3776.222735\n",
       "max       7211.007745\n",
       "Name: distance, dtype: float64"
      ]
     },
     "execution_count": 28,
     "metadata": {},
     "output_type": "execute_result"
    }
   ],
   "source": [
    "rides_go['distance'].describe()"
   ]
  },
  {
   "cell_type": "code",
   "execution_count": 29,
   "id": "a4f7800a",
   "metadata": {},
   "outputs": [
    {
     "data": {
      "image/png": "[encoded data removed]",
      "text/plain": [
       "<Figure size 720x432 with 1 Axes>"
      ]
     },
     "metadata": {
      "needs_background": "light"
     },
     "output_type": "display_data"
    }
   ],
   "source": [
    "rides_go_plot_distance = rides_go['distance'].plot(title='Расстояние, которое пользователь преодолел за одну поездку', kind='hist', \n",
    "                                                   bins=100, grid=True, figsize=(10,6), color='skyblue', edgecolor='black')\n",
    "rides_go_plot_distance.set_xlabel('Расстояние')\n",
    "rides_go_plot_distance.set_ylabel('Количество')\n",
    "plt.show()"
   ]
  },
  {
   "cell_type": "markdown",
   "id": "dc4d938e",
   "metadata": {},
   "source": [
    "**Гистограмма имеет вид колоколообразной формы, напоминающий нормальное распределение. Это указывает на то, что большинство пользователей преодолевают определенное среднее расстояние за поездку, есть симметричное уменьшение количества поездок по мере увеличения или уменьшения расстояния от этого среднего значения. Однако есть пик слева, который указывает на группу коротких поездок, совершающихся значительно чаще, чем можно было бы ожидать в рамках нормального распределения.**"
   ]
  },
  {
   "cell_type": "markdown",
   "id": "e26d6f79",
   "metadata": {},
   "source": [
    "##### Продолжительность поездок"
   ]
  },
  {
   "cell_type": "code",
   "execution_count": 30,
   "id": "9fa1361a",
   "metadata": {},
   "outputs": [
    {
     "data": {
      "text/plain": [
       "count    18068.000000\n",
       "mean        17.805011\n",
       "std          6.091051\n",
       "min          0.500000\n",
       "25%         13.597563\n",
       "50%         17.678395\n",
       "75%         21.724800\n",
       "max         40.823963\n",
       "Name: duration, dtype: float64"
      ]
     },
     "execution_count": 30,
     "metadata": {},
     "output_type": "execute_result"
    }
   ],
   "source": [
    "rides_go['duration'].describe()"
   ]
  },
  {
   "cell_type": "code",
   "execution_count": 31,
   "id": "17e895d9",
   "metadata": {},
   "outputs": [
    {
     "data": {
      "image/png": "[encoded data removed]",
      "text/plain": [
       "<Figure size 720x432 with 1 Axes>"
      ]
     },
     "metadata": {
      "needs_background": "light"
     },
     "output_type": "display_data"
    }
   ],
   "source": [
    "rides_go_plot_duration = rides_go['duration'].plot(title='Время, за которое пользователь совершил одну поездку', kind='hist', \n",
    "                                                   bins=100, grid=True, figsize=(10,6), color='skyblue', edgecolor='black')\n",
    "rides_go_plot_distance.set_xlabel('Время')\n",
    "rides_go_plot_distance.set_ylabel('Количество')\n",
    "plt.show()"
   ]
  },
  {
   "cell_type": "markdown",
   "id": "d1a74e60",
   "metadata": {},
   "source": [
    "**Форма графика соответсвует нормальному распределению, но есть аномально большое количество очень коротких поездок. Убрать их не получится, так как они вполне возможны. Среднее время поездок составляет 17 минут.**"
   ]
  },
  {
   "cell_type": "markdown",
   "id": "4ef51331",
   "metadata": {},
   "source": [
    "#### Шаг 4. Объединение данных"
   ]
  },
  {
   "cell_type": "markdown",
   "id": "52c13823",
   "metadata": {},
   "source": [
    "##### Объединим данные о пользователях, поездках и подписках в один датафрейм"
   ]
  },
  {
   "cell_type": "code",
   "execution_count": 32,
   "id": "0fc938b8",
   "metadata": {},
   "outputs": [
    {
     "data": {
      "text/html": [
       "<div>\n",
       "<style scoped>\n",
       "    .dataframe tbody tr th:only-of-type {\n",
       "        vertical-align: middle;\n",
       "    }\n",
       "\n",
       "    .dataframe tbody tr th {\n",
       "        vertical-align: top;\n",
       "    }\n",
       "\n",
       "    .dataframe thead th {\n",
       "        text-align: right;\n",
       "    }\n",
       "</style>\n",
       "<table border=\"1\" class=\"dataframe\">\n",
       "  <thead>\n",
       "    <tr style=\"text-align: right;\">\n",
       "      <th></th>\n",
       "      <th>user_id</th>\n",
       "      <th>name</th>\n",
       "      <th>age</th>\n",
       "      <th>city</th>\n",
       "      <th>subscription_type</th>\n",
       "      <th>distance</th>\n",
       "      <th>duration</th>\n",
       "      <th>date</th>\n",
       "      <th>month number</th>\n",
       "    </tr>\n",
       "  </thead>\n",
       "  <tbody>\n",
       "    <tr>\n",
       "      <th>0</th>\n",
       "      <td>1</td>\n",
       "      <td>Кира</td>\n",
       "      <td>22</td>\n",
       "      <td>Тюмень</td>\n",
       "      <td>ultra</td>\n",
       "      <td>4409.919140</td>\n",
       "      <td>25.599769</td>\n",
       "      <td>2021-01-01</td>\n",
       "      <td>1</td>\n",
       "    </tr>\n",
       "    <tr>\n",
       "      <th>1</th>\n",
       "      <td>1</td>\n",
       "      <td>Кира</td>\n",
       "      <td>22</td>\n",
       "      <td>Тюмень</td>\n",
       "      <td>ultra</td>\n",
       "      <td>2617.592153</td>\n",
       "      <td>15.816871</td>\n",
       "      <td>2021-01-18</td>\n",
       "      <td>1</td>\n",
       "    </tr>\n",
       "    <tr>\n",
       "      <th>2</th>\n",
       "      <td>1</td>\n",
       "      <td>Кира</td>\n",
       "      <td>22</td>\n",
       "      <td>Тюмень</td>\n",
       "      <td>ultra</td>\n",
       "      <td>754.159807</td>\n",
       "      <td>6.232113</td>\n",
       "      <td>2021-04-20</td>\n",
       "      <td>4</td>\n",
       "    </tr>\n",
       "    <tr>\n",
       "      <th>3</th>\n",
       "      <td>1</td>\n",
       "      <td>Кира</td>\n",
       "      <td>22</td>\n",
       "      <td>Тюмень</td>\n",
       "      <td>ultra</td>\n",
       "      <td>2694.783254</td>\n",
       "      <td>18.511000</td>\n",
       "      <td>2021-08-11</td>\n",
       "      <td>8</td>\n",
       "    </tr>\n",
       "    <tr>\n",
       "      <th>4</th>\n",
       "      <td>1</td>\n",
       "      <td>Кира</td>\n",
       "      <td>22</td>\n",
       "      <td>Тюмень</td>\n",
       "      <td>ultra</td>\n",
       "      <td>4028.687306</td>\n",
       "      <td>26.265803</td>\n",
       "      <td>2021-08-28</td>\n",
       "      <td>8</td>\n",
       "    </tr>\n",
       "  </tbody>\n",
       "</table>\n",
       "</div>"
      ],
      "text/plain": [
       "   user_id  name  age    city subscription_type     distance   duration  \\\n",
       "0        1  Кира   22  Тюмень             ultra  4409.919140  25.599769   \n",
       "1        1  Кира   22  Тюмень             ultra  2617.592153  15.816871   \n",
       "2        1  Кира   22  Тюмень             ultra   754.159807   6.232113   \n",
       "3        1  Кира   22  Тюмень             ultra  2694.783254  18.511000   \n",
       "4        1  Кира   22  Тюмень             ultra  4028.687306  26.265803   \n",
       "\n",
       "        date  month number  \n",
       "0 2021-01-01             1  \n",
       "1 2021-01-18             1  \n",
       "2 2021-04-20             4  \n",
       "3 2021-08-11             8  \n",
       "4 2021-08-28             8  "
      ]
     },
     "execution_count": 32,
     "metadata": {},
     "output_type": "execute_result"
    }
   ],
   "source": [
    "users_and_rides = users_go_filtred.merge(rides_go, on='user_id')\n",
    "users_and_rides.head()"
   ]
  },
  {
   "cell_type": "code",
   "execution_count": 33,
   "id": "8ee8b92d",
   "metadata": {},
   "outputs": [
    {
     "name": "stdout",
     "output_type": "stream",
     "text": [
      "Размерность: (18068, 12)\n"
     ]
    },
    {
     "data": {
      "text/html": [
       "<div>\n",
       "<style scoped>\n",
       "    .dataframe tbody tr th:only-of-type {\n",
       "        vertical-align: middle;\n",
       "    }\n",
       "\n",
       "    .dataframe tbody tr th {\n",
       "        vertical-align: top;\n",
       "    }\n",
       "\n",
       "    .dataframe thead th {\n",
       "        text-align: right;\n",
       "    }\n",
       "</style>\n",
       "<table border=\"1\" class=\"dataframe\">\n",
       "  <thead>\n",
       "    <tr style=\"text-align: right;\">\n",
       "      <th></th>\n",
       "      <th>user_id</th>\n",
       "      <th>name</th>\n",
       "      <th>age</th>\n",
       "      <th>city</th>\n",
       "      <th>subscription_type</th>\n",
       "      <th>distance</th>\n",
       "      <th>duration</th>\n",
       "      <th>date</th>\n",
       "      <th>month number</th>\n",
       "      <th>minute_price</th>\n",
       "      <th>start_ride_price</th>\n",
       "      <th>subscription_fee</th>\n",
       "    </tr>\n",
       "  </thead>\n",
       "  <tbody>\n",
       "    <tr>\n",
       "      <th>0</th>\n",
       "      <td>1</td>\n",
       "      <td>Кира</td>\n",
       "      <td>22</td>\n",
       "      <td>Тюмень</td>\n",
       "      <td>ultra</td>\n",
       "      <td>4409.919140</td>\n",
       "      <td>25.599769</td>\n",
       "      <td>2021-01-01</td>\n",
       "      <td>1</td>\n",
       "      <td>6</td>\n",
       "      <td>0</td>\n",
       "      <td>199</td>\n",
       "    </tr>\n",
       "    <tr>\n",
       "      <th>1</th>\n",
       "      <td>1</td>\n",
       "      <td>Кира</td>\n",
       "      <td>22</td>\n",
       "      <td>Тюмень</td>\n",
       "      <td>ultra</td>\n",
       "      <td>2617.592153</td>\n",
       "      <td>15.816871</td>\n",
       "      <td>2021-01-18</td>\n",
       "      <td>1</td>\n",
       "      <td>6</td>\n",
       "      <td>0</td>\n",
       "      <td>199</td>\n",
       "    </tr>\n",
       "    <tr>\n",
       "      <th>2</th>\n",
       "      <td>1</td>\n",
       "      <td>Кира</td>\n",
       "      <td>22</td>\n",
       "      <td>Тюмень</td>\n",
       "      <td>ultra</td>\n",
       "      <td>754.159807</td>\n",
       "      <td>6.232113</td>\n",
       "      <td>2021-04-20</td>\n",
       "      <td>4</td>\n",
       "      <td>6</td>\n",
       "      <td>0</td>\n",
       "      <td>199</td>\n",
       "    </tr>\n",
       "    <tr>\n",
       "      <th>3</th>\n",
       "      <td>1</td>\n",
       "      <td>Кира</td>\n",
       "      <td>22</td>\n",
       "      <td>Тюмень</td>\n",
       "      <td>ultra</td>\n",
       "      <td>2694.783254</td>\n",
       "      <td>18.511000</td>\n",
       "      <td>2021-08-11</td>\n",
       "      <td>8</td>\n",
       "      <td>6</td>\n",
       "      <td>0</td>\n",
       "      <td>199</td>\n",
       "    </tr>\n",
       "    <tr>\n",
       "      <th>4</th>\n",
       "      <td>1</td>\n",
       "      <td>Кира</td>\n",
       "      <td>22</td>\n",
       "      <td>Тюмень</td>\n",
       "      <td>ultra</td>\n",
       "      <td>4028.687306</td>\n",
       "      <td>26.265803</td>\n",
       "      <td>2021-08-28</td>\n",
       "      <td>8</td>\n",
       "      <td>6</td>\n",
       "      <td>0</td>\n",
       "      <td>199</td>\n",
       "    </tr>\n",
       "    <tr>\n",
       "      <th>5</th>\n",
       "      <td>1</td>\n",
       "      <td>Кира</td>\n",
       "      <td>22</td>\n",
       "      <td>Тюмень</td>\n",
       "      <td>ultra</td>\n",
       "      <td>2770.890808</td>\n",
       "      <td>16.650138</td>\n",
       "      <td>2021-10-09</td>\n",
       "      <td>10</td>\n",
       "      <td>6</td>\n",
       "      <td>0</td>\n",
       "      <td>199</td>\n",
       "    </tr>\n",
       "    <tr>\n",
       "      <th>6</th>\n",
       "      <td>1</td>\n",
       "      <td>Кира</td>\n",
       "      <td>22</td>\n",
       "      <td>Тюмень</td>\n",
       "      <td>ultra</td>\n",
       "      <td>3039.020292</td>\n",
       "      <td>14.927879</td>\n",
       "      <td>2021-10-19</td>\n",
       "      <td>10</td>\n",
       "      <td>6</td>\n",
       "      <td>0</td>\n",
       "      <td>199</td>\n",
       "    </tr>\n",
       "    <tr>\n",
       "      <th>7</th>\n",
       "      <td>1</td>\n",
       "      <td>Кира</td>\n",
       "      <td>22</td>\n",
       "      <td>Тюмень</td>\n",
       "      <td>ultra</td>\n",
       "      <td>2842.118050</td>\n",
       "      <td>23.117468</td>\n",
       "      <td>2021-11-06</td>\n",
       "      <td>11</td>\n",
       "      <td>6</td>\n",
       "      <td>0</td>\n",
       "      <td>199</td>\n",
       "    </tr>\n",
       "    <tr>\n",
       "      <th>8</th>\n",
       "      <td>1</td>\n",
       "      <td>Кира</td>\n",
       "      <td>22</td>\n",
       "      <td>Тюмень</td>\n",
       "      <td>ultra</td>\n",
       "      <td>3412.690668</td>\n",
       "      <td>15.238072</td>\n",
       "      <td>2021-11-14</td>\n",
       "      <td>11</td>\n",
       "      <td>6</td>\n",
       "      <td>0</td>\n",
       "      <td>199</td>\n",
       "    </tr>\n",
       "    <tr>\n",
       "      <th>9</th>\n",
       "      <td>1</td>\n",
       "      <td>Кира</td>\n",
       "      <td>22</td>\n",
       "      <td>Тюмень</td>\n",
       "      <td>ultra</td>\n",
       "      <td>748.690645</td>\n",
       "      <td>15.041884</td>\n",
       "      <td>2021-11-22</td>\n",
       "      <td>11</td>\n",
       "      <td>6</td>\n",
       "      <td>0</td>\n",
       "      <td>199</td>\n",
       "    </tr>\n",
       "    <tr>\n",
       "      <th>10</th>\n",
       "      <td>1</td>\n",
       "      <td>Кира</td>\n",
       "      <td>22</td>\n",
       "      <td>Тюмень</td>\n",
       "      <td>ultra</td>\n",
       "      <td>4031.020195</td>\n",
       "      <td>17.674448</td>\n",
       "      <td>2021-12-14</td>\n",
       "      <td>12</td>\n",
       "      <td>6</td>\n",
       "      <td>0</td>\n",
       "      <td>199</td>\n",
       "    </tr>\n",
       "    <tr>\n",
       "      <th>11</th>\n",
       "      <td>1</td>\n",
       "      <td>Кира</td>\n",
       "      <td>22</td>\n",
       "      <td>Тюмень</td>\n",
       "      <td>ultra</td>\n",
       "      <td>2720.609748</td>\n",
       "      <td>9.529463</td>\n",
       "      <td>2021-12-22</td>\n",
       "      <td>12</td>\n",
       "      <td>6</td>\n",
       "      <td>0</td>\n",
       "      <td>199</td>\n",
       "    </tr>\n",
       "    <tr>\n",
       "      <th>12</th>\n",
       "      <td>2</td>\n",
       "      <td>Станислав</td>\n",
       "      <td>31</td>\n",
       "      <td>Омск</td>\n",
       "      <td>ultra</td>\n",
       "      <td>3105.086678</td>\n",
       "      <td>24.307514</td>\n",
       "      <td>2021-03-15</td>\n",
       "      <td>3</td>\n",
       "      <td>6</td>\n",
       "      <td>0</td>\n",
       "      <td>199</td>\n",
       "    </tr>\n",
       "    <tr>\n",
       "      <th>13</th>\n",
       "      <td>2</td>\n",
       "      <td>Станислав</td>\n",
       "      <td>31</td>\n",
       "      <td>Омск</td>\n",
       "      <td>ultra</td>\n",
       "      <td>3053.519401</td>\n",
       "      <td>11.543256</td>\n",
       "      <td>2021-03-18</td>\n",
       "      <td>3</td>\n",
       "      <td>6</td>\n",
       "      <td>0</td>\n",
       "      <td>199</td>\n",
       "    </tr>\n",
       "    <tr>\n",
       "      <th>14</th>\n",
       "      <td>2</td>\n",
       "      <td>Станислав</td>\n",
       "      <td>31</td>\n",
       "      <td>Омск</td>\n",
       "      <td>ultra</td>\n",
       "      <td>4029.116927</td>\n",
       "      <td>25.109188</td>\n",
       "      <td>2021-03-23</td>\n",
       "      <td>3</td>\n",
       "      <td>6</td>\n",
       "      <td>0</td>\n",
       "      <td>199</td>\n",
       "    </tr>\n",
       "    <tr>\n",
       "      <th>15</th>\n",
       "      <td>2</td>\n",
       "      <td>Станислав</td>\n",
       "      <td>31</td>\n",
       "      <td>Омск</td>\n",
       "      <td>ultra</td>\n",
       "      <td>2805.786329</td>\n",
       "      <td>20.652145</td>\n",
       "      <td>2021-04-08</td>\n",
       "      <td>4</td>\n",
       "      <td>6</td>\n",
       "      <td>0</td>\n",
       "      <td>199</td>\n",
       "    </tr>\n",
       "    <tr>\n",
       "      <th>16</th>\n",
       "      <td>2</td>\n",
       "      <td>Станислав</td>\n",
       "      <td>31</td>\n",
       "      <td>Омск</td>\n",
       "      <td>ultra</td>\n",
       "      <td>3358.595495</td>\n",
       "      <td>18.396489</td>\n",
       "      <td>2021-04-13</td>\n",
       "      <td>4</td>\n",
       "      <td>6</td>\n",
       "      <td>0</td>\n",
       "      <td>199</td>\n",
       "    </tr>\n",
       "    <tr>\n",
       "      <th>17</th>\n",
       "      <td>2</td>\n",
       "      <td>Станислав</td>\n",
       "      <td>31</td>\n",
       "      <td>Омск</td>\n",
       "      <td>ultra</td>\n",
       "      <td>3255.338202</td>\n",
       "      <td>13.851127</td>\n",
       "      <td>2021-06-20</td>\n",
       "      <td>6</td>\n",
       "      <td>6</td>\n",
       "      <td>0</td>\n",
       "      <td>199</td>\n",
       "    </tr>\n",
       "    <tr>\n",
       "      <th>18</th>\n",
       "      <td>2</td>\n",
       "      <td>Станислав</td>\n",
       "      <td>31</td>\n",
       "      <td>Омск</td>\n",
       "      <td>ultra</td>\n",
       "      <td>3942.817648</td>\n",
       "      <td>20.142725</td>\n",
       "      <td>2021-07-02</td>\n",
       "      <td>7</td>\n",
       "      <td>6</td>\n",
       "      <td>0</td>\n",
       "      <td>199</td>\n",
       "    </tr>\n",
       "    <tr>\n",
       "      <th>19</th>\n",
       "      <td>2</td>\n",
       "      <td>Станислав</td>\n",
       "      <td>31</td>\n",
       "      <td>Омск</td>\n",
       "      <td>ultra</td>\n",
       "      <td>2837.905316</td>\n",
       "      <td>26.027432</td>\n",
       "      <td>2021-07-18</td>\n",
       "      <td>7</td>\n",
       "      <td>6</td>\n",
       "      <td>0</td>\n",
       "      <td>199</td>\n",
       "    </tr>\n",
       "  </tbody>\n",
       "</table>\n",
       "</div>"
      ],
      "text/plain": [
       "    user_id       name  age    city subscription_type     distance   duration  \\\n",
       "0         1       Кира   22  Тюмень             ultra  4409.919140  25.599769   \n",
       "1         1       Кира   22  Тюмень             ultra  2617.592153  15.816871   \n",
       "2         1       Кира   22  Тюмень             ultra   754.159807   6.232113   \n",
       "3         1       Кира   22  Тюмень             ultra  2694.783254  18.511000   \n",
       "4         1       Кира   22  Тюмень             ultra  4028.687306  26.265803   \n",
       "5         1       Кира   22  Тюмень             ultra  2770.890808  16.650138   \n",
       "6         1       Кира   22  Тюмень             ultra  3039.020292  14.927879   \n",
       "7         1       Кира   22  Тюмень             ultra  2842.118050  23.117468   \n",
       "8         1       Кира   22  Тюмень             ultra  3412.690668  15.238072   \n",
       "9         1       Кира   22  Тюмень             ultra   748.690645  15.041884   \n",
       "10        1       Кира   22  Тюмень             ultra  4031.020195  17.674448   \n",
       "11        1       Кира   22  Тюмень             ultra  2720.609748   9.529463   \n",
       "12        2  Станислав   31    Омск             ultra  3105.086678  24.307514   \n",
       "13        2  Станислав   31    Омск             ultra  3053.519401  11.543256   \n",
       "14        2  Станислав   31    Омск             ultra  4029.116927  25.109188   \n",
       "15        2  Станислав   31    Омск             ultra  2805.786329  20.652145   \n",
       "16        2  Станислав   31    Омск             ultra  3358.595495  18.396489   \n",
       "17        2  Станислав   31    Омск             ultra  3255.338202  13.851127   \n",
       "18        2  Станислав   31    Омск             ultra  3942.817648  20.142725   \n",
       "19        2  Станислав   31    Омск             ultra  2837.905316  26.027432   \n",
       "\n",
       "         date  month number  minute_price  start_ride_price  subscription_fee  \n",
       "0  2021-01-01             1             6                 0               199  \n",
       "1  2021-01-18             1             6                 0               199  \n",
       "2  2021-04-20             4             6                 0               199  \n",
       "3  2021-08-11             8             6                 0               199  \n",
       "4  2021-08-28             8             6                 0               199  \n",
       "5  2021-10-09            10             6                 0               199  \n",
       "6  2021-10-19            10             6                 0               199  \n",
       "7  2021-11-06            11             6                 0               199  \n",
       "8  2021-11-14            11             6                 0               199  \n",
       "9  2021-11-22            11             6                 0               199  \n",
       "10 2021-12-14            12             6                 0               199  \n",
       "11 2021-12-22            12             6                 0               199  \n",
       "12 2021-03-15             3             6                 0               199  \n",
       "13 2021-03-18             3             6                 0               199  \n",
       "14 2021-03-23             3             6                 0               199  \n",
       "15 2021-04-08             4             6                 0               199  \n",
       "16 2021-04-13             4             6                 0               199  \n",
       "17 2021-06-20             6             6                 0               199  \n",
       "18 2021-07-02             7             6                 0               199  \n",
       "19 2021-07-18             7             6                 0               199  "
      ]
     },
     "execution_count": 33,
     "metadata": {},
     "output_type": "execute_result"
    }
   ],
   "source": [
    "users_rides_subscriptions_go = users_and_rides.merge(subscriptions_go, on='subscription_type')\n",
    "print(\"Размерность:\", users_rides_subscriptions_go.shape)\n",
    "users_rides_subscriptions_go.head(20)"
   ]
  },
  {
   "cell_type": "markdown",
   "id": "8f6c9d97",
   "metadata": {},
   "source": [
    "##### Создадим  два датафрейма c данными о пользователях без подписки и с данными о пользователях с подпиской"
   ]
  },
  {
   "cell_type": "code",
   "execution_count": 34,
   "id": "60010b4b",
   "metadata": {},
   "outputs": [
    {
     "name": "stdout",
     "output_type": "stream",
     "text": [
      "Размерность: (11568, 12)\n"
     ]
    },
    {
     "data": {
      "text/html": [
       "<div>\n",
       "<style scoped>\n",
       "    .dataframe tbody tr th:only-of-type {\n",
       "        vertical-align: middle;\n",
       "    }\n",
       "\n",
       "    .dataframe tbody tr th {\n",
       "        vertical-align: top;\n",
       "    }\n",
       "\n",
       "    .dataframe thead th {\n",
       "        text-align: right;\n",
       "    }\n",
       "</style>\n",
       "<table border=\"1\" class=\"dataframe\">\n",
       "  <thead>\n",
       "    <tr style=\"text-align: right;\">\n",
       "      <th></th>\n",
       "      <th>user_id</th>\n",
       "      <th>name</th>\n",
       "      <th>age</th>\n",
       "      <th>city</th>\n",
       "      <th>subscription_type</th>\n",
       "      <th>distance</th>\n",
       "      <th>duration</th>\n",
       "      <th>date</th>\n",
       "      <th>month number</th>\n",
       "      <th>minute_price</th>\n",
       "      <th>start_ride_price</th>\n",
       "      <th>subscription_fee</th>\n",
       "    </tr>\n",
       "  </thead>\n",
       "  <tbody>\n",
       "    <tr>\n",
       "      <th>6500</th>\n",
       "      <td>700</td>\n",
       "      <td>Айдар</td>\n",
       "      <td>22</td>\n",
       "      <td>Омск</td>\n",
       "      <td>free</td>\n",
       "      <td>2515.690719</td>\n",
       "      <td>14.944286</td>\n",
       "      <td>2021-01-02</td>\n",
       "      <td>1</td>\n",
       "      <td>8</td>\n",
       "      <td>50</td>\n",
       "      <td>0</td>\n",
       "    </tr>\n",
       "    <tr>\n",
       "      <th>6501</th>\n",
       "      <td>700</td>\n",
       "      <td>Айдар</td>\n",
       "      <td>22</td>\n",
       "      <td>Омск</td>\n",
       "      <td>free</td>\n",
       "      <td>846.932642</td>\n",
       "      <td>16.234663</td>\n",
       "      <td>2021-02-01</td>\n",
       "      <td>2</td>\n",
       "      <td>8</td>\n",
       "      <td>50</td>\n",
       "      <td>0</td>\n",
       "    </tr>\n",
       "    <tr>\n",
       "      <th>6502</th>\n",
       "      <td>700</td>\n",
       "      <td>Айдар</td>\n",
       "      <td>22</td>\n",
       "      <td>Омск</td>\n",
       "      <td>free</td>\n",
       "      <td>4004.434142</td>\n",
       "      <td>20.016628</td>\n",
       "      <td>2021-02-04</td>\n",
       "      <td>2</td>\n",
       "      <td>8</td>\n",
       "      <td>50</td>\n",
       "      <td>0</td>\n",
       "    </tr>\n",
       "    <tr>\n",
       "      <th>6503</th>\n",
       "      <td>700</td>\n",
       "      <td>Айдар</td>\n",
       "      <td>22</td>\n",
       "      <td>Омск</td>\n",
       "      <td>free</td>\n",
       "      <td>1205.911290</td>\n",
       "      <td>9.782872</td>\n",
       "      <td>2021-02-10</td>\n",
       "      <td>2</td>\n",
       "      <td>8</td>\n",
       "      <td>50</td>\n",
       "      <td>0</td>\n",
       "    </tr>\n",
       "    <tr>\n",
       "      <th>6504</th>\n",
       "      <td>700</td>\n",
       "      <td>Айдар</td>\n",
       "      <td>22</td>\n",
       "      <td>Омск</td>\n",
       "      <td>free</td>\n",
       "      <td>3047.379435</td>\n",
       "      <td>17.427673</td>\n",
       "      <td>2021-02-14</td>\n",
       "      <td>2</td>\n",
       "      <td>8</td>\n",
       "      <td>50</td>\n",
       "      <td>0</td>\n",
       "    </tr>\n",
       "  </tbody>\n",
       "</table>\n",
       "</div>"
      ],
      "text/plain": [
       "      user_id   name  age  city subscription_type     distance   duration  \\\n",
       "6500      700  Айдар   22  Омск              free  2515.690719  14.944286   \n",
       "6501      700  Айдар   22  Омск              free   846.932642  16.234663   \n",
       "6502      700  Айдар   22  Омск              free  4004.434142  20.016628   \n",
       "6503      700  Айдар   22  Омск              free  1205.911290   9.782872   \n",
       "6504      700  Айдар   22  Омск              free  3047.379435  17.427673   \n",
       "\n",
       "           date  month number  minute_price  start_ride_price  \\\n",
       "6500 2021-01-02             1             8                50   \n",
       "6501 2021-02-01             2             8                50   \n",
       "6502 2021-02-04             2             8                50   \n",
       "6503 2021-02-10             2             8                50   \n",
       "6504 2021-02-14             2             8                50   \n",
       "\n",
       "      subscription_fee  \n",
       "6500                 0  \n",
       "6501                 0  \n",
       "6502                 0  \n",
       "6503                 0  \n",
       "6504                 0  "
      ]
     },
     "execution_count": 34,
     "metadata": {},
     "output_type": "execute_result"
    }
   ],
   "source": [
    "subscriptions_free = users_rides_subscriptions_go[users_rides_subscriptions_go['subscription_type'] == 'free']\n",
    "print(\"Размерность:\", subscriptions_free.shape)\n",
    "subscriptions_free.head()"
   ]
  },
  {
   "cell_type": "code",
   "execution_count": 35,
   "id": "b44948c8",
   "metadata": {},
   "outputs": [
    {
     "name": "stdout",
     "output_type": "stream",
     "text": [
      "Размерность: (6500, 12)\n"
     ]
    },
    {
     "data": {
      "text/html": [
       "<div>\n",
       "<style scoped>\n",
       "    .dataframe tbody tr th:only-of-type {\n",
       "        vertical-align: middle;\n",
       "    }\n",
       "\n",
       "    .dataframe tbody tr th {\n",
       "        vertical-align: top;\n",
       "    }\n",
       "\n",
       "    .dataframe thead th {\n",
       "        text-align: right;\n",
       "    }\n",
       "</style>\n",
       "<table border=\"1\" class=\"dataframe\">\n",
       "  <thead>\n",
       "    <tr style=\"text-align: right;\">\n",
       "      <th></th>\n",
       "      <th>user_id</th>\n",
       "      <th>name</th>\n",
       "      <th>age</th>\n",
       "      <th>city</th>\n",
       "      <th>subscription_type</th>\n",
       "      <th>distance</th>\n",
       "      <th>duration</th>\n",
       "      <th>date</th>\n",
       "      <th>month number</th>\n",
       "      <th>minute_price</th>\n",
       "      <th>start_ride_price</th>\n",
       "      <th>subscription_fee</th>\n",
       "    </tr>\n",
       "  </thead>\n",
       "  <tbody>\n",
       "    <tr>\n",
       "      <th>0</th>\n",
       "      <td>1</td>\n",
       "      <td>Кира</td>\n",
       "      <td>22</td>\n",
       "      <td>Тюмень</td>\n",
       "      <td>ultra</td>\n",
       "      <td>4409.919140</td>\n",
       "      <td>25.599769</td>\n",
       "      <td>2021-01-01</td>\n",
       "      <td>1</td>\n",
       "      <td>6</td>\n",
       "      <td>0</td>\n",
       "      <td>199</td>\n",
       "    </tr>\n",
       "    <tr>\n",
       "      <th>1</th>\n",
       "      <td>1</td>\n",
       "      <td>Кира</td>\n",
       "      <td>22</td>\n",
       "      <td>Тюмень</td>\n",
       "      <td>ultra</td>\n",
       "      <td>2617.592153</td>\n",
       "      <td>15.816871</td>\n",
       "      <td>2021-01-18</td>\n",
       "      <td>1</td>\n",
       "      <td>6</td>\n",
       "      <td>0</td>\n",
       "      <td>199</td>\n",
       "    </tr>\n",
       "    <tr>\n",
       "      <th>2</th>\n",
       "      <td>1</td>\n",
       "      <td>Кира</td>\n",
       "      <td>22</td>\n",
       "      <td>Тюмень</td>\n",
       "      <td>ultra</td>\n",
       "      <td>754.159807</td>\n",
       "      <td>6.232113</td>\n",
       "      <td>2021-04-20</td>\n",
       "      <td>4</td>\n",
       "      <td>6</td>\n",
       "      <td>0</td>\n",
       "      <td>199</td>\n",
       "    </tr>\n",
       "    <tr>\n",
       "      <th>3</th>\n",
       "      <td>1</td>\n",
       "      <td>Кира</td>\n",
       "      <td>22</td>\n",
       "      <td>Тюмень</td>\n",
       "      <td>ultra</td>\n",
       "      <td>2694.783254</td>\n",
       "      <td>18.511000</td>\n",
       "      <td>2021-08-11</td>\n",
       "      <td>8</td>\n",
       "      <td>6</td>\n",
       "      <td>0</td>\n",
       "      <td>199</td>\n",
       "    </tr>\n",
       "    <tr>\n",
       "      <th>4</th>\n",
       "      <td>1</td>\n",
       "      <td>Кира</td>\n",
       "      <td>22</td>\n",
       "      <td>Тюмень</td>\n",
       "      <td>ultra</td>\n",
       "      <td>4028.687306</td>\n",
       "      <td>26.265803</td>\n",
       "      <td>2021-08-28</td>\n",
       "      <td>8</td>\n",
       "      <td>6</td>\n",
       "      <td>0</td>\n",
       "      <td>199</td>\n",
       "    </tr>\n",
       "  </tbody>\n",
       "</table>\n",
       "</div>"
      ],
      "text/plain": [
       "   user_id  name  age    city subscription_type     distance   duration  \\\n",
       "0        1  Кира   22  Тюмень             ultra  4409.919140  25.599769   \n",
       "1        1  Кира   22  Тюмень             ultra  2617.592153  15.816871   \n",
       "2        1  Кира   22  Тюмень             ultra   754.159807   6.232113   \n",
       "3        1  Кира   22  Тюмень             ultra  2694.783254  18.511000   \n",
       "4        1  Кира   22  Тюмень             ultra  4028.687306  26.265803   \n",
       "\n",
       "        date  month number  minute_price  start_ride_price  subscription_fee  \n",
       "0 2021-01-01             1             6                 0               199  \n",
       "1 2021-01-18             1             6                 0               199  \n",
       "2 2021-04-20             4             6                 0               199  \n",
       "3 2021-08-11             8             6                 0               199  \n",
       "4 2021-08-28             8             6                 0               199  "
      ]
     },
     "execution_count": 35,
     "metadata": {},
     "output_type": "execute_result"
    }
   ],
   "source": [
    "subscriptions_ultra = users_rides_subscriptions_go[users_rides_subscriptions_go['subscription_type'] == 'ultra']\n",
    "print(\"Размерность:\", subscriptions_ultra.shape)\n",
    "subscriptions_ultra.head()"
   ]
  },
  {
   "cell_type": "markdown",
   "id": "a09225bc",
   "metadata": {},
   "source": [
    "##### Визуализируем информацию о расстоянии и времени поездок для пользователей обеих категорий"
   ]
  },
  {
   "cell_type": "code",
   "execution_count": 36,
   "id": "514b822a",
   "metadata": {},
   "outputs": [
    {
     "data": {
      "text/plain": [
       "count    11568.000000\n",
       "mean      3045.495282\n",
       "std       1246.173806\n",
       "min          0.855683\n",
       "25%       2366.562689\n",
       "50%       3114.648465\n",
       "75%       3905.697894\n",
       "max       7211.007745\n",
       "Name: distance, dtype: float64"
      ]
     },
     "execution_count": 36,
     "metadata": {},
     "output_type": "execute_result"
    }
   ],
   "source": [
    "subscriptions_free['distance'].describe()"
   ]
  },
  {
   "cell_type": "code",
   "execution_count": 37,
   "id": "90d3f187",
   "metadata": {},
   "outputs": [
    {
     "data": {
      "text/plain": [
       "count    6500.000000\n",
       "mean     3115.445388\n",
       "std       836.895330\n",
       "min       244.210438\n",
       "25%      2785.444017\n",
       "50%      3148.637229\n",
       "75%      3560.574425\n",
       "max      5699.769662\n",
       "Name: distance, dtype: float64"
      ]
     },
     "execution_count": 37,
     "metadata": {},
     "output_type": "execute_result"
    }
   ],
   "source": [
    "subscriptions_ultra['distance'].describe()"
   ]
  },
  {
   "cell_type": "code",
   "execution_count": 38,
   "id": "1051a736",
   "metadata": {},
   "outputs": [
    {
     "data": {
      "image/png": "[encoded data removed]",
      "text/plain": [
       "<Figure size 1152x432 with 2 Axes>"
      ]
     },
     "metadata": {
      "needs_background": "light"
     },
     "output_type": "display_data"
    }
   ],
   "source": [
    "fig, axes = plt.subplots(nrows=1, ncols=2, figsize=(16, 6)) \n",
    "\n",
    "subscriptions_free_plot = subscriptions_free['distance'].plot(\n",
    "    title='Расстояние, которое пользователь (без подписки) преодолел за одну поездку',\n",
    "    kind='hist', \n",
    "    bins=100, \n",
    "    grid=True, \n",
    "    ax=axes[0], \n",
    "    color='skyblue', \n",
    "    edgecolor='black'\n",
    ")\n",
    "axes[0].set_xlabel('Расстояние')\n",
    "axes[0].set_ylabel('Количество')\n",
    "\n",
    "subscriptions_ultra_plot = subscriptions_ultra['distance'].plot(\n",
    "    title='Расстояние, которое пользователь (с подпиской) преодолел за одну поездку',\n",
    "    kind='hist', \n",
    "    bins=100, \n",
    "    grid=True, \n",
    "    ax=axes[1],  \n",
    "    color='skyblue', \n",
    "    edgecolor='black'\n",
    ")\n",
    "axes[1].set_xlabel('Расстояние')\n",
    "axes[1].set_ylabel('Количество')\n",
    "\n",
    "plt.tight_layout()\n",
    "plt.show()"
   ]
  },
  {
   "cell_type": "markdown",
   "id": "e7af26bc",
   "metadata": {},
   "source": [
    "****"
   ]
  },
  {
   "cell_type": "markdown",
   "id": "0915f942",
   "metadata": {},
   "source": [
    "**Для пользователей без подписки распределение расстояний более равномерное и имеет широкий диапазон. Видна высокая частота коротких поездок (в диапазоне до 1000 метров), что, возможно, указывает на пользователей, которые используют сервис для краткосрочных перемещений. После пика около 3000 метров частота постепенно уменьшается, но диапазон поездок довольно большой, вплоть до 7000 метров.**\n",
    "\n",
    "**Для пользователей с подпиской пик в распределении также находится около 3000 метров, но график более \"симметричен\" и центрирован. У подписчиков меньше поездок на экстремально короткие и длинные расстояния, чем у пользователей без подписки.**\n",
    "\n",
    "**Таким образом, можно сделать вывод, что пользователи без подписки чаще совершают короткие и очень длинные поездки, что может говорить о том, что они используют сервис нерегулярно или для краткосрочных нужд. Подписчики же, наоборот, более склонны к поездкам на средние дистанции, оптимизируя использование подписки.**"
   ]
  },
  {
   "cell_type": "code",
   "execution_count": 39,
   "id": "516ca442",
   "metadata": {},
   "outputs": [
    {
     "data": {
      "text/plain": [
       "count    11568.000000\n",
       "mean        17.390909\n",
       "std          6.326803\n",
       "min          0.500000\n",
       "25%         12.958437\n",
       "50%         17.326890\n",
       "75%         21.594071\n",
       "max         34.948498\n",
       "Name: duration, dtype: float64"
      ]
     },
     "execution_count": 39,
     "metadata": {},
     "output_type": "execute_result"
    }
   ],
   "source": [
    "subscriptions_free['duration'].describe()"
   ]
  },
  {
   "cell_type": "code",
   "execution_count": 40,
   "id": "6294525e",
   "metadata": {},
   "outputs": [
    {
     "data": {
      "text/plain": [
       "count    6500.000000\n",
       "mean       18.541985\n",
       "std         5.572048\n",
       "min         3.760353\n",
       "25%        14.524654\n",
       "50%        18.178153\n",
       "75%        21.884129\n",
       "max        40.823963\n",
       "Name: duration, dtype: float64"
      ]
     },
     "execution_count": 40,
     "metadata": {},
     "output_type": "execute_result"
    }
   ],
   "source": [
    "subscriptions_ultra['duration'].describe()"
   ]
  },
  {
   "cell_type": "code",
   "execution_count": 41,
   "id": "6ae06343",
   "metadata": {},
   "outputs": [
    {
     "data": {
      "image/png": "[encoded data removed]",
      "text/plain": [
       "<Figure size 1152x432 with 2 Axes>"
      ]
     },
     "metadata": {
      "needs_background": "light"
     },
     "output_type": "display_data"
    }
   ],
   "source": [
    "fig, axes = plt.subplots(nrows=1, ncols=2, figsize=(16, 6)) \n",
    "\n",
    "subscriptions_free_plot = subscriptions_free['duration'].plot(\n",
    "    title='Время, которое пользователь (без подписки) потратил на одну поездку',\n",
    "    kind='hist', \n",
    "    bins=100, \n",
    "    grid=True, \n",
    "    ax=axes[0], \n",
    "    color='skyblue', \n",
    "    edgecolor='black'\n",
    ")\n",
    "axes[0].set_xlabel('Время')\n",
    "axes[0].set_ylabel('Количество')\n",
    "\n",
    "subscriptions_ultra_plot = subscriptions_ultra['duration'].plot(\n",
    "    title='Время, которое пользователь (с подпиской) потратил на одну поездку',\n",
    "    kind='hist', \n",
    "    bins=100, \n",
    "    grid=True, \n",
    "    ax=axes[1],  \n",
    "    color='skyblue', \n",
    "    edgecolor='black'\n",
    ")\n",
    "axes[1].set_xlabel('Время')\n",
    "axes[1].set_ylabel('Количество')\n",
    "\n",
    "plt.tight_layout()\n",
    "plt.show()"
   ]
  },
  {
   "cell_type": "markdown",
   "id": "9d6add42",
   "metadata": {},
   "source": [
    "**Время, затраченное на одну поездку, имеет широкое распределение с пиком примерно около 17 минут для пользователей без подписки.Есть  значительный выброс на малых значениях времени (около 1 минуты), что может говорить о коротких пробных поездках или небольших перемещениях.**\n",
    "\n",
    "**У подписчиков  пик распределения около 18 минут, но распределение чуть уже и более симметрично. Нет выбросов на короткие поездки. Это может указывать на то, что пользователи с подпиской более последовательно используют сервис для поездок средней длительности.**"
   ]
  },
  {
   "cell_type": "code",
   "execution_count": 42,
   "id": "c91d9432",
   "metadata": {},
   "outputs": [
    {
     "data": {
      "image/png": "[encoded data removed]",
      "text/plain": [
       "<Figure size 720x432 with 1 Axes>"
      ]
     },
     "metadata": {
      "needs_background": "light"
     },
     "output_type": "display_data"
    }
   ],
   "source": [
    "fig, ax = plt.subplots(figsize=(10, 6))\n",
    "\n",
    "subscriptions_free_plot = subscriptions_free['duration'].plot(\n",
    "    kind='hist', \n",
    "    bins=100, \n",
    "    alpha=0.5,\n",
    "    grid=True, \n",
    "    ax=ax, \n",
    "    color='red', \n",
    "    edgecolor='black',\n",
    "    label='Без подписки'\n",
    ")\n",
    "\n",
    "subscriptions_ultra_plot = subscriptions_ultra['duration'].plot(\n",
    "    kind='hist', \n",
    "    bins=100,\n",
    "    alpha=0.5,\n",
    "    grid=True, \n",
    "    ax=ax,  \n",
    "    color='green', \n",
    "    edgecolor='black',\n",
    "    label='С подпиской'\n",
    ")\n",
    "\n",
    "ax.set_title('Время, которое пользователи потратили на одну поездку (с подпиской и без)')\n",
    "ax.set_xlabel('Время')\n",
    "ax.set_ylabel('Количество')\n",
    "ax.legend()\n",
    "\n",
    "plt.tight_layout()\n",
    "plt.show()"
   ]
  },
  {
   "cell_type": "markdown",
   "id": "558ac320",
   "metadata": {},
   "source": [
    "<div class=\"alert alert-info\">\n",
    "<b>Комментарий студента:</b>\n",
    "<br>Построил графики с наложением. 🙂\n",
    "</div>"
   ]
  },
  {
   "cell_type": "markdown",
   "id": "402d620f",
   "metadata": {},
   "source": [
    "#### Шаг 5. Подсчёт выручки"
   ]
  },
  {
   "cell_type": "markdown",
   "id": "980a8f4e",
   "metadata": {},
   "source": [
    "##### Создадим датафрейм с агрегированными данными о поездках на основе датафрейма с объединёнными данными.  Найдем суммарное расстояние, количество поездок и суммарное время для каждого пользователя за каждый месяц."
   ]
  },
  {
   "cell_type": "code",
   "execution_count": 43,
   "id": "eda5006c",
   "metadata": {},
   "outputs": [
    {
     "data": {
      "text/html": [
       "<div>\n",
       "<style scoped>\n",
       "    .dataframe tbody tr th:only-of-type {\n",
       "        vertical-align: middle;\n",
       "    }\n",
       "\n",
       "    .dataframe tbody tr th {\n",
       "        vertical-align: top;\n",
       "    }\n",
       "\n",
       "    .dataframe thead th {\n",
       "        text-align: right;\n",
       "    }\n",
       "</style>\n",
       "<table border=\"1\" class=\"dataframe\">\n",
       "  <thead>\n",
       "    <tr style=\"text-align: right;\">\n",
       "      <th></th>\n",
       "      <th>user_id</th>\n",
       "      <th>month number</th>\n",
       "      <th>total_distance</th>\n",
       "      <th>total_trips</th>\n",
       "      <th>total_duration</th>\n",
       "      <th>subscription_type</th>\n",
       "    </tr>\n",
       "  </thead>\n",
       "  <tbody>\n",
       "    <tr>\n",
       "      <th>0</th>\n",
       "      <td>1</td>\n",
       "      <td>1</td>\n",
       "      <td>7027.511294</td>\n",
       "      <td>2</td>\n",
       "      <td>42.0</td>\n",
       "      <td>ultra</td>\n",
       "    </tr>\n",
       "    <tr>\n",
       "      <th>1</th>\n",
       "      <td>1</td>\n",
       "      <td>4</td>\n",
       "      <td>754.159807</td>\n",
       "      <td>1</td>\n",
       "      <td>7.0</td>\n",
       "      <td>ultra</td>\n",
       "    </tr>\n",
       "    <tr>\n",
       "      <th>2</th>\n",
       "      <td>1</td>\n",
       "      <td>8</td>\n",
       "      <td>6723.470560</td>\n",
       "      <td>2</td>\n",
       "      <td>46.0</td>\n",
       "      <td>ultra</td>\n",
       "    </tr>\n",
       "    <tr>\n",
       "      <th>3</th>\n",
       "      <td>1</td>\n",
       "      <td>10</td>\n",
       "      <td>5809.911100</td>\n",
       "      <td>2</td>\n",
       "      <td>32.0</td>\n",
       "      <td>ultra</td>\n",
       "    </tr>\n",
       "    <tr>\n",
       "      <th>4</th>\n",
       "      <td>1</td>\n",
       "      <td>11</td>\n",
       "      <td>7003.499363</td>\n",
       "      <td>3</td>\n",
       "      <td>56.0</td>\n",
       "      <td>ultra</td>\n",
       "    </tr>\n",
       "  </tbody>\n",
       "</table>\n",
       "</div>"
      ],
      "text/plain": [
       "   user_id  month number  total_distance  total_trips  total_duration  \\\n",
       "0        1             1     7027.511294            2            42.0   \n",
       "1        1             4      754.159807            1             7.0   \n",
       "2        1             8     6723.470560            2            46.0   \n",
       "3        1            10     5809.911100            2            32.0   \n",
       "4        1            11     7003.499363            3            56.0   \n",
       "\n",
       "  subscription_type  \n",
       "0             ultra  \n",
       "1             ultra  \n",
       "2             ultra  \n",
       "3             ultra  \n",
       "4             ultra  "
      ]
     },
     "execution_count": 43,
     "metadata": {},
     "output_type": "execute_result"
    }
   ],
   "source": [
    "users_rides_subscriptions_go['duration'] = np.ceil(users_rides_subscriptions_go['duration'])\n",
    "monthly_stats = users_rides_subscriptions_go.groupby(['user_id', 'month number']).agg(\n",
    "    total_distance=('distance', 'sum'),\n",
    "    total_trips=('distance', 'count'),\n",
    "    total_duration=('duration', 'sum'),\n",
    "    subscription_type=('subscription_type', 'first')\n",
    ").reset_index()\n",
    "\n",
    "monthly_stats.head()"
   ]
  },
  {
   "cell_type": "markdown",
   "id": "bed461cc",
   "metadata": {},
   "source": [
    "#####  Добавим столбец с помесячной выручкой, которую принёс каждый пользователь"
   ]
  },
  {
   "cell_type": "code",
   "execution_count": 44,
   "id": "9a277004",
   "metadata": {},
   "outputs": [
    {
     "data": {
      "text/html": [
       "<div>\n",
       "<style scoped>\n",
       "    .dataframe tbody tr th:only-of-type {\n",
       "        vertical-align: middle;\n",
       "    }\n",
       "\n",
       "    .dataframe tbody tr th {\n",
       "        vertical-align: top;\n",
       "    }\n",
       "\n",
       "    .dataframe thead th {\n",
       "        text-align: right;\n",
       "    }\n",
       "</style>\n",
       "<table border=\"1\" class=\"dataframe\">\n",
       "  <thead>\n",
       "    <tr style=\"text-align: right;\">\n",
       "      <th></th>\n",
       "      <th>user_id</th>\n",
       "      <th>month number</th>\n",
       "      <th>total_distance</th>\n",
       "      <th>total_trips</th>\n",
       "      <th>total_duration</th>\n",
       "      <th>subscription_type</th>\n",
       "      <th>total_revenue</th>\n",
       "    </tr>\n",
       "  </thead>\n",
       "  <tbody>\n",
       "    <tr>\n",
       "      <th>0</th>\n",
       "      <td>1</td>\n",
       "      <td>1</td>\n",
       "      <td>7027.511294</td>\n",
       "      <td>2</td>\n",
       "      <td>42.0</td>\n",
       "      <td>ultra</td>\n",
       "      <td>451.0</td>\n",
       "    </tr>\n",
       "    <tr>\n",
       "      <th>1</th>\n",
       "      <td>1</td>\n",
       "      <td>4</td>\n",
       "      <td>754.159807</td>\n",
       "      <td>1</td>\n",
       "      <td>7.0</td>\n",
       "      <td>ultra</td>\n",
       "      <td>241.0</td>\n",
       "    </tr>\n",
       "    <tr>\n",
       "      <th>2</th>\n",
       "      <td>1</td>\n",
       "      <td>8</td>\n",
       "      <td>6723.470560</td>\n",
       "      <td>2</td>\n",
       "      <td>46.0</td>\n",
       "      <td>ultra</td>\n",
       "      <td>475.0</td>\n",
       "    </tr>\n",
       "    <tr>\n",
       "      <th>3</th>\n",
       "      <td>1</td>\n",
       "      <td>10</td>\n",
       "      <td>5809.911100</td>\n",
       "      <td>2</td>\n",
       "      <td>32.0</td>\n",
       "      <td>ultra</td>\n",
       "      <td>391.0</td>\n",
       "    </tr>\n",
       "    <tr>\n",
       "      <th>4</th>\n",
       "      <td>1</td>\n",
       "      <td>11</td>\n",
       "      <td>7003.499363</td>\n",
       "      <td>3</td>\n",
       "      <td>56.0</td>\n",
       "      <td>ultra</td>\n",
       "      <td>535.0</td>\n",
       "    </tr>\n",
       "  </tbody>\n",
       "</table>\n",
       "</div>"
      ],
      "text/plain": [
       "   user_id  month number  total_distance  total_trips  total_duration  \\\n",
       "0        1             1     7027.511294            2            42.0   \n",
       "1        1             4      754.159807            1             7.0   \n",
       "2        1             8     6723.470560            2            46.0   \n",
       "3        1            10     5809.911100            2            32.0   \n",
       "4        1            11     7003.499363            3            56.0   \n",
       "\n",
       "  subscription_type  total_revenue  \n",
       "0             ultra          451.0  \n",
       "1             ultra          241.0  \n",
       "2             ultra          475.0  \n",
       "3             ultra          391.0  \n",
       "4             ultra          535.0  "
      ]
     },
     "execution_count": 44,
     "metadata": {},
     "output_type": "execute_result"
    }
   ],
   "source": [
    "def calculate_revenue(row):\n",
    "    if row['subscription_type'] == 'ultra':\n",
    "        return 199 + (6 * row['total_duration'])\n",
    "    else:\n",
    "        return 50 * row['total_trips'] + (8 * row['total_duration'])\n",
    "    \n",
    "monthly_stats['total_revenue'] = monthly_stats.apply(calculate_revenue, axis=1)\n",
    "monthly_stats.head()"
   ]
  },
  {
   "cell_type": "markdown",
   "id": "41545ac0",
   "metadata": {},
   "source": [
    "#### Шаг 6. Проверка гипотез"
   ]
  },
  {
   "cell_type": "markdown",
   "id": "7c015565",
   "metadata": {},
   "source": [
    "##### Узнаем, тратят ли пользователи с подпиской больше времени на поездки"
   ]
  },
  {
   "cell_type": "markdown",
   "id": "99b518fa",
   "metadata": {},
   "source": [
    "Нулевая гипотеза (H0): Средняя продолжительность поездок пользователей с подпиской равна средней продолжительности поездок пользователей без подписки.\n",
    "\n",
    "Альтернативная гипотеза (H1): Средняя продолжительность поездок пользователей с подпиской больше средней продолжительности поездок пользователей без подписки."
   ]
  },
  {
   "cell_type": "code",
   "execution_count": 45,
   "id": "2e072438",
   "metadata": {},
   "outputs": [
    {
     "name": "stdout",
     "output_type": "stream",
     "text": [
      "18.54198516280583\n",
      "17.39090929866399\n",
      "p-значение: 1.2804098316645618e-34\n",
      "Отвергаем нулевую гипотезу\n"
     ]
    }
   ],
   "source": [
    "mean_duration_subscribers = subscriptions_ultra['duration'].mean()\n",
    "mean_duration_non_subscribers = subscriptions_free['duration'].mean()\n",
    "\n",
    "print(mean_duration_subscribers)\n",
    "print(mean_duration_non_subscribers)\n",
    "\n",
    "alpha = 0.05\n",
    "\n",
    "results = st.ttest_ind(subscriptions_ultra['duration'], subscriptions_free['duration'], alternative='greater')\n",
    "\n",
    "print('p-значение:', results.pvalue)\n",
    "\n",
    "if results.pvalue < alpha:\n",
    "    print('Отвергаем нулевую гипотезу')\n",
    "else:\n",
    "    print('Не получилось отвергнуть нулевую гипотезу') "
   ]
  },
  {
   "cell_type": "markdown",
   "id": "3f0f31f8",
   "metadata": {},
   "source": [
    "**Результаты указывают на то, что средняя продолжительность поездок пользователей с подпиской больше, чем у пользователей без подписки.**"
   ]
  },
  {
   "cell_type": "markdown",
   "id": "656a534e",
   "metadata": {},
   "source": [
    "##### Проверим: не прревышает ли среднее расстояние  3130 метров для полльзователей с подпиской"
   ]
  },
  {
   "cell_type": "markdown",
   "id": "9bc0f610",
   "metadata": {},
   "source": [
    "Нулевая гипотеза (H0): Среднее расстояние поездок пользователей с подпиской не превышает 3130 метров (μ ≤ 3130).\n",
    "\n",
    "\n",
    "Альтернативная гипотеза (H1): Среднее расстояние поездок пользователей с подпиской превышает 3130 метров (μ > 3130)."
   ]
  },
  {
   "cell_type": "code",
   "execution_count": 46,
   "id": "f4513f18",
   "metadata": {},
   "outputs": [
    {
     "name": "stdout",
     "output_type": "stream",
     "text": [
      "p-значение: 0.9195368847849785\n",
      "Не получилось отвергнуть нулевую гипотезу\n"
     ]
    }
   ],
   "source": [
    "alpha = 0.05\n",
    "interested_value = 3130\n",
    "\n",
    "results = st.ttest_1samp(subscriptions_ultra['distance'], interested_value, alternative='greater')\n",
    "\n",
    "print('p-значение:', results.pvalue)\n",
    "\n",
    "if results.pvalue < alpha:\n",
    "    print('Отвергаем нулевую гипотезу')\n",
    "else:\n",
    "    print('Не получилось отвергнуть нулевую гипотезу')"
   ]
  },
  {
   "cell_type": "markdown",
   "id": "cee1b338",
   "metadata": {},
   "source": [
    "**Среднее расстояние поездок пользователей с подпиской, вероятно, не превышает 3130 метров. Иными словами, нет статистических оснований считать, что пользователи с подпиской проезжают в среднем больше 3130 метров за одну поездку. Это может означать, что текущий уровень износа, обусловленный расстоянием поездок подписчиков, остается в приемлемых пределах.**"
   ]
  },
  {
   "cell_type": "markdown",
   "id": "cd3e331b",
   "metadata": {},
   "source": [
    "##### Проверим гипотезу о том, будет ли помесячная выручка от пользователей с подпиской по месяцам выше, чем выручка от пользователей без подписки"
   ]
  },
  {
   "cell_type": "markdown",
   "id": "9ed0ea58",
   "metadata": {},
   "source": [
    "Нулевая гипотеза (H0): Помесячная выручка от пользователей с подпиской не превышает выручку от пользователей без подписки.\n",
    "\n",
    "\n",
    "Альтернативная гипотеза (H1): Помесячная выручка от пользователей с подпиской превышает выручку от пользователей без подписки."
   ]
  },
  {
   "cell_type": "code",
   "execution_count": 47,
   "id": "57658828",
   "metadata": {},
   "outputs": [
    {
     "name": "stdout",
     "output_type": "stream",
     "text": [
      "p-значение: 1.8850394384715216e-31\n",
      "Отвергаем нулевую гипотезу\n"
     ]
    }
   ],
   "source": [
    "alpha = 0.05\n",
    "\n",
    "revenue_ultra = monthly_stats[monthly_stats['subscription_type'] == 'ultra']['total_revenue']\n",
    "revenue_free = monthly_stats[monthly_stats['subscription_type'] == 'free']['total_revenue']\n",
    "\n",
    "results = st.ttest_ind(revenue_ultra, revenue_free, alternative='greater')\n",
    "\n",
    "print('p-значение:', results.pvalue)\n",
    "\n",
    "if results.pvalue < alpha:\n",
    "    print('Отвергаем нулевую гипотезу')\n",
    "else:\n",
    "    print('Не получилось отвергнуть нулевую гипотезу') "
   ]
  },
  {
   "cell_type": "markdown",
   "id": "131addfa",
   "metadata": {},
   "source": [
    "**Результаты указывают на то, что помесячная выручка от пользователей с подпиской статистически выше, чем у пользователей без подписки. Это может означать, что пользователи с подпиской более активны или совершают более дорогие поездки.**"
   ]
  },
  {
   "cell_type": "markdown",
   "id": "1cc456b9",
   "metadata": {},
   "source": [
    "##### Гипотеза о снижении обращений в техподдрежку"
   ]
  },
  {
   "cell_type": "markdown",
   "id": "db595565",
   "metadata": {},
   "source": [
    "Для проверки гипотезы нужно выполнить тест на зависимость между двумя связанными выборками.\n",
    "\n",
    "Нулевая гипотеза (H0): Среднее количестов обрашений в техподдержку не изменилось.\n",
    "\n",
    "Альтернативная гипотеза (H1): Среднее количестов обрашений в техподдержку изменилось.\n",
    "\n",
    "Выборки в этом случае будут зависимыми, иначе — парными. Чтобы проверить гипотезу о равенстве среднего генеральной совокупности для зависимых (парных) выборок в Python, применим метод `scipy.stats.ttest_rel()`. Ему достаточно передать всего два параметра: наборы данных до и после. "
   ]
  },
  {
   "cell_type": "markdown",
   "id": "35811239",
   "metadata": {},
   "source": [
    "#### Шаг 7. Распределения"
   ]
  },
  {
   "cell_type": "markdown",
   "id": "71b90c92",
   "metadata": {},
   "source": [
    "К сожалению, никак не успеваю выполнить необязательное задание"
   ]
  },
  {
   "cell_type": "markdown",
   "id": "d8be1649",
   "metadata": {},
   "source": [
    "#### Шаг 8. Общий вывод"
   ]
  },
  {
   "cell_type": "markdown",
   "id": "ca7ffbd5",
   "metadata": {},
   "source": [
    "В ходе проведенного анализа было выявлено, что наиболее часто встречается город Пятигорск, а наименее — Москва. Всего 46% пользователей используют подписку. Средний возраст пользователей составляет 25 лет. Обычно они проезжают около 3 км за одну поездку.\n",
    "\n",
    "Пользователи без подписки чаще совершают короткие и очень длинные поездки, что может говорить о том, что они используют сервис нерегулярно или для краткосрочных нужд. Подписчики же, наоборот, более склонны к поездкам на средние дистанции, оптимизируя использование подписки.\n",
    "\n",
    "Время, затраченное на одну поездку, имеет широкое распределение с пиком примерно около 17 минут для пользователей без подписки и 18 минут для пользователей с подпиской.\n",
    "\n",
    "Был создан датафрейм, содержащий ежемесячную выручку, которую принес каждый пользователь.\n",
    "\n",
    "Было проверено несколько гипотез:\n",
    "\n",
    "- Тратят ли пользователи с подпиской больше времени на поездки? (Результаты указывают на то, что средняя продолжительность поездок пользователей с подпиской больше, чем у пользователей без подписки)\n",
    "- Не превышает ли среднее расстояние 3130 метров для пользователей с подпиской? (На основании анализа нет статистических оснований считать, что среднее расстояние поездок подписчиков превышает 3130 метров. Иными словами, пользователи с подпиской, вероятно, проезжают в среднем не более 3130 метров за одну поездку, что может свидетельствовать о допустимом уровне износа самокатов при текущих условиях)\n",
    "- Будет ли помесячная выручка от пользователей с подпиской по месяцам выше, чем выручка от пользователей без подписки? (Результаты указывают на то, что помесячная выручка от пользователей с подпиской статистически выше, чем у пользователей без подписки)\n",
    "- Снизится ли количество обращений в техподдержку? (Вывод по этой гипотезе невозможен, так как у нас нет файла с информацией об обращениях до и после внесения изменений, но предложена основная идея её проверки)"
   ]
  }
 ],
 "metadata": {
  "ExecuteTimeLog": [
   {
    "duration": 44,
    "start_time": "2024-10-28T00:21:43.265Z"
   },
   {
    "duration": 385,
    "start_time": "2024-10-28T00:21:48.508Z"
   },
   {
    "duration": 81,
    "start_time": "2024-10-28T00:21:50.697Z"
   },
   {
    "duration": 16,
    "start_time": "2024-10-28T00:21:52.593Z"
   },
   {
    "duration": 10,
    "start_time": "2024-10-28T00:22:13.501Z"
   },
   {
    "duration": 7,
    "start_time": "2024-10-28T00:22:24.501Z"
   },
   {
    "duration": 10,
    "start_time": "2024-10-28T00:22:37.049Z"
   },
   {
    "duration": 8,
    "start_time": "2024-10-28T00:22:46.260Z"
   },
   {
    "duration": 10,
    "start_time": "2024-10-28T00:22:50.325Z"
   },
   {
    "duration": 233,
    "start_time": "2024-10-28T00:27:05.361Z"
   },
   {
    "duration": 7,
    "start_time": "2024-10-28T00:27:07.117Z"
   },
   {
    "duration": 318,
    "start_time": "2024-10-28T00:27:10.560Z"
   },
   {
    "duration": 67,
    "start_time": "2024-10-28T00:27:10.880Z"
   },
   {
    "duration": 14,
    "start_time": "2024-10-28T00:27:10.948Z"
   },
   {
    "duration": 13,
    "start_time": "2024-10-28T00:27:10.964Z"
   },
   {
    "duration": 14,
    "start_time": "2024-10-28T00:27:10.979Z"
   },
   {
    "duration": 16,
    "start_time": "2024-10-28T00:27:10.994Z"
   },
   {
    "duration": 6,
    "start_time": "2024-10-28T00:27:11.011Z"
   },
   {
    "duration": 8,
    "start_time": "2024-10-28T00:27:11.019Z"
   },
   {
    "duration": 7,
    "start_time": "2024-10-28T00:32:05.149Z"
   },
   {
    "duration": 77,
    "start_time": "2024-10-28T00:35:50.017Z"
   },
   {
    "duration": 76,
    "start_time": "2024-10-28T00:35:57.890Z"
   },
   {
    "duration": 39,
    "start_time": "2024-10-28T00:36:24.398Z"
   },
   {
    "duration": 23,
    "start_time": "2024-10-28T00:36:39.342Z"
   },
   {
    "duration": 16,
    "start_time": "2024-10-28T00:36:48.414Z"
   },
   {
    "duration": 10,
    "start_time": "2024-10-28T00:36:58.026Z"
   },
   {
    "duration": 4,
    "start_time": "2024-10-28T00:37:47.226Z"
   },
   {
    "duration": 5,
    "start_time": "2024-10-28T00:37:58.359Z"
   },
   {
    "duration": 5,
    "start_time": "2024-10-28T00:38:23.227Z"
   },
   {
    "duration": 7,
    "start_time": "2024-10-28T00:39:24.203Z"
   },
   {
    "duration": 5,
    "start_time": "2024-10-28T00:39:31.571Z"
   },
   {
    "duration": 5,
    "start_time": "2024-10-28T00:39:57.439Z"
   },
   {
    "duration": 7,
    "start_time": "2024-10-28T00:40:08.858Z"
   },
   {
    "duration": 6,
    "start_time": "2024-10-28T00:40:13.684Z"
   },
   {
    "duration": 4,
    "start_time": "2024-10-28T00:42:54.844Z"
   },
   {
    "duration": 4,
    "start_time": "2024-10-28T00:42:56.975Z"
   },
   {
    "duration": 6,
    "start_time": "2024-10-28T00:43:01.304Z"
   },
   {
    "duration": 7,
    "start_time": "2024-10-28T00:44:09.132Z"
   },
   {
    "duration": 8,
    "start_time": "2024-10-28T00:44:13.923Z"
   },
   {
    "duration": 3,
    "start_time": "2024-10-28T00:44:38.344Z"
   },
   {
    "duration": 5,
    "start_time": "2024-10-28T00:44:42.984Z"
   },
   {
    "duration": 5,
    "start_time": "2024-10-28T00:46:23.656Z"
   },
   {
    "duration": 5,
    "start_time": "2024-10-28T00:47:33.257Z"
   },
   {
    "duration": 5,
    "start_time": "2024-10-28T00:47:51.896Z"
   },
   {
    "duration": 10,
    "start_time": "2024-10-28T00:49:43.597Z"
   },
   {
    "duration": 62,
    "start_time": "2024-10-28T00:52:15.317Z"
   },
   {
    "duration": 399,
    "start_time": "2024-10-28T00:52:29.588Z"
   },
   {
    "duration": 69,
    "start_time": "2024-10-28T00:52:29.988Z"
   },
   {
    "duration": 31,
    "start_time": "2024-10-28T00:52:30.058Z"
   },
   {
    "duration": 82,
    "start_time": "2024-10-28T00:52:30.091Z"
   },
   {
    "duration": 104,
    "start_time": "2024-10-28T00:52:30.175Z"
   },
   {
    "duration": 88,
    "start_time": "2024-10-28T00:52:30.281Z"
   },
   {
    "duration": 139,
    "start_time": "2024-10-28T00:52:30.371Z"
   },
   {
    "duration": 350,
    "start_time": "2024-10-28T00:52:30.512Z"
   },
   {
    "duration": 67,
    "start_time": "2024-10-28T00:52:30.863Z"
   },
   {
    "duration": 14,
    "start_time": "2024-10-28T00:52:30.933Z"
   },
   {
    "duration": 69,
    "start_time": "2024-10-28T00:52:30.949Z"
   },
   {
    "duration": 30,
    "start_time": "2024-10-28T00:52:31.020Z"
   },
   {
    "duration": 51,
    "start_time": "2024-10-28T00:52:31.051Z"
   },
   {
    "duration": 43,
    "start_time": "2024-10-28T00:52:31.103Z"
   },
   {
    "duration": 32,
    "start_time": "2024-10-28T00:52:31.148Z"
   },
   {
    "duration": 17,
    "start_time": "2024-10-28T00:52:31.182Z"
   },
   {
    "duration": 13,
    "start_time": "2024-10-28T00:52:31.200Z"
   },
   {
    "duration": 21,
    "start_time": "2024-10-28T00:52:31.214Z"
   },
   {
    "duration": 71,
    "start_time": "2024-10-28T00:52:31.236Z"
   },
   {
    "duration": 13,
    "start_time": "2024-10-28T00:52:52.525Z"
   },
   {
    "duration": 10,
    "start_time": "2024-10-28T00:53:49.797Z"
   },
   {
    "duration": 7,
    "start_time": "2024-10-28T01:01:42.534Z"
   },
   {
    "duration": 4,
    "start_time": "2024-10-28T01:01:57.018Z"
   },
   {
    "duration": 4,
    "start_time": "2024-10-28T01:02:11.202Z"
   },
   {
    "duration": 5,
    "start_time": "2024-10-28T01:02:17.802Z"
   },
   {
    "duration": 396,
    "start_time": "2024-10-28T01:05:14.942Z"
   },
   {
    "duration": 30,
    "start_time": "2024-10-28T01:07:48.862Z"
   },
   {
    "duration": 568,
    "start_time": "2024-10-28T01:07:57.533Z"
   },
   {
    "duration": 69,
    "start_time": "2024-10-28T01:07:58.103Z"
   },
   {
    "duration": 10,
    "start_time": "2024-10-28T01:07:58.173Z"
   },
   {
    "duration": 11,
    "start_time": "2024-10-28T01:07:58.185Z"
   },
   {
    "duration": 8,
    "start_time": "2024-10-28T01:07:58.197Z"
   },
   {
    "duration": 19,
    "start_time": "2024-10-28T01:07:58.207Z"
   },
   {
    "duration": 7,
    "start_time": "2024-10-28T01:07:58.228Z"
   },
   {
    "duration": 11,
    "start_time": "2024-10-28T01:07:58.236Z"
   },
   {
    "duration": 128,
    "start_time": "2024-10-28T01:07:58.248Z"
   },
   {
    "duration": 15,
    "start_time": "2024-10-28T01:07:58.379Z"
   },
   {
    "duration": 26,
    "start_time": "2024-10-28T01:07:58.395Z"
   },
   {
    "duration": 103,
    "start_time": "2024-10-28T01:07:58.422Z"
   },
   {
    "duration": 6,
    "start_time": "2024-10-28T01:07:58.526Z"
   },
   {
    "duration": 17,
    "start_time": "2024-10-28T01:07:58.533Z"
   },
   {
    "duration": 22,
    "start_time": "2024-10-28T01:07:58.552Z"
   },
   {
    "duration": 5,
    "start_time": "2024-10-28T01:07:58.576Z"
   },
   {
    "duration": 5,
    "start_time": "2024-10-28T01:07:58.583Z"
   },
   {
    "duration": 9,
    "start_time": "2024-10-28T01:07:58.590Z"
   },
   {
    "duration": 11,
    "start_time": "2024-10-28T01:07:58.601Z"
   },
   {
    "duration": 212,
    "start_time": "2024-10-28T01:07:58.614Z"
   },
   {
    "duration": 5,
    "start_time": "2024-10-28T01:07:58.827Z"
   },
   {
    "duration": 87,
    "start_time": "2024-10-28T01:07:58.833Z"
   },
   {
    "duration": 11,
    "start_time": "2024-10-28T01:08:48.442Z"
   },
   {
    "duration": 12,
    "start_time": "2024-10-28T01:08:53.010Z"
   },
   {
    "duration": 554,
    "start_time": "2024-10-28T01:08:58.046Z"
   },
   {
    "duration": 67,
    "start_time": "2024-10-28T01:08:58.602Z"
   },
   {
    "duration": 73,
    "start_time": "2024-10-28T01:08:58.670Z"
   },
   {
    "duration": 47,
    "start_time": "2024-10-28T01:08:58.746Z"
   },
   {
    "duration": 15,
    "start_time": "2024-10-28T01:08:58.794Z"
   },
   {
    "duration": 26,
    "start_time": "2024-10-28T01:08:58.811Z"
   },
   {
    "duration": 11,
    "start_time": "2024-10-28T01:08:58.838Z"
   },
   {
    "duration": 16,
    "start_time": "2024-10-28T01:08:58.850Z"
   },
   {
    "duration": 17,
    "start_time": "2024-10-28T01:08:58.867Z"
   },
   {
    "duration": 6,
    "start_time": "2024-10-28T01:08:58.886Z"
   },
   {
    "duration": 5,
    "start_time": "2024-10-28T01:08:58.893Z"
   },
   {
    "duration": 38,
    "start_time": "2024-10-28T01:08:58.899Z"
   },
   {
    "duration": 32,
    "start_time": "2024-10-28T01:08:58.938Z"
   },
   {
    "duration": 9,
    "start_time": "2024-10-28T01:08:58.971Z"
   },
   {
    "duration": 16,
    "start_time": "2024-10-28T01:08:58.981Z"
   },
   {
    "duration": 8,
    "start_time": "2024-10-28T01:08:58.999Z"
   },
   {
    "duration": 9,
    "start_time": "2024-10-28T01:08:59.008Z"
   },
   {
    "duration": 23,
    "start_time": "2024-10-28T01:08:59.018Z"
   },
   {
    "duration": 11,
    "start_time": "2024-10-28T01:08:59.042Z"
   },
   {
    "duration": 7,
    "start_time": "2024-10-28T01:08:59.054Z"
   },
   {
    "duration": 10,
    "start_time": "2024-10-28T01:08:59.063Z"
   },
   {
    "duration": 78,
    "start_time": "2024-10-28T01:08:59.075Z"
   },
   {
    "duration": 5,
    "start_time": "2024-10-28T01:09:52.835Z"
   },
   {
    "duration": 143,
    "start_time": "2024-10-28T01:10:11.150Z"
   },
   {
    "duration": 55,
    "start_time": "2024-10-28T01:11:51.935Z"
   },
   {
    "duration": 4,
    "start_time": "2024-10-28T01:12:02.455Z"
   },
   {
    "duration": 15,
    "start_time": "2024-10-28T01:15:44.263Z"
   },
   {
    "duration": 10,
    "start_time": "2024-10-28T01:16:02.691Z"
   },
   {
    "duration": 10,
    "start_time": "2024-10-28T01:16:43.027Z"
   },
   {
    "duration": 76,
    "start_time": "2024-10-28T01:18:28.394Z"
   },
   {
    "duration": 72,
    "start_time": "2024-10-28T01:18:33.631Z"
   },
   {
    "duration": 76,
    "start_time": "2024-10-28T01:18:38.055Z"
   },
   {
    "duration": 11,
    "start_time": "2024-10-28T01:19:37.124Z"
   },
   {
    "duration": 10,
    "start_time": "2024-10-28T01:19:49.819Z"
   },
   {
    "duration": 110,
    "start_time": "2024-10-28T01:20:48.715Z"
   },
   {
    "duration": 4,
    "start_time": "2024-10-28T01:23:47.597Z"
   },
   {
    "duration": 6,
    "start_time": "2024-10-28T01:23:57.272Z"
   },
   {
    "duration": 7,
    "start_time": "2024-10-28T01:24:11.555Z"
   },
   {
    "duration": 225,
    "start_time": "2024-10-28T01:26:37.792Z"
   },
   {
    "duration": 137,
    "start_time": "2024-10-28T01:26:57.803Z"
   },
   {
    "duration": 173,
    "start_time": "2024-10-28T01:27:32.163Z"
   },
   {
    "duration": 166,
    "start_time": "2024-10-28T01:27:36.824Z"
   },
   {
    "duration": 133,
    "start_time": "2024-10-28T01:27:42.845Z"
   },
   {
    "duration": 142,
    "start_time": "2024-10-28T01:27:47.112Z"
   },
   {
    "duration": 127,
    "start_time": "2024-10-28T01:28:08.585Z"
   },
   {
    "duration": 132,
    "start_time": "2024-10-28T01:28:48.439Z"
   },
   {
    "duration": 7,
    "start_time": "2024-10-28T01:32:18.452Z"
   },
   {
    "duration": 138,
    "start_time": "2024-10-28T01:33:46.428Z"
   },
   {
    "duration": 192,
    "start_time": "2024-10-28T01:34:02.216Z"
   },
   {
    "duration": 288,
    "start_time": "2024-10-28T01:35:10.256Z"
   },
   {
    "duration": 226,
    "start_time": "2024-10-28T01:35:22.173Z"
   },
   {
    "duration": 212,
    "start_time": "2024-10-28T01:35:40.796Z"
   },
   {
    "duration": 7,
    "start_time": "2024-10-28T01:41:55.741Z"
   },
   {
    "duration": 246,
    "start_time": "2024-10-28T01:42:54.417Z"
   },
   {
    "duration": 19,
    "start_time": "2024-10-28T01:50:05.102Z"
   },
   {
    "duration": 18,
    "start_time": "2024-10-28T01:51:05.659Z"
   },
   {
    "duration": 21,
    "start_time": "2024-10-28T01:52:17.883Z"
   },
   {
    "duration": 16,
    "start_time": "2024-10-28T01:52:30.135Z"
   },
   {
    "duration": 15,
    "start_time": "2024-10-28T01:52:32.099Z"
   },
   {
    "duration": 19,
    "start_time": "2024-10-28T01:53:02.813Z"
   },
   {
    "duration": 15,
    "start_time": "2024-10-28T01:56:05.547Z"
   },
   {
    "duration": 12,
    "start_time": "2024-10-28T01:56:34.584Z"
   },
   {
    "duration": 14,
    "start_time": "2024-10-28T01:56:56.543Z"
   },
   {
    "duration": 13,
    "start_time": "2024-10-28T01:57:02.671Z"
   },
   {
    "duration": 7,
    "start_time": "2024-10-28T02:00:40.664Z"
   },
   {
    "duration": 278,
    "start_time": "2024-10-28T02:01:43.776Z"
   },
   {
    "duration": 8,
    "start_time": "2024-10-28T02:02:56.317Z"
   },
   {
    "duration": 479,
    "start_time": "2024-10-28T02:03:30.933Z"
   },
   {
    "duration": 458,
    "start_time": "2024-10-28T02:03:37.217Z"
   },
   {
    "duration": 517,
    "start_time": "2024-10-28T02:03:45.921Z"
   },
   {
    "duration": 454,
    "start_time": "2024-10-28T02:03:52.837Z"
   },
   {
    "duration": 730,
    "start_time": "2024-10-28T02:04:35.241Z"
   },
   {
    "duration": 769,
    "start_time": "2024-10-28T02:05:48.009Z"
   },
   {
    "duration": 675,
    "start_time": "2024-10-28T02:07:29.069Z"
   },
   {
    "duration": 48,
    "start_time": "2024-10-28T12:29:06.083Z"
   },
   {
    "duration": 795,
    "start_time": "2024-10-28T12:29:12.518Z"
   },
   {
    "duration": 391,
    "start_time": "2024-10-28T12:29:13.315Z"
   },
   {
    "duration": 12,
    "start_time": "2024-10-28T12:29:13.708Z"
   },
   {
    "duration": 19,
    "start_time": "2024-10-28T12:29:13.721Z"
   },
   {
    "duration": 10,
    "start_time": "2024-10-28T12:29:13.741Z"
   },
   {
    "duration": 11,
    "start_time": "2024-10-28T12:29:13.753Z"
   },
   {
    "duration": 6,
    "start_time": "2024-10-28T12:29:13.766Z"
   },
   {
    "duration": 9,
    "start_time": "2024-10-28T12:29:13.773Z"
   },
   {
    "duration": 10,
    "start_time": "2024-10-28T12:29:13.784Z"
   },
   {
    "duration": 12,
    "start_time": "2024-10-28T12:29:13.796Z"
   },
   {
    "duration": 6,
    "start_time": "2024-10-28T12:29:13.820Z"
   },
   {
    "duration": 11,
    "start_time": "2024-10-28T12:29:13.827Z"
   },
   {
    "duration": 12,
    "start_time": "2024-10-28T12:29:13.839Z"
   },
   {
    "duration": 13,
    "start_time": "2024-10-28T12:29:13.853Z"
   },
   {
    "duration": 7,
    "start_time": "2024-10-28T12:29:13.868Z"
   },
   {
    "duration": 12,
    "start_time": "2024-10-28T12:29:13.876Z"
   },
   {
    "duration": 8,
    "start_time": "2024-10-28T12:29:13.889Z"
   },
   {
    "duration": 6,
    "start_time": "2024-10-28T12:29:13.898Z"
   },
   {
    "duration": 23,
    "start_time": "2024-10-28T12:29:13.905Z"
   },
   {
    "duration": 16,
    "start_time": "2024-10-28T12:29:13.929Z"
   },
   {
    "duration": 31,
    "start_time": "2024-10-28T12:29:13.946Z"
   },
   {
    "duration": 155,
    "start_time": "2024-10-28T12:29:13.979Z"
   },
   {
    "duration": 10,
    "start_time": "2024-10-28T12:29:14.136Z"
   },
   {
    "duration": 95,
    "start_time": "2024-10-28T12:29:14.148Z"
   },
   {
    "duration": 8,
    "start_time": "2024-10-28T12:29:14.244Z"
   },
   {
    "duration": 13,
    "start_time": "2024-10-28T12:29:14.253Z"
   },
   {
    "duration": 150,
    "start_time": "2024-10-28T12:29:14.267Z"
   },
   {
    "duration": 8,
    "start_time": "2024-10-28T12:29:14.422Z"
   },
   {
    "duration": 329,
    "start_time": "2024-10-28T12:29:14.431Z"
   },
   {
    "duration": 8,
    "start_time": "2024-10-28T12:29:14.761Z"
   },
   {
    "duration": 332,
    "start_time": "2024-10-28T12:29:14.770Z"
   },
   {
    "duration": 25,
    "start_time": "2024-10-28T12:29:15.104Z"
   },
   {
    "duration": 23,
    "start_time": "2024-10-28T12:29:15.131Z"
   },
   {
    "duration": 16,
    "start_time": "2024-10-28T12:29:15.155Z"
   },
   {
    "duration": 13,
    "start_time": "2024-10-28T12:29:15.172Z"
   },
   {
    "duration": 16,
    "start_time": "2024-10-28T12:29:15.186Z"
   },
   {
    "duration": 22,
    "start_time": "2024-10-28T12:29:15.204Z"
   },
   {
    "duration": 862,
    "start_time": "2024-10-28T12:29:15.228Z"
   },
   {
    "duration": 8,
    "start_time": "2024-10-28T12:29:16.092Z"
   },
   {
    "duration": 7,
    "start_time": "2024-10-28T12:29:31.139Z"
   },
   {
    "duration": 788,
    "start_time": "2024-10-28T12:31:09.283Z"
   },
   {
    "duration": 74,
    "start_time": "2024-10-28T12:39:52.423Z"
   },
   {
    "duration": 4,
    "start_time": "2024-10-28T12:42:02.068Z"
   },
   {
    "duration": 12,
    "start_time": "2024-10-28T12:42:09.819Z"
   },
   {
    "duration": 12,
    "start_time": "2024-10-28T12:42:20.405Z"
   },
   {
    "duration": 1075,
    "start_time": "2024-10-28T12:45:49.448Z"
   },
   {
    "duration": 17,
    "start_time": "2024-10-28T12:46:20.720Z"
   },
   {
    "duration": 94,
    "start_time": "2024-10-28T12:46:35.056Z"
   },
   {
    "duration": 7,
    "start_time": "2024-10-28T12:47:03.264Z"
   },
   {
    "duration": 19,
    "start_time": "2024-10-28T12:47:48.236Z"
   },
   {
    "duration": 18,
    "start_time": "2024-10-28T12:48:13.093Z"
   },
   {
    "duration": 18,
    "start_time": "2024-10-28T12:55:07.589Z"
   },
   {
    "duration": 22,
    "start_time": "2024-10-28T12:55:17.113Z"
   },
   {
    "duration": 23,
    "start_time": "2024-10-28T12:55:32.241Z"
   },
   {
    "duration": 21,
    "start_time": "2024-10-28T12:55:41.502Z"
   },
   {
    "duration": 3,
    "start_time": "2024-10-28T12:56:15.345Z"
   },
   {
    "duration": 25,
    "start_time": "2024-10-28T12:58:05.073Z"
   },
   {
    "duration": 310,
    "start_time": "2024-10-28T13:12:37.800Z"
   },
   {
    "duration": 309,
    "start_time": "2024-10-28T13:14:04.592Z"
   },
   {
    "duration": 633,
    "start_time": "2024-10-28T13:14:23.111Z"
   },
   {
    "duration": 76,
    "start_time": "2024-10-28T13:14:23.746Z"
   },
   {
    "duration": 12,
    "start_time": "2024-10-28T13:14:23.823Z"
   },
   {
    "duration": 11,
    "start_time": "2024-10-28T13:14:23.837Z"
   },
   {
    "duration": 10,
    "start_time": "2024-10-28T13:14:23.849Z"
   },
   {
    "duration": 16,
    "start_time": "2024-10-28T13:14:23.860Z"
   },
   {
    "duration": 6,
    "start_time": "2024-10-28T13:14:23.878Z"
   },
   {
    "duration": 89,
    "start_time": "2024-10-28T13:14:23.885Z"
   },
   {
    "duration": 34,
    "start_time": "2024-10-28T13:14:23.976Z"
   },
   {
    "duration": 11,
    "start_time": "2024-10-28T13:14:24.013Z"
   },
   {
    "duration": 8,
    "start_time": "2024-10-28T13:14:24.025Z"
   },
   {
    "duration": 19,
    "start_time": "2024-10-28T13:14:24.034Z"
   },
   {
    "duration": 20,
    "start_time": "2024-10-28T13:14:24.055Z"
   },
   {
    "duration": 18,
    "start_time": "2024-10-28T13:14:24.076Z"
   },
   {
    "duration": 12,
    "start_time": "2024-10-28T13:14:24.095Z"
   },
   {
    "duration": 5,
    "start_time": "2024-10-28T13:14:24.109Z"
   },
   {
    "duration": 9,
    "start_time": "2024-10-28T13:14:24.115Z"
   },
   {
    "duration": 10,
    "start_time": "2024-10-28T13:14:24.125Z"
   },
   {
    "duration": 34,
    "start_time": "2024-10-28T13:14:24.136Z"
   },
   {
    "duration": 23,
    "start_time": "2024-10-28T13:14:24.171Z"
   },
   {
    "duration": 6,
    "start_time": "2024-10-28T13:14:24.196Z"
   },
   {
    "duration": 171,
    "start_time": "2024-10-28T13:14:24.203Z"
   },
   {
    "duration": 12,
    "start_time": "2024-10-28T13:14:24.375Z"
   },
   {
    "duration": 95,
    "start_time": "2024-10-28T13:14:24.388Z"
   },
   {
    "duration": 8,
    "start_time": "2024-10-28T13:14:24.485Z"
   },
   {
    "duration": 8,
    "start_time": "2024-10-28T13:14:24.494Z"
   },
   {
    "duration": 171,
    "start_time": "2024-10-28T13:14:24.503Z"
   },
   {
    "duration": 8,
    "start_time": "2024-10-28T13:14:24.677Z"
   },
   {
    "duration": 363,
    "start_time": "2024-10-28T13:14:24.686Z"
   },
   {
    "duration": 8,
    "start_time": "2024-10-28T13:14:25.051Z"
   },
   {
    "duration": 347,
    "start_time": "2024-10-28T13:14:25.060Z"
   },
   {
    "duration": 26,
    "start_time": "2024-10-28T13:14:25.409Z"
   },
   {
    "duration": 21,
    "start_time": "2024-10-28T13:14:25.436Z"
   },
   {
    "duration": 17,
    "start_time": "2024-10-28T13:14:25.458Z"
   },
   {
    "duration": 13,
    "start_time": "2024-10-28T13:14:25.476Z"
   },
   {
    "duration": 35,
    "start_time": "2024-10-28T13:14:25.491Z"
   },
   {
    "duration": 9,
    "start_time": "2024-10-28T13:14:25.528Z"
   },
   {
    "duration": 824,
    "start_time": "2024-10-28T13:14:25.538Z"
   },
   {
    "duration": 8,
    "start_time": "2024-10-28T13:14:26.364Z"
   },
   {
    "duration": 13,
    "start_time": "2024-10-28T13:14:26.374Z"
   },
   {
    "duration": 813,
    "start_time": "2024-10-28T13:14:26.388Z"
   },
   {
    "duration": 33,
    "start_time": "2024-10-28T13:14:27.203Z"
   },
   {
    "duration": 410,
    "start_time": "2024-10-28T13:14:27.238Z"
   },
   {
    "duration": 310,
    "start_time": "2024-10-28T13:16:10.856Z"
   },
   {
    "duration": 8,
    "start_time": "2024-10-28T13:16:18.596Z"
   },
   {
    "duration": 314,
    "start_time": "2024-10-28T13:16:31.860Z"
   },
   {
    "duration": 10,
    "start_time": "2024-10-28T13:16:34.844Z"
   },
   {
    "duration": 309,
    "start_time": "2024-10-28T13:16:58.289Z"
   },
   {
    "duration": 54,
    "start_time": "2024-10-28T13:26:44.817Z"
   },
   {
    "duration": 23,
    "start_time": "2024-10-28T13:27:11.290Z"
   },
   {
    "duration": 2480,
    "start_time": "2024-10-28T13:28:45.942Z"
   },
   {
    "duration": 318,
    "start_time": "2024-10-28T13:29:12.478Z"
   },
   {
    "duration": 24,
    "start_time": "2024-10-28T13:29:18.054Z"
   },
   {
    "duration": 59,
    "start_time": "2024-10-28T13:31:27.123Z"
   },
   {
    "duration": 28,
    "start_time": "2024-10-28T13:31:34.678Z"
   },
   {
    "duration": 31,
    "start_time": "2024-10-28T13:31:39.418Z"
   },
   {
    "duration": 35,
    "start_time": "2024-10-28T13:31:59.518Z"
   },
   {
    "duration": 27,
    "start_time": "2024-10-28T13:32:09.754Z"
   },
   {
    "duration": 30,
    "start_time": "2024-10-28T13:32:17.606Z"
   },
   {
    "duration": 33,
    "start_time": "2024-10-28T13:32:22.358Z"
   },
   {
    "duration": 27,
    "start_time": "2024-10-28T13:32:33.254Z"
   },
   {
    "duration": 124,
    "start_time": "2024-10-28T13:35:52.550Z"
   },
   {
    "duration": 125,
    "start_time": "2024-10-28T13:37:53.555Z"
   },
   {
    "duration": 637,
    "start_time": "2024-10-28T15:04:38.513Z"
   },
   {
    "duration": 6,
    "start_time": "2024-10-28T15:06:30.600Z"
   },
   {
    "duration": 7,
    "start_time": "2024-10-28T15:07:38.519Z"
   },
   {
    "duration": 7,
    "start_time": "2024-10-28T15:10:02.864Z"
   },
   {
    "duration": 3,
    "start_time": "2024-10-28T15:18:06.893Z"
   },
   {
    "duration": 4,
    "start_time": "2024-10-28T15:18:16.880Z"
   },
   {
    "duration": 53,
    "start_time": "2024-10-28T15:21:56.001Z"
   },
   {
    "duration": 5,
    "start_time": "2024-10-28T15:22:11.801Z"
   },
   {
    "duration": 964,
    "start_time": "2024-10-28T15:25:03.490Z"
   },
   {
    "duration": 1047,
    "start_time": "2024-10-28T15:25:09.338Z"
   },
   {
    "duration": 76,
    "start_time": "2024-10-28T15:25:10.387Z"
   },
   {
    "duration": 12,
    "start_time": "2024-10-28T15:25:10.465Z"
   },
   {
    "duration": 12,
    "start_time": "2024-10-28T15:25:10.478Z"
   },
   {
    "duration": 11,
    "start_time": "2024-10-28T15:25:10.492Z"
   },
   {
    "duration": 12,
    "start_time": "2024-10-28T15:25:10.504Z"
   },
   {
    "duration": 7,
    "start_time": "2024-10-28T15:25:10.518Z"
   },
   {
    "duration": 10,
    "start_time": "2024-10-28T15:25:10.526Z"
   },
   {
    "duration": 17,
    "start_time": "2024-10-28T15:25:10.537Z"
   },
   {
    "duration": 26,
    "start_time": "2024-10-28T15:25:10.557Z"
   },
   {
    "duration": 108,
    "start_time": "2024-10-28T15:25:10.585Z"
   },
   {
    "duration": 83,
    "start_time": "2024-10-28T15:25:10.695Z"
   },
   {
    "duration": 27,
    "start_time": "2024-10-28T15:25:10.780Z"
   },
   {
    "duration": 22,
    "start_time": "2024-10-28T15:25:10.809Z"
   },
   {
    "duration": 21,
    "start_time": "2024-10-28T15:25:10.833Z"
   },
   {
    "duration": 27,
    "start_time": "2024-10-28T15:25:10.856Z"
   },
   {
    "duration": 34,
    "start_time": "2024-10-28T15:25:10.884Z"
   },
   {
    "duration": 20,
    "start_time": "2024-10-28T15:25:10.920Z"
   },
   {
    "duration": 81,
    "start_time": "2024-10-28T15:25:10.942Z"
   },
   {
    "duration": 43,
    "start_time": "2024-10-28T15:25:11.024Z"
   },
   {
    "duration": 18,
    "start_time": "2024-10-28T15:25:11.069Z"
   },
   {
    "duration": 173,
    "start_time": "2024-10-28T15:25:11.089Z"
   },
   {
    "duration": 11,
    "start_time": "2024-10-28T15:25:11.263Z"
   },
   {
    "duration": 97,
    "start_time": "2024-10-28T15:25:11.276Z"
   },
   {
    "duration": 7,
    "start_time": "2024-10-28T15:25:11.374Z"
   },
   {
    "duration": 11,
    "start_time": "2024-10-28T15:25:11.383Z"
   },
   {
    "duration": 170,
    "start_time": "2024-10-28T15:25:11.396Z"
   },
   {
    "duration": 8,
    "start_time": "2024-10-28T15:25:11.569Z"
   },
   {
    "duration": 311,
    "start_time": "2024-10-28T15:25:11.578Z"
   },
   {
    "duration": 8,
    "start_time": "2024-10-28T15:25:11.890Z"
   },
   {
    "duration": 276,
    "start_time": "2024-10-28T15:25:11.900Z"
   },
   {
    "duration": 16,
    "start_time": "2024-10-28T15:25:12.177Z"
   },
   {
    "duration": 33,
    "start_time": "2024-10-28T15:25:12.195Z"
   },
   {
    "duration": 15,
    "start_time": "2024-10-28T15:25:12.230Z"
   },
   {
    "duration": 16,
    "start_time": "2024-10-28T15:25:12.246Z"
   },
   {
    "duration": 8,
    "start_time": "2024-10-28T15:25:12.263Z"
   },
   {
    "duration": 14,
    "start_time": "2024-10-28T15:25:12.272Z"
   },
   {
    "duration": 882,
    "start_time": "2024-10-28T15:25:12.288Z"
   },
   {
    "duration": 8,
    "start_time": "2024-10-28T15:25:13.172Z"
   },
   {
    "duration": 85,
    "start_time": "2024-10-28T15:25:13.182Z"
   },
   {
    "duration": 1262,
    "start_time": "2024-10-28T15:25:13.268Z"
   },
   {
    "duration": 29,
    "start_time": "2024-10-28T15:25:14.532Z"
   },
   {
    "duration": 274,
    "start_time": "2024-10-28T15:25:14.562Z"
   },
   {
    "duration": 7,
    "start_time": "2024-10-28T15:25:14.837Z"
   },
   {
    "duration": 4,
    "start_time": "2024-10-28T15:25:14.846Z"
   },
   {
    "duration": 12,
    "start_time": "2024-10-28T15:29:10.615Z"
   },
   {
    "duration": 10,
    "start_time": "2024-10-28T15:31:04.055Z"
   },
   {
    "duration": 10,
    "start_time": "2024-10-28T15:31:25.867Z"
   },
   {
    "duration": 3,
    "start_time": "2024-10-28T15:51:01.394Z"
   },
   {
    "duration": 1074,
    "start_time": "2024-10-28T15:52:24.821Z"
   },
   {
    "duration": 77,
    "start_time": "2024-10-28T15:52:25.896Z"
   },
   {
    "duration": 13,
    "start_time": "2024-10-28T15:52:25.974Z"
   },
   {
    "duration": 11,
    "start_time": "2024-10-28T15:52:25.989Z"
   },
   {
    "duration": 14,
    "start_time": "2024-10-28T15:52:26.001Z"
   },
   {
    "duration": 23,
    "start_time": "2024-10-28T15:52:26.017Z"
   },
   {
    "duration": 7,
    "start_time": "2024-10-28T15:52:26.041Z"
   },
   {
    "duration": 35,
    "start_time": "2024-10-28T15:52:26.049Z"
   },
   {
    "duration": 7,
    "start_time": "2024-10-28T15:52:26.086Z"
   },
   {
    "duration": 7,
    "start_time": "2024-10-28T15:52:26.096Z"
   },
   {
    "duration": 12,
    "start_time": "2024-10-28T15:52:26.105Z"
   },
   {
    "duration": 7,
    "start_time": "2024-10-28T15:52:26.118Z"
   },
   {
    "duration": 5,
    "start_time": "2024-10-28T15:52:26.127Z"
   },
   {
    "duration": 6,
    "start_time": "2024-10-28T15:52:26.134Z"
   },
   {
    "duration": 10,
    "start_time": "2024-10-28T15:52:26.141Z"
   },
   {
    "duration": 4,
    "start_time": "2024-10-28T15:52:26.153Z"
   },
   {
    "duration": 7,
    "start_time": "2024-10-28T15:52:26.158Z"
   },
   {
    "duration": 6,
    "start_time": "2024-10-28T15:52:26.167Z"
   },
   {
    "duration": 57,
    "start_time": "2024-10-28T15:52:26.175Z"
   },
   {
    "duration": 17,
    "start_time": "2024-10-28T15:52:26.234Z"
   },
   {
    "duration": 5,
    "start_time": "2024-10-28T15:52:26.252Z"
   },
   {
    "duration": 201,
    "start_time": "2024-10-28T15:52:26.259Z"
   },
   {
    "duration": 13,
    "start_time": "2024-10-28T15:52:26.461Z"
   },
   {
    "duration": 125,
    "start_time": "2024-10-28T15:52:26.475Z"
   },
   {
    "duration": 8,
    "start_time": "2024-10-28T15:52:26.602Z"
   },
   {
    "duration": 19,
    "start_time": "2024-10-28T15:52:26.611Z"
   },
   {
    "duration": 163,
    "start_time": "2024-10-28T15:52:26.632Z"
   },
   {
    "duration": 8,
    "start_time": "2024-10-28T15:52:26.799Z"
   },
   {
    "duration": 288,
    "start_time": "2024-10-28T15:52:26.808Z"
   },
   {
    "duration": 8,
    "start_time": "2024-10-28T15:52:27.098Z"
   },
   {
    "duration": 361,
    "start_time": "2024-10-28T15:52:27.121Z"
   },
   {
    "duration": 17,
    "start_time": "2024-10-28T15:52:27.484Z"
   },
   {
    "duration": 38,
    "start_time": "2024-10-28T15:52:27.502Z"
   },
   {
    "duration": 19,
    "start_time": "2024-10-28T15:52:27.541Z"
   },
   {
    "duration": 15,
    "start_time": "2024-10-28T15:52:27.561Z"
   },
   {
    "duration": 8,
    "start_time": "2024-10-28T15:52:27.577Z"
   },
   {
    "duration": 36,
    "start_time": "2024-10-28T15:52:27.586Z"
   },
   {
    "duration": 865,
    "start_time": "2024-10-28T15:52:27.623Z"
   },
   {
    "duration": 8,
    "start_time": "2024-10-28T15:52:28.490Z"
   },
   {
    "duration": 25,
    "start_time": "2024-10-28T15:52:28.499Z"
   },
   {
    "duration": 857,
    "start_time": "2024-10-28T15:52:28.525Z"
   },
   {
    "duration": 38,
    "start_time": "2024-10-28T15:52:29.384Z"
   },
   {
    "duration": 136,
    "start_time": "2024-10-28T15:52:29.423Z"
   },
   {
    "duration": 6,
    "start_time": "2024-10-28T15:52:29.561Z"
   },
   {
    "duration": 22,
    "start_time": "2024-10-28T15:52:29.569Z"
   },
   {
    "duration": 11,
    "start_time": "2024-10-28T15:52:29.593Z"
   },
   {
    "duration": 1228,
    "start_time": "2024-10-28T16:59:05.638Z"
   },
   {
    "duration": 74,
    "start_time": "2024-10-28T16:59:06.868Z"
   },
   {
    "duration": 12,
    "start_time": "2024-10-28T16:59:06.944Z"
   },
   {
    "duration": 11,
    "start_time": "2024-10-28T16:59:06.957Z"
   },
   {
    "duration": 18,
    "start_time": "2024-10-28T16:59:06.971Z"
   },
   {
    "duration": 36,
    "start_time": "2024-10-28T16:59:06.991Z"
   },
   {
    "duration": 21,
    "start_time": "2024-10-28T16:59:07.028Z"
   },
   {
    "duration": 21,
    "start_time": "2024-10-28T16:59:07.051Z"
   },
   {
    "duration": 34,
    "start_time": "2024-10-28T16:59:07.073Z"
   },
   {
    "duration": 16,
    "start_time": "2024-10-28T16:59:07.109Z"
   },
   {
    "duration": 6,
    "start_time": "2024-10-28T16:59:07.127Z"
   },
   {
    "duration": 23,
    "start_time": "2024-10-28T16:59:07.136Z"
   },
   {
    "duration": 11,
    "start_time": "2024-10-28T16:59:07.160Z"
   },
   {
    "duration": 48,
    "start_time": "2024-10-28T16:59:07.174Z"
   },
   {
    "duration": 63,
    "start_time": "2024-10-28T16:59:07.223Z"
   },
   {
    "duration": 8,
    "start_time": "2024-10-28T16:59:07.288Z"
   },
   {
    "duration": 26,
    "start_time": "2024-10-28T16:59:07.298Z"
   },
   {
    "duration": 28,
    "start_time": "2024-10-28T16:59:07.326Z"
   },
   {
    "duration": 18,
    "start_time": "2024-10-28T16:59:07.356Z"
   },
   {
    "duration": 14,
    "start_time": "2024-10-28T16:59:07.376Z"
   },
   {
    "duration": 38,
    "start_time": "2024-10-28T16:59:07.392Z"
   },
   {
    "duration": 257,
    "start_time": "2024-10-28T16:59:07.432Z"
   },
   {
    "duration": 28,
    "start_time": "2024-10-28T16:59:07.691Z"
   },
   {
    "duration": 98,
    "start_time": "2024-10-28T16:59:07.722Z"
   },
   {
    "duration": 9,
    "start_time": "2024-10-28T16:59:07.822Z"
   },
   {
    "duration": 51,
    "start_time": "2024-10-28T16:59:07.833Z"
   },
   {
    "duration": 249,
    "start_time": "2024-10-28T16:59:07.886Z"
   },
   {
    "duration": 10,
    "start_time": "2024-10-28T16:59:08.137Z"
   },
   {
    "duration": 344,
    "start_time": "2024-10-28T16:59:08.149Z"
   },
   {
    "duration": 21,
    "start_time": "2024-10-28T16:59:08.495Z"
   },
   {
    "duration": 374,
    "start_time": "2024-10-28T16:59:08.517Z"
   },
   {
    "duration": 30,
    "start_time": "2024-10-28T16:59:08.893Z"
   },
   {
    "duration": 38,
    "start_time": "2024-10-28T16:59:08.925Z"
   },
   {
    "duration": 23,
    "start_time": "2024-10-28T16:59:08.965Z"
   },
   {
    "duration": 26,
    "start_time": "2024-10-28T16:59:08.989Z"
   },
   {
    "duration": 9,
    "start_time": "2024-10-28T16:59:09.020Z"
   },
   {
    "duration": 9,
    "start_time": "2024-10-28T16:59:09.031Z"
   },
   {
    "duration": 1072,
    "start_time": "2024-10-28T16:59:09.042Z"
   },
   {
    "duration": 12,
    "start_time": "2024-10-28T16:59:10.116Z"
   },
   {
    "duration": 9,
    "start_time": "2024-10-28T16:59:10.129Z"
   },
   {
    "duration": 906,
    "start_time": "2024-10-28T16:59:10.141Z"
   },
   {
    "duration": 29,
    "start_time": "2024-10-28T16:59:11.049Z"
   },
   {
    "duration": 157,
    "start_time": "2024-10-28T16:59:11.080Z"
   },
   {
    "duration": 7,
    "start_time": "2024-10-28T16:59:11.239Z"
   },
   {
    "duration": 9,
    "start_time": "2024-10-28T16:59:11.248Z"
   },
   {
    "duration": 9,
    "start_time": "2024-10-28T16:59:11.258Z"
   },
   {
    "duration": 111,
    "start_time": "2024-10-28T17:08:26.044Z"
   },
   {
    "duration": 7,
    "start_time": "2024-10-28T17:08:37.959Z"
   },
   {
    "duration": 53,
    "start_time": "2024-10-28T17:54:55.976Z"
   },
   {
    "duration": 1394,
    "start_time": "2024-10-28T17:55:06.809Z"
   },
   {
    "duration": 343,
    "start_time": "2024-10-28T17:55:08.205Z"
   },
   {
    "duration": 15,
    "start_time": "2024-10-28T17:55:08.550Z"
   },
   {
    "duration": 13,
    "start_time": "2024-10-28T17:55:08.567Z"
   },
   {
    "duration": 11,
    "start_time": "2024-10-28T17:55:08.582Z"
   },
   {
    "duration": 18,
    "start_time": "2024-10-28T17:55:08.595Z"
   },
   {
    "duration": 24,
    "start_time": "2024-10-28T17:55:08.616Z"
   },
   {
    "duration": 20,
    "start_time": "2024-10-28T17:55:08.642Z"
   },
   {
    "duration": 9,
    "start_time": "2024-10-28T17:55:08.664Z"
   },
   {
    "duration": 5,
    "start_time": "2024-10-28T17:55:08.678Z"
   },
   {
    "duration": 48,
    "start_time": "2024-10-28T17:55:08.685Z"
   },
   {
    "duration": 95,
    "start_time": "2024-10-28T17:55:08.735Z"
   },
   {
    "duration": 10,
    "start_time": "2024-10-28T17:55:08.832Z"
   },
   {
    "duration": 7,
    "start_time": "2024-10-28T17:55:08.844Z"
   },
   {
    "duration": 17,
    "start_time": "2024-10-28T17:55:08.853Z"
   },
   {
    "duration": 7,
    "start_time": "2024-10-28T17:55:08.872Z"
   },
   {
    "duration": 10,
    "start_time": "2024-10-28T17:55:08.880Z"
   },
   {
    "duration": 7,
    "start_time": "2024-10-28T17:55:08.892Z"
   },
   {
    "duration": 14,
    "start_time": "2024-10-28T17:55:08.900Z"
   },
   {
    "duration": 37,
    "start_time": "2024-10-28T17:55:08.916Z"
   },
   {
    "duration": 8,
    "start_time": "2024-10-28T17:55:08.956Z"
   },
   {
    "duration": 207,
    "start_time": "2024-10-28T17:55:08.967Z"
   },
   {
    "duration": 14,
    "start_time": "2024-10-28T17:55:09.176Z"
   },
   {
    "duration": 104,
    "start_time": "2024-10-28T17:55:09.192Z"
   },
   {
    "duration": 8,
    "start_time": "2024-10-28T17:55:09.298Z"
   },
   {
    "duration": 28,
    "start_time": "2024-10-28T17:55:09.307Z"
   },
   {
    "duration": 165,
    "start_time": "2024-10-28T17:55:09.336Z"
   },
   {
    "duration": 8,
    "start_time": "2024-10-28T17:55:09.505Z"
   },
   {
    "duration": 422,
    "start_time": "2024-10-28T17:55:09.515Z"
   },
   {
    "duration": 18,
    "start_time": "2024-10-28T17:55:09.938Z"
   },
   {
    "duration": 321,
    "start_time": "2024-10-28T17:55:09.957Z"
   },
   {
    "duration": 21,
    "start_time": "2024-10-28T17:55:10.280Z"
   },
   {
    "duration": 24,
    "start_time": "2024-10-28T17:55:10.303Z"
   },
   {
    "duration": 73,
    "start_time": "2024-10-28T17:55:10.329Z"
   },
   {
    "duration": 16,
    "start_time": "2024-10-28T17:55:10.404Z"
   },
   {
    "duration": 11,
    "start_time": "2024-10-28T17:55:10.422Z"
   },
   {
    "duration": 11,
    "start_time": "2024-10-28T17:55:10.435Z"
   },
   {
    "duration": 1097,
    "start_time": "2024-10-28T17:55:10.451Z"
   },
   {
    "duration": 11,
    "start_time": "2024-10-28T17:55:11.549Z"
   },
   {
    "duration": 61,
    "start_time": "2024-10-28T17:55:11.561Z"
   },
   {
    "duration": 877,
    "start_time": "2024-10-28T17:55:11.624Z"
   },
   {
    "duration": 29,
    "start_time": "2024-10-28T17:55:12.503Z"
   },
   {
    "duration": 174,
    "start_time": "2024-10-28T17:55:12.534Z"
   },
   {
    "duration": 7,
    "start_time": "2024-10-28T17:55:12.710Z"
   },
   {
    "duration": 44,
    "start_time": "2024-10-28T17:55:12.718Z"
   },
   {
    "duration": 83,
    "start_time": "2024-10-28T17:55:12.764Z"
   },
   {
    "duration": 16,
    "start_time": "2024-10-28T17:55:33.410Z"
   },
   {
    "duration": 30,
    "start_time": "2024-10-28T17:56:12.709Z"
   },
   {
    "duration": 27,
    "start_time": "2024-10-28T17:56:34.285Z"
   },
   {
    "duration": 110,
    "start_time": "2024-10-28T17:57:06.177Z"
   },
   {
    "duration": 53,
    "start_time": "2024-10-28T17:57:13.021Z"
   },
   {
    "duration": 24,
    "start_time": "2024-10-28T17:57:19.241Z"
   },
   {
    "duration": 806,
    "start_time": "2024-10-28T18:02:18.749Z"
   },
   {
    "duration": 560,
    "start_time": "2024-10-28T18:03:01.266Z"
   },
   {
    "duration": 1629,
    "start_time": "2024-10-28T18:03:55.153Z"
   },
   {
    "duration": 517,
    "start_time": "2024-10-28T18:04:13.546Z"
   },
   {
    "duration": 956,
    "start_time": "2024-10-28T18:04:29.038Z"
   },
   {
    "duration": 831,
    "start_time": "2024-10-28T18:04:37.750Z"
   },
   {
    "duration": 506,
    "start_time": "2024-10-28T18:07:49.326Z"
   },
   {
    "duration": 784,
    "start_time": "2024-10-28T18:08:06.511Z"
   },
   {
    "duration": 1127,
    "start_time": "2024-10-28T18:10:13.938Z"
   },
   {
    "duration": 72,
    "start_time": "2024-10-28T18:10:15.067Z"
   },
   {
    "duration": 13,
    "start_time": "2024-10-28T18:10:15.141Z"
   },
   {
    "duration": 17,
    "start_time": "2024-10-28T18:10:15.156Z"
   },
   {
    "duration": 16,
    "start_time": "2024-10-28T18:10:15.174Z"
   },
   {
    "duration": 18,
    "start_time": "2024-10-28T18:10:15.191Z"
   },
   {
    "duration": 28,
    "start_time": "2024-10-28T18:10:15.211Z"
   },
   {
    "duration": 51,
    "start_time": "2024-10-28T18:10:15.241Z"
   },
   {
    "duration": 21,
    "start_time": "2024-10-28T18:10:15.293Z"
   },
   {
    "duration": 48,
    "start_time": "2024-10-28T18:10:15.317Z"
   },
   {
    "duration": 9,
    "start_time": "2024-10-28T18:10:15.367Z"
   },
   {
    "duration": 17,
    "start_time": "2024-10-28T18:10:15.378Z"
   },
   {
    "duration": 16,
    "start_time": "2024-10-28T18:10:15.398Z"
   },
   {
    "duration": 25,
    "start_time": "2024-10-28T18:10:15.416Z"
   },
   {
    "duration": 11,
    "start_time": "2024-10-28T18:10:15.443Z"
   },
   {
    "duration": 4,
    "start_time": "2024-10-28T18:10:15.455Z"
   },
   {
    "duration": 16,
    "start_time": "2024-10-28T18:10:15.461Z"
   },
   {
    "duration": 21,
    "start_time": "2024-10-28T18:10:15.478Z"
   },
   {
    "duration": 14,
    "start_time": "2024-10-28T18:10:15.500Z"
   },
   {
    "duration": 15,
    "start_time": "2024-10-28T18:10:15.516Z"
   },
   {
    "duration": 7,
    "start_time": "2024-10-28T18:10:15.533Z"
   },
   {
    "duration": 186,
    "start_time": "2024-10-28T18:10:15.542Z"
   },
   {
    "duration": 27,
    "start_time": "2024-10-28T18:10:15.730Z"
   },
   {
    "duration": 143,
    "start_time": "2024-10-28T18:10:15.758Z"
   },
   {
    "duration": 9,
    "start_time": "2024-10-28T18:10:15.903Z"
   },
   {
    "duration": 7,
    "start_time": "2024-10-28T18:10:15.914Z"
   },
   {
    "duration": 176,
    "start_time": "2024-10-28T18:10:15.922Z"
   },
   {
    "duration": 9,
    "start_time": "2024-10-28T18:10:16.102Z"
   },
   {
    "duration": 316,
    "start_time": "2024-10-28T18:10:16.113Z"
   },
   {
    "duration": 21,
    "start_time": "2024-10-28T18:10:16.432Z"
   },
   {
    "duration": 297,
    "start_time": "2024-10-28T18:10:16.455Z"
   },
   {
    "duration": 18,
    "start_time": "2024-10-28T18:10:16.754Z"
   },
   {
    "duration": 52,
    "start_time": "2024-10-28T18:10:16.774Z"
   },
   {
    "duration": 79,
    "start_time": "2024-10-28T18:10:16.828Z"
   },
   {
    "duration": 17,
    "start_time": "2024-10-28T18:10:16.909Z"
   },
   {
    "duration": 11,
    "start_time": "2024-10-28T18:10:16.928Z"
   },
   {
    "duration": 10,
    "start_time": "2024-10-28T18:10:16.941Z"
   },
   {
    "duration": 893,
    "start_time": "2024-10-28T18:10:16.953Z"
   },
   {
    "duration": 10,
    "start_time": "2024-10-28T18:10:17.851Z"
   },
   {
    "duration": 15,
    "start_time": "2024-10-28T18:10:17.862Z"
   },
   {
    "duration": 852,
    "start_time": "2024-10-28T18:10:17.879Z"
   },
   {
    "duration": 819,
    "start_time": "2024-10-28T18:10:18.733Z"
   },
   {
    "duration": 29,
    "start_time": "2024-10-28T18:10:19.554Z"
   },
   {
    "duration": 191,
    "start_time": "2024-10-28T18:10:19.585Z"
   },
   {
    "duration": 7,
    "start_time": "2024-10-28T18:10:19.777Z"
   },
   {
    "duration": 21,
    "start_time": "2024-10-28T18:10:19.786Z"
   },
   {
    "duration": 44,
    "start_time": "2024-10-28T18:10:19.809Z"
   },
   {
    "duration": 1147,
    "start_time": "2024-10-28T18:21:41.086Z"
   },
   {
    "duration": 74,
    "start_time": "2024-10-28T18:21:42.235Z"
   },
   {
    "duration": 12,
    "start_time": "2024-10-28T18:21:42.311Z"
   },
   {
    "duration": 11,
    "start_time": "2024-10-28T18:21:42.325Z"
   },
   {
    "duration": 12,
    "start_time": "2024-10-28T18:21:42.338Z"
   },
   {
    "duration": 18,
    "start_time": "2024-10-28T18:21:42.351Z"
   },
   {
    "duration": 10,
    "start_time": "2024-10-28T18:21:42.371Z"
   },
   {
    "duration": 10,
    "start_time": "2024-10-28T18:21:42.382Z"
   },
   {
    "duration": 8,
    "start_time": "2024-10-28T18:21:42.394Z"
   },
   {
    "duration": 5,
    "start_time": "2024-10-28T18:21:42.404Z"
   },
   {
    "duration": 6,
    "start_time": "2024-10-28T18:21:42.410Z"
   },
   {
    "duration": 6,
    "start_time": "2024-10-28T18:21:42.452Z"
   },
   {
    "duration": 5,
    "start_time": "2024-10-28T18:21:42.460Z"
   },
   {
    "duration": 7,
    "start_time": "2024-10-28T18:21:42.467Z"
   },
   {
    "duration": 8,
    "start_time": "2024-10-28T18:21:42.476Z"
   },
   {
    "duration": 7,
    "start_time": "2024-10-28T18:21:42.486Z"
   },
   {
    "duration": 5,
    "start_time": "2024-10-28T18:21:42.498Z"
   },
   {
    "duration": 14,
    "start_time": "2024-10-28T18:21:42.505Z"
   },
   {
    "duration": 50,
    "start_time": "2024-10-28T18:21:42.520Z"
   },
   {
    "duration": 9,
    "start_time": "2024-10-28T18:21:42.572Z"
   },
   {
    "duration": 6,
    "start_time": "2024-10-28T18:21:42.582Z"
   },
   {
    "duration": 245,
    "start_time": "2024-10-28T18:21:42.590Z"
   },
   {
    "duration": 24,
    "start_time": "2024-10-28T18:21:42.837Z"
   },
   {
    "duration": 109,
    "start_time": "2024-10-28T18:21:42.864Z"
   },
   {
    "duration": 8,
    "start_time": "2024-10-28T18:21:42.975Z"
   },
   {
    "duration": 9,
    "start_time": "2024-10-28T18:21:42.985Z"
   },
   {
    "duration": 186,
    "start_time": "2024-10-28T18:21:42.996Z"
   },
   {
    "duration": 9,
    "start_time": "2024-10-28T18:21:43.185Z"
   },
   {
    "duration": 320,
    "start_time": "2024-10-28T18:21:43.195Z"
   },
   {
    "duration": 9,
    "start_time": "2024-10-28T18:21:43.516Z"
   },
   {
    "duration": 318,
    "start_time": "2024-10-28T18:21:43.526Z"
   },
   {
    "duration": 31,
    "start_time": "2024-10-28T18:21:43.845Z"
   },
   {
    "duration": 37,
    "start_time": "2024-10-28T18:21:43.880Z"
   },
   {
    "duration": 51,
    "start_time": "2024-10-28T18:21:43.919Z"
   },
   {
    "duration": 23,
    "start_time": "2024-10-28T18:21:43.973Z"
   },
   {
    "duration": 13,
    "start_time": "2024-10-28T18:21:43.998Z"
   },
   {
    "duration": 9,
    "start_time": "2024-10-28T18:21:44.013Z"
   },
   {
    "duration": 1028,
    "start_time": "2024-10-28T18:21:44.024Z"
   },
   {
    "duration": 8,
    "start_time": "2024-10-28T18:21:45.053Z"
   },
   {
    "duration": 25,
    "start_time": "2024-10-28T18:21:45.063Z"
   },
   {
    "duration": 944,
    "start_time": "2024-10-28T18:21:45.090Z"
   },
   {
    "duration": 870,
    "start_time": "2024-10-28T18:21:46.036Z"
   },
   {
    "duration": 29,
    "start_time": "2024-10-28T18:21:46.908Z"
   },
   {
    "duration": 173,
    "start_time": "2024-10-28T18:21:46.938Z"
   },
   {
    "duration": 6,
    "start_time": "2024-10-28T18:21:47.113Z"
   },
   {
    "duration": 4,
    "start_time": "2024-10-28T18:21:47.121Z"
   },
   {
    "duration": 26,
    "start_time": "2024-10-28T18:21:47.127Z"
   },
   {
    "duration": 1219,
    "start_time": "2024-10-28T18:48:42.469Z"
   },
   {
    "duration": 90,
    "start_time": "2024-10-28T18:48:43.690Z"
   },
   {
    "duration": 15,
    "start_time": "2024-10-28T18:48:43.782Z"
   },
   {
    "duration": 34,
    "start_time": "2024-10-28T18:48:43.799Z"
   },
   {
    "duration": 18,
    "start_time": "2024-10-28T18:48:43.839Z"
   },
   {
    "duration": 11,
    "start_time": "2024-10-28T18:48:43.859Z"
   },
   {
    "duration": 10,
    "start_time": "2024-10-28T18:48:43.873Z"
   },
   {
    "duration": 23,
    "start_time": "2024-10-28T18:48:43.885Z"
   },
   {
    "duration": 16,
    "start_time": "2024-10-28T18:48:43.910Z"
   },
   {
    "duration": 16,
    "start_time": "2024-10-28T18:48:43.927Z"
   },
   {
    "duration": 13,
    "start_time": "2024-10-28T18:48:43.946Z"
   },
   {
    "duration": 8,
    "start_time": "2024-10-28T18:48:43.961Z"
   },
   {
    "duration": 8,
    "start_time": "2024-10-28T18:48:43.971Z"
   },
   {
    "duration": 19,
    "start_time": "2024-10-28T18:48:43.984Z"
   },
   {
    "duration": 24,
    "start_time": "2024-10-28T18:48:44.005Z"
   },
   {
    "duration": 7,
    "start_time": "2024-10-28T18:48:44.031Z"
   },
   {
    "duration": 11,
    "start_time": "2024-10-28T18:48:44.040Z"
   },
   {
    "duration": 19,
    "start_time": "2024-10-28T18:48:44.052Z"
   },
   {
    "duration": 32,
    "start_time": "2024-10-28T18:48:44.073Z"
   },
   {
    "duration": 16,
    "start_time": "2024-10-28T18:48:44.109Z"
   },
   {
    "duration": 16,
    "start_time": "2024-10-28T18:48:44.131Z"
   },
   {
    "duration": 235,
    "start_time": "2024-10-28T18:48:44.156Z"
   },
   {
    "duration": 25,
    "start_time": "2024-10-28T18:48:44.402Z"
   },
   {
    "duration": 111,
    "start_time": "2024-10-28T18:48:44.434Z"
   },
   {
    "duration": 27,
    "start_time": "2024-10-28T18:48:44.547Z"
   },
   {
    "duration": 6,
    "start_time": "2024-10-28T18:48:44.576Z"
   },
   {
    "duration": 186,
    "start_time": "2024-10-28T18:48:44.584Z"
   },
   {
    "duration": 9,
    "start_time": "2024-10-28T18:48:44.771Z"
   },
   {
    "duration": 381,
    "start_time": "2024-10-28T18:48:44.782Z"
   },
   {
    "duration": 9,
    "start_time": "2024-10-28T18:48:45.164Z"
   },
   {
    "duration": 320,
    "start_time": "2024-10-28T18:48:45.175Z"
   },
   {
    "duration": 26,
    "start_time": "2024-10-28T18:48:45.506Z"
   },
   {
    "duration": 38,
    "start_time": "2024-10-28T18:48:45.534Z"
   },
   {
    "duration": 50,
    "start_time": "2024-10-28T18:48:45.574Z"
   },
   {
    "duration": 24,
    "start_time": "2024-10-28T18:48:45.628Z"
   },
   {
    "duration": 12,
    "start_time": "2024-10-28T18:48:45.654Z"
   },
   {
    "duration": 34,
    "start_time": "2024-10-28T18:48:45.668Z"
   },
   {
    "duration": 989,
    "start_time": "2024-10-28T18:48:45.706Z"
   },
   {
    "duration": 23,
    "start_time": "2024-10-28T18:48:46.697Z"
   },
   {
    "duration": 9,
    "start_time": "2024-10-28T18:48:46.721Z"
   },
   {
    "duration": 974,
    "start_time": "2024-10-28T18:48:46.733Z"
   },
   {
    "duration": 847,
    "start_time": "2024-10-28T18:48:47.715Z"
   },
   {
    "duration": 51,
    "start_time": "2024-10-28T18:48:48.564Z"
   },
   {
    "duration": 216,
    "start_time": "2024-10-28T18:48:48.619Z"
   },
   {
    "duration": 9,
    "start_time": "2024-10-28T18:48:48.837Z"
   },
   {
    "duration": 9,
    "start_time": "2024-10-28T18:48:48.848Z"
   },
   {
    "duration": 93,
    "start_time": "2024-10-28T18:48:48.859Z"
   }
  ],
  "kernelspec": {
   "display_name": "Python 3 (ipykernel)",
   "language": "python",
   "name": "python3"
  },
  "language_info": {
   "codemirror_mode": {
    "name": "ipython",
    "version": 3
   },
   "file_extension": ".py",
   "mimetype": "text/x-python",
   "name": "python",
   "nbconvert_exporter": "python",
   "pygments_lexer": "ipython3",
   "version": "3.9.5"
  },
  "toc": {
   "base_numbering": 1,
   "nav_menu": {
    "height": "278px",
    "width": "392px"
   },
   "number_sections": true,
   "sideBar": true,
   "skip_h1_title": true,
   "title_cell": "Table of Contents",
   "title_sidebar": "Contents",
   "toc_cell": false,
   "toc_position": {
    "height": "calc(100% - 180px)",
    "left": "10px",
    "top": "150px",
    "width": "512px"
   },
   "toc_section_display": true,
   "toc_window_display": true
  }
 },
 "nbformat": 4,
 "nbformat_minor": 5
}
